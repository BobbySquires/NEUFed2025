{
 "cells": [
  {
   "cell_type": "markdown",
   "id": "ec9a0460",
   "metadata": {},
   "source": [
    "This notebook walks through how to make graphs in this repo. You can copy this example.ipynb and rename it for your own graphing work. <b> Please do each graph in a seperate notebook!</b>\n",
    "\n",
    "1. Import the appropriate packages. We'll use plotly.graph_objects for making all of our graphs."
   ]
  },
  {
   "cell_type": "code",
   "execution_count": 1,
   "id": "b8a83946",
   "metadata": {},
   "outputs": [],
   "source": [
    "import datetime as dt\n",
    "import plotly.graph_objects as go\n",
    "import plotly.io as pio\n",
    "import pandas as pd\n",
    "import utils.utils as ut\n",
    "import utils.graph_templates\n",
    "\n",
    "from fredapi import Fred"
   ]
  },
  {
   "cell_type": "markdown",
   "id": "533182f0",
   "metadata": {},
   "source": [
    "2. We'll get data using the fredapi package. Set the path to the text file with your API key"
   ]
  },
  {
   "cell_type": "code",
   "execution_count": 2,
   "id": "f81e1110",
   "metadata": {},
   "outputs": [],
   "source": [
    "# Call the graph the exact same thing as its notebook (minus the ipynb suffix)\n",
    "GRAPH_NAME = \"wage_grwth_distr\"\n",
    "\n",
    "API_KEY_PATH = ut.get_repo_root() / \"fred_api_key.txt\" \n",
    "\n",
    "fred = Fred(api_key_file = API_KEY_PATH)"
   ]
  },
  {
   "cell_type": "markdown",
   "id": "ee2ebb59",
   "metadata": {},
   "source": [
    "3. Set the fed_2025 template as default"
   ]
  },
  {
   "cell_type": "code",
   "execution_count": 3,
   "id": "00bbbcaa",
   "metadata": {},
   "outputs": [],
   "source": [
    "pio.templates.default = 'fed_2025'\n",
    "\n",
    "# Now is a good time to set the path to the graph output folder!\n",
    "GRAPH_OUTPUT_PATH = ut.get_repo_root() / \"figures\""
   ]
  },
  {
   "cell_type": "markdown",
   "id": "c2af7dd8",
   "metadata": {},
   "source": [
    "4. Use the fredapi to get the data and prepare it for graphing. Documentation on the optional parameters that can be passed to the get_series called are found here (the documentation in fredapi is out of date). \n",
    "\n",
    "https://fred.stlouisfed.org/docs/api/fred/series_observations.html#Description\n",
    "\n",
    "If you get data from somewhere else thats fine too! Put the raw csv in the \"raw_data\" folder and read it in here. Make sure not to edit the raw data, just transform and graph it."
   ]
  },
  {
   "cell_type": "code",
   "execution_count": 4,
   "id": "4c582e8a",
   "metadata": {},
   "outputs": [],
   "source": [
    "# The get_series_info method may be useful\n",
    "# fred.get_series_info(series_id=\"CPIAUCSL\")\n",
    "\n",
    "# It's good practice to store the series codes in a dictionary with their names\n",
    "series_codes = {\n",
    "    \"PCE\":\"PCEPI\",\n",
    "    \"1st to 25th Wage Percentile\":\"FRBATLWGT12MMUMHWGWD1WP\",\n",
    "    \"76th to 100th Wage Percentile\":\"FRBATLWGT12MMUMHWGWD76WP\",\n",
    "    \"Overall Wage Growth\":\"FRBATLWGT12MMUMHGO\"\n",
    "}"
   ]
  },
  {
   "cell_type": "code",
   "execution_count": 10,
   "id": "5934d6c9",
   "metadata": {},
   "outputs": [
    {
     "data": {
      "text/html": [
       "<div>\n",
       "<style scoped>\n",
       "    .dataframe tbody tr th:only-of-type {\n",
       "        vertical-align: middle;\n",
       "    }\n",
       "\n",
       "    .dataframe tbody tr th {\n",
       "        vertical-align: top;\n",
       "    }\n",
       "\n",
       "    .dataframe thead th {\n",
       "        text-align: right;\n",
       "    }\n",
       "</style>\n",
       "<table border=\"1\" class=\"dataframe\">\n",
       "  <thead>\n",
       "    <tr style=\"text-align: right;\">\n",
       "      <th></th>\n",
       "      <th>Median 12-Month Wage Growth less PCE Inflation Rate</th>\n",
       "      <th>Average Output per Hour, % Change Annualized</th>\n",
       "    </tr>\n",
       "  </thead>\n",
       "  <tbody>\n",
       "    <tr>\n",
       "      <th>2020-07-01</th>\n",
       "      <td>2.677416</td>\n",
       "      <td>6.6</td>\n",
       "    </tr>\n",
       "    <tr>\n",
       "      <th>2020-10-01</th>\n",
       "      <td>2.412514</td>\n",
       "      <td>-3.0</td>\n",
       "    </tr>\n",
       "    <tr>\n",
       "      <th>2021-01-01</th>\n",
       "      <td>1.914202</td>\n",
       "      <td>3.0</td>\n",
       "    </tr>\n",
       "    <tr>\n",
       "      <th>2021-04-01</th>\n",
       "      <td>-0.140286</td>\n",
       "      <td>0.1</td>\n",
       "    </tr>\n",
       "    <tr>\n",
       "      <th>2021-07-01</th>\n",
       "      <td>-0.973216</td>\n",
       "      <td>-2.3</td>\n",
       "    </tr>\n",
       "    <tr>\n",
       "      <th>2021-10-01</th>\n",
       "      <td>-1.736136</td>\n",
       "      <td>2.9</td>\n",
       "    </tr>\n",
       "    <tr>\n",
       "      <th>2022-01-01</th>\n",
       "      <td>-2.272434</td>\n",
       "      <td>-4.9</td>\n",
       "    </tr>\n",
       "    <tr>\n",
       "      <th>2022-04-01</th>\n",
       "      <td>-1.984755</td>\n",
       "      <td>-3.3</td>\n",
       "    </tr>\n",
       "    <tr>\n",
       "      <th>2022-07-01</th>\n",
       "      <td>-1.250201</td>\n",
       "      <td>0.0</td>\n",
       "    </tr>\n",
       "    <tr>\n",
       "      <th>2022-10-01</th>\n",
       "      <td>-0.461602</td>\n",
       "      <td>2.7</td>\n",
       "    </tr>\n",
       "    <tr>\n",
       "      <th>2023-01-01</th>\n",
       "      <td>0.792265</td>\n",
       "      <td>0.7</td>\n",
       "    </tr>\n",
       "    <tr>\n",
       "      <th>2023-04-01</th>\n",
       "      <td>1.823987</td>\n",
       "      <td>3.4</td>\n",
       "    </tr>\n",
       "    <tr>\n",
       "      <th>2023-07-01</th>\n",
       "      <td>2.590958</td>\n",
       "      <td>4.7</td>\n",
       "    </tr>\n",
       "    <tr>\n",
       "      <th>2023-10-01</th>\n",
       "      <td>2.776738</td>\n",
       "      <td>3.5</td>\n",
       "    </tr>\n",
       "    <tr>\n",
       "      <th>2024-01-01</th>\n",
       "      <td>2.801249</td>\n",
       "      <td>1.6</td>\n",
       "    </tr>\n",
       "    <tr>\n",
       "      <th>2024-04-01</th>\n",
       "      <td>2.473846</td>\n",
       "      <td>2.1</td>\n",
       "    </tr>\n",
       "    <tr>\n",
       "      <th>2024-07-01</th>\n",
       "      <td>2.505623</td>\n",
       "      <td>2.9</td>\n",
       "    </tr>\n",
       "    <tr>\n",
       "      <th>2024-10-01</th>\n",
       "      <td>2.422307</td>\n",
       "      <td>1.7</td>\n",
       "    </tr>\n",
       "    <tr>\n",
       "      <th>2025-01-01</th>\n",
       "      <td>2.092620</td>\n",
       "      <td>-1.8</td>\n",
       "    </tr>\n",
       "    <tr>\n",
       "      <th>2025-04-01</th>\n",
       "      <td>2.122574</td>\n",
       "      <td>3.3</td>\n",
       "    </tr>\n",
       "  </tbody>\n",
       "</table>\n",
       "</div>"
      ],
      "text/plain": [
       "            Median 12-Month Wage Growth less PCE Inflation Rate  \\\n",
       "2020-07-01                                           2.677416     \n",
       "2020-10-01                                           2.412514     \n",
       "2021-01-01                                           1.914202     \n",
       "2021-04-01                                          -0.140286     \n",
       "2021-07-01                                          -0.973216     \n",
       "2021-10-01                                          -1.736136     \n",
       "2022-01-01                                          -2.272434     \n",
       "2022-04-01                                          -1.984755     \n",
       "2022-07-01                                          -1.250201     \n",
       "2022-10-01                                          -0.461602     \n",
       "2023-01-01                                           0.792265     \n",
       "2023-04-01                                           1.823987     \n",
       "2023-07-01                                           2.590958     \n",
       "2023-10-01                                           2.776738     \n",
       "2024-01-01                                           2.801249     \n",
       "2024-04-01                                           2.473846     \n",
       "2024-07-01                                           2.505623     \n",
       "2024-10-01                                           2.422307     \n",
       "2025-01-01                                           2.092620     \n",
       "2025-04-01                                           2.122574     \n",
       "\n",
       "            Average Output per Hour, % Change Annualized  \n",
       "2020-07-01                                           6.6  \n",
       "2020-10-01                                          -3.0  \n",
       "2021-01-01                                           3.0  \n",
       "2021-04-01                                           0.1  \n",
       "2021-07-01                                          -2.3  \n",
       "2021-10-01                                           2.9  \n",
       "2022-01-01                                          -4.9  \n",
       "2022-04-01                                          -3.3  \n",
       "2022-07-01                                           0.0  \n",
       "2022-10-01                                           2.7  \n",
       "2023-01-01                                           0.7  \n",
       "2023-04-01                                           3.4  \n",
       "2023-07-01                                           4.7  \n",
       "2023-10-01                                           3.5  \n",
       "2024-01-01                                           1.6  \n",
       "2024-04-01                                           2.1  \n",
       "2024-07-01                                           2.9  \n",
       "2024-10-01                                           1.7  \n",
       "2025-01-01                                          -1.8  \n",
       "2025-04-01                                           3.3  "
      ]
     },
     "execution_count": 10,
     "metadata": {},
     "output_type": "execute_result"
    }
   ],
   "source": [
    "today = dt.date.today()\n",
    "\n",
    "pce= fred.get_series(\n",
    "    series_id=series_codes[\"PCE\"],\n",
    "    observation_start=dt.date(2017, 1, 1),\n",
    "    observation_end=today,\n",
    "    frequency='m'\n",
    ").rename(\"PCE\")\n",
    "\n",
    "awg_1_to_25 = fred.get_series(\n",
    "    series_id=series_codes[\"1st to 25th Wage Percentile\"],\n",
    "    observation_start=dt.date(2017, 1, 1),\n",
    "    observation_end=today,\n",
    "    frequency='m'\n",
    ").rename(\"1st to 25th Wage Percentile\")\n",
    "\n",
    "awg_76_to_100=fred.get_series(\n",
    "    series_id=series_codes[\"76th to 100th Wage Percentile\"],\n",
    "    observation_start=dt.date(2017, 1, 1),\n",
    "    observation_end=today,\n",
    "    frequency='m'\n",
    ").rename(\"76th to 100th Wage Percentile\")\n",
    "\n",
    "awg_overall=fred.get_series(\n",
    "    series_id=series_codes[\"Overall Wage Growth\"],\n",
    "    observation_start=dt.date(2017, 1, 1),\n",
    "    observation_end=today,\n",
    "    frequency='m'\n",
    ").rename(\"Median 12-Month Wage Growth less PCE Inflation Rate\")\n",
    "\n",
    "pcepi_yoy = pce.pct_change(periods=12) * 100  # Gets the YoY percent change\n",
    "\n",
    "# new YoY PCE\n",
    "pce_yoy = pcepi_yoy.rename(\"PCE Inflation\")\n",
    "\n",
    "joined_df = pd.concat(\n",
    "    [awg_overall], # srs to join\n",
    "    axis=1, # multiple observations per index entry\n",
    "    join='inner' # only include observations where none of the 3 are missing\n",
    ")\n",
    "\n",
    "joined_df = (joined_df.T - pce_yoy).T\n",
    "\n",
    "new_overall=fred.get_series(\n",
    "    series_id=\"PRS85006092\",\n",
    "    observation_start=dt.date(2017, 1, 1),\n",
    "    observation_end=today,\n",
    "    frequency='q'\n",
    ").rename(\"Average Output per Hour, % Change Annualized\")\n",
    "\n",
    "# Naming the index makes it easier tot title\n",
    "joined_df.index.name = \"Date\"\n",
    "\n",
    "joined_df = pd.concat(\n",
    "    [joined_df,new_overall], # srs to join\n",
    "    axis=1, # multiple observations per index entry\n",
    "    join='outer'\n",
    ").dropna()\n",
    "\n",
    "joined_df.tail(20)"
   ]
  },
  {
   "cell_type": "markdown",
   "id": "f36c32ec",
   "metadata": {},
   "source": [
    "5. Now that all our data is ready, make the graph and have it save itself as a .html file to graph_output whenver the notebooks is rerun. The name of the file should exactly match the notebook name. For instance, this file \"example.ipynb\" produces the graph \"example.html.\" Nice work, you made a graph! "
   ]
  },
  {
   "cell_type": "code",
   "execution_count": 14,
   "id": "8d83fc29",
   "metadata": {},
   "outputs": [
    {
     "data": {
      "application/vnd.plotly.v1+json": {
       "config": {
        "plotlyServerURL": "https://plot.ly"
       },
       "data": [
        {
         "mode": "lines",
         "name": "Median 12-Month Wage Growth less PCE Inflation Rate",
         "type": "scatter",
         "x": [
          "2018-01-01T00:00:00",
          "2018-04-01T00:00:00",
          "2018-07-01T00:00:00",
          "2018-10-01T00:00:00",
          "2019-01-01T00:00:00",
          "2019-04-01T00:00:00",
          "2019-07-01T00:00:00",
          "2019-10-01T00:00:00",
          "2020-01-01T00:00:00",
          "2020-04-01T00:00:00",
          "2020-07-01T00:00:00",
          "2020-10-01T00:00:00",
          "2021-01-01T00:00:00",
          "2021-04-01T00:00:00",
          "2021-07-01T00:00:00",
          "2021-10-01T00:00:00",
          "2022-01-01T00:00:00",
          "2022-04-01T00:00:00",
          "2022-07-01T00:00:00",
          "2022-10-01T00:00:00",
          "2023-01-01T00:00:00",
          "2023-04-01T00:00:00",
          "2023-07-01T00:00:00",
          "2023-10-01T00:00:00",
          "2024-01-01T00:00:00",
          "2024-04-01T00:00:00",
          "2024-07-01T00:00:00",
          "2024-10-01T00:00:00",
          "2025-01-01T00:00:00",
          "2025-04-01T00:00:00"
         ],
         "y": {
          "bdata": "NNXsuHet+D+Ynaf1NXTyP5hAfe+HkOs/KDm1dU/z8z9sBb59m4sAQDkMDVfwRABA0L3xy/P3AUC0laEZoEoDQPxcvlIAff4/RdbI460ZCUBz8XQTWWsFQKFldA3UTANASB+Tm5Kg/j8gVKbV4vTBvyjIizmWJO+/VhyRLTbH+7++jgOf8S0CwEDEStCOwf+/ABSvJNMA9L/QWzCa5Irdv7g2PP88Wuk/2DW8CA0v/T+2hDYWSLoEQIYXyI3CNgZAeLUHAPVoBkDo38/Db8oDQAICJzCECwRA0ixivOJgA0A4M//Mr70AQNDRFBQI+wBA",
          "dtype": "f8"
         }
        },
        {
         "mode": "lines",
         "name": "Average Output per Hour, % Change Annualized",
         "type": "scatter",
         "x": [
          "2018-01-01T00:00:00",
          "2018-04-01T00:00:00",
          "2018-07-01T00:00:00",
          "2018-10-01T00:00:00",
          "2019-01-01T00:00:00",
          "2019-04-01T00:00:00",
          "2019-07-01T00:00:00",
          "2019-10-01T00:00:00",
          "2020-01-01T00:00:00",
          "2020-04-01T00:00:00",
          "2020-07-01T00:00:00",
          "2020-10-01T00:00:00",
          "2021-01-01T00:00:00",
          "2021-04-01T00:00:00",
          "2021-07-01T00:00:00",
          "2021-10-01T00:00:00",
          "2022-01-01T00:00:00",
          "2022-04-01T00:00:00",
          "2022-07-01T00:00:00",
          "2022-10-01T00:00:00",
          "2023-01-01T00:00:00",
          "2023-04-01T00:00:00",
          "2023-07-01T00:00:00",
          "2023-10-01T00:00:00",
          "2024-01-01T00:00:00",
          "2024-04-01T00:00:00",
          "2024-07-01T00:00:00",
          "2024-10-01T00:00:00",
          "2025-01-01T00:00:00",
          "2025-04-01T00:00:00"
         ],
         "y": {
          "bdata": "zczMzMzM9D+amZmZmZm5PzMzMzMzM/M/ZmZmZmZm5r8zMzMzMzMLQAAAAAAAAARAZmZmZmZmEkBmZmZmZmYOQM3MzMzMzPy/ZmZmZmbmNEBmZmZmZmYaQAAAAAAAAAjAAAAAAAAACECamZmZmZm5P2ZmZmZmZgLAMzMzMzMzB0CamZmZmZkTwGZmZmZmZgrAAAAAAAAAAACamZmZmZkFQGZmZmZmZuY/MzMzMzMzC0DNzMzMzMwSQAAAAAAAAAxAmpmZmZmZ+T/NzMzMzMwAQDMzMzMzMwdAMzMzMzMz+z/NzMzMzMz8v2ZmZmZmZgpA",
          "dtype": "f8"
         }
        }
       ],
       "layout": {
        "legend": {
         "orientation": "v"
        },
        "template": {
         "data": {
          "scatter": [
           {
            "hovertemplate": "%{x|%Y-%m-%d}<br> %{y:.1f}<extra></extra>",
            "line": {
             "width": 3
            },
            "type": "scatter"
           }
          ]
         },
         "layout": {
          "colorway": [
           "#2A547E",
           "#CF8B40",
           "#879396",
           "#F7CAC9",
           "#7095cf"
          ],
          "height": 500,
          "legend": {
           "bgcolor": "rgba(0,0,0,0)",
           "borderwidth": 0,
           "font": {
            "color": "#163855",
            "family": "Cambria Bold",
            "size": 22
           },
           "orientation": "h",
           "x": 1,
           "xanchor": "right",
           "y": 1.05,
           "yanchor": "bottom"
          },
          "title": {
           "font": {
            "color": "#163855",
            "family": "Cambria Bold",
            "size": 36
           },
           "x": 0.05,
           "xanchor": "left"
          },
          "width": 1200,
          "xaxis": {
           "gridcolor": "#D3D3D3",
           "gridwidth": 0.5,
           "showgrid": true,
           "tickfont": {
            "color": "#163855",
            "family": "Cambria Bold",
            "size": 18
           },
           "title": {
            "font": {
             "color": "#163855",
             "family": "Cambria Bold",
             "size": 24
            }
           },
           "type": "date"
          },
          "yaxis": {
           "gridcolor": "#D3D3D3",
           "gridwidth": 0.5,
           "showgrid": true,
           "tickfont": {
            "color": "#163855",
            "family": "Cambria Bold",
            "size": 18
           },
           "title": {
            "font": {
             "color": "#163855",
             "family": "Cambria Bold",
             "size": 24
            }
           }
          }
         }
        },
        "title": {
         "text": "Real Wages & Productivity<br><sup>Monthly, Seasonally Adjusted </sup>"
        },
        "xaxis": {
         "tickformat": "%Y",
         "title": {},
         "type": "date"
        },
        "yaxis": {
         "tickformat": ".2f%",
         "ticksuffix": "%",
         "title": {}
        }
       }
      }
     },
     "metadata": {},
     "output_type": "display_data"
    }
   ],
   "source": [
    "# First make the figure\n",
    "fig = go.Figure()\n",
    "\n",
    "\n",
    "# Loop the columns of the dataframe and plot each as a separate trace\n",
    "for col in joined_df.columns:\n",
    "    fig.add_trace(\n",
    "        go.Scatter(\n",
    "            x=joined_df.index,\n",
    "            y=joined_df[col],\n",
    "            mode='lines',\n",
    "            name=col\n",
    "        )\n",
    "    )\n",
    "\n",
    "# Update the titles, using the html tage <sup> for a subtitle \n",
    "fig.update_layout(\n",
    "    title = dict(text='Real Wages & Productivity<br><sup>Monthly, Seasonally Adjusted </sup>'),\n",
    "    xaxis_title=None,\n",
    "    yaxis_title=None,\n",
    ")\n",
    "\n",
    "# This is graph specific, but here we want the y-axis to be percent signs \n",
    "fig.update_yaxes(\n",
    "    ticksuffix=\"%\",\n",
    "    tickformat=\".2f%\",\n",
    ")\n",
    "\n",
    "fig.update_layout(\n",
    "    legend=dict(\n",
    "        orientation = 'v'\n",
    "    )\n",
    ")\n",
    "\n",
    "# Again, graph specific, we have a mutliyear series and want tick marks to be years\n",
    "fig.update_xaxes(\n",
    "    type='date',\n",
    "    tickformat='%Y',\n",
    ")\n",
    "\n",
    "# ut.add_end_labels(fig=fig)\n",
    "\n",
    "# Show our figure (Dimensions may be off on different screen sizes)\n",
    "fig.show()\n",
    "\n",
    "# This should be the same for EVERY GRAPH!\n",
    "# Save it to the graph_output folder with the name matching the file, as HTML\n",
    "fig.write_html(GRAPH_OUTPUT_PATH / f\"{GRAPH_NAME}.html\")"
   ]
  }
 ],
 "metadata": {
  "kernelspec": {
   "display_name": ".venv",
   "language": "python",
   "name": "python3"
  },
  "language_info": {
   "codemirror_mode": {
    "name": "ipython",
    "version": 3
   },
   "file_extension": ".py",
   "mimetype": "text/x-python",
   "name": "python",
   "nbconvert_exporter": "python",
   "pygments_lexer": "ipython3",
   "version": "3.13.7"
  }
 },
 "nbformat": 4,
 "nbformat_minor": 5
}
