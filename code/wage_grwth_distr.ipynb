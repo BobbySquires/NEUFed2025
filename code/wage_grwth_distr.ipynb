{
 "cells": [
  {
   "cell_type": "markdown",
   "id": "ec9a0460",
   "metadata": {},
   "source": [
    "This notebook walks through how to make graphs in this repo. You can copy this example.ipynb and rename it for your own graphing work. <b> Please do each graph in a seperate notebook!</b>\n",
    "\n",
    "1. Import the appropriate packages. We'll use plotly.graph_objects for making all of our graphs."
   ]
  },
  {
   "cell_type": "code",
   "execution_count": 20,
   "id": "b8a83946",
   "metadata": {},
   "outputs": [],
   "source": [
    "import datetime as dt\n",
    "import plotly.graph_objects as go\n",
    "import plotly.io as pio\n",
    "import pandas as pd\n",
    "import utils.utils as ut\n",
    "import utils.graph_templates\n",
    "\n",
    "from fredapi import Fred"
   ]
  },
  {
   "cell_type": "markdown",
   "id": "533182f0",
   "metadata": {},
   "source": [
    "2. We'll get data using the fredapi package. Set the path to the text file with your API key"
   ]
  },
  {
   "cell_type": "code",
   "execution_count": 21,
   "id": "f81e1110",
   "metadata": {},
   "outputs": [],
   "source": [
    "# Call the graph the exact same thing as its notebook (minus the ipynb suffix)\n",
    "GRAPH_NAME = \"Avg. Wage Growth Across Percentiles vs Inflation\"\n",
    "\n",
    "API_KEY_PATH = ut.get_repo_root() / \"fred_api_key.txt\" \n",
    "\n",
    "fred = Fred(api_key_file = API_KEY_PATH)"
   ]
  },
  {
   "cell_type": "markdown",
   "id": "ee2ebb59",
   "metadata": {},
   "source": [
    "3. Set the fed_2025 template as default"
   ]
  },
  {
   "cell_type": "code",
   "execution_count": 22,
   "id": "00bbbcaa",
   "metadata": {},
   "outputs": [],
   "source": [
    "pio.templates.default = 'fed_2025'\n",
    "\n",
    "# Now is a good time to set the path to the graph output folder!\n",
    "GRAPH_OUTPUT_PATH = ut.get_repo_root() / \"figures\""
   ]
  },
  {
   "cell_type": "markdown",
   "id": "c2af7dd8",
   "metadata": {},
   "source": [
    "4. Use the fredapi to get the data and prepare it for graphing. Documentation on the optional parameters that can be passed to the get_series called are found here (the documentation in fredapi is out of date). \n",
    "\n",
    "https://fred.stlouisfed.org/docs/api/fred/series_observations.html#Description\n",
    "\n",
    "If you get data from somewhere else thats fine too! Put the raw csv in the \"raw_data\" folder and read it in here. Make sure not to edit the raw data, just transform and graph it."
   ]
  },
  {
   "cell_type": "code",
   "execution_count": 23,
   "id": "4c582e8a",
   "metadata": {},
   "outputs": [],
   "source": [
    "# The get_series_info method may be useful\n",
    "# fred.get_series_info(series_id=\"CPIAUCSL\")\n",
    "\n",
    "# It's good practice to store the series codes in a dictionary with their names\n",
    "series_codes = {\n",
    "    \"PCE\":\"PCEPI\",\n",
    "    \"1st to 25th Wage Percentile\":\"FRBATLWGT12MMUMHWGWD1WP\",\n",
    "    \"76th to 100th Wage Percentile\":\"FRBATLWGT12MMUMHWGWD76WP\",\n",
    "    \"Overall Wage Growth\":\"FRBATLWGT12MMUMHGO\"\n",
    "}"
   ]
  },
  {
   "cell_type": "code",
   "execution_count": 24,
   "id": "5934d6c9",
   "metadata": {},
   "outputs": [
    {
     "data": {
      "text/html": [
       "<div>\n",
       "<style scoped>\n",
       "    .dataframe tbody tr th:only-of-type {\n",
       "        vertical-align: middle;\n",
       "    }\n",
       "\n",
       "    .dataframe tbody tr th {\n",
       "        vertical-align: top;\n",
       "    }\n",
       "\n",
       "    .dataframe thead th {\n",
       "        text-align: right;\n",
       "    }\n",
       "</style>\n",
       "<table border=\"1\" class=\"dataframe\">\n",
       "  <thead>\n",
       "    <tr style=\"text-align: right;\">\n",
       "      <th></th>\n",
       "      <th>Personal Consumption Expenditures</th>\n",
       "      <th>1st to 25th Wage Percentile</th>\n",
       "      <th>76th to 100th Wage Percentile</th>\n",
       "      <th>Overall Wage Growth</th>\n",
       "    </tr>\n",
       "    <tr>\n",
       "      <th>Date</th>\n",
       "      <th></th>\n",
       "      <th></th>\n",
       "      <th></th>\n",
       "      <th></th>\n",
       "    </tr>\n",
       "  </thead>\n",
       "  <tbody>\n",
       "    <tr>\n",
       "      <th>2025-04-01</th>\n",
       "      <td>2.277426</td>\n",
       "      <td>3.9</td>\n",
       "      <td>4.7</td>\n",
       "      <td>4.4</td>\n",
       "    </tr>\n",
       "    <tr>\n",
       "      <th>2025-05-01</th>\n",
       "      <td>2.458086</td>\n",
       "      <td>3.8</td>\n",
       "      <td>4.7</td>\n",
       "      <td>4.4</td>\n",
       "    </tr>\n",
       "    <tr>\n",
       "      <th>2025-06-01</th>\n",
       "      <td>2.593513</td>\n",
       "      <td>3.7</td>\n",
       "      <td>4.7</td>\n",
       "      <td>4.3</td>\n",
       "    </tr>\n",
       "    <tr>\n",
       "      <th>2025-07-01</th>\n",
       "      <td>2.596657</td>\n",
       "      <td>3.7</td>\n",
       "      <td>4.7</td>\n",
       "      <td>4.3</td>\n",
       "    </tr>\n",
       "    <tr>\n",
       "      <th>2025-08-01</th>\n",
       "      <td>2.741163</td>\n",
       "      <td>3.6</td>\n",
       "      <td>4.6</td>\n",
       "      <td>4.2</td>\n",
       "    </tr>\n",
       "  </tbody>\n",
       "</table>\n",
       "</div>"
      ],
      "text/plain": [
       "            Personal Consumption Expenditures  1st to 25th Wage Percentile  \\\n",
       "Date                                                                         \n",
       "2025-04-01                           2.277426                          3.9   \n",
       "2025-05-01                           2.458086                          3.8   \n",
       "2025-06-01                           2.593513                          3.7   \n",
       "2025-07-01                           2.596657                          3.7   \n",
       "2025-08-01                           2.741163                          3.6   \n",
       "\n",
       "            76th to 100th Wage Percentile  Overall Wage Growth  \n",
       "Date                                                            \n",
       "2025-04-01                            4.7                  4.4  \n",
       "2025-05-01                            4.7                  4.4  \n",
       "2025-06-01                            4.7                  4.3  \n",
       "2025-07-01                            4.7                  4.3  \n",
       "2025-08-01                            4.6                  4.2  "
      ]
     },
     "execution_count": 24,
     "metadata": {},
     "output_type": "execute_result"
    }
   ],
   "source": [
    "today = dt.date.today()\n",
    "\n",
    "pce= fred.get_series(\n",
    "    series_id=series_codes[\"PCE\"],\n",
    "    observation_start=dt.date(2018, 1, 1),\n",
    "    observation_end=today,\n",
    "    frequency='m'\n",
    ").rename(\"PCE\")\n",
    "\n",
    "awg_1_to_25 = fred.get_series(\n",
    "    series_id=series_codes[\"1st to 25th Wage Percentile\"],\n",
    "    observation_start=dt.date(2019, 1, 1),\n",
    "    observation_end=today,\n",
    "    frequency='m'\n",
    ").rename(\"1st to 25th Wage Percentile\")\n",
    "\n",
    "awg_76_to_100=fred.get_series(\n",
    "    series_id=series_codes[\"76th to 100th Wage Percentile\"],\n",
    "    observation_start=dt.date(2019, 1, 1),\n",
    "    observation_end=today,\n",
    "    frequency='m'\n",
    ").rename(\"76th to 100th Wage Percentile\")\n",
    "\n",
    "awg_overall=fred.get_series(\n",
    "    series_id=series_codes[\"Overall Wage Growth\"],\n",
    "    observation_start=dt.date(2019, 1, 1),\n",
    "    observation_end=today,\n",
    "    frequency='m'\n",
    ").rename(\"Overall Wage Growth\")\n",
    "\n",
    "pcepi_yoy = pce.pct_change(periods=12) * 100  # Gets the YoY percent change\n",
    "\n",
    "# new YoY PCE\n",
    "pce_yoy = pcepi_yoy.rename(\"Personal Consumption Expenditures\")\n",
    "\n",
    "joined_df = pd.concat(\n",
    "    [pce_yoy,awg_1_to_25,awg_76_to_100,awg_overall], # srs to join\n",
    "    axis=1, # multiple observations per index entry\n",
    "    join='inner' # only include observations where none of the 3 are missing\n",
    ")\n",
    "\n",
    "# Naming the index makes it easier tot title\n",
    "joined_df.index.name = \"Date\"\n",
    "\n",
    "joined_df.tail()"
   ]
  },
  {
   "cell_type": "markdown",
   "id": "f36c32ec",
   "metadata": {},
   "source": [
    "5. Now that all our data is ready, make the graph and have it save itself as a .html file to graph_output whenver the notebooks is rerun. The name of the file should exactly match the notebook name. For instance, this file \"example.ipynb\" produces the graph \"example.html.\" Nice work, you made a graph! "
   ]
  },
  {
   "cell_type": "code",
   "execution_count": 36,
   "id": "8d83fc29",
   "metadata": {},
   "outputs": [
    {
     "data": {
      "application/vnd.plotly.v1+json": {
       "config": {
        "plotlyServerURL": "https://plot.ly"
       },
       "data": [
        {
         "mode": "lines",
         "name": "Personal Consumption Expenditures",
         "type": "scatter",
         "x": [
          "2019-01-01T00:00:00.000000000",
          "2019-02-01T00:00:00.000000000",
          "2019-03-01T00:00:00.000000000",
          "2019-04-01T00:00:00.000000000",
          "2019-05-01T00:00:00.000000000",
          "2019-06-01T00:00:00.000000000",
          "2019-07-01T00:00:00.000000000",
          "2019-08-01T00:00:00.000000000",
          "2019-09-01T00:00:00.000000000",
          "2019-10-01T00:00:00.000000000",
          "2019-11-01T00:00:00.000000000",
          "2019-12-01T00:00:00.000000000",
          "2020-01-01T00:00:00.000000000",
          "2020-02-01T00:00:00.000000000",
          "2020-03-01T00:00:00.000000000",
          "2020-04-01T00:00:00.000000000",
          "2020-05-01T00:00:00.000000000",
          "2020-06-01T00:00:00.000000000",
          "2020-07-01T00:00:00.000000000",
          "2020-08-01T00:00:00.000000000",
          "2020-09-01T00:00:00.000000000",
          "2020-10-01T00:00:00.000000000",
          "2020-11-01T00:00:00.000000000",
          "2020-12-01T00:00:00.000000000",
          "2021-01-01T00:00:00.000000000",
          "2021-02-01T00:00:00.000000000",
          "2021-03-01T00:00:00.000000000",
          "2021-04-01T00:00:00.000000000",
          "2021-05-01T00:00:00.000000000",
          "2021-06-01T00:00:00.000000000",
          "2021-07-01T00:00:00.000000000",
          "2021-08-01T00:00:00.000000000",
          "2021-09-01T00:00:00.000000000",
          "2021-10-01T00:00:00.000000000",
          "2021-11-01T00:00:00.000000000",
          "2021-12-01T00:00:00.000000000",
          "2022-01-01T00:00:00.000000000",
          "2022-02-01T00:00:00.000000000",
          "2022-03-01T00:00:00.000000000",
          "2022-04-01T00:00:00.000000000",
          "2022-05-01T00:00:00.000000000",
          "2022-06-01T00:00:00.000000000",
          "2022-07-01T00:00:00.000000000",
          "2022-08-01T00:00:00.000000000",
          "2022-09-01T00:00:00.000000000",
          "2022-10-01T00:00:00.000000000",
          "2022-11-01T00:00:00.000000000",
          "2022-12-01T00:00:00.000000000",
          "2023-01-01T00:00:00.000000000",
          "2023-02-01T00:00:00.000000000",
          "2023-03-01T00:00:00.000000000",
          "2023-04-01T00:00:00.000000000",
          "2023-05-01T00:00:00.000000000",
          "2023-06-01T00:00:00.000000000",
          "2023-07-01T00:00:00.000000000",
          "2023-08-01T00:00:00.000000000",
          "2023-09-01T00:00:00.000000000",
          "2023-10-01T00:00:00.000000000",
          "2023-11-01T00:00:00.000000000",
          "2023-12-01T00:00:00.000000000",
          "2024-01-01T00:00:00.000000000",
          "2024-02-01T00:00:00.000000000",
          "2024-03-01T00:00:00.000000000",
          "2024-04-01T00:00:00.000000000",
          "2024-05-01T00:00:00.000000000",
          "2024-06-01T00:00:00.000000000",
          "2024-07-01T00:00:00.000000000",
          "2024-08-01T00:00:00.000000000",
          "2024-09-01T00:00:00.000000000",
          "2024-10-01T00:00:00.000000000",
          "2024-11-01T00:00:00.000000000",
          "2024-12-01T00:00:00.000000000",
          "2025-01-01T00:00:00.000000000",
          "2025-02-01T00:00:00.000000000",
          "2025-03-01T00:00:00.000000000",
          "2025-04-01T00:00:00.000000000",
          "2025-05-01T00:00:00.000000000",
          "2025-06-01T00:00:00.000000000",
          "2025-07-01T00:00:00.000000000",
          "2025-08-01T00:00:00.000000000"
         ],
         "y": {
          "bdata": "KPWDBMno9j8sjmVfHGf2P5SN2PpSWfg/KIF/67gP+T/wRCBW6HL3P1Risq0p0fY/lLdPm0tD9z/oeCZQ/OL2P8wac1cTi/Q/zAfw//Kd9D/4wzv8gLv1P2zdmxssBfk/ONZ04DK2/D+8+v/Jigb7P2zIodDKqPI/QLQfSPeY3T+Q6do61F7fP9AOFgUiTug/aG1f5c6F7T9gSj2yMoXyP/Qbt9/xa/Q/WM6wfvH/8j/UDt6z8PryP/DP/OAzWvU/uOBsZG1f+T9YTTdq1Hv9P0AfXDIgWgVAQmVaLU4fDUBa/nHeM0oQQJU+17N5ORFABXkxx5LkEUA9kOb92VISQB0lW2Qg8xJAfK3K8TNYFUAEORXhg7gXQFqQKl5gkRhAX8eBz/gWGUCXgV0Doi4aQMkMzhOltBtA3X3fgDC9GkBtuAxvnS0bQNzGQLBQ+RxAAMUryTQAG0DuP2OkB48aQANyjjP4qxpAvQWjSa7YGUA8dPKgOR8YQKsv3SaIFBZAXKxLk+sHFkB5qEYXjcoUQKP7Cj2NthFAvSUE8W/nEUBhBVupiwMQQGRVwh+zRgpASnvJ6bdFC0ASd9HU23QLQHKhWx9VlwtA4E6e2KMvCECoeFWB5x4GQFaNuEZcIwZAiEr4/wqXBUAkHPUl9aMFQIBoiWdrbAdAfoaWovabBkACwoEqG0sFQM6DRp0RYwRAysqlnEjBBEDIgtxM0E0DQAR8srYMFgJAYgbRdlDSA0BgxYpG0rMEQE6nE08j0wVAYmaazOnbBEBqcaeWEq8FQFi4rMIe4AJAZGEeHys4AkAik+4GKaoDQOK8rLuDvwRAQHKSUPTFBEDIYcob5+0FQA==",
          "dtype": "f8"
         }
        },
        {
         "mode": "lines",
         "name": "1st to 25th Wage Percentile",
         "type": "scatter",
         "x": [
          "2019-01-01T00:00:00.000000000",
          "2019-02-01T00:00:00.000000000",
          "2019-03-01T00:00:00.000000000",
          "2019-04-01T00:00:00.000000000",
          "2019-05-01T00:00:00.000000000",
          "2019-06-01T00:00:00.000000000",
          "2019-07-01T00:00:00.000000000",
          "2019-08-01T00:00:00.000000000",
          "2019-09-01T00:00:00.000000000",
          "2019-10-01T00:00:00.000000000",
          "2019-11-01T00:00:00.000000000",
          "2019-12-01T00:00:00.000000000",
          "2020-01-01T00:00:00.000000000",
          "2020-02-01T00:00:00.000000000",
          "2020-03-01T00:00:00.000000000",
          "2020-04-01T00:00:00.000000000",
          "2020-05-01T00:00:00.000000000",
          "2020-06-01T00:00:00.000000000",
          "2020-07-01T00:00:00.000000000",
          "2020-08-01T00:00:00.000000000",
          "2020-09-01T00:00:00.000000000",
          "2020-10-01T00:00:00.000000000",
          "2020-11-01T00:00:00.000000000",
          "2020-12-01T00:00:00.000000000",
          "2021-01-01T00:00:00.000000000",
          "2021-02-01T00:00:00.000000000",
          "2021-03-01T00:00:00.000000000",
          "2021-04-01T00:00:00.000000000",
          "2021-05-01T00:00:00.000000000",
          "2021-06-01T00:00:00.000000000",
          "2021-07-01T00:00:00.000000000",
          "2021-08-01T00:00:00.000000000",
          "2021-09-01T00:00:00.000000000",
          "2021-10-01T00:00:00.000000000",
          "2021-11-01T00:00:00.000000000",
          "2021-12-01T00:00:00.000000000",
          "2022-01-01T00:00:00.000000000",
          "2022-02-01T00:00:00.000000000",
          "2022-03-01T00:00:00.000000000",
          "2022-04-01T00:00:00.000000000",
          "2022-05-01T00:00:00.000000000",
          "2022-06-01T00:00:00.000000000",
          "2022-07-01T00:00:00.000000000",
          "2022-08-01T00:00:00.000000000",
          "2022-09-01T00:00:00.000000000",
          "2022-10-01T00:00:00.000000000",
          "2022-11-01T00:00:00.000000000",
          "2022-12-01T00:00:00.000000000",
          "2023-01-01T00:00:00.000000000",
          "2023-02-01T00:00:00.000000000",
          "2023-03-01T00:00:00.000000000",
          "2023-04-01T00:00:00.000000000",
          "2023-05-01T00:00:00.000000000",
          "2023-06-01T00:00:00.000000000",
          "2023-07-01T00:00:00.000000000",
          "2023-08-01T00:00:00.000000000",
          "2023-09-01T00:00:00.000000000",
          "2023-10-01T00:00:00.000000000",
          "2023-11-01T00:00:00.000000000",
          "2023-12-01T00:00:00.000000000",
          "2024-01-01T00:00:00.000000000",
          "2024-02-01T00:00:00.000000000",
          "2024-03-01T00:00:00.000000000",
          "2024-04-01T00:00:00.000000000",
          "2024-05-01T00:00:00.000000000",
          "2024-06-01T00:00:00.000000000",
          "2024-07-01T00:00:00.000000000",
          "2024-08-01T00:00:00.000000000",
          "2024-09-01T00:00:00.000000000",
          "2024-10-01T00:00:00.000000000",
          "2024-11-01T00:00:00.000000000",
          "2024-12-01T00:00:00.000000000",
          "2025-01-01T00:00:00.000000000",
          "2025-02-01T00:00:00.000000000",
          "2025-03-01T00:00:00.000000000",
          "2025-04-01T00:00:00.000000000",
          "2025-05-01T00:00:00.000000000",
          "2025-06-01T00:00:00.000000000",
          "2025-07-01T00:00:00.000000000",
          "2025-08-01T00:00:00.000000000"
         ],
         "y": {
          "bdata": "AAAAAAAAEkAAAAAAAAASQJqZmZmZmRFAAAAAAAAAEkAAAAAAAAASQAAAAAAAABJAAAAAAAAAEkCamZmZmZkRQAAAAAAAABJAmpmZmZmZEUAAAAAAAAASQGZmZmZmZhJAzczMzMzMEkDNzMzMzMwSQGZmZmZmZhJAZmZmZmZmEkBmZmZmZmYSQJqZmZmZmRFAmpmZmZmZEUCamZmZmZkRQDMzMzMzMxFAmpmZmZmZEUAzMzMzMzMRQM3MzMzMzBBAZmZmZmZmEEAzMzMzMzMRQDMzMzMzMxFAzczMzMzMEEAzMzMzMzMRQJqZmZmZmRFAzczMzMzMEkCamZmZmZkTQAAAAAAAABRAZmZmZmZmFEDNzMzMzMwUQAAAAAAAABZAmpmZmZmZF0AAAAAAAAAYQDMzMzMzMxlAZmZmZmZmGkCamZmZmZkbQM3MzMzMzBxAmpmZmZmZHUCamZmZmZkdQJqZmZmZmR1AAAAAAAAAHkAAAAAAAAAeQJqZmZmZmR1AzczMzMzMHEDNzMzMzMwcQGZmZmZmZhxAAAAAAAAAHEAzMzMzMzMbQAAAAAAAABpAMzMzMzMzGUBmZmZmZmYYQAAAAAAAABhAmpmZmZmZF0AAAAAAAAAYQJqZmZmZmRdAzczMzMzMFkAAAAAAAAAWQJqZmZmZmRVAZmZmZmZmFkAAAAAAAAAWQJqZmZmZmRVAZmZmZmZmFEDNzMzMzMwUQGZmZmZmZhRAMzMzMzMzE0BmZmZmZmYSQAAAAAAAABJAmpmZmZmZEUCamZmZmZkRQGZmZmZmZhBAMzMzMzMzD0BmZmZmZmYOQJqZmZmZmQ1AmpmZmZmZDUDNzMzMzMwMQA==",
          "dtype": "f8"
         }
        },
        {
         "mode": "lines",
         "name": "76th to 100th Wage Percentile",
         "type": "scatter",
         "x": [
          "2019-01-01T00:00:00.000000000",
          "2019-02-01T00:00:00.000000000",
          "2019-03-01T00:00:00.000000000",
          "2019-04-01T00:00:00.000000000",
          "2019-05-01T00:00:00.000000000",
          "2019-06-01T00:00:00.000000000",
          "2019-07-01T00:00:00.000000000",
          "2019-08-01T00:00:00.000000000",
          "2019-09-01T00:00:00.000000000",
          "2019-10-01T00:00:00.000000000",
          "2019-11-01T00:00:00.000000000",
          "2019-12-01T00:00:00.000000000",
          "2020-01-01T00:00:00.000000000",
          "2020-02-01T00:00:00.000000000",
          "2020-03-01T00:00:00.000000000",
          "2020-04-01T00:00:00.000000000",
          "2020-05-01T00:00:00.000000000",
          "2020-06-01T00:00:00.000000000",
          "2020-07-01T00:00:00.000000000",
          "2020-08-01T00:00:00.000000000",
          "2020-09-01T00:00:00.000000000",
          "2020-10-01T00:00:00.000000000",
          "2020-11-01T00:00:00.000000000",
          "2020-12-01T00:00:00.000000000",
          "2021-01-01T00:00:00.000000000",
          "2021-02-01T00:00:00.000000000",
          "2021-03-01T00:00:00.000000000",
          "2021-04-01T00:00:00.000000000",
          "2021-05-01T00:00:00.000000000",
          "2021-06-01T00:00:00.000000000",
          "2021-07-01T00:00:00.000000000",
          "2021-08-01T00:00:00.000000000",
          "2021-09-01T00:00:00.000000000",
          "2021-10-01T00:00:00.000000000",
          "2021-11-01T00:00:00.000000000",
          "2021-12-01T00:00:00.000000000",
          "2022-01-01T00:00:00.000000000",
          "2022-02-01T00:00:00.000000000",
          "2022-03-01T00:00:00.000000000",
          "2022-04-01T00:00:00.000000000",
          "2022-05-01T00:00:00.000000000",
          "2022-06-01T00:00:00.000000000",
          "2022-07-01T00:00:00.000000000",
          "2022-08-01T00:00:00.000000000",
          "2022-09-01T00:00:00.000000000",
          "2022-10-01T00:00:00.000000000",
          "2022-11-01T00:00:00.000000000",
          "2022-12-01T00:00:00.000000000",
          "2023-01-01T00:00:00.000000000",
          "2023-02-01T00:00:00.000000000",
          "2023-03-01T00:00:00.000000000",
          "2023-04-01T00:00:00.000000000",
          "2023-05-01T00:00:00.000000000",
          "2023-06-01T00:00:00.000000000",
          "2023-07-01T00:00:00.000000000",
          "2023-08-01T00:00:00.000000000",
          "2023-09-01T00:00:00.000000000",
          "2023-10-01T00:00:00.000000000",
          "2023-11-01T00:00:00.000000000",
          "2023-12-01T00:00:00.000000000",
          "2024-01-01T00:00:00.000000000",
          "2024-02-01T00:00:00.000000000",
          "2024-03-01T00:00:00.000000000",
          "2024-04-01T00:00:00.000000000",
          "2024-05-01T00:00:00.000000000",
          "2024-06-01T00:00:00.000000000",
          "2024-07-01T00:00:00.000000000",
          "2024-08-01T00:00:00.000000000",
          "2024-09-01T00:00:00.000000000",
          "2024-10-01T00:00:00.000000000",
          "2024-11-01T00:00:00.000000000",
          "2024-12-01T00:00:00.000000000",
          "2025-01-01T00:00:00.000000000",
          "2025-02-01T00:00:00.000000000",
          "2025-03-01T00:00:00.000000000",
          "2025-04-01T00:00:00.000000000",
          "2025-05-01T00:00:00.000000000",
          "2025-06-01T00:00:00.000000000",
          "2025-07-01T00:00:00.000000000",
          "2025-08-01T00:00:00.000000000"
         ],
         "y": {
          "bdata": "AAAAAAAACEDNzMzMzMwIQAAAAAAAAAhAzczMzMzMCEDNzMzMzMwIQM3MzMzMzAhAmpmZmZmZCUCamZmZmZkJQJqZmZmZmQlAzczMzMzMCEAzMzMzMzMHQAAAAAAAAAhAzczMzMzMCEDNzMzMzMwIQM3MzMzMzAhAzczMzMzMCECamZmZmZkJQGZmZmZmZgpAmpmZmZmZCUBmZmZmZmYKQGZmZmZmZgpAZmZmZmZmCkAzMzMzMzMLQGZmZmZmZgpAmpmZmZmZCUDNzMzMzMwIQDMzMzMzMwdAAAAAAAAACEAzMzMzMzMHQDMzMzMzMwdAZmZmZmZmBkBmZmZmZmYGQJqZmZmZmQVAmpmZmZmZBUCamZmZmZkFQGZmZmZmZgZAMzMzMzMzB0CamZmZmZkJQGZmZmZmZgpAAAAAAAAADEDNzMzMzMwMQJqZmZmZmQ1AZmZmZmZmDkAAAAAAAAAQQDMzMzMzMxFAAAAAAAAAEkAzMzMzMzMTQJqZmZmZmRNAAAAAAAAAFEAAAAAAAAAUQDMzMzMzMxVAmpmZmZmZFUBmZmZmZmYWQM3MzMzMzBZAzczMzMzMFkBmZmZmZmYWQGZmZmZmZhZAAAAAAAAAFkCamZmZmZkVQJqZmZmZmRVAmpmZmZmZFUAzMzMzMzMVQJqZmZmZmRNAAAAAAAAAFEAzMzMzMzMTQM3MzMzMzBJAzczMzMzMEkDNzMzMzMwSQDMzMzMzMxNAmpmZmZmZE0CamZmZmZkTQJqZmZmZmRNAMzMzMzMzE0AzMzMzMzMTQJqZmZmZmRNAzczMzMzMEkDNzMzMzMwSQM3MzMzMzBJAzczMzMzMEkBmZmZmZmYSQA==",
          "dtype": "f8"
         }
        },
        {
         "mode": "lines",
         "name": "Overall Wage Growth",
         "type": "scatter",
         "x": [
          "2019-01-01T00:00:00.000000000",
          "2019-02-01T00:00:00.000000000",
          "2019-03-01T00:00:00.000000000",
          "2019-04-01T00:00:00.000000000",
          "2019-05-01T00:00:00.000000000",
          "2019-06-01T00:00:00.000000000",
          "2019-07-01T00:00:00.000000000",
          "2019-08-01T00:00:00.000000000",
          "2019-09-01T00:00:00.000000000",
          "2019-10-01T00:00:00.000000000",
          "2019-11-01T00:00:00.000000000",
          "2019-12-01T00:00:00.000000000",
          "2020-01-01T00:00:00.000000000",
          "2020-02-01T00:00:00.000000000",
          "2020-03-01T00:00:00.000000000",
          "2020-04-01T00:00:00.000000000",
          "2020-05-01T00:00:00.000000000",
          "2020-06-01T00:00:00.000000000",
          "2020-07-01T00:00:00.000000000",
          "2020-08-01T00:00:00.000000000",
          "2020-09-01T00:00:00.000000000",
          "2020-10-01T00:00:00.000000000",
          "2020-11-01T00:00:00.000000000",
          "2020-12-01T00:00:00.000000000",
          "2021-01-01T00:00:00.000000000",
          "2021-02-01T00:00:00.000000000",
          "2021-03-01T00:00:00.000000000",
          "2021-04-01T00:00:00.000000000",
          "2021-05-01T00:00:00.000000000",
          "2021-06-01T00:00:00.000000000",
          "2021-07-01T00:00:00.000000000",
          "2021-08-01T00:00:00.000000000",
          "2021-09-01T00:00:00.000000000",
          "2021-10-01T00:00:00.000000000",
          "2021-11-01T00:00:00.000000000",
          "2021-12-01T00:00:00.000000000",
          "2022-01-01T00:00:00.000000000",
          "2022-02-01T00:00:00.000000000",
          "2022-03-01T00:00:00.000000000",
          "2022-04-01T00:00:00.000000000",
          "2022-05-01T00:00:00.000000000",
          "2022-06-01T00:00:00.000000000",
          "2022-07-01T00:00:00.000000000",
          "2022-08-01T00:00:00.000000000",
          "2022-09-01T00:00:00.000000000",
          "2022-10-01T00:00:00.000000000",
          "2022-11-01T00:00:00.000000000",
          "2022-12-01T00:00:00.000000000",
          "2023-01-01T00:00:00.000000000",
          "2023-02-01T00:00:00.000000000",
          "2023-03-01T00:00:00.000000000",
          "2023-04-01T00:00:00.000000000",
          "2023-05-01T00:00:00.000000000",
          "2023-06-01T00:00:00.000000000",
          "2023-07-01T00:00:00.000000000",
          "2023-08-01T00:00:00.000000000",
          "2023-09-01T00:00:00.000000000",
          "2023-10-01T00:00:00.000000000",
          "2023-11-01T00:00:00.000000000",
          "2023-12-01T00:00:00.000000000",
          "2024-01-01T00:00:00.000000000",
          "2024-02-01T00:00:00.000000000",
          "2024-03-01T00:00:00.000000000",
          "2024-04-01T00:00:00.000000000",
          "2024-05-01T00:00:00.000000000",
          "2024-06-01T00:00:00.000000000",
          "2024-07-01T00:00:00.000000000",
          "2024-08-01T00:00:00.000000000",
          "2024-09-01T00:00:00.000000000",
          "2024-10-01T00:00:00.000000000",
          "2024-11-01T00:00:00.000000000",
          "2024-12-01T00:00:00.000000000",
          "2025-01-01T00:00:00.000000000",
          "2025-02-01T00:00:00.000000000",
          "2025-03-01T00:00:00.000000000",
          "2025-04-01T00:00:00.000000000",
          "2025-05-01T00:00:00.000000000",
          "2025-06-01T00:00:00.000000000",
          "2025-07-01T00:00:00.000000000",
          "2025-08-01T00:00:00.000000000"
         ],
         "y": {
          "bdata": "AAAAAAAADEAAAAAAAAAMQAAAAAAAAAxAzczMzMzMDEDNzMzMzMwMQJqZmZmZmQ1AmpmZmZmZDUCamZmZmZkNQJqZmZmZmQ1AmpmZmZmZDUDNzMzMzMwMQJqZmZmZmQ1AmpmZmZmZDUCamZmZmZkNQJqZmZmZmQ1AzczMzMzMDECamZmZmZkNQM3MzMzMzAxAzczMzMzMDEDNzMzMzMwMQM3MzMzMzAxAzczMzMzMDEDNzMzMzMwMQAAAAAAAAAxAAAAAAAAADEAAAAAAAAAMQAAAAAAAAAxAAAAAAAAADEAzMzMzMzMLQDMzMzMzMwtAAAAAAAAADEAAAAAAAAAMQM3MzMzMzAxAzczMzMzMDECamZmZmZkNQGZmZmZmZg5AAAAAAAAAEEAzMzMzMzMRQAAAAAAAABJAzczMzMzMEkAAAAAAAAAUQDMzMzMzMxVAAAAAAAAAFkDNzMzMzMwWQJqZmZmZmRdAAAAAAAAAGEDNzMzMzMwYQDMzMzMzMxlAMzMzMzMzGUAzMzMzMzMZQJqZmZmZmRlAMzMzMzMzGUAzMzMzMzMZQGZmZmZmZhhAAAAAAAAAGEAAAAAAAAAYQDMzMzMzMxdAMzMzMzMzF0BmZmZmZmYWQGZmZmZmZhZAAAAAAAAAFkCamZmZmZkVQM3MzMzMzBRAMzMzMzMzFUDNzMzMzMwUQGZmZmZmZhRAZmZmZmZmFEAAAAAAAAAUQAAAAAAAABRAmpmZmZmZE0AzMzMzMzMTQM3MzMzMzBJAzczMzMzMEkBmZmZmZmYSQGZmZmZmZhJAmpmZmZmZEUCamZmZmZkRQDMzMzMzMxFAMzMzMzMzEUDNzMzMzMwQQA==",
          "dtype": "f8"
         }
        },
        {
         "hoverinfo": "skip",
         "marker": {
          "color": "#2A547E",
          "size": 8,
          "symbol": "circle"
         },
         "mode": "markers",
         "showlegend": false,
         "type": "scatter",
         "x": [
          1754006400000000000
         ],
         "y": [
          2.741163460839946
         ],
         "zorder": 3
        },
        {
         "hoverinfo": "skip",
         "marker": {
          "color": "#CF8B40",
          "size": 8,
          "symbol": "circle"
         },
         "mode": "markers",
         "showlegend": false,
         "type": "scatter",
         "x": [
          1754006400000000000
         ],
         "y": [
          3.6
         ],
         "zorder": 3
        },
        {
         "hoverinfo": "skip",
         "marker": {
          "color": "#879396",
          "size": 8,
          "symbol": "circle"
         },
         "mode": "markers",
         "showlegend": false,
         "type": "scatter",
         "x": [
          1754006400000000000
         ],
         "y": [
          4.6
         ],
         "zorder": 3
        },
        {
         "hoverinfo": "skip",
         "marker": {
          "color": "#F7CAC9",
          "size": 8,
          "symbol": "circle"
         },
         "mode": "markers",
         "showlegend": false,
         "type": "scatter",
         "x": [
          1754006400000000000
         ],
         "y": [
          4.2
         ],
         "zorder": 3
        }
       ],
       "layout": {
        "annotations": [
         {
          "font": {
           "color": "#2A547E"
          },
          "showarrow": false,
          "text": "2.74",
          "x": 1754006400000000000,
          "xanchor": "left",
          "xshift": 6,
          "y": 2.741163460839946,
          "yanchor": "middle"
         },
         {
          "font": {
           "color": "#CF8B40"
          },
          "showarrow": false,
          "text": "3.60",
          "x": 1754006400000000000,
          "xanchor": "left",
          "xshift": 6,
          "y": 3.6,
          "yanchor": "middle"
         },
         {
          "font": {
           "color": "#879396"
          },
          "showarrow": false,
          "text": "4.60",
          "x": 1754006400000000000,
          "xanchor": "left",
          "xshift": 6,
          "y": 4.6,
          "yanchor": "middle"
         },
         {
          "font": {
           "color": "#F7CAC9"
          },
          "showarrow": false,
          "text": "4.20",
          "x": 1754006400000000000,
          "xanchor": "left",
          "xshift": 6,
          "y": 4.2,
          "yanchor": "middle"
         }
        ],
        "template": {
         "data": {
          "scatter": [
           {
            "hovertemplate": "%{x|%Y-%m-%d}<br> %{y:.1f}<extra></extra>",
            "line": {
             "width": 3
            },
            "type": "scatter"
           }
          ]
         },
         "layout": {
          "colorway": [
           "#2A547E",
           "#CF8B40",
           "#879396",
           "#F7CAC9",
           "#7095cf"
          ],
          "height": 500,
          "legend": {
           "bgcolor": "rgba(0,0,0,0)",
           "borderwidth": 0,
           "font": {
            "color": "#163855",
            "family": "Cambria Bold",
            "size": 22
           },
           "orientation": "h",
           "x": 1,
           "xanchor": "right",
           "y": 1.05,
           "yanchor": "bottom"
          },
          "title": {
           "font": {
            "color": "#163855",
            "family": "Cambria Bold",
            "size": 36
           },
           "x": 0.05,
           "xanchor": "left"
          },
          "width": 1200,
          "xaxis": {
           "gridcolor": "#D3D3D3",
           "gridwidth": 0.5,
           "showgrid": true,
           "tickfont": {
            "color": "#163855",
            "family": "Cambria Bold",
            "size": 18
           },
           "title": {
            "font": {
             "color": "#163855",
             "family": "Cambria Bold",
             "size": 24
            }
           },
           "type": "date"
          },
          "yaxis": {
           "gridcolor": "#D3D3D3",
           "gridwidth": 0.5,
           "showgrid": true,
           "tickfont": {
            "color": "#163855",
            "family": "Cambria Bold",
            "size": 18
           },
           "title": {
            "font": {
             "color": "#163855",
             "family": "Cambria Bold",
             "size": 24
            }
           }
          }
         }
        },
        "title": {
         "text": "Average Wage Growth Across Percentiles vs Inflation<br><sup>Monthly, Not Seasonally Adjusted </sup>"
        },
        "xaxis": {
         "tickformat": "%b %Y",
         "title": {
          "text": "Date"
         },
         "type": "date"
        },
        "yaxis": {
         "tickformat": ".2f%",
         "ticksuffix": "%",
         "title": {
          "text": "Year-Over-Year Change"
         }
        }
       }
      }
     },
     "metadata": {},
     "output_type": "display_data"
    }
   ],
   "source": [
    "# First make the figure\n",
    "fig = go.Figure()\n",
    "\n",
    "\n",
    "# Loop the columns of the dataframe and plot each as a separate trace\n",
    "for col in joined_df.columns:\n",
    "    fig.add_trace(\n",
    "        go.Scatter(\n",
    "            x=joined_df.index,\n",
    "            y=joined_df[col],\n",
    "            mode='lines',\n",
    "            name=col\n",
    "        )\n",
    "    )\n",
    "\n",
    "# Update the titles, using the html tage <sup> for a subtitle \n",
    "fig.update_layout(\n",
    "    title = dict(text='Average Wage Growth Across Percentiles vs Inflation<br><sup>Monthly, Not Seasonally Adjusted </sup>'),\n",
    "    xaxis_title=\"Date\",\n",
    "    yaxis_title=\"Year-Over-Year Change\",\n",
    ")\n",
    "\n",
    "# This is graph specific, but here we want the y-axis to be percent signs \n",
    "fig.update_yaxes(\n",
    "    ticksuffix=\"%\",\n",
    "    tickformat=\".2f%\",\n",
    ")\n",
    "\n",
    "# Again, graph specific, we have a mutliyear series and want tick marks to be years\n",
    "fig.update_xaxes(\n",
    "    type='date',\n",
    "    tickformat='%b %Y',\n",
    ")\n",
    "\n",
    "ut.add_end_labels(fig=fig)\n",
    "\n",
    "# Show our figure (Dimensions may be off on different screen sizes)\n",
    "fig.show()\n",
    "\n",
    "# This should be the same for EVERY GRAPH!\n",
    "# Save it to the graph_output folder with the name matching the file, as HTML\n",
    "fig.write_html(GRAPH_OUTPUT_PATH / f\"{GRAPH_NAME}.html\")"
   ]
  }
 ],
 "metadata": {
  "kernelspec": {
   "display_name": ".venv",
   "language": "python",
   "name": "python3"
  },
  "language_info": {
   "codemirror_mode": {
    "name": "ipython",
    "version": 3
   },
   "file_extension": ".py",
   "mimetype": "text/x-python",
   "name": "python",
   "nbconvert_exporter": "python",
   "pygments_lexer": "ipython3",
   "version": "3.13.5"
  }
 },
 "nbformat": 4,
 "nbformat_minor": 5
}
