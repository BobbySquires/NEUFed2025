{
 "cells": [
  {
   "cell_type": "markdown",
   "id": "ec9a0460",
   "metadata": {},
   "source": [
    "This notebook walks through how to make graphs in this repo. You can copy this example.ipynb and rename it for your own graphing work. <b> Please do each graph in a seperate notebook!</b>\n",
    "\n",
    "1. Import the appropriate packages. We'll use plotly.graph_objects for making all of our graphs."
   ]
  },
  {
   "cell_type": "code",
   "execution_count": 1,
   "id": "b8a83946",
   "metadata": {},
   "outputs": [],
   "source": [
    "import datetime as dt\n",
    "import plotly.graph_objects as go\n",
    "import plotly.io as pio\n",
    "import pandas as pd\n",
    "import utils.utils as ut\n",
    "import utils.graph_templates\n",
    "\n",
    "from fredapi import Fred"
   ]
  },
  {
   "cell_type": "markdown",
   "id": "533182f0",
   "metadata": {},
   "source": [
    "2. We'll get data using the fredapi package. Set the path to the text file with your API key"
   ]
  },
  {
   "cell_type": "code",
   "execution_count": 2,
   "id": "f81e1110",
   "metadata": {},
   "outputs": [],
   "source": [
    "# Call the graph the exact same thing as its notebook (minus the ipynb suffix)\n",
    "GRAPH_NAME = \"example\"\n",
    "\n",
    "API_KEY_PATH = ut.get_repo_root() / \"fred_api_key.txt\" \n",
    "\n",
    "fred = Fred(api_key_file = API_KEY_PATH)"
   ]
  },
  {
   "cell_type": "markdown",
   "id": "ee2ebb59",
   "metadata": {},
   "source": [
    "3. Set the fed_2025 template as default"
   ]
  },
  {
   "cell_type": "code",
   "execution_count": 3,
   "id": "00bbbcaa",
   "metadata": {},
   "outputs": [],
   "source": [
    "pio.templates.default = 'fed_2025'\n",
    "\n",
    "# Call the graph the exact same thing as its notebook (minus the ipynb suffix)\n",
    "GRAPH_NAME = \"term_spread\"\n",
    "\n",
    "# Now is a good time to set the path to the graph output folder!\n",
    "GRAPH_OUTPUT_PATH = ut.get_repo_root() / \"figures\""
   ]
  },
  {
   "cell_type": "code",
   "execution_count": 4,
   "id": "d02adea9",
   "metadata": {},
   "outputs": [
    {
     "data": {
      "text/plain": [
       "WindowsPath('C:/Users/Bobby/Desktop/Fed Challenge 2025/NEUFed2025/figures')"
      ]
     },
     "execution_count": 4,
     "metadata": {},
     "output_type": "execute_result"
    }
   ],
   "source": [
    "GRAPH_OUTPUT_PATH"
   ]
  },
  {
   "cell_type": "markdown",
   "id": "c2af7dd8",
   "metadata": {},
   "source": [
    "4. Use the fredapi to get the data and prepare it for graphing. Documentation on the optional parameters that can be passed to the get_series called are found here (the documentation in fredapi is out of date). \n",
    "\n",
    "https://fred.stlouisfed.org/docs/api/fred/series_observations.html#Description\n",
    "\n",
    "If you get data from somewhere else thats fine too! Put the raw csv in the \"raw_data\" folder and read it in here. Make sure not to edit the raw data, just transform and graph it."
   ]
  },
  {
   "cell_type": "code",
   "execution_count": 5,
   "id": "4c582e8a",
   "metadata": {},
   "outputs": [],
   "source": [
    "ts_df = pd.read_excel(ut.get_repo_root() / \"code\" / \"data\" / \"allmonth.xls\", usecols=[\"Date\", \"Spread\"]).dropna().rename(columns={\"Spread\": \"10Y-3M Term Spread\"})\n",
    "\n",
    "ts_df['Date']=ts_df['Date'].dt.to_period('M').dt.to_timestamp()\n",
    "\n",
    "ts_df.set_index('Date', inplace=True)\n",
    "\n",
    "today = dt.date.today()\n",
    "\n",
    "# term_premium = fred.get_series(\n",
    "#     series_id=\"THREEFYTP10\",\n",
    "#     observation_start=dt.date(2024, 1, 1),\n",
    "#     observation_end=today,\n",
    "#     frequency='m',\n",
    "# ).rename(\"Term Premium on 10Y\")\n"
   ]
  },
  {
   "cell_type": "code",
   "execution_count": 6,
   "id": "5934d6c9",
   "metadata": {},
   "outputs": [
    {
     "data": {
      "text/html": [
       "<div>\n",
       "<style scoped>\n",
       "    .dataframe tbody tr th:only-of-type {\n",
       "        vertical-align: middle;\n",
       "    }\n",
       "\n",
       "    .dataframe tbody tr th {\n",
       "        vertical-align: top;\n",
       "    }\n",
       "\n",
       "    .dataframe thead th {\n",
       "        text-align: right;\n",
       "    }\n",
       "</style>\n",
       "<table border=\"1\" class=\"dataframe\">\n",
       "  <thead>\n",
       "    <tr style=\"text-align: right;\">\n",
       "      <th></th>\n",
       "      <th>10Y-3M Term Spread</th>\n",
       "    </tr>\n",
       "    <tr>\n",
       "      <th>Date</th>\n",
       "      <th></th>\n",
       "    </tr>\n",
       "  </thead>\n",
       "  <tbody>\n",
       "    <tr>\n",
       "      <th>2023-06-01</th>\n",
       "      <td>-1.550807</td>\n",
       "    </tr>\n",
       "    <tr>\n",
       "      <th>2023-07-01</th>\n",
       "      <td>-1.494506</td>\n",
       "    </tr>\n",
       "    <tr>\n",
       "      <th>2023-08-01</th>\n",
       "      <td>-1.276580</td>\n",
       "    </tr>\n",
       "    <tr>\n",
       "      <th>2023-09-01</th>\n",
       "      <td>-1.087413</td>\n",
       "    </tr>\n",
       "    <tr>\n",
       "      <th>2023-10-01</th>\n",
       "      <td>-0.688249</td>\n",
       "    </tr>\n",
       "    <tr>\n",
       "      <th>2023-11-01</th>\n",
       "      <td>-0.915334</td>\n",
       "    </tr>\n",
       "    <tr>\n",
       "      <th>2023-12-01</th>\n",
       "      <td>-1.364093</td>\n",
       "    </tr>\n",
       "    <tr>\n",
       "      <th>2024-01-01</th>\n",
       "      <td>-1.303268</td>\n",
       "    </tr>\n",
       "    <tr>\n",
       "      <th>2024-02-01</th>\n",
       "      <td>-1.174093</td>\n",
       "    </tr>\n",
       "    <tr>\n",
       "      <th>2024-03-01</th>\n",
       "      <td>-1.174093</td>\n",
       "    </tr>\n",
       "    <tr>\n",
       "      <th>2024-04-01</th>\n",
       "      <td>-0.844093</td>\n",
       "    </tr>\n",
       "    <tr>\n",
       "      <th>2024-05-01</th>\n",
       "      <td>-0.914506</td>\n",
       "    </tr>\n",
       "    <tr>\n",
       "      <th>2024-06-01</th>\n",
       "      <td>-1.074093</td>\n",
       "    </tr>\n",
       "    <tr>\n",
       "      <th>2024-07-01</th>\n",
       "      <td>-1.092446</td>\n",
       "    </tr>\n",
       "    <tr>\n",
       "      <th>2024-08-01</th>\n",
       "      <td>-1.316344</td>\n",
       "    </tr>\n",
       "    <tr>\n",
       "      <th>2024-09-01</th>\n",
       "      <td>-1.123342</td>\n",
       "    </tr>\n",
       "    <tr>\n",
       "      <th>2024-10-01</th>\n",
       "      <td>-0.525369</td>\n",
       "    </tr>\n",
       "    <tr>\n",
       "      <th>2024-11-01</th>\n",
       "      <td>-0.172024</td>\n",
       "    </tr>\n",
       "    <tr>\n",
       "      <th>2024-12-01</th>\n",
       "      <td>0.013456</td>\n",
       "    </tr>\n",
       "    <tr>\n",
       "      <th>2025-01-01</th>\n",
       "      <td>0.315614</td>\n",
       "    </tr>\n",
       "    <tr>\n",
       "      <th>2025-02-01</th>\n",
       "      <td>0.125256</td>\n",
       "    </tr>\n",
       "    <tr>\n",
       "      <th>2025-03-01</th>\n",
       "      <td>-0.024028</td>\n",
       "    </tr>\n",
       "    <tr>\n",
       "      <th>2025-04-01</th>\n",
       "      <td>-0.034386</td>\n",
       "    </tr>\n",
       "    <tr>\n",
       "      <th>2025-05-01</th>\n",
       "      <td>0.064177</td>\n",
       "    </tr>\n",
       "    <tr>\n",
       "      <th>2025-06-01</th>\n",
       "      <td>0.044897</td>\n",
       "    </tr>\n",
       "    <tr>\n",
       "      <th>2025-07-01</th>\n",
       "      <td>0.034177</td>\n",
       "    </tr>\n",
       "    <tr>\n",
       "      <th>2025-08-01</th>\n",
       "      <td>0.038816</td>\n",
       "    </tr>\n",
       "    <tr>\n",
       "      <th>2025-09-01</th>\n",
       "      <td>0.105779</td>\n",
       "    </tr>\n",
       "  </tbody>\n",
       "</table>\n",
       "</div>"
      ],
      "text/plain": [
       "            10Y-3M Term Spread\n",
       "Date                          \n",
       "2023-06-01           -1.550807\n",
       "2023-07-01           -1.494506\n",
       "2023-08-01           -1.276580\n",
       "2023-09-01           -1.087413\n",
       "2023-10-01           -0.688249\n",
       "2023-11-01           -0.915334\n",
       "2023-12-01           -1.364093\n",
       "2024-01-01           -1.303268\n",
       "2024-02-01           -1.174093\n",
       "2024-03-01           -1.174093\n",
       "2024-04-01           -0.844093\n",
       "2024-05-01           -0.914506\n",
       "2024-06-01           -1.074093\n",
       "2024-07-01           -1.092446\n",
       "2024-08-01           -1.316344\n",
       "2024-09-01           -1.123342\n",
       "2024-10-01           -0.525369\n",
       "2024-11-01           -0.172024\n",
       "2024-12-01            0.013456\n",
       "2025-01-01            0.315614\n",
       "2025-02-01            0.125256\n",
       "2025-03-01           -0.024028\n",
       "2025-04-01           -0.034386\n",
       "2025-05-01            0.064177\n",
       "2025-06-01            0.044897\n",
       "2025-07-01            0.034177\n",
       "2025-08-01            0.038816\n",
       "2025-09-01            0.105779"
      ]
     },
     "execution_count": 6,
     "metadata": {},
     "output_type": "execute_result"
    }
   ],
   "source": [
    "joined_df = pd.concat(\n",
    "    [ts_df],#,, term_premium], # srs to join\n",
    "    axis=1, # multiple observations per index entry\n",
    "    join='inner' # only include observations where none of the 3 are missing\n",
    ")\n",
    "\n",
    "# Naming the index makes it easier tot title\n",
    "joined_df.index.name = \"Date\"\n",
    "\n",
    "joined_df = joined_df[joined_df.index >= '2023-06-01']\n",
    "\n",
    "\n",
    "joined_df"
   ]
  },
  {
   "cell_type": "markdown",
   "id": "f36c32ec",
   "metadata": {},
   "source": [
    "5. Now that all our data is ready, make the graph and have it save itself as a .html file to graph_output whenver the notebooks is rerun. The name of the file should exactly match the notebook name. For instance, this file \"example.ipynb\" produces the graph \"example.html.\" Nice work, you made a graph! "
   ]
  },
  {
   "cell_type": "code",
   "execution_count": 10,
   "id": "8d83fc29",
   "metadata": {},
   "outputs": [
    {
     "data": {
      "application/vnd.plotly.v1+json": {
       "config": {
        "plotlyServerURL": "https://plot.ly"
       },
       "data": [
        {
         "mode": "lines",
         "name": "10Y-3M Term Spread",
         "type": "scatter",
         "x": [
          "2023-06-01T00:00:00",
          "2023-07-01T00:00:00",
          "2023-08-01T00:00:00",
          "2023-09-01T00:00:00",
          "2023-10-01T00:00:00",
          "2023-11-01T00:00:00",
          "2023-12-01T00:00:00",
          "2024-01-01T00:00:00",
          "2024-02-01T00:00:00",
          "2024-03-01T00:00:00",
          "2024-04-01T00:00:00",
          "2024-05-01T00:00:00",
          "2024-06-01T00:00:00",
          "2024-07-01T00:00:00",
          "2024-08-01T00:00:00",
          "2024-09-01T00:00:00",
          "2024-10-01T00:00:00",
          "2024-11-01T00:00:00",
          "2024-12-01T00:00:00",
          "2025-01-01T00:00:00",
          "2025-02-01T00:00:00",
          "2025-03-01T00:00:00",
          "2025-04-01T00:00:00",
          "2025-05-01T00:00:00",
          "2025-06-01T00:00:00",
          "2025-07-01T00:00:00",
          "2025-08-01T00:00:00",
          "2025-09-01T00:00:00"
         ],
         "y": {
          "bdata": "sCXy2RrQ+L+u7nBlf+n3v7jMPlDfbPS/AI5OpQtm8b/Q95iDIgbmv9j3JPxqSu2/mB9xRFPT9b+MykLjL9r0v4xIzdMVyfK/jEjN0xXJ8r+IzqR+zwLrv8ga7KGiQ+2/9K4zOnwv8b8YD25YqHrxvxhhzby+D/W/ztXxdzX58b+ITLN008/gv4A42HrjBMa/AA5qLq2Oiz8wziBtBjPUP8BlH39iCMA/AMijxbuamL+AwSzK/5qhvwBBzbrtbbA/gJkbUrr8pj+A8td/sn+hPwB7rn/B36M/gNVTlVYUuz8=",
          "dtype": "f8"
         }
        },
        {
         "hoverinfo": "skip",
         "marker": {
          "color": "#2A547E",
          "size": 8,
          "symbol": "circle"
         },
         "mode": "markers",
         "showlegend": false,
         "type": "scatter",
         "x": [
          1756684800000000000
         ],
         "y": [
          0.10577908654871315
         ],
         "zorder": 3
        }
       ],
       "layout": {
        "annotations": [
         {
          "font": {
           "color": "#2A547E"
          },
          "showarrow": false,
          "text": "0.1",
          "x": "2025-09-01T00:00:00",
          "xanchor": "left",
          "xshift": 6,
          "y": 0.10577908654871315,
          "yanchor": "middle"
         }
        ],
        "height": 450,
        "legend": {
         "font": {
          "size": 18
         }
        },
        "template": {
         "data": {
          "scatter": [
           {
            "hovertemplate": "%{x|%Y-%m-%d}<br> %{y:.1f}<extra></extra>",
            "line": {
             "width": 3
            },
            "type": "scatter"
           }
          ]
         },
         "layout": {
          "colorway": [
           "#2A547E",
           "#CF8B40",
           "#879396",
           "#F7CAC9",
           "#7095cf"
          ],
          "height": 500,
          "legend": {
           "bgcolor": "rgba(0,0,0,0)",
           "borderwidth": 0,
           "font": {
            "color": "#163855",
            "family": "Cambria Bold",
            "size": 22
           },
           "orientation": "h",
           "x": 1,
           "xanchor": "right",
           "y": 1.05,
           "yanchor": "bottom"
          },
          "title": {
           "font": {
            "color": "#163855",
            "family": "Cambria Bold",
            "size": 36
           },
           "x": 0.05,
           "xanchor": "left"
          },
          "width": 1200,
          "xaxis": {
           "gridcolor": "#D3D3D3",
           "gridwidth": 0.5,
           "showgrid": true,
           "tickfont": {
            "color": "#163855",
            "family": "Cambria Bold",
            "size": 18
           },
           "title": {
            "font": {
             "color": "#163855",
             "family": "Cambria Bold",
             "size": 24
            }
           },
           "type": "date"
          },
          "yaxis": {
           "gridcolor": "#D3D3D3",
           "gridwidth": 0.5,
           "showgrid": true,
           "tickfont": {
            "color": "#163855",
            "family": "Cambria Bold",
            "size": 18
           },
           "title": {
            "font": {
             "color": "#163855",
             "family": "Cambria Bold",
             "size": 24
            }
           }
          }
         }
        },
        "title": {
         "font": {
          "size": 28
         },
         "text": "Term Spread<br><sup>Monthly</sup>"
        },
        "width": 700,
        "xaxis": {
         "tickformat": "%b %Y",
         "title": {},
         "type": "date"
        },
        "yaxis": {
         "tickformat": ",.1f",
         "ticksuffix": "%",
         "title": {}
        }
       }
      }
     },
     "metadata": {},
     "output_type": "display_data"
    }
   ],
   "source": [
    "# First make the figure\n",
    "fig = go.Figure()\n",
    "\n",
    "\n",
    "# Loop the columns of the dataframe and plot each as a separate trace\n",
    "for col in joined_df.columns:\n",
    "    fig.add_trace(\n",
    "        go.Scatter(\n",
    "            x=joined_df.index,\n",
    "            y=joined_df[col],\n",
    "            mode='lines',\n",
    "            name=col\n",
    "        )\n",
    "    )\n",
    "\n",
    "# Update the titles, using the html tag <sup> for a subtitle \n",
    "fig.update_layout(\n",
    "    title = dict(\n",
    "        text = 'Term Spread<br><sup>Monthly</sup>',  # Add comma here\n",
    "        font=dict(size=28)),\n",
    "    xaxis_title=None,\n",
    "    yaxis_title=None,\n",
    "    legend=dict(\n",
    "        font=dict(size=18)  # Change legend font size\n",
    "    )\n",
    ")\n",
    "\n",
    "# This is graph specific, but here we want the y-axis to be billions of dollars\n",
    "fig.update_yaxes(\n",
    "    tickformat=\",.1f\",\n",
    "    ticksuffix=\"%\",\n",
    ")\n",
    "\n",
    "# Again, graph specific, we have a mutliyear series and want tick marks to be years\n",
    "fig.update_xaxes(\n",
    "    type='date',\n",
    "    tickformat='%b %Y',\n",
    ")\n",
    "\n",
    "ut.add_end_labels(fig)\n",
    "\n",
    "fig.update_layout(\n",
    "    height=450,\n",
    "    width=700,\n",
    ")\n",
    "\n",
    "# Show our figure (Dimensions may be off on different screen sizes)\n",
    "fig.show()\n",
    "\n",
    "# This should be the same for EVERY GRAPH!\n",
    "# Save it to the graph_output folder with the name matching the file, as HTML\n",
    "fig.write_html(GRAPH_OUTPUT_PATH / f\"{GRAPH_NAME}.html\")"
   ]
  }
 ],
 "metadata": {
  "kernelspec": {
   "display_name": ".venv",
   "language": "python",
   "name": "python3"
  },
  "language_info": {
   "codemirror_mode": {
    "name": "ipython",
    "version": 3
   },
   "file_extension": ".py",
   "mimetype": "text/x-python",
   "name": "python",
   "nbconvert_exporter": "python",
   "pygments_lexer": "ipython3",
   "version": "3.13.7"
  }
 },
 "nbformat": 4,
 "nbformat_minor": 5
}
