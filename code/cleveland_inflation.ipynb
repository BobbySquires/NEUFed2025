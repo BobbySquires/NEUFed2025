{
 "cells": [
  {
   "cell_type": "markdown",
   "id": "ec9a0460",
   "metadata": {},
   "source": [
    "Cleveland fed derives these from model with current inflation and market data/forceasts, strips out risk premia. They have a cool inflation term structure that could be nice to show off instead\n"
   ]
  },
  {
   "cell_type": "code",
   "execution_count": 1,
   "id": "b8a83946",
   "metadata": {
    "ExecuteTime": {
     "end_time": "2025-10-11T19:23:41.953540Z",
     "start_time": "2025-10-11T19:23:41.706835Z"
    }
   },
   "outputs": [],
   "source": [
    "import datetime as dt\n",
    "import plotly.graph_objects as go\n",
    "import plotly.io as pio\n",
    "import pandas as pd\n",
    "import utils.utils as ut\n",
    "import utils.graph_templates\n",
    "\n",
    "from fredapi import Fred"
   ]
  },
  {
   "cell_type": "markdown",
   "id": "533182f0",
   "metadata": {},
   "source": [
    "2. We'll get data using the fredapi package. Set the path to the text file with your API key"
   ]
  },
  {
   "cell_type": "code",
   "execution_count": 2,
   "id": "f81e1110",
   "metadata": {
    "ExecuteTime": {
     "end_time": "2025-10-11T19:23:43.416028Z",
     "start_time": "2025-10-11T19:23:43.409877Z"
    }
   },
   "outputs": [],
   "source": [
    "# Call the graph the exact same thing as its notebook (minus the ipynb suffix)\n",
    "GRAPH_NAME = \"cleveland_inflation\"\n",
    "\n",
    "API_KEY_PATH = ut.get_repo_root() / \"fred_api_key.txt\" \n",
    "\n",
    "fred = Fred(api_key_file = API_KEY_PATH)"
   ]
  },
  {
   "cell_type": "markdown",
   "id": "ee2ebb59",
   "metadata": {},
   "source": [
    "3. Set the fed_2025 template as default"
   ]
  },
  {
   "cell_type": "code",
   "execution_count": 3,
   "id": "00bbbcaa",
   "metadata": {
    "ExecuteTime": {
     "end_time": "2025-10-11T19:24:00.205552Z",
     "start_time": "2025-10-11T19:24:00.192350Z"
    }
   },
   "outputs": [],
   "source": [
    "pio.templates.default = 'fed_2025'\n",
    "\n",
    "# Now is a good time to set the path to the graph output folder!\n",
    "GRAPH_OUTPUT_PATH = ut.get_repo_root() / \"figures\""
   ]
  },
  {
   "cell_type": "code",
   "execution_count": 4,
   "id": "d02adea9",
   "metadata": {
    "ExecuteTime": {
     "end_time": "2025-10-11T19:24:02.798652Z",
     "start_time": "2025-10-11T19:24:02.790222Z"
    }
   },
   "outputs": [
    {
     "data": {
      "text/plain": [
       "WindowsPath('C:/Users/Bobby/Desktop/Fed Challenge 2025/NEUFed2025/figures')"
      ]
     },
     "execution_count": 4,
     "metadata": {},
     "output_type": "execute_result"
    }
   ],
   "source": [
    "GRAPH_OUTPUT_PATH"
   ]
  },
  {
   "cell_type": "markdown",
   "id": "c2af7dd8",
   "metadata": {},
   "source": [
    "4. Use the fredapi to get the data and prepare it for graphing. Documentation on the optional parameters that can be passed to the get_series called are found here (the documentation in fredapi is out of date). \n",
    "\n",
    "https://fred.stlouisfed.org/docs/api/fred/series_observations.html#Description\n",
    "\n",
    "If you get data from somewhere else thats fine too! Put the raw csv in the \"raw_data\" folder and read it in here. Make sure not to edit the raw data, just transform and graph it."
   ]
  },
  {
   "cell_type": "code",
   "execution_count": 5,
   "id": "4c582e8a",
   "metadata": {
    "ExecuteTime": {
     "end_time": "2025-10-11T19:27:46.437249Z",
     "start_time": "2025-10-11T19:27:46.310520Z"
    }
   },
   "outputs": [],
   "source": [
    "# The get_series_info method may be useful\n",
    "fred.get_series_info(series_id=\"CPIAUCSL\")\n",
    "\n",
    "# It's good practice to store the series codes in a dictionary with their names\n",
    "series_codes = {\n",
    "    \"1-Year\": \"EXPINF1YR\",\n",
    "    \"3-Year\": \"EXPINF3YR\"\n",
    "}"
   ]
  },
  {
   "cell_type": "code",
   "execution_count": 6,
   "id": "5934d6c9",
   "metadata": {
    "ExecuteTime": {
     "end_time": "2025-10-11T19:31:34.776498Z",
     "start_time": "2025-10-11T19:31:34.431384Z"
    }
   },
   "outputs": [
    {
     "data": {
      "application/vnd.microsoft.datawrangler.viewer.v0+json": {
       "columns": [
        {
         "name": "Date",
         "rawType": "datetime64[ns]",
         "type": "datetime"
        },
        {
         "name": "1-year expected inflation",
         "rawType": "float64",
         "type": "float"
        },
        {
         "name": "3-year expected inflation",
         "rawType": "float64",
         "type": "float"
        }
       ],
       "ref": "37aafb6a-3c4a-4f66-8ed6-15bdf579e0e6",
       "rows": [
        [
         "2025-05-01 00:00:00",
         "2.69133727",
         "2.41441275"
        ],
        [
         "2025-06-01 00:00:00",
         "2.38054202",
         "2.35894819"
        ],
        [
         "2025-07-01 00:00:00",
         "2.78904728",
         "2.45860108"
        ],
        [
         "2025-08-01 00:00:00",
         "2.68936045",
         "2.38753438"
        ],
        [
         "2025-09-01 00:00:00",
         "2.80732117",
         "2.42893006"
        ]
       ],
       "shape": {
        "columns": 2,
        "rows": 5
       }
      },
      "text/html": [
       "<div>\n",
       "<style scoped>\n",
       "    .dataframe tbody tr th:only-of-type {\n",
       "        vertical-align: middle;\n",
       "    }\n",
       "\n",
       "    .dataframe tbody tr th {\n",
       "        vertical-align: top;\n",
       "    }\n",
       "\n",
       "    .dataframe thead th {\n",
       "        text-align: right;\n",
       "    }\n",
       "</style>\n",
       "<table border=\"1\" class=\"dataframe\">\n",
       "  <thead>\n",
       "    <tr style=\"text-align: right;\">\n",
       "      <th></th>\n",
       "      <th>1-year expected inflation</th>\n",
       "      <th>3-year expected inflation</th>\n",
       "    </tr>\n",
       "    <tr>\n",
       "      <th>Date</th>\n",
       "      <th></th>\n",
       "      <th></th>\n",
       "    </tr>\n",
       "  </thead>\n",
       "  <tbody>\n",
       "    <tr>\n",
       "      <th>2025-05-01</th>\n",
       "      <td>2.691337</td>\n",
       "      <td>2.414413</td>\n",
       "    </tr>\n",
       "    <tr>\n",
       "      <th>2025-06-01</th>\n",
       "      <td>2.380542</td>\n",
       "      <td>2.358948</td>\n",
       "    </tr>\n",
       "    <tr>\n",
       "      <th>2025-07-01</th>\n",
       "      <td>2.789047</td>\n",
       "      <td>2.458601</td>\n",
       "    </tr>\n",
       "    <tr>\n",
       "      <th>2025-08-01</th>\n",
       "      <td>2.689360</td>\n",
       "      <td>2.387534</td>\n",
       "    </tr>\n",
       "    <tr>\n",
       "      <th>2025-09-01</th>\n",
       "      <td>2.807321</td>\n",
       "      <td>2.428930</td>\n",
       "    </tr>\n",
       "  </tbody>\n",
       "</table>\n",
       "</div>"
      ],
      "text/plain": [
       "            1-year expected inflation  3-year expected inflation\n",
       "Date                                                            \n",
       "2025-05-01                   2.691337                   2.414413\n",
       "2025-06-01                   2.380542                   2.358948\n",
       "2025-07-01                   2.789047                   2.458601\n",
       "2025-08-01                   2.689360                   2.387534\n",
       "2025-09-01                   2.807321                   2.428930"
      ]
     },
     "execution_count": 6,
     "metadata": {},
     "output_type": "execute_result"
    }
   ],
   "source": [
    "today = dt.date.today()\n",
    "\n",
    "core_sticky_srs = fred.get_series(\n",
    "    series_id=series_codes[\"1-Year\"],\n",
    "    observation_start=dt.date(2019, 1, 1),\n",
    "    observation_end=today,\n",
    "    frequency='m',\n",
    ").rename(\"1-year expected inflation\")\n",
    "\n",
    "core_srs = fred.get_series(\n",
    "    series_id=series_codes[\"3-Year\"],\n",
    "    observation_start=dt.date(2019, 1, 1),\n",
    "    observation_end=today,\n",
    ").rename(\"3-year expected inflation\")\n",
    "\n",
    "\n",
    "joined_df = pd.concat(\n",
    "    [core_sticky_srs, core_srs], # srs to join\n",
    "    axis=1, # multiple observations per index entry\n",
    "    join='inner' # only include observations where none of the 3 are missing\n",
    ")\n",
    "\n",
    "# Naming the index makes it easier tot title\n",
    "joined_df.index.name = \"Date\"\n",
    "\n",
    "joined_df.tail()"
   ]
  },
  {
   "cell_type": "markdown",
   "id": "f36c32ec",
   "metadata": {},
   "source": [
    "5. Now that all our data is ready, make the graph and have it save itself as a .html file to graph_output whenver the notebooks is rerun. The name of the file should exactly match the notebook name. For instance, this file \"example.ipynb\" produces the graph \"example.html.\" Nice work, you made a graph! "
   ]
  },
  {
   "cell_type": "code",
   "execution_count": 7,
   "id": "8d83fc29",
   "metadata": {
    "ExecuteTime": {
     "end_time": "2025-10-11T19:32:24.979953Z",
     "start_time": "2025-10-11T19:32:24.902624Z"
    }
   },
   "outputs": [
    {
     "data": {
      "application/vnd.plotly.v1+json": {
       "config": {
        "plotlyServerURL": "https://plot.ly"
       },
       "data": [
        {
         "mode": "lines",
         "name": "1-year expected inflation",
         "type": "scatter",
         "x": [
          "2019-01-01T00:00:00",
          "2019-02-01T00:00:00",
          "2019-03-01T00:00:00",
          "2019-04-01T00:00:00",
          "2019-05-01T00:00:00",
          "2019-06-01T00:00:00",
          "2019-07-01T00:00:00",
          "2019-08-01T00:00:00",
          "2019-09-01T00:00:00",
          "2019-10-01T00:00:00",
          "2019-11-01T00:00:00",
          "2019-12-01T00:00:00",
          "2020-01-01T00:00:00",
          "2020-02-01T00:00:00",
          "2020-03-01T00:00:00",
          "2020-04-01T00:00:00",
          "2020-05-01T00:00:00",
          "2020-06-01T00:00:00",
          "2020-07-01T00:00:00",
          "2020-08-01T00:00:00",
          "2020-09-01T00:00:00",
          "2020-10-01T00:00:00",
          "2020-11-01T00:00:00",
          "2020-12-01T00:00:00",
          "2021-01-01T00:00:00",
          "2021-02-01T00:00:00",
          "2021-03-01T00:00:00",
          "2021-04-01T00:00:00",
          "2021-05-01T00:00:00",
          "2021-06-01T00:00:00",
          "2021-07-01T00:00:00",
          "2021-08-01T00:00:00",
          "2021-09-01T00:00:00",
          "2021-10-01T00:00:00",
          "2021-11-01T00:00:00",
          "2021-12-01T00:00:00",
          "2022-01-01T00:00:00",
          "2022-02-01T00:00:00",
          "2022-03-01T00:00:00",
          "2022-04-01T00:00:00",
          "2022-05-01T00:00:00",
          "2022-06-01T00:00:00",
          "2022-07-01T00:00:00",
          "2022-08-01T00:00:00",
          "2022-09-01T00:00:00",
          "2022-10-01T00:00:00",
          "2022-11-01T00:00:00",
          "2022-12-01T00:00:00",
          "2023-01-01T00:00:00",
          "2023-02-01T00:00:00",
          "2023-03-01T00:00:00",
          "2023-04-01T00:00:00",
          "2023-05-01T00:00:00",
          "2023-06-01T00:00:00",
          "2023-07-01T00:00:00",
          "2023-08-01T00:00:00",
          "2023-09-01T00:00:00",
          "2023-10-01T00:00:00",
          "2023-11-01T00:00:00",
          "2023-12-01T00:00:00",
          "2024-01-01T00:00:00",
          "2024-02-01T00:00:00",
          "2024-03-01T00:00:00",
          "2024-04-01T00:00:00",
          "2024-05-01T00:00:00",
          "2024-06-01T00:00:00",
          "2024-07-01T00:00:00",
          "2024-08-01T00:00:00",
          "2024-09-01T00:00:00",
          "2024-10-01T00:00:00",
          "2024-11-01T00:00:00",
          "2024-12-01T00:00:00",
          "2025-01-01T00:00:00",
          "2025-02-01T00:00:00",
          "2025-03-01T00:00:00",
          "2025-04-01T00:00:00",
          "2025-05-01T00:00:00",
          "2025-06-01T00:00:00",
          "2025-07-01T00:00:00",
          "2025-08-01T00:00:00",
          "2025-09-01T00:00:00"
         ],
         "y": {
          "bdata": "BIO1ewPd/D+IWJJ2gqH8P1gc7wpUAfY/Cx7wCo5MAEB/r7acKnsBQEi7dg4Kv/k/qKU9Tmb2+z+HpWAR7G37P/Y5qfWfUfo/S4ynFviX+z817BjTIyj7P2lZtXOzQvs/7cnLs/XA/D/iq6H93VX6P/5NpAsclu8/HmTEy/THqb/oNOqlUgHMvym6R5mBaOA/2wlh++om+T+3GLCiDtT6P3dedMMAU/k/cuH+K0Ra9j+X56DPcLj2PxSxqW9wZPo/QM1//jEj9z/lvPcey876P1/T/0muOPg/fMauglIT/D+KJzdhLeT9P4BMKbcGcQBA7K6B572VAEAheDpfBbMDQGiiOuMceQVA5DfgTn2r/T/MXradttYDQIsES1xk9gRAnQvpER/vAUDo9N0p9AQFQJHw3s0qdghAu34Di6okC0CIMq9+xxMNQCHdtown6BBAig43lmZ5CkDKSjiZXQQLQN2NLgRztxBAUGsesEAOB0APsckzkukJQO4K+Xfo8QZA5Kg3/p9uBUBFx2Fym+cEQKptWI0ElgBAs5LatOc0BUAEb8zbpjoFQFvM8Bs23PU/6WoCd2bLA0AOTsCGEtsEQKxyX9bdfwZAARqEPRYoBkD54kFpXlQGQMTnsdq6uwhAEu0RB1xZA0AHFF5AN20DQHwpXXZfqABAfUn4GIuiBUDmNHZPP3wHQA/6iE6FzgVAlETdpPVxBECyJyYUx8YCQGfQElyT4wFAOzZEDY0MAkAOzBtxEnQDQLxeWAbuMwVAnzdXxQIEBUBQE0OTQNIFQPZxXcaHeAFAfUI0wvQYB0BUP6nV24cFQPA6VZ1ZCwNANMg0BfhPBkArP19pz4MFQMwlNM1kdQZA",
          "dtype": "f8"
         }
        },
        {
         "mode": "lines",
         "name": "3-year expected inflation",
         "type": "scatter",
         "x": [
          "2019-01-01T00:00:00",
          "2019-02-01T00:00:00",
          "2019-03-01T00:00:00",
          "2019-04-01T00:00:00",
          "2019-05-01T00:00:00",
          "2019-06-01T00:00:00",
          "2019-07-01T00:00:00",
          "2019-08-01T00:00:00",
          "2019-09-01T00:00:00",
          "2019-10-01T00:00:00",
          "2019-11-01T00:00:00",
          "2019-12-01T00:00:00",
          "2020-01-01T00:00:00",
          "2020-02-01T00:00:00",
          "2020-03-01T00:00:00",
          "2020-04-01T00:00:00",
          "2020-05-01T00:00:00",
          "2020-06-01T00:00:00",
          "2020-07-01T00:00:00",
          "2020-08-01T00:00:00",
          "2020-09-01T00:00:00",
          "2020-10-01T00:00:00",
          "2020-11-01T00:00:00",
          "2020-12-01T00:00:00",
          "2021-01-01T00:00:00",
          "2021-02-01T00:00:00",
          "2021-03-01T00:00:00",
          "2021-04-01T00:00:00",
          "2021-05-01T00:00:00",
          "2021-06-01T00:00:00",
          "2021-07-01T00:00:00",
          "2021-08-01T00:00:00",
          "2021-09-01T00:00:00",
          "2021-10-01T00:00:00",
          "2021-11-01T00:00:00",
          "2021-12-01T00:00:00",
          "2022-01-01T00:00:00",
          "2022-02-01T00:00:00",
          "2022-03-01T00:00:00",
          "2022-04-01T00:00:00",
          "2022-05-01T00:00:00",
          "2022-06-01T00:00:00",
          "2022-07-01T00:00:00",
          "2022-08-01T00:00:00",
          "2022-09-01T00:00:00",
          "2022-10-01T00:00:00",
          "2022-11-01T00:00:00",
          "2022-12-01T00:00:00",
          "2023-01-01T00:00:00",
          "2023-02-01T00:00:00",
          "2023-03-01T00:00:00",
          "2023-04-01T00:00:00",
          "2023-05-01T00:00:00",
          "2023-06-01T00:00:00",
          "2023-07-01T00:00:00",
          "2023-08-01T00:00:00",
          "2023-09-01T00:00:00",
          "2023-10-01T00:00:00",
          "2023-11-01T00:00:00",
          "2023-12-01T00:00:00",
          "2024-01-01T00:00:00",
          "2024-02-01T00:00:00",
          "2024-03-01T00:00:00",
          "2024-04-01T00:00:00",
          "2024-05-01T00:00:00",
          "2024-06-01T00:00:00",
          "2024-07-01T00:00:00",
          "2024-08-01T00:00:00",
          "2024-09-01T00:00:00",
          "2024-10-01T00:00:00",
          "2024-11-01T00:00:00",
          "2024-12-01T00:00:00",
          "2025-01-01T00:00:00",
          "2025-02-01T00:00:00",
          "2025-03-01T00:00:00",
          "2025-04-01T00:00:00",
          "2025-05-01T00:00:00",
          "2025-06-01T00:00:00",
          "2025-07-01T00:00:00",
          "2025-08-01T00:00:00",
          "2025-09-01T00:00:00"
         ],
         "y": {
          "bdata": "6d1Q38+c/T++WVp4JK/9P67R9tgrdvg/tPlmOPH3+z+WOo5AOEb9Pzq4rncDtfg/sIOU6eG1+T/RX4Xn5075P0wi86+Cu/c/34Xv9ZwB+T/A7zp2q0L5P7Y00N/4uPk/BYf2NbtT+j941qhmWjv4P8ddKXBXhPE/jid6x8ZP5j9j7pxeEM7kP30WUwLF3Ow/y6TA4YlZ9D/jjpKyoJv0P/rDhfL0QPQ/uWz4BvQ88z/EOW4hXcbzP2qxRgOZOfU/TyR3XH3a8z/kB7ZjTWn1PyIkoPy8rfU/Oc2nM5zn9z/aFo61+U74P5BtdCkJZPk/1+6qSejF+T+0A/BHOMr6PyfWkFWdd/w/PdMqfnyn+D9t/sKfnzH9PwP2Zg4ov/0/y4rZebiQ/D9VOSfVwtX/P59Bv8ZgGwFAwJCbAhV1A0A0LW8WSAMFQJe2TStkkgZAWb5w31GgA0AlfCkbWiUDQN2aETFnjgZAMFCMC4viA0DcpQUWXVIFQAOESdDjIANASCA1WP4tA0CMqhVcYvMBQCEVUsBuxwFAcNKw7/UDAkDNLq3Ab1cCQDnp4A0nWPo/BXRXXSR4AUCkG2FREU8CQEJMV+o4QgNA0RgYP64RBEBU1A3SWz0EQJzdnEKVLwRACsrAQ0kHAkDNX75Iqu8BQMKPxZFiqwFAEmAeU/PEA0AohbM6vfMEQL68hDONAARAtPZn1LagA0DDamYM9+IBQCobtUYtWgFAU63ogyNAAUBFsg39j/MCQImZ+eX+YANAC6+Ho2kIBEB09oTbkF0EQCPuuWXqKgJAuPG8jhf+A0AHXcKht1ADQDERiDog3wJADhUECzerA0C0ZwGgqxkDQELFH+JybgNA",
          "dtype": "f8"
         }
        },
        {
         "hoverinfo": "skip",
         "marker": {
          "color": "#2A547E",
          "size": 8,
          "symbol": "circle"
         },
         "mode": "markers",
         "showlegend": false,
         "type": "scatter",
         "x": [
          1756684800000000000
         ],
         "y": [
          2.80732117
         ],
         "zorder": 3
        },
        {
         "hoverinfo": "skip",
         "marker": {
          "color": "#CF8B40",
          "size": 8,
          "symbol": "circle"
         },
         "mode": "markers",
         "showlegend": false,
         "type": "scatter",
         "x": [
          1756684800000000000
         ],
         "y": [
          2.42893006
         ],
         "zorder": 3
        }
       ],
       "layout": {
        "annotations": [
         {
          "showarrow": false,
          "text": "Longer-Run Target",
          "x": 1,
          "xanchor": "right",
          "xref": "x domain",
          "y": 2,
          "yanchor": "top",
          "yref": "y"
         },
         {
          "font": {
           "color": "#2A547E"
          },
          "showarrow": false,
          "text": "2.8",
          "x": "2025-09-01T00:00:00",
          "xanchor": "left",
          "xshift": 6,
          "y": 2.80732117,
          "yanchor": "middle"
         },
         {
          "font": {
           "color": "#CF8B40"
          },
          "showarrow": false,
          "text": "2.4",
          "x": "2025-09-01T00:00:00",
          "xanchor": "left",
          "xshift": 6,
          "y": 2.42893006,
          "yanchor": "middle"
         }
        ],
        "shapes": [
         {
          "line": {
           "color": "red",
           "dash": "dash"
          },
          "type": "line",
          "x0": 0,
          "x1": 1,
          "xref": "x domain",
          "y0": 2,
          "y1": 2,
          "yref": "y"
         }
        ],
        "template": {
         "data": {
          "scatter": [
           {
            "hovertemplate": "%{x|%Y-%m-%d}<br> %{y:.1f}<extra></extra>",
            "line": {
             "width": 3
            },
            "type": "scatter"
           }
          ]
         },
         "layout": {
          "colorway": [
           "#2A547E",
           "#CF8B40",
           "#879396",
           "#F7CAC9",
           "#7095cf"
          ],
          "height": 500,
          "legend": {
           "bgcolor": "rgba(0,0,0,0)",
           "borderwidth": 0,
           "font": {
            "color": "#163855",
            "family": "Cambria Bold",
            "size": 22
           },
           "orientation": "h",
           "x": 1,
           "xanchor": "right",
           "y": 1.05,
           "yanchor": "bottom"
          },
          "title": {
           "font": {
            "color": "#163855",
            "family": "Cambria Bold",
            "size": 36
           },
           "x": 0.05,
           "xanchor": "left"
          },
          "width": 1200,
          "xaxis": {
           "gridcolor": "#D3D3D3",
           "gridwidth": 0.5,
           "showgrid": true,
           "tickfont": {
            "color": "#163855",
            "family": "Cambria Bold",
            "size": 18
           },
           "title": {
            "font": {
             "color": "#163855",
             "family": "Cambria Bold",
             "size": 24
            }
           },
           "type": "date"
          },
          "yaxis": {
           "gridcolor": "#D3D3D3",
           "gridwidth": 0.5,
           "showgrid": true,
           "tickfont": {
            "color": "#163855",
            "family": "Cambria Bold",
            "size": 18
           },
           "title": {
            "font": {
             "color": "#163855",
             "family": "Cambria Bold",
             "size": 24
            }
           }
          }
         }
        },
        "title": {
         "text": "Cleveland Fed Estimated Inflation Expectations<br><sup>Monthly</sup>"
        },
        "xaxis": {
         "tickformat": "%Y",
         "title": {
          "text": "Date"
         },
         "type": "date"
        },
        "yaxis": {
         "tickformat": ".2f%",
         "ticksuffix": "%",
         "title": {
          "text": "Change (YoY)"
         }
        }
       }
      }
     },
     "metadata": {},
     "output_type": "display_data"
    }
   ],
   "source": [
    "# First make the figure\n",
    "fig = go.Figure()\n",
    "\n",
    "# Loop the columns of the dataframe and plot each as a separate trace\n",
    "for col in joined_df.columns:\n",
    "    fig.add_trace(\n",
    "        go.Scatter(\n",
    "            x=joined_df.index,\n",
    "            y=joined_df[col],\n",
    "            mode='lines',\n",
    "            name=col\n",
    "        )\n",
    "    )\n",
    "\n",
    "# Update the titles, using the html tage <sup> for a subtitle \n",
    "fig.update_layout(\n",
    "    title = dict(text = 'Cleveland Fed Estimated Inflation Expectations<br><sup>Monthly</sup>',),\n",
    "    xaxis_title=\"Date\",\n",
    "    yaxis_title=\"Change (YoY)\",\n",
    ")\n",
    "\n",
    "# This is graph specific, but here we want the y-axis to be percent signs \n",
    "fig.update_yaxes(\n",
    "    tickformat=\".2f%\",\n",
    "    ticksuffix=\"%\"\n",
    ")\n",
    "\n",
    "fig.add_hline(\n",
    "    y=2,\n",
    "    line_dash=\"dash\",\n",
    "    line_color=\"red\",\n",
    "    annotation_text=\"Longer-Run Target\",\n",
    "    annotation_position=\"right bottom\"\n",
    ")\n",
    "\n",
    "# Again, graph specific, we have a mutliyear series and want tick marks to be years\n",
    "fig.update_xaxes(\n",
    "    type='date',\n",
    "    tickformat='%Y',\n",
    ")\n",
    "\n",
    "ut.add_end_labels(fig = fig)\n",
    "\n",
    "# Show our figure (Dimensions may be off on different screen sizes)\n",
    "fig.show()\n",
    "\n",
    "# This should be the same for EVERY GRAPH!\n",
    "# Save it to the graph_output folder with the name matching the file, as HTML\n",
    "fig.write_html(GRAPH_OUTPUT_PATH / f\"{GRAPH_NAME}.html\")\n"
   ]
  },
  {
   "cell_type": "code",
   "execution_count": null,
   "id": "bb7558d094348dc3",
   "metadata": {},
   "outputs": [],
   "source": []
  }
 ],
 "metadata": {
  "kernelspec": {
   "display_name": ".venv",
   "language": "python",
   "name": "python3"
  },
  "language_info": {
   "codemirror_mode": {
    "name": "ipython",
    "version": 3
   },
   "file_extension": ".py",
   "mimetype": "text/x-python",
   "name": "python",
   "nbconvert_exporter": "python",
   "pygments_lexer": "ipython3",
   "version": "3.13.7"
  }
 },
 "nbformat": 4,
 "nbformat_minor": 5
}
