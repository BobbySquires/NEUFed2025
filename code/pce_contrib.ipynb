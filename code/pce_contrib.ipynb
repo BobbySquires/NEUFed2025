{
 "cells": [
  {
   "cell_type": "markdown",
   "id": "ec9a0460",
   "metadata": {},
   "source": [
    "This notebook walks through how to make graphs in this repo. You can copy this example.ipynb and rename it for your own graphing work. <b> Please do each graph in a seperate notebook!</b>\n",
    "\n",
    "1. Import the appropriate packages. We'll use plotly.graph_objects for making all of our graphs."
   ]
  },
  {
   "cell_type": "code",
   "execution_count": 1,
   "id": "b8a83946",
   "metadata": {},
   "outputs": [],
   "source": [
    "import datetime as dt\n",
    "import plotly.graph_objects as go\n",
    "import plotly.io as pio\n",
    "import pandas as pd\n",
    "import utils.utils as ut\n",
    "import utils.graph_templates\n",
    "\n",
    "from fredapi import Fred"
   ]
  },
  {
   "cell_type": "markdown",
   "id": "533182f0",
   "metadata": {},
   "source": [
    "2. We'll get data using the fredapi package. Set the path to the text file with your API key"
   ]
  },
  {
   "cell_type": "code",
   "execution_count": 2,
   "id": "f81e1110",
   "metadata": {},
   "outputs": [],
   "source": [
    "# Call the graph the exact same thing as its notebook (minus the ipynb suffix) NAME FOR THE FILE, not the title\n",
    "GRAPH_NAME = \"pce_contrib\"\n",
    "\n",
    "API_KEY_PATH = ut.get_repo_root() / \"fred_api_key.txt\" \n",
    "\n",
    "fred = Fred(api_key_file = API_KEY_PATH)"
   ]
  },
  {
   "cell_type": "markdown",
   "id": "ee2ebb59",
   "metadata": {},
   "source": [
    "3. Set the fed_2025 template as default"
   ]
  },
  {
   "cell_type": "code",
   "execution_count": 3,
   "id": "00bbbcaa",
   "metadata": {},
   "outputs": [],
   "source": [
    "pio.templates.default = 'fed_2025'\n",
    "\n",
    "# Now is a good time to set the path to the graph output folder!\n",
    "GRAPH_OUTPUT_PATH = ut.get_repo_root() / \"figures\""
   ]
  },
  {
   "cell_type": "code",
   "execution_count": 22,
   "id": "bfc2b297",
   "metadata": {},
   "outputs": [
    {
     "data": {
      "application/vnd.plotly.v1+json": {
       "config": {
        "plotlyServerURL": "https://plot.ly"
       },
       "data": [
        {
         "name": "Housing",
         "type": "bar",
         "x": [
          "2023-06-01",
          "2023-07-01",
          "2023-08-01",
          "2023-09-01",
          "2023-10-01",
          "2023-11-01",
          "2023-12-01",
          "2024-01-01",
          "2024-02-01",
          "2024-03-01",
          "2024-04-01",
          "2024-05-01",
          "2024-06-01",
          "2024-07-01",
          "2024-08-01",
          "2024-09-01",
          "2024-10-01",
          "2024-11-01",
          "2024-12-01",
          "2025-01-01",
          "2025-02-01",
          "2025-03-01",
          "2025-04-01",
          "2025-05-01",
          "2025-06-01",
          "2025-07-01",
          "2025-08-01"
         ],
         "y": {
          "bdata": "CtejcD0K8z+4HoXrUbjyP+xRuB6F6/E/cT0K16Nw8T/NzMzMzMzwP3sUrkfhevA/rkfhehSu7z9mZmZmZmbuPx+F61G4Hu0/H4XrUbge7T8pXI/C9SjsP9ejcD0K1+s/4XoUrkfh6j89CtejcD3qP4/C9Shcj+o/mpmZmZmZ6T+amZmZmZnpP1K4HoXrUeg/rkfhehSu5z8K16NwPQrnPxSuR+F6FOY/w/UoXI/C5T9xPQrXo3DlP3sUrkfheuQ/exSuR+F65D/Xo3A9CtfjP4XrUbgeheM/",
          "dtype": "f8"
         }
        },
        {
         "name": "Core Services ex Housing",
         "type": "bar",
         "x": [
          "2023-06-01",
          "2023-07-01",
          "2023-08-01",
          "2023-09-01",
          "2023-10-01",
          "2023-11-01",
          "2023-12-01",
          "2024-01-01",
          "2024-02-01",
          "2024-03-01",
          "2024-04-01",
          "2024-05-01",
          "2024-06-01",
          "2024-07-01",
          "2024-08-01",
          "2024-09-01",
          "2024-10-01",
          "2024-11-01",
          "2024-12-01",
          "2025-01-01",
          "2025-02-01",
          "2025-03-01",
          "2025-04-01",
          "2025-05-01",
          "2025-06-01",
          "2025-07-01",
          "2025-08-01"
         ],
         "y": {
          "bdata": "7FG4HoXrAUCPwvUoXI8CQOF6FK5H4QBAzczMzMzMAECPwvUoXI/+Px+F61G4Hv0/exSuR+F6/D8zMzMzMzP/P+xRuB6F6/0/hetRuB6F/z89CtejcD3+Px+F61G4Hv0/exSuR+F6/D8AAAAAAAD8P/YoXI/C9fw/exSuR+F6/D8K16NwPQr/P+F6FK5H4f4/XI/C9Shc/z9cj8L1KFz7Pz0K16NwPf4/XI/C9Shc+z/sUbgehev5PwrXo3A9Cvs/PQrXo3A9+j/hehSuR+H6P9ejcD0K1/s/",
          "dtype": "f8"
         }
        },
        {
         "name": "Core Goods",
         "type": "bar",
         "x": [
          "2023-06-01",
          "2023-07-01",
          "2023-08-01",
          "2023-09-01",
          "2023-10-01",
          "2023-11-01",
          "2023-12-01",
          "2024-01-01",
          "2024-02-01",
          "2024-03-01",
          "2024-04-01",
          "2024-05-01",
          "2024-06-01",
          "2024-07-01",
          "2024-08-01",
          "2024-09-01",
          "2024-10-01",
          "2024-11-01",
          "2024-12-01",
          "2025-01-01",
          "2025-02-01",
          "2025-03-01",
          "2025-04-01",
          "2025-05-01",
          "2025-06-01",
          "2025-07-01",
          "2025-08-01"
         ],
         "y": {
          "bdata": "9ihcj8L12D9I4XoUrkfRP6RwPQrXo8A/mpmZmZmZqT8K16NwPQq3P5qZmZmZmak/exSuR+F6hL+4HoXrUbi+vwrXo3A9Cre/KVyPwvUovL+4HoXrUbi+v3E9CtejcM2/CtejcD0Kx78K16NwPQq3vylcj8L1KLy/7FG4HoXrsb+amZmZmZm5v3sUrkfheqS/exSuR+F6pL+amZmZmZmpP+xRuB6F67E/exSuR+F6hL97FK5H4XqkP+xRuB6F68E/KVyPwvUozD9xPQrXo3DNP3E9CtejcM0/",
          "dtype": "f8"
         }
        },
        {
         "name": "Food and Energy",
         "type": "bar",
         "x": [
          "2023-06-01",
          "2023-07-01",
          "2023-08-01",
          "2023-09-01",
          "2023-10-01",
          "2023-11-01",
          "2023-12-01",
          "2024-01-01",
          "2024-02-01",
          "2024-03-01",
          "2024-04-01",
          "2024-05-01",
          "2024-06-01",
          "2024-07-01",
          "2024-08-01",
          "2024-09-01",
          "2024-10-01",
          "2024-11-01",
          "2024-12-01",
          "2025-01-01",
          "2025-02-01",
          "2025-03-01",
          "2025-04-01",
          "2025-05-01",
          "2025-06-01",
          "2025-07-01",
          "2025-08-01"
         ],
         "y": {
          "bdata": "pHA9Ctej4L8fhetRuB7Vv3sUrkfherQ/KVyPwvUozD97FK5H4XqUv7gehetRuL6/uB6F61G4nj97FK5H4Xq0v3sUrkfheoQ/CtejcD0Kxz/D9Shcj8LFP+F6FK5H4co/KVyPwvUovD8pXI/C9Si8P6RwPQrXo8C/AAAAAAAA0L/D9Shcj8LFv5qZmZmZmam/exSuR+F6tD/sUbgehevBP3sUrkfherQ/exSuR+F6hL97FK5H4Xqkv3sUrkfheoS/mpmZmZmZuT+4HoXrUbiuP3sUrkfhesQ/",
          "dtype": "f8"
         }
        },
        {
         "line": {
          "color": "black",
          "width": 2
         },
         "marker": {
          "size": 6
         },
         "mode": "lines+markers",
         "name": "PCE Inflation Rate",
         "type": "scatter",
         "x": [
          "2023-06-01T00:00:00.000000000",
          "2023-07-01T00:00:00.000000000",
          "2023-08-01T00:00:00.000000000",
          "2023-09-01T00:00:00.000000000",
          "2023-10-01T00:00:00.000000000",
          "2023-11-01T00:00:00.000000000",
          "2023-12-01T00:00:00.000000000",
          "2024-01-01T00:00:00.000000000",
          "2024-02-01T00:00:00.000000000",
          "2024-03-01T00:00:00.000000000",
          "2024-04-01T00:00:00.000000000",
          "2024-05-01T00:00:00.000000000",
          "2024-06-01T00:00:00.000000000",
          "2024-07-01T00:00:00.000000000",
          "2024-08-01T00:00:00.000000000",
          "2024-09-01T00:00:00.000000000",
          "2024-10-01T00:00:00.000000000",
          "2024-11-01T00:00:00.000000000",
          "2024-12-01T00:00:00.000000000",
          "2025-01-01T00:00:00.000000000",
          "2025-02-01T00:00:00.000000000",
          "2025-03-01T00:00:00.000000000",
          "2025-04-01T00:00:00.000000000",
          "2025-05-01T00:00:00.000000000",
          "2025-06-01T00:00:00.000000000",
          "2025-07-01T00:00:00.000000000",
          "2025-08-01T00:00:00.000000000"
         ],
         "y": {
          "bdata": "n3b4a7JGCkD2C3bDtkULQDBHj9/bdAtA8wLso1OXC0CPcFrwoi8IQB75g4HnHgZAiJ0pdF4jBkDXo3A9CpcFQPm9TX/2owVAsTOFzmtsB0AkufyH9JsGQF70FaQZSwVAM9yAzw9jBED+KytNSsEEQK+ZfLPNTQNALjnulA4WAkCKAn0iT9IDQN21hHzQswRAbFuU2SDTBUCy9KEL6tsEQFeyYyMQrwVAOZz51RzgAkAqb0c4LTgCQEP/BBcrqgNArMq+K4K/BECgppat9cUEQK7TSEvl7QVA",
          "dtype": "f8"
         }
        }
       ],
       "layout": {
        "annotations": [
         {
          "ax": 0,
          "ay": -200,
          "bgcolor": "white",
          "font": {
           "color": "black",
           "size": 12
          },
          "showarrow": false,
          "text": "2.7%",
          "x": "2025-08-01T00:00:00",
          "y": 3.24116
         }
        ],
        "barmode": "relative",
        "legend": {
         "font": {
          "size": 18
         },
         "orientation": "v",
         "x": 1,
         "xanchor": "left",
         "y": 0.8,
         "yanchor": "top"
        },
        "template": {
         "data": {
          "scatter": [
           {
            "hovertemplate": "%{x|%Y-%m-%d}<br> %{y:.1f}<extra></extra>",
            "line": {
             "width": 3
            },
            "type": "scatter"
           }
          ]
         },
         "layout": {
          "colorway": [
           "#2A547E",
           "#CF8B40",
           "#879396",
           "#F7CAC9",
           "#7095cf"
          ],
          "height": 500,
          "legend": {
           "bgcolor": "rgba(0,0,0,0)",
           "borderwidth": 0,
           "font": {
            "color": "#163855",
            "family": "Cambria Bold",
            "size": 22
           },
           "orientation": "h",
           "x": 1,
           "xanchor": "right",
           "y": 1.05,
           "yanchor": "bottom"
          },
          "title": {
           "font": {
            "color": "#163855",
            "family": "Cambria Bold",
            "size": 36
           },
           "x": 0.05,
           "xanchor": "left"
          },
          "width": 1200,
          "xaxis": {
           "gridcolor": "#D3D3D3",
           "gridwidth": 0.5,
           "showgrid": true,
           "tickfont": {
            "color": "#163855",
            "family": "Cambria Bold",
            "size": 18
           },
           "title": {
            "font": {
             "color": "#163855",
             "family": "Cambria Bold",
             "size": 24
            }
           },
           "type": "date"
          },
          "yaxis": {
           "gridcolor": "#D3D3D3",
           "gridwidth": 0.5,
           "showgrid": true,
           "tickfont": {
            "color": "#163855",
            "family": "Cambria Bold",
            "size": 18
           },
           "title": {
            "font": {
             "color": "#163855",
             "family": "Cambria Bold",
             "size": 24
            }
           }
          }
         }
        },
        "title": {
         "text": "Contributions to PCE Inflation <br><sup>Monthly, Seasonally Adjusted</sup>"
        },
        "xaxis": {
         "dtick": "M4",
         "tickformat": "%b %Y",
         "title": {
          "text": "Date"
         },
         "type": "date"
        },
        "yaxis": {
         "tickformat": "0.2f%",
         "ticksuffix": "%",
         "title": {
          "text": "Change from Year Ago (%)"
         }
        }
       }
      }
     },
     "metadata": {},
     "output_type": "display_data"
    }
   ],
   "source": [
    "today = dt.date.today()\n",
    "\n",
    "contrib_df = pd.read_csv(\n",
    "    ut.get_repo_root() / \"code\" / \"data\" / \"chart1-yoy-headline-pce-contributions.csv\",\n",
    "    index_col=\"date\"\n",
    ")\n",
    "\n",
    "contrib_df = contrib_df[pd.to_datetime(contrib_df.index) >= pd.to_datetime(\"2023-06-01\")]\n",
    "\n",
    "contrib_df = contrib_df.rename(\n",
    "    columns={\n",
    "        \"Core Services exc. Housing\": \"Core Services ex Housing\",\n",
    "    }\n",
    ")\n",
    "\n",
    "headline_srs = fred.get_series(\n",
    "    series_id=\"PCEPI\",\n",
    "    observation_start=dt.date(2023, 6, 1),\n",
    "    observation_end=today,\n",
    "    frequency='m',\n",
    "    units='pc1'\n",
    ").rename(\"Headline PCE\")\n",
    "\n",
    "\n",
    "fig = go.Figure()\n",
    "\n",
    "for col in contrib_df.columns:\n",
    "    fig.add_trace(\n",
    "        go.Bar(\n",
    "            x=contrib_df.index,\n",
    "            y=contrib_df[col],\n",
    "            name=col\n",
    "        )\n",
    "    )\n",
    "\n",
    "\n",
    "fig.add_trace(\n",
    "    go.Scatter(\n",
    "        x=headline_srs.index,\n",
    "        y=headline_srs,\n",
    "        mode='lines+markers',\n",
    "        name='PCE Inflation Rate',\n",
    "        line=dict(color='black', width=2),\n",
    "        marker=dict(size=6)\n",
    "    )\n",
    ")\n",
    "\n",
    "# This is graph specific, but here we want the y-axis to be percent signs \n",
    "fig.update_yaxes(\n",
    "    tickformat=\"0.2f%\",\n",
    "    ticksuffix=\"%\"\n",
    ")\n",
    "\n",
    "# Again, graph specific, we have a mutliyear series and want tick marks to be years\n",
    "fig.update_xaxes(\n",
    "    type='date',\n",
    "    tickformat='%b %Y',\n",
    "    dtick=\"M4\"\n",
    ")\n",
    "\n",
    "fig.update_layout(\n",
    "    barmode='relative',\n",
    "    title=dict(text='Contributions to PCE Inflation <br><sup>Monthly, Seasonally Adjusted</sup>'),\n",
    "    xaxis_title='Date',\n",
    "    yaxis_title='Change from Year Ago (%)',\n",
    ")\n",
    "\n",
    "fig.update_layout(\n",
    "    legend=dict(\n",
    "        orientation=\"v\",\n",
    "        x=1,  # Move legend inside the plot area (left)\n",
    "        y=0.8,  # Near the top\n",
    "        xanchor=\"left\",\n",
    "        yanchor=\"top\",\n",
    "        font=dict(size=18)\n",
    "    )\n",
    ")\n",
    "\n",
    "# Add a label at the end of the Headline PCE Inflation series\n",
    "last_date = headline_srs.index[-1]\n",
    "last_value = headline_srs.iloc[-1]\n",
    "\n",
    "fig.add_annotation(\n",
    "    x=last_date,\n",
    "    y=last_value + 0.5,\n",
    "    text=f\"{last_value:.1f}%\",\n",
    "    showarrow=False,\n",
    "    ax=0,\n",
    "    ay=-200,  # Negative ay moves annotation up (above the point)\n",
    "    font=dict(size=12, color=\"black\"),\n",
    "    bgcolor=\"white\",\n",
    ")\n",
    "\n",
    "\n",
    "# This should be the same for EVERY GRAPH!\n",
    "# Save it to the graph_output folder with the name matching the file, as HTML\n",
    "fig.write_html(GRAPH_OUTPUT_PATH / f\"{GRAPH_NAME}.html\")\n",
    "\n",
    "fig.show()\n"
   ]
  },
  {
   "cell_type": "markdown",
   "id": "f36c32ec",
   "metadata": {},
   "source": [
    "5. Now that all our data is ready, make the graph and have it save itself as a .html file to graph_output whenver the notebooks is rerun. The name of the file should exactly match the notebook name. For instance, this file \"example.ipynb\" produces the graph \"example.html.\" Nice work, you made a graph! "
   ]
  }
 ],
 "metadata": {
  "kernelspec": {
   "display_name": ".venv",
   "language": "python",
   "name": "python3"
  },
  "language_info": {
   "codemirror_mode": {
    "name": "ipython",
    "version": 3
   },
   "file_extension": ".py",
   "mimetype": "text/x-python",
   "name": "python",
   "nbconvert_exporter": "python",
   "pygments_lexer": "ipython3",
   "version": "3.13.7"
  }
 },
 "nbformat": 4,
 "nbformat_minor": 5
}
