{
 "cells": [
  {
   "cell_type": "markdown",
   "id": "ec9a0460",
   "metadata": {},
   "source": [
    "This notebook walks through how to make graphs in this repo. You can copy this example.ipynb and rename it for your own graphing work. <b> Please do each graph in a seperate notebook!</b>\n",
    "\n",
    "1. Import the appropriate packages. We'll use plotly.graph_objects for making all of our graphs."
   ]
  },
  {
   "cell_type": "code",
   "execution_count": 1,
   "id": "b8a83946",
   "metadata": {},
   "outputs": [],
   "source": [
    "import datetime as dt\n",
    "import plotly.graph_objects as go\n",
    "import plotly.io as pio\n",
    "import pandas as pd\n",
    "import utils.utils as ut\n",
    "import utils.graph_templates\n",
    "\n",
    "from fredapi import Fred"
   ]
  },
  {
   "cell_type": "markdown",
   "id": "533182f0",
   "metadata": {},
   "source": [
    "2. We'll get data using the fredapi package. Set the path to the text file with your API key"
   ]
  },
  {
   "cell_type": "code",
   "execution_count": 2,
   "id": "f81e1110",
   "metadata": {},
   "outputs": [],
   "source": [
    "# Call the graph the exact same thing as its notebook (minus the ipynb suffix) NAME FOR THE FILE, not the title\n",
    "GRAPH_NAME = \"pce_contrib\"\n",
    "\n",
    "API_KEY_PATH = ut.get_repo_root() / \"fred_api_key.txt\" \n",
    "\n",
    "fred = Fred(api_key_file = API_KEY_PATH)"
   ]
  },
  {
   "cell_type": "markdown",
   "id": "ee2ebb59",
   "metadata": {},
   "source": [
    "3. Set the fed_2025 template as default"
   ]
  },
  {
   "cell_type": "code",
   "execution_count": 3,
   "id": "00bbbcaa",
   "metadata": {},
   "outputs": [],
   "source": [
    "pio.templates.default = 'fed_2025'\n",
    "\n",
    "# Now is a good time to set the path to the graph output folder!\n",
    "GRAPH_OUTPUT_PATH = ut.get_repo_root() / \"figures\""
   ]
  },
  {
   "cell_type": "code",
   "execution_count": 24,
   "id": "bfc2b297",
   "metadata": {},
   "outputs": [
    {
     "data": {
      "application/vnd.plotly.v1+json": {
       "config": {
        "plotlyServerURL": "https://plot.ly"
       },
       "data": [
        {
         "name": "Housing",
         "type": "bar",
         "x": [
          "2024-01-01",
          "2024-02-01",
          "2024-03-01",
          "2024-04-01",
          "2024-05-01",
          "2024-06-01",
          "2024-07-01",
          "2024-08-01",
          "2024-09-01",
          "2024-10-01",
          "2024-11-01",
          "2024-12-01",
          "2025-01-01",
          "2025-02-01",
          "2025-03-01",
          "2025-04-01",
          "2025-05-01",
          "2025-06-01",
          "2025-07-01",
          "2025-08-01"
         ],
         "y": {
          "bdata": "ZmZmZmZm7j8fhetRuB7tPx+F61G4Hu0/KVyPwvUo7D/Xo3A9CtfrP+F6FK5H4eo/PQrXo3A96j+PwvUoXI/qP5qZmZmZmek/mpmZmZmZ6T9SuB6F61HoP65H4XoUruc/CtejcD0K5z8UrkfhehTmP8P1KFyPwuU/cT0K16Nw5T97FK5H4XrkP3sUrkfheuQ/16NwPQrX4z+F61G4HoXjPw==",
          "dtype": "f8"
         }
        },
        {
         "name": "Core Services ex Housing",
         "type": "bar",
         "x": [
          "2024-01-01",
          "2024-02-01",
          "2024-03-01",
          "2024-04-01",
          "2024-05-01",
          "2024-06-01",
          "2024-07-01",
          "2024-08-01",
          "2024-09-01",
          "2024-10-01",
          "2024-11-01",
          "2024-12-01",
          "2025-01-01",
          "2025-02-01",
          "2025-03-01",
          "2025-04-01",
          "2025-05-01",
          "2025-06-01",
          "2025-07-01",
          "2025-08-01"
         ],
         "y": {
          "bdata": "MzMzMzMz/z/sUbgehev9P4XrUbgehf8/PQrXo3A9/j8fhetRuB79P3sUrkfhevw/AAAAAAAA/D/2KFyPwvX8P3sUrkfhevw/CtejcD0K/z/hehSuR+H+P1yPwvUoXP8/XI/C9Shc+z89CtejcD3+P1yPwvUoXPs/7FG4HoXr+T8K16NwPQr7Pz0K16NwPfo/4XoUrkfh+j/Xo3A9Ctf7Pw==",
          "dtype": "f8"
         }
        },
        {
         "name": "Core Goods",
         "type": "bar",
         "x": [
          "2024-01-01",
          "2024-02-01",
          "2024-03-01",
          "2024-04-01",
          "2024-05-01",
          "2024-06-01",
          "2024-07-01",
          "2024-08-01",
          "2024-09-01",
          "2024-10-01",
          "2024-11-01",
          "2024-12-01",
          "2025-01-01",
          "2025-02-01",
          "2025-03-01",
          "2025-04-01",
          "2025-05-01",
          "2025-06-01",
          "2025-07-01",
          "2025-08-01"
         ],
         "y": {
          "bdata": "uB6F61G4vr8K16NwPQq3vylcj8L1KLy/uB6F61G4vr9xPQrXo3DNvwrXo3A9Cse/CtejcD0Kt78pXI/C9Si8v+xRuB6F67G/mpmZmZmZub97FK5H4Xqkv3sUrkfheqS/mpmZmZmZqT/sUbgeheuxP3sUrkfheoS/exSuR+F6pD/sUbgehevBPylcj8L1KMw/cT0K16NwzT9xPQrXo3DNPw==",
          "dtype": "f8"
         }
        },
        {
         "name": "Food and Energy",
         "type": "bar",
         "x": [
          "2024-01-01",
          "2024-02-01",
          "2024-03-01",
          "2024-04-01",
          "2024-05-01",
          "2024-06-01",
          "2024-07-01",
          "2024-08-01",
          "2024-09-01",
          "2024-10-01",
          "2024-11-01",
          "2024-12-01",
          "2025-01-01",
          "2025-02-01",
          "2025-03-01",
          "2025-04-01",
          "2025-05-01",
          "2025-06-01",
          "2025-07-01",
          "2025-08-01"
         ],
         "y": {
          "bdata": "exSuR+F6tL97FK5H4XqEPwrXo3A9Csc/w/UoXI/CxT/hehSuR+HKPylcj8L1KLw/KVyPwvUovD+kcD0K16PAvwAAAAAAANC/w/UoXI/Cxb+amZmZmZmpv3sUrkfherQ/7FG4HoXrwT97FK5H4Xq0P3sUrkfheoS/exSuR+F6pL97FK5H4XqEv5qZmZmZmbk/uB6F61G4rj97FK5H4XrEPw==",
          "dtype": "f8"
         }
        },
        {
         "line": {
          "color": "black",
          "width": 2
         },
         "marker": {
          "size": 6
         },
         "mode": "lines+markers",
         "name": "PCE Inflation Rate",
         "type": "scatter",
         "x": [
          "2024-01-01T00:00:00.000000000",
          "2024-02-01T00:00:00.000000000",
          "2024-03-01T00:00:00.000000000",
          "2024-04-01T00:00:00.000000000",
          "2024-05-01T00:00:00.000000000",
          "2024-06-01T00:00:00.000000000",
          "2024-07-01T00:00:00.000000000",
          "2024-08-01T00:00:00.000000000",
          "2024-09-01T00:00:00.000000000",
          "2024-10-01T00:00:00.000000000",
          "2024-11-01T00:00:00.000000000",
          "2024-12-01T00:00:00.000000000",
          "2025-01-01T00:00:00.000000000",
          "2025-02-01T00:00:00.000000000",
          "2025-03-01T00:00:00.000000000",
          "2025-04-01T00:00:00.000000000",
          "2025-05-01T00:00:00.000000000",
          "2025-06-01T00:00:00.000000000",
          "2025-07-01T00:00:00.000000000",
          "2025-08-01T00:00:00.000000000"
         ],
         "y": {
          "bdata": "16NwPQqXBUD5vU1/9qMFQLEzhc5rbAdAJLn8h/SbBkBe9BWkGUsFQDPcgM8PYwRA/isrTUrBBECvmXyzzU0DQC457pQOFgJAigJ9Ik/SA0DdtYR80LMEQGxblNkg0wVAsvShC+rbBEBXsmMjEK8FQDmc+dUc4AJAKm9HOC04AkBD/wQXK6oDQKzKviuCvwRAoKaWrfXFBECu00hL5e0FQA==",
          "dtype": "f8"
         }
        }
       ],
       "layout": {
        "barmode": "relative",
        "legend": {
         "font": {
          "size": 18
         },
         "orientation": "v",
         "x": 1,
         "xanchor": "left",
         "y": 0.8,
         "yanchor": "top"
        },
        "template": {
         "data": {
          "scatter": [
           {
            "hovertemplate": "%{x|%Y-%m-%d}<br> %{y:.1f}<extra></extra>",
            "line": {
             "width": 3
            },
            "type": "scatter"
           }
          ]
         },
         "layout": {
          "colorway": [
           "#2A547E",
           "#CF8B40",
           "#879396",
           "#F7CAC9",
           "#7095cf"
          ],
          "height": 500,
          "legend": {
           "bgcolor": "rgba(0,0,0,0)",
           "borderwidth": 0,
           "font": {
            "color": "#163855",
            "family": "Cambria Bold",
            "size": 22
           },
           "orientation": "h",
           "x": 1,
           "xanchor": "right",
           "y": 1.05,
           "yanchor": "bottom"
          },
          "title": {
           "font": {
            "color": "#163855",
            "family": "Cambria Bold",
            "size": 36
           },
           "x": 0.05,
           "xanchor": "left"
          },
          "width": 1200,
          "xaxis": {
           "gridcolor": "#D3D3D3",
           "gridwidth": 0.5,
           "showgrid": true,
           "tickfont": {
            "color": "#163855",
            "family": "Cambria Bold",
            "size": 18
           },
           "title": {
            "font": {
             "color": "#163855",
             "family": "Cambria Bold",
             "size": 24
            }
           },
           "type": "date"
          },
          "yaxis": {
           "gridcolor": "#D3D3D3",
           "gridwidth": 0.5,
           "showgrid": true,
           "tickfont": {
            "color": "#163855",
            "family": "Cambria Bold",
            "size": 18
           },
           "title": {
            "font": {
             "color": "#163855",
             "family": "Cambria Bold",
             "size": 24
            }
           }
          }
         }
        },
        "title": {
         "text": "Contributions to PCE Inflation <br><sup>Monthly, Seasonally Adjusted</sup>"
        },
        "xaxis": {
         "dtick": "M4",
         "tickformat": "%b %Y",
         "title": {
          "text": "Date"
         },
         "type": "date"
        },
        "yaxis": {
         "tickformat": "0.2f%",
         "ticksuffix": "%",
         "title": {
          "text": "Change from Year Ago (%)"
         }
        }
       }
      }
     },
     "metadata": {},
     "output_type": "display_data"
    }
   ],
   "source": [
    "today = dt.date.today()\n",
    "\n",
    "contrib_df = pd.read_csv(\n",
    "    ut.get_repo_root() / \"code\" / \"data\" / \"chart1-yoy-headline-pce-contributions.csv\",\n",
    "    index_col=\"date\"\n",
    ")\n",
    "\n",
    "contrib_df = contrib_df[pd.to_datetime(contrib_df.index) >= pd.to_datetime(\"2024-01-01\")]\n",
    "\n",
    "contrib_df = contrib_df.rename(\n",
    "    columns={\n",
    "        \"Core Services exc. Housing\": \"Core Services ex Housing\",\n",
    "    }\n",
    ")\n",
    "\n",
    "headline_srs = fred.get_series(\n",
    "    series_id=\"PCEPI\",\n",
    "    observation_start=dt.date(2024, 1, 1),\n",
    "    observation_end=today,\n",
    "    frequency='m',\n",
    "    units='pc1'\n",
    ").rename(\"Headline PCE\")\n",
    "\n",
    "\n",
    "fig = go.Figure()\n",
    "\n",
    "for col in contrib_df.columns:\n",
    "    fig.add_trace(\n",
    "        go.Bar(\n",
    "            x=contrib_df.index,\n",
    "            y=contrib_df[col],\n",
    "            name=col\n",
    "        )\n",
    "    )\n",
    "\n",
    "\n",
    "fig.add_trace(\n",
    "    go.Scatter(\n",
    "        x=headline_srs.index,\n",
    "        y=headline_srs,\n",
    "        mode='lines+markers',\n",
    "        name='PCE Inflation Rate',\n",
    "        line=dict(color='black', width=2),\n",
    "        marker=dict(size=6)\n",
    "    )\n",
    ")\n",
    "\n",
    "# This is graph specific, but here we want the y-axis to be percent signs \n",
    "fig.update_yaxes(\n",
    "    tickformat=\"0.2f%\",\n",
    "    ticksuffix=\"%\"\n",
    ")\n",
    "\n",
    "# Again, graph specific, we have a mutliyear series and want tick marks to be years\n",
    "fig.update_xaxes(\n",
    "    type='date',\n",
    "    tickformat='%b %Y',\n",
    "    dtick=\"M4\"\n",
    ")\n",
    "\n",
    "fig.update_layout(\n",
    "    barmode='relative',\n",
    "    title=dict(text='Contributions to PCE Inflation <br><sup>Monthly, Seasonally Adjusted</sup>'),\n",
    "    xaxis_title='Date',\n",
    "    yaxis_title='Change from Year Ago (%)',\n",
    ")\n",
    "\n",
    "fig.update_layout(\n",
    "    legend=dict(\n",
    "        orientation=\"v\",\n",
    "        x=1,  # Move legend inside the plot area (left)\n",
    "        y=0.8,  # Near the top\n",
    "        xanchor=\"left\",\n",
    "        yanchor=\"top\",\n",
    "        font=dict(size=18)\n",
    "    )\n",
    ")\n",
    "\n",
    "# Add a label at the end of the Headline PCE Inflation series\n",
    "last_date = headline_srs.index[-1]\n",
    "last_value = headline_srs.iloc[-1]\n",
    "\n",
    "# fig.add_annotation(\n",
    "#     x=last_date,\n",
    "#     y=last_value + 0.5,\n",
    "#     text=f\"{last_value:.1f}%\",\n",
    "#     showarrow=False,\n",
    "#     ax=0,\n",
    "#     ay=-200,  # Negative ay moves annotation up (above the point)\n",
    "#     font=dict(size=12, color=\"black\"),\n",
    "#     bgcolor=\"white\",\n",
    "# )\n",
    "\n",
    "\n",
    "# This should be the same for EVERY GRAPH!\n",
    "# Save it to the graph_output folder with the name matching the file, as HTML\n",
    "fig.write_html(GRAPH_OUTPUT_PATH / f\"{GRAPH_NAME}.html\")\n",
    "\n",
    "fig.show()\n"
   ]
  },
  {
   "cell_type": "markdown",
   "id": "f36c32ec",
   "metadata": {},
   "source": [
    "5. Now that all our data is ready, make the graph and have it save itself as a .html file to graph_output whenver the notebooks is rerun. The name of the file should exactly match the notebook name. For instance, this file \"example.ipynb\" produces the graph \"example.html.\" Nice work, you made a graph! "
   ]
  }
 ],
 "metadata": {
  "kernelspec": {
   "display_name": ".venv",
   "language": "python",
   "name": "python3"
  },
  "language_info": {
   "codemirror_mode": {
    "name": "ipython",
    "version": 3
   },
   "file_extension": ".py",
   "mimetype": "text/x-python",
   "name": "python",
   "nbconvert_exporter": "python",
   "pygments_lexer": "ipython3",
   "version": "3.13.7"
  }
 },
 "nbformat": 4,
 "nbformat_minor": 5
}
