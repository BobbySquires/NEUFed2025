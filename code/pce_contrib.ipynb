{
 "cells": [
  {
   "cell_type": "markdown",
   "id": "ec9a0460",
   "metadata": {},
   "source": [
    "This notebook walks through how to make graphs in this repo. You can copy this example.ipynb and rename it for your own graphing work. <b> Please do each graph in a seperate notebook!</b>\n",
    "\n",
    "1. Import the appropriate packages. We'll use plotly.graph_objects for making all of our graphs."
   ]
  },
  {
   "cell_type": "code",
   "execution_count": 1,
   "id": "b8a83946",
   "metadata": {},
   "outputs": [],
   "source": [
    "import datetime as dt\n",
    "import plotly.graph_objects as go\n",
    "import plotly.io as pio\n",
    "import pandas as pd\n",
    "import utils.utils as ut\n",
    "import utils.graph_templates\n",
    "\n",
    "from fredapi import Fred"
   ]
  },
  {
   "cell_type": "markdown",
   "id": "533182f0",
   "metadata": {},
   "source": [
    "2. We'll get data using the fredapi package. Set the path to the text file with your API key"
   ]
  },
  {
   "cell_type": "code",
   "execution_count": 2,
   "id": "f81e1110",
   "metadata": {},
   "outputs": [],
   "source": [
    "# Call the graph the exact same thing as its notebook (minus the ipynb suffix) NAME FOR THE FILE, not the title\n",
    "GRAPH_NAME = \"pce_contrib\"\n",
    "\n",
    "API_KEY_PATH = ut.get_repo_root() / \"fred_api_key.txt\" \n",
    "\n",
    "fred = Fred(api_key_file = API_KEY_PATH)"
   ]
  },
  {
   "cell_type": "markdown",
   "id": "ee2ebb59",
   "metadata": {},
   "source": [
    "3. Set the fed_2025 template as default"
   ]
  },
  {
   "cell_type": "code",
   "execution_count": 3,
   "id": "00bbbcaa",
   "metadata": {},
   "outputs": [],
   "source": [
    "pio.templates.default = 'fed_2025'\n",
    "\n",
    "# Now is a good time to set the path to the graph output folder!\n",
    "GRAPH_OUTPUT_PATH = ut.get_repo_root() / \"figures\""
   ]
  },
  {
   "cell_type": "code",
   "execution_count": null,
   "id": "bfc2b297",
   "metadata": {},
   "outputs": [],
   "source": [
    "today = dt.date.today()\n",
    "\n",
    "contrib_df = pd.read_csv(\n",
    "    ut.get_repo_root() / \"code\" / \"data\" / \"chart1-yoy-headline-pce-contributions.csv\",\n",
    "    index_col=\"date\")\n",
    "\n",
    "\n",
    "headline_srs = fred.get_series(\n",
    "    series_id=\"PCEPI\",\n",
    "    observation_start=dt.date(2022, 1, 1),\n",
    "    observation_end=today,\n",
    "    frequency='m',\n",
    "    units='pc1'\n",
    ").rename(\"Headline PCE\")\n",
    "\n",
    "\n",
    "fig = go.Figure()\n",
    "\n",
    "for col in contrib_df.columns:\n",
    "    fig.add_trace(\n",
    "        go.Bar(\n",
    "            x=contrib_df.index,\n",
    "            y=contrib_df[col],\n",
    "            name=col\n",
    "        )\n",
    "    )\n",
    "\n",
    "\n",
    "fig.add_trace(\n",
    "    go.Scatter(\n",
    "        x=headline_srs.index,\n",
    "        y=headline_srs,\n",
    "        mode='lines+markers',\n",
    "        name='PCE Inflation Rate',\n",
    "        line=dict(color='black', width=2),\n",
    "        marker=dict(size=6)\n",
    "    )\n",
    ")\n",
    "\n",
    "# This is graph specific, but here we want the y-axis to be percent signs \n",
    "fig.update_yaxes(\n",
    "    tickformat=\"0.2f%\",\n",
    "    ticksuffix=\"%\"\n",
    ")\n",
    "\n",
    "# Again, graph specific, we have a mutliyear series and want tick marks to be years\n",
    "fig.update_xaxes(\n",
    "    type='date',\n",
    "    tickformat='%b %Y',\n",
    ")\n",
    "\n",
    "fig.update_layout(\n",
    "    barmode='relative',\n",
    "    title=dict(text='Contributions to PCE Inflation'),\n",
    "    xaxis_title='Date',\n",
    "    yaxis_title='Change from Year Ago (%)',\n",
    ")\n",
    "\n",
    "fig.update_layout(\n",
    "    legend=dict(\n",
    "        orientation=\"v\",\n",
    "        x=.7,  # Move legend inside the plot area (left)\n",
    "        y=1.05,  # Near the top\n",
    "        xanchor=\"left\",\n",
    "        yanchor=\"top\",\n",
    "    )\n",
    ")\n",
    "\n",
    "# Add a label at the end of the Headline PCE Inflation series\n",
    "last_date = headline_srs.index[-1]\n",
    "last_value = headline_srs.iloc[-1]\n",
    "\n",
    "fig.add_annotation(\n",
    "    x=last_date,\n",
    "    y=last_value + 0.5,\n",
    "    text=f\"{last_value:.1f}%\",\n",
    "    showarrow=False,\n",
    "    ax=0,\n",
    "    ay=-200,  # Negative ay moves annotation up (above the point)\n",
    "    font=dict(size=12, color=\"black\"),\n",
    "    bgcolor=\"white\",\n",
    ")\n",
    "\n",
    "\n",
    "# This should be the same for EVERY GRAPH!\n",
    "# Save it to the graph_output folder with the name matching the file, as HTML\n",
    "fig.write_html(GRAPH_OUTPUT_PATH / f\"{GRAPH_NAME}.html\")\n",
    "\n",
    "fig.show()\n"
   ]
  },
  {
   "cell_type": "markdown",
   "id": "f36c32ec",
   "metadata": {},
   "source": [
    "5. Now that all our data is ready, make the graph and have it save itself as a .html file to graph_output whenver the notebooks is rerun. The name of the file should exactly match the notebook name. For instance, this file \"example.ipynb\" produces the graph \"example.html.\" Nice work, you made a graph! "
   ]
  }
 ],
 "metadata": {
  "kernelspec": {
   "display_name": ".venv",
   "language": "python",
   "name": "python3"
  },
  "language_info": {
   "codemirror_mode": {
    "name": "ipython",
    "version": 3
   },
   "file_extension": ".py",
   "mimetype": "text/x-python",
   "name": "python",
   "nbconvert_exporter": "python",
   "pygments_lexer": "ipython3",
   "version": "3.13.7"
  }
 },
 "nbformat": 4,
 "nbformat_minor": 5
}
