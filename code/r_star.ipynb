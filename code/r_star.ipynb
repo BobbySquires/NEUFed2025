{
 "cells": [
  {
   "cell_type": "code",
   "execution_count": 1,
   "id": "b8a83946",
   "metadata": {},
   "outputs": [],
   "source": [
    "import datetime as dt\n",
    "import plotly.graph_objects as go\n",
    "import plotly.io as pio\n",
    "import pandas as pd\n",
    "import utils.utils as ut\n",
    "import utils.graph_templates\n",
    "\n",
    "from fredapi import Fred"
   ]
  },
  {
   "cell_type": "code",
   "execution_count": 2,
   "id": "f81e1110",
   "metadata": {},
   "outputs": [],
   "source": [
    "# Call the graph the exact same thing as its notebook (minus the ipynb suffix)\n",
    "GRAPH_NAME = \"r_star\"\n",
    "\n",
    "API_KEY_PATH = ut.get_repo_root() / \"fred_api_key.txt\" \n",
    "\n",
    "fred = Fred(api_key_file = API_KEY_PATH)"
   ]
  },
  {
   "cell_type": "code",
   "execution_count": 3,
   "id": "00bbbcaa",
   "metadata": {},
   "outputs": [],
   "source": [
    "pio.templates.default = 'fed_2025'\n",
    "\n",
    "# Now is a good time to set the path to the graph output folder!\n",
    "GRAPH_OUTPUT_PATH = ut.get_repo_root() / \"figures\""
   ]
  },
  {
   "cell_type": "code",
   "execution_count": 4,
   "id": "d02adea9",
   "metadata": {},
   "outputs": [
    {
     "data": {
      "text/plain": [
       "WindowsPath('C:/Users/Bobby/Desktop/Fed Challenge 2025/NEUFed2025/figures')"
      ]
     },
     "execution_count": 4,
     "metadata": {},
     "output_type": "execute_result"
    }
   ],
   "source": [
    "GRAPH_OUTPUT_PATH"
   ]
  },
  {
   "cell_type": "code",
   "execution_count": 5,
   "id": "5934d6c9",
   "metadata": {},
   "outputs": [
    {
     "data": {
      "text/plain": [
       "Date\n",
       "2024-04-01    0.857796\n",
       "2024-07-01    0.819237\n",
       "2024-10-01    0.825803\n",
       "2025-01-01    0.792333\n",
       "2025-04-01    0.839838\n",
       "Name: HLW Model R* (Quarterly), dtype: float64"
      ]
     },
     "execution_count": 5,
     "metadata": {},
     "output_type": "execute_result"
    }
   ],
   "source": [
    "today = dt.date.today()\n",
    "\n",
    "hlb_df = pd.read_excel(ut.get_repo_root() / \"code\" / \"data\" / \"hlb_2.xlsx\")\n",
    "\n",
    "r_star = hlb_df.set_index(pd.to_datetime(hlb_df[\"Date\"]))['Natural Rate (r*)'].rename(\"HLW Model R* (Quarterly)\")\n",
    "\n",
    "r_star.tail()\n"
   ]
  },
  {
   "cell_type": "code",
   "execution_count": 6,
   "id": "3b6d96a3",
   "metadata": {},
   "outputs": [
    {
     "name": "stderr",
     "output_type": "stream",
     "text": [
      "C:\\Users\\Bobby\\AppData\\Local\\Temp\\ipykernel_2236\\727116476.py:29: FutureWarning: DataFrame.fillna with 'method' is deprecated and will raise in a future version. Use obj.ffill() or obj.bfill() instead.\n",
      "  ).fillna(method='ffill')\n"
     ]
    },
    {
     "data": {
      "text/html": [
       "<div>\n",
       "<style scoped>\n",
       "    .dataframe tbody tr th:only-of-type {\n",
       "        vertical-align: middle;\n",
       "    }\n",
       "\n",
       "    .dataframe tbody tr th {\n",
       "        vertical-align: top;\n",
       "    }\n",
       "\n",
       "    .dataframe thead th {\n",
       "        text-align: right;\n",
       "    }\n",
       "</style>\n",
       "<table border=\"1\" class=\"dataframe\">\n",
       "  <thead>\n",
       "    <tr style=\"text-align: right;\">\n",
       "      <th></th>\n",
       "      <th>Fisher Implied Real Rate</th>\n",
       "      <th>HLW Model R* (Quarterly)</th>\n",
       "      <th>Cleveland Fed Estimated 1 Month Real Interest Rate</th>\n",
       "    </tr>\n",
       "  </thead>\n",
       "  <tbody>\n",
       "    <tr>\n",
       "      <th>2023-01-01</th>\n",
       "      <td>-1.17773</td>\n",
       "      <td>1.184529</td>\n",
       "      <td>1.817899</td>\n",
       "    </tr>\n",
       "    <tr>\n",
       "      <th>2023-02-01</th>\n",
       "      <td>-0.62780</td>\n",
       "      <td>1.184529</td>\n",
       "      <td>1.982413</td>\n",
       "    </tr>\n",
       "    <tr>\n",
       "      <th>2023-03-01</th>\n",
       "      <td>0.22173</td>\n",
       "      <td>1.184529</td>\n",
       "      <td>4.151604</td>\n",
       "    </tr>\n",
       "    <tr>\n",
       "      <th>2023-04-01</th>\n",
       "      <td>0.35399</td>\n",
       "      <td>1.050807</td>\n",
       "      <td>1.845097</td>\n",
       "    </tr>\n",
       "    <tr>\n",
       "      <th>2023-05-01</th>\n",
       "      <td>1.04654</td>\n",
       "      <td>1.050807</td>\n",
       "      <td>1.607673</td>\n",
       "    </tr>\n",
       "    <tr>\n",
       "      <th>2023-06-01</th>\n",
       "      <td>1.79548</td>\n",
       "      <td>1.050807</td>\n",
       "      <td>6.004632</td>\n",
       "    </tr>\n",
       "    <tr>\n",
       "      <th>2023-07-01</th>\n",
       "      <td>1.71096</td>\n",
       "      <td>0.981644</td>\n",
       "      <td>2.854389</td>\n",
       "    </tr>\n",
       "    <tr>\n",
       "      <th>2023-08-01</th>\n",
       "      <td>1.89794</td>\n",
       "      <td>0.981644</td>\n",
       "      <td>3.100313</td>\n",
       "    </tr>\n",
       "    <tr>\n",
       "      <th>2023-09-01</th>\n",
       "      <td>1.88111</td>\n",
       "      <td>0.981644</td>\n",
       "      <td>2.492336</td>\n",
       "    </tr>\n",
       "    <tr>\n",
       "      <th>2023-10-01</th>\n",
       "      <td>2.30674</td>\n",
       "      <td>0.864953</td>\n",
       "      <td>3.005341</td>\n",
       "    </tr>\n",
       "    <tr>\n",
       "      <th>2023-11-01</th>\n",
       "      <td>2.56491</td>\n",
       "      <td>0.864953</td>\n",
       "      <td>2.907568</td>\n",
       "    </tr>\n",
       "    <tr>\n",
       "      <th>2023-12-01</th>\n",
       "      <td>2.56273</td>\n",
       "      <td>0.864953</td>\n",
       "      <td>1.538694</td>\n",
       "    </tr>\n",
       "    <tr>\n",
       "      <th>2024-01-01</th>\n",
       "      <td>2.63125</td>\n",
       "      <td>0.890725</td>\n",
       "      <td>3.511612</td>\n",
       "    </tr>\n",
       "    <tr>\n",
       "      <th>2024-02-01</th>\n",
       "      <td>2.62494</td>\n",
       "      <td>0.890725</td>\n",
       "      <td>3.459697</td>\n",
       "    </tr>\n",
       "    <tr>\n",
       "      <th>2024-03-01</th>\n",
       "      <td>2.40206</td>\n",
       "      <td>0.890725</td>\n",
       "      <td>4.826518</td>\n",
       "    </tr>\n",
       "    <tr>\n",
       "      <th>2024-04-01</th>\n",
       "      <td>2.50385</td>\n",
       "      <td>0.857796</td>\n",
       "      <td>2.952099</td>\n",
       "    </tr>\n",
       "    <tr>\n",
       "      <th>2024-05-01</th>\n",
       "      <td>2.66833</td>\n",
       "      <td>0.857796</td>\n",
       "      <td>2.430667</td>\n",
       "    </tr>\n",
       "    <tr>\n",
       "      <th>2024-06-01</th>\n",
       "      <td>2.78163</td>\n",
       "      <td>0.857796</td>\n",
       "      <td>3.148367</td>\n",
       "    </tr>\n",
       "    <tr>\n",
       "      <th>2024-07-01</th>\n",
       "      <td>2.73562</td>\n",
       "      <td>0.819237</td>\n",
       "      <td>3.594346</td>\n",
       "    </tr>\n",
       "    <tr>\n",
       "      <th>2024-08-01</th>\n",
       "      <td>2.91701</td>\n",
       "      <td>0.819237</td>\n",
       "      <td>3.831590</td>\n",
       "    </tr>\n",
       "    <tr>\n",
       "      <th>2024-09-01</th>\n",
       "      <td>2.86923</td>\n",
       "      <td>0.819237</td>\n",
       "      <td>3.815313</td>\n",
       "    </tr>\n",
       "    <tr>\n",
       "      <th>2024-10-01</th>\n",
       "      <td>2.35231</td>\n",
       "      <td>0.825803</td>\n",
       "      <td>3.146818</td>\n",
       "    </tr>\n",
       "    <tr>\n",
       "      <th>2024-11-01</th>\n",
       "      <td>2.06220</td>\n",
       "      <td>0.825803</td>\n",
       "      <td>2.762470</td>\n",
       "    </tr>\n",
       "    <tr>\n",
       "      <th>2024-12-01</th>\n",
       "      <td>1.75191</td>\n",
       "      <td>0.825803</td>\n",
       "      <td>2.088457</td>\n",
       "    </tr>\n",
       "    <tr>\n",
       "      <th>2025-01-01</th>\n",
       "      <td>1.72262</td>\n",
       "      <td>0.792333</td>\n",
       "      <td>2.068278</td>\n",
       "    </tr>\n",
       "    <tr>\n",
       "      <th>2025-02-01</th>\n",
       "      <td>1.61952</td>\n",
       "      <td>0.792333</td>\n",
       "      <td>1.593693</td>\n",
       "    </tr>\n",
       "    <tr>\n",
       "      <th>2025-03-01</th>\n",
       "      <td>1.97057</td>\n",
       "      <td>0.792333</td>\n",
       "      <td>3.347145</td>\n",
       "    </tr>\n",
       "    <tr>\n",
       "      <th>2025-04-01</th>\n",
       "      <td>2.05257</td>\n",
       "      <td>0.839838</td>\n",
       "      <td>0.976180</td>\n",
       "    </tr>\n",
       "    <tr>\n",
       "      <th>2025-05-01</th>\n",
       "      <td>1.87191</td>\n",
       "      <td>0.839838</td>\n",
       "      <td>1.583730</td>\n",
       "    </tr>\n",
       "    <tr>\n",
       "      <th>2025-06-01</th>\n",
       "      <td>1.73649</td>\n",
       "      <td>0.839838</td>\n",
       "      <td>2.551218</td>\n",
       "    </tr>\n",
       "    <tr>\n",
       "      <th>2025-07-01</th>\n",
       "      <td>1.73334</td>\n",
       "      <td>0.839838</td>\n",
       "      <td>1.049389</td>\n",
       "    </tr>\n",
       "    <tr>\n",
       "      <th>2025-08-01</th>\n",
       "      <td>1.58884</td>\n",
       "      <td>0.839838</td>\n",
       "      <td>1.421817</td>\n",
       "    </tr>\n",
       "    <tr>\n",
       "      <th>2025-09-01</th>\n",
       "      <td>1.58884</td>\n",
       "      <td>0.839838</td>\n",
       "      <td>1.191278</td>\n",
       "    </tr>\n",
       "  </tbody>\n",
       "</table>\n",
       "</div>"
      ],
      "text/plain": [
       "            Fisher Implied Real Rate   HLW Model R* (Quarterly)  \\\n",
       "2023-01-01                   -1.17773                  1.184529   \n",
       "2023-02-01                   -0.62780                  1.184529   \n",
       "2023-03-01                    0.22173                  1.184529   \n",
       "2023-04-01                    0.35399                  1.050807   \n",
       "2023-05-01                    1.04654                  1.050807   \n",
       "2023-06-01                    1.79548                  1.050807   \n",
       "2023-07-01                    1.71096                  0.981644   \n",
       "2023-08-01                    1.89794                  0.981644   \n",
       "2023-09-01                    1.88111                  0.981644   \n",
       "2023-10-01                    2.30674                  0.864953   \n",
       "2023-11-01                    2.56491                  0.864953   \n",
       "2023-12-01                    2.56273                  0.864953   \n",
       "2024-01-01                    2.63125                  0.890725   \n",
       "2024-02-01                    2.62494                  0.890725   \n",
       "2024-03-01                    2.40206                  0.890725   \n",
       "2024-04-01                    2.50385                  0.857796   \n",
       "2024-05-01                    2.66833                  0.857796   \n",
       "2024-06-01                    2.78163                  0.857796   \n",
       "2024-07-01                    2.73562                  0.819237   \n",
       "2024-08-01                    2.91701                  0.819237   \n",
       "2024-09-01                    2.86923                  0.819237   \n",
       "2024-10-01                    2.35231                  0.825803   \n",
       "2024-11-01                    2.06220                  0.825803   \n",
       "2024-12-01                    1.75191                  0.825803   \n",
       "2025-01-01                    1.72262                  0.792333   \n",
       "2025-02-01                    1.61952                  0.792333   \n",
       "2025-03-01                    1.97057                  0.792333   \n",
       "2025-04-01                    2.05257                  0.839838   \n",
       "2025-05-01                    1.87191                  0.839838   \n",
       "2025-06-01                    1.73649                  0.839838   \n",
       "2025-07-01                    1.73334                  0.839838   \n",
       "2025-08-01                    1.58884                  0.839838   \n",
       "2025-09-01                    1.58884                  0.839838   \n",
       "\n",
       "            Cleveland Fed Estimated 1 Month Real Interest Rate  \n",
       "2023-01-01                                           1.817899   \n",
       "2023-02-01                                           1.982413   \n",
       "2023-03-01                                           4.151604   \n",
       "2023-04-01                                           1.845097   \n",
       "2023-05-01                                           1.607673   \n",
       "2023-06-01                                           6.004632   \n",
       "2023-07-01                                           2.854389   \n",
       "2023-08-01                                           3.100313   \n",
       "2023-09-01                                           2.492336   \n",
       "2023-10-01                                           3.005341   \n",
       "2023-11-01                                           2.907568   \n",
       "2023-12-01                                           1.538694   \n",
       "2024-01-01                                           3.511612   \n",
       "2024-02-01                                           3.459697   \n",
       "2024-03-01                                           4.826518   \n",
       "2024-04-01                                           2.952099   \n",
       "2024-05-01                                           2.430667   \n",
       "2024-06-01                                           3.148367   \n",
       "2024-07-01                                           3.594346   \n",
       "2024-08-01                                           3.831590   \n",
       "2024-09-01                                           3.815313   \n",
       "2024-10-01                                           3.146818   \n",
       "2024-11-01                                           2.762470   \n",
       "2024-12-01                                           2.088457   \n",
       "2025-01-01                                           2.068278   \n",
       "2025-02-01                                           1.593693   \n",
       "2025-03-01                                           3.347145   \n",
       "2025-04-01                                           0.976180   \n",
       "2025-05-01                                           1.583730   \n",
       "2025-06-01                                           2.551218   \n",
       "2025-07-01                                           1.049389   \n",
       "2025-08-01                                           1.421817   \n",
       "2025-09-01                                           1.191278   "
      ]
     },
     "execution_count": 6,
     "metadata": {},
     "output_type": "execute_result"
    }
   ],
   "source": [
    "today = dt.date.today()\n",
    "\n",
    "effr = fred.get_series(\n",
    "    series_id=\"EFFR\",\n",
    "    observation_start=dt.date(2019, 1, 1),\n",
    "    observation_end=today,\n",
    "    frequency='m',\n",
    ").rename(\"Fed Funds\")\n",
    "\n",
    "pce = fred.get_series(\n",
    "    series_id=\"PCEPI\",\n",
    "    observation_start=dt.date(2019, 1, 1),\n",
    "    observation_end=today,\n",
    "    units='pc1'\n",
    ").rename(\"PCE\")\n",
    "\n",
    "clv_fed = fred.get_series(\n",
    "    series_id=\"REAINTRATREARAT1MO\",\n",
    "    observation_start=dt.date(2019, 1, 1),\n",
    "    observation_end=today,\n",
    ").rename(\"Cleveland Fed Estimated 1 Month Real Interest Rate\")\n",
    "\n",
    "real = (effr - pce).dropna().rename('Fisher Implied Real Rate ')\n",
    "\n",
    "joined_df = pd.concat(\n",
    "    [real, r_star, clv_fed],\n",
    "    axis = 1,\n",
    "    join='outer'\n",
    ").fillna(method='ffill')\n",
    "\n",
    "joined_df = joined_df[joined_df.index >= '2023-01-01']\n",
    "joined_df\n"
   ]
  },
  {
   "cell_type": "markdown",
   "id": "f36c32ec",
   "metadata": {},
   "source": [
    "5. Now that all our data is ready, make the graph and have it save itself as a .html file to graph_output whenver the notebooks is rerun. The name of the file should exactly match the notebook name. For instance, this file \"example.ipynb\" produces the graph \"example.html.\" Nice work, you made a graph! "
   ]
  },
  {
   "cell_type": "code",
   "execution_count": 21,
   "id": "8d83fc29",
   "metadata": {},
   "outputs": [
    {
     "data": {
      "application/vnd.plotly.v1+json": {
       "config": {
        "plotlyServerURL": "https://plot.ly"
       },
       "data": [
        {
         "mode": "lines",
         "name": "Fisher Implied Real Rate ",
         "type": "scatter",
         "x": [
          "2023-01-01T00:00:00",
          "2023-02-01T00:00:00",
          "2023-03-01T00:00:00",
          "2023-04-01T00:00:00",
          "2023-05-01T00:00:00",
          "2023-06-01T00:00:00",
          "2023-07-01T00:00:00",
          "2023-08-01T00:00:00",
          "2023-09-01T00:00:00",
          "2023-10-01T00:00:00",
          "2023-11-01T00:00:00",
          "2023-12-01T00:00:00",
          "2024-01-01T00:00:00",
          "2024-02-01T00:00:00",
          "2024-03-01T00:00:00",
          "2024-04-01T00:00:00",
          "2024-05-01T00:00:00",
          "2024-06-01T00:00:00",
          "2024-07-01T00:00:00",
          "2024-08-01T00:00:00",
          "2024-09-01T00:00:00",
          "2024-10-01T00:00:00",
          "2024-11-01T00:00:00",
          "2024-12-01T00:00:00",
          "2025-01-01T00:00:00",
          "2025-02-01T00:00:00",
          "2025-03-01T00:00:00",
          "2025-04-01T00:00:00",
          "2025-05-01T00:00:00",
          "2025-06-01T00:00:00",
          "2025-07-01T00:00:00",
          "2025-08-01T00:00:00",
          "2025-09-01T00:00:00"
         ],
         "y": {
          "bdata": "DEqYafvX8r+4uI0G8Bbkv+BiRQ2mYcw/UBtHrMWn1j8gSx+6oL7wPwr0iTxJuvw/ADrMlxdg+z/oUlxV9l3+P2LboswGGf4/FQDjGTR0AkCGd7mI74QEQBzTE5Z4gARAzczMzMwMBUCrsu+K4P8EQPM8uDtrNwNAgLdAguIHBEBGfCdmvVgFQHGUvDrHQAZApkQSvYziBUD11sBWCVYHQNydtdsu9AZAGm7A54fRAkBXfa62Yn8AQNiQuMfSB/w/5Pc2/dmP+z+afLPNjen5P9aoh2h0h/8/egH20alrAEDC4nDmV/P9P/BL/bypyPs/CJRNucK7+z/sOel942v5P+w56X3ja/k/",
          "dtype": "f8"
         }
        },
        {
         "mode": "lines",
         "name": "HLW Model R* (Quarterly)",
         "type": "scatter",
         "x": [
          "2023-01-01T00:00:00",
          "2023-02-01T00:00:00",
          "2023-03-01T00:00:00",
          "2023-04-01T00:00:00",
          "2023-05-01T00:00:00",
          "2023-06-01T00:00:00",
          "2023-07-01T00:00:00",
          "2023-08-01T00:00:00",
          "2023-09-01T00:00:00",
          "2023-10-01T00:00:00",
          "2023-11-01T00:00:00",
          "2023-12-01T00:00:00",
          "2024-01-01T00:00:00",
          "2024-02-01T00:00:00",
          "2024-03-01T00:00:00",
          "2024-04-01T00:00:00",
          "2024-05-01T00:00:00",
          "2024-06-01T00:00:00",
          "2024-07-01T00:00:00",
          "2024-08-01T00:00:00",
          "2024-09-01T00:00:00",
          "2024-10-01T00:00:00",
          "2024-11-01T00:00:00",
          "2024-12-01T00:00:00",
          "2025-01-01T00:00:00",
          "2025-02-01T00:00:00",
          "2025-03-01T00:00:00",
          "2025-04-01T00:00:00",
          "2025-05-01T00:00:00",
          "2025-06-01T00:00:00",
          "2025-07-01T00:00:00",
          "2025-08-01T00:00:00",
          "2025-09-01T00:00:00"
         ],
         "y": {
          "bdata": "OvWAA9Xz8j869YAD1fPyPzr1gAPV8/I/Kw03phrQ8D8rDTemGtDwPysNN6Ya0PA/fBq/VqBp7z98Gr9WoGnvP3wav1agae8/X8N+/bCt6z9fw379sK3rP1/Dfv2wres/5aEwiNGA7D/loTCI0YDsP+WhMIjRgOw/JC5flw9z6z8kLl+XD3PrPyQuX5cPc+s/9j8SUTA36j/2PxJRMDfqP/Y/ElEwN+o/AlG7yfls6j8CUbvJ+WzqPwJRu8n5bOo/mqrNH8ta6T+aqs0fy1rpP5qqzR/LWuk/5uSN/vPf6j/m5I3+89/qP+bkjf7z3+o/5uSN/vPf6j/m5I3+89/qP+bkjf7z3+o/",
          "dtype": "f8"
         }
        },
        {
         "mode": "lines",
         "name": "Cleveland Fed Estimated 1 Month Real Interest Rate",
         "type": "scatter",
         "x": [
          "2023-01-01T00:00:00",
          "2023-02-01T00:00:00",
          "2023-03-01T00:00:00",
          "2023-04-01T00:00:00",
          "2023-05-01T00:00:00",
          "2023-06-01T00:00:00",
          "2023-07-01T00:00:00",
          "2023-08-01T00:00:00",
          "2023-09-01T00:00:00",
          "2023-10-01T00:00:00",
          "2023-11-01T00:00:00",
          "2023-12-01T00:00:00",
          "2024-01-01T00:00:00",
          "2024-02-01T00:00:00",
          "2024-03-01T00:00:00",
          "2024-04-01T00:00:00",
          "2024-05-01T00:00:00",
          "2024-06-01T00:00:00",
          "2024-07-01T00:00:00",
          "2024-08-01T00:00:00",
          "2024-09-01T00:00:00",
          "2024-10-01T00:00:00",
          "2024-11-01T00:00:00",
          "2024-12-01T00:00:00",
          "2025-01-01T00:00:00",
          "2025-02-01T00:00:00",
          "2025-03-01T00:00:00",
          "2025-04-01T00:00:00",
          "2025-05-01T00:00:00",
          "2025-06-01T00:00:00",
          "2025-07-01T00:00:00",
          "2025-08-01T00:00:00",
          "2025-09-01T00:00:00"
         ],
         "y": {
          "bdata": "OLBmrh0W/T9AssqW9rf/P8LIgQ0+mxBABFIHHoSF/T+XwFICB7n5P2MFZFS+BBhAyF2EKcrVBkD2zaIccc0IQLQRmQNO8ANAhYsmYfAKCEDgHc8ds0IHQHKqEOp9nvg/lPTV+scXDEBZmxCEda0LQLRC7KdaThNAH1vgPOadB0BZz/9hAXIDQLqM9tPaLwlABywURDjBDEBZf5WNGKcOQGHzu/rChQ5Aocofwq4sCUC6jWGpiRkGQHTRkPEotQBAn0N0Y9WLAEBC7n0FxH/5PzDdf7/zxgpA2+Cfrd487z/0GrtE9Vb5P6mgRzHlaARA32hsVEzK8D8HTJZJw7/2P2gO/595D/M/",
          "dtype": "f8"
         }
        },
        {
         "hoverinfo": "skip",
         "marker": {
          "color": "#2A547E",
          "size": 8,
          "symbol": "circle"
         },
         "mode": "markers",
         "showlegend": false,
         "type": "scatter",
         "x": [
          1756684800000000000
         ],
         "y": [
          1.5888400000000003
         ],
         "zorder": 3
        },
        {
         "hoverinfo": "skip",
         "marker": {
          "color": "#CF8B40",
          "size": 8,
          "symbol": "circle"
         },
         "mode": "markers",
         "showlegend": false,
         "type": "scatter",
         "x": [
          1756684800000000000
         ],
         "y": [
          0.839838025261227
         ],
         "zorder": 3
        },
        {
         "hoverinfo": "skip",
         "marker": {
          "color": "#879396",
          "size": 8,
          "symbol": "circle"
         },
         "mode": "markers",
         "showlegend": false,
         "type": "scatter",
         "x": [
          1756684800000000000
         ],
         "y": [
          1.1912781
         ],
         "zorder": 3
        }
       ],
       "layout": {
        "annotations": [
         {
          "showarrow": false,
          "text": "Sep. SEP Fisher-Implied R*: 1%</br>",
          "x": 0,
          "xanchor": "left",
          "xref": "x domain",
          "y": 1,
          "yanchor": "top",
          "yref": "y"
         },
         {
          "font": {
           "color": "#2A547E"
          },
          "showarrow": false,
          "text": "1.6",
          "x": "2025-09-01T00:00:00",
          "xanchor": "left",
          "xshift": 6,
          "y": 1.7935770000000002,
          "yanchor": "middle"
         },
         {
          "font": {
           "color": "#CF8B40"
          },
          "showarrow": false,
          "text": "0.8",
          "x": "2025-09-01T00:00:00",
          "xanchor": "left",
          "xshift": 6,
          "y": 0.8594478318737427,
          "yanchor": "middle"
         },
         {
          "font": {
           "color": "#879396"
          },
          "showarrow": false,
          "text": "1.2",
          "x": "2025-09-01T00:00:00",
          "xanchor": "left",
          "xshift": 6,
          "y": 1.4427006949999999,
          "yanchor": "middle"
         }
        ],
        "height": 550,
        "legend": {
         "font": {
          "size": 20
         },
         "orientation": "v"
        },
        "shapes": [
         {
          "line": {
           "color": "red",
           "dash": "dash"
          },
          "type": "line",
          "x0": 0,
          "x1": 1,
          "xref": "x domain",
          "y0": 1,
          "y1": 1,
          "yref": "y"
         }
        ],
        "template": {
         "data": {
          "scatter": [
           {
            "hovertemplate": "%{x|%Y-%m-%d}<br> %{y:.1f}<extra></extra>",
            "line": {
             "width": 3
            },
            "type": "scatter"
           }
          ]
         },
         "layout": {
          "colorway": [
           "#2A547E",
           "#CF8B40",
           "#879396",
           "#F7CAC9",
           "#7095cf"
          ],
          "height": 500,
          "legend": {
           "bgcolor": "rgba(0,0,0,0)",
           "borderwidth": 0,
           "font": {
            "color": "#163855",
            "family": "Cambria Bold",
            "size": 22
           },
           "orientation": "h",
           "x": 1,
           "xanchor": "right",
           "y": 1.05,
           "yanchor": "bottom"
          },
          "title": {
           "font": {
            "color": "#163855",
            "family": "Cambria Bold",
            "size": 36
           },
           "x": 0.05,
           "xanchor": "left"
          },
          "width": 1200,
          "xaxis": {
           "gridcolor": "#D3D3D3",
           "gridwidth": 0.5,
           "showgrid": true,
           "tickfont": {
            "color": "#163855",
            "family": "Cambria Bold",
            "size": 18
           },
           "title": {
            "font": {
             "color": "#163855",
             "family": "Cambria Bold",
             "size": 24
            }
           },
           "type": "date"
          },
          "yaxis": {
           "gridcolor": "#D3D3D3",
           "gridwidth": 0.5,
           "showgrid": true,
           "tickfont": {
            "color": "#163855",
            "family": "Cambria Bold",
            "size": 18
           },
           "title": {
            "font": {
             "color": "#163855",
             "family": "Cambria Bold",
             "size": 24
            }
           }
          }
         }
        },
        "title": {
         "text": "R* and Real Rates Estimates<br><sup>Monthly </sup>"
        },
        "width": 1150,
        "xaxis": {
         "dtick": "M12",
         "tickformat": "%Y",
         "title": {},
         "type": "date"
        },
        "yaxis": {
         "tickformat": ".2f%",
         "ticksuffix": "%",
         "title": {
          "text": "Change (%)"
         }
        }
       }
      }
     },
     "metadata": {},
     "output_type": "display_data"
    }
   ],
   "source": [
    "import numpy as np\n",
    "\n",
    "# First make the figure\n",
    "fig = go.Figure()\n",
    "\n",
    "\n",
    "# Loop the columns of the dataframe and plot each as a separate trace\n",
    "for col in joined_df.columns:\n",
    "    fig.add_trace(\n",
    "        go.Scatter(\n",
    "            x=joined_df.index,\n",
    "            y=joined_df[col],\n",
    "            mode='lines',\n",
    "            name=col\n",
    "        )\n",
    "    )\n",
    "\n",
    "# Update the titles, using the html tage <sup> for a subtitle \n",
    "fig.update_layout(\n",
    "    title = dict(text = 'R* and Real Rates Estimates<br><sup>Monthly </sup>'),\n",
    "    xaxis_title=\"Date\",\n",
    "    yaxis_title=\"Change (%)\",\n",
    ")\n",
    "\n",
    "# This is graph specific, but here we want the y-axis to be percent signs \n",
    "fig.update_yaxes(\n",
    "    tickformat=\".2f%\",\n",
    "    ticksuffix=\"%\",\n",
    ")\n",
    "\n",
    "# Again, graph specific, we have a mutliyear series and want tick marks to be years\n",
    "fig.update_xaxes(\n",
    "    type='date',\n",
    "    dtick='M12',\n",
    "    tickformat='%Y',\n",
    "    title_text=None,\n",
    ")\n",
    "\n",
    "fig.update_layout(\n",
    "    height=550,\n",
    "    width=1150,\n",
    "        legend=dict(\n",
    "            orientation='v'\n",
    "        )\n",
    ")\n",
    "\n",
    "fig.add_hline(\n",
    "    y=1,\n",
    "    line_dash=\"dash\",\n",
    "    line_color=\"red\",\n",
    "    annotation_text=\"Sep. SEP Fisher-Implied R*: 1%</br>\",\n",
    "    annotation_position=\"bottom left\"\n",
    ")\n",
    "\n",
    "ut.add_end_labels(fig = fig, offset=0.05)\n",
    "\n",
    "fig.update_layout(legend=dict(font=dict(size=20)))\n",
    "\n",
    "# Show our figure (Dimensions may be off on different screen sizes)\n",
    "fig.show()\n",
    "\n",
    "# This should be the same for EVERY GRAPH!\n",
    "# Save it to the graph_output folder with the name matching the file, as HTML\n",
    "fig.write_html(GRAPH_OUTPUT_PATH / f\"{GRAPH_NAME}.html\")"
   ]
  }
 ],
 "metadata": {
  "kernelspec": {
   "display_name": ".venv",
   "language": "python",
   "name": "python3"
  },
  "language_info": {
   "codemirror_mode": {
    "name": "ipython",
    "version": 3
   },
   "file_extension": ".py",
   "mimetype": "text/x-python",
   "name": "python",
   "nbconvert_exporter": "python",
   "pygments_lexer": "ipython3",
   "version": "3.13.7"
  }
 },
 "nbformat": 4,
 "nbformat_minor": 5
}
