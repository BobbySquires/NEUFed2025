{
 "cells": [
  {
   "cell_type": "code",
   "execution_count": 1,
   "id": "b8a83946",
   "metadata": {},
   "outputs": [],
   "source": [
    "import datetime as dt\n",
    "import plotly.graph_objects as go\n",
    "import plotly.io as pio\n",
    "import pandas as pd\n",
    "import utils.utils as ut\n",
    "import utils.graph_templates\n",
    "\n",
    "from fredapi import Fred"
   ]
  },
  {
   "cell_type": "code",
   "execution_count": 2,
   "id": "f81e1110",
   "metadata": {},
   "outputs": [],
   "source": [
    "# Call the graph the exact same thing as its notebook (minus the ipynb suffix)\n",
    "GRAPH_NAME = \"r_star\"\n",
    "\n",
    "API_KEY_PATH = ut.get_repo_root() / \"fred_api_key.txt\" \n",
    "\n",
    "fred = Fred(api_key_file = API_KEY_PATH)"
   ]
  },
  {
   "cell_type": "code",
   "execution_count": 3,
   "id": "00bbbcaa",
   "metadata": {},
   "outputs": [],
   "source": [
    "pio.templates.default = 'fed_2025'\n",
    "\n",
    "# Now is a good time to set the path to the graph output folder!\n",
    "GRAPH_OUTPUT_PATH = ut.get_repo_root() / \"figures\""
   ]
  },
  {
   "cell_type": "code",
   "execution_count": 4,
   "id": "d02adea9",
   "metadata": {},
   "outputs": [
    {
     "data": {
      "text/plain": [
       "WindowsPath('C:/Users/Bobby/Desktop/Fed Challenge 2025/NEUFed2025/figures')"
      ]
     },
     "execution_count": 4,
     "metadata": {},
     "output_type": "execute_result"
    }
   ],
   "source": [
    "GRAPH_OUTPUT_PATH"
   ]
  },
  {
   "cell_type": "code",
   "execution_count": 5,
   "id": "5934d6c9",
   "metadata": {},
   "outputs": [
    {
     "data": {
      "text/plain": [
       "Date\n",
       "2024-04-01    1.3647\n",
       "2024-07-01    1.3657\n",
       "2024-10-01    1.3671\n",
       "2025-01-01    1.3730\n",
       "2025-04-01    1.3730\n",
       "Name: LW Model R* (Quarterly), dtype: float64"
      ]
     },
     "execution_count": 5,
     "metadata": {},
     "output_type": "execute_result"
    }
   ],
   "source": [
    "today = dt.date.today()\n",
    "\n",
    "hlb_df = pd.read_excel(ut.get_repo_root() / \"code\" / \"data\" / \"hlb_2.xlsx\")\n",
    "\n",
    "r_star = hlb_df.set_index(pd.to_datetime(hlb_df[\"Date\"]))['Natural Rate (r*)'].rename(\"LW Model R* (Quarterly)\")\n",
    "\n",
    "r_star.tail()\n"
   ]
  },
  {
   "cell_type": "code",
   "execution_count": 6,
   "id": "3b6d96a3",
   "metadata": {},
   "outputs": [
    {
     "name": "stderr",
     "output_type": "stream",
     "text": [
      "C:\\Users\\Bobby\\AppData\\Local\\Temp\\ipykernel_26132\\680554228.py:29: FutureWarning: DataFrame.fillna with 'method' is deprecated and will raise in a future version. Use obj.ffill() or obj.bfill() instead.\n",
      "  ).fillna(method='ffill')\n"
     ]
    },
    {
     "data": {
      "text/html": [
       "<div>\n",
       "<style scoped>\n",
       "    .dataframe tbody tr th:only-of-type {\n",
       "        vertical-align: middle;\n",
       "    }\n",
       "\n",
       "    .dataframe tbody tr th {\n",
       "        vertical-align: top;\n",
       "    }\n",
       "\n",
       "    .dataframe thead th {\n",
       "        text-align: right;\n",
       "    }\n",
       "</style>\n",
       "<table border=\"1\" class=\"dataframe\">\n",
       "  <thead>\n",
       "    <tr style=\"text-align: right;\">\n",
       "      <th></th>\n",
       "      <th>Fisher Implied Real Rate</th>\n",
       "      <th>LW Model R* (Quarterly)</th>\n",
       "      <th>Cleveland Fed Estimated 1 Year Real Interest Rate</th>\n",
       "    </tr>\n",
       "  </thead>\n",
       "  <tbody>\n",
       "    <tr>\n",
       "      <th>2024-01-01</th>\n",
       "      <td>2.63125</td>\n",
       "      <td>1.3619</td>\n",
       "      <td>2.506889</td>\n",
       "    </tr>\n",
       "    <tr>\n",
       "      <th>2024-02-01</th>\n",
       "      <td>2.62494</td>\n",
       "      <td>1.3619</td>\n",
       "      <td>2.395777</td>\n",
       "    </tr>\n",
       "    <tr>\n",
       "      <th>2024-03-01</th>\n",
       "      <td>2.40206</td>\n",
       "      <td>1.3619</td>\n",
       "      <td>3.035620</td>\n",
       "    </tr>\n",
       "    <tr>\n",
       "      <th>2024-04-01</th>\n",
       "      <td>2.50385</td>\n",
       "      <td>1.3647</td>\n",
       "      <td>2.084637</td>\n",
       "    </tr>\n",
       "    <tr>\n",
       "      <th>2024-05-01</th>\n",
       "      <td>2.66833</td>\n",
       "      <td>1.3647</td>\n",
       "      <td>1.953609</td>\n",
       "    </tr>\n",
       "    <tr>\n",
       "      <th>2024-06-01</th>\n",
       "      <td>2.78163</td>\n",
       "      <td>1.3647</td>\n",
       "      <td>2.317161</td>\n",
       "    </tr>\n",
       "    <tr>\n",
       "      <th>2024-07-01</th>\n",
       "      <td>2.73562</td>\n",
       "      <td>1.3657</td>\n",
       "      <td>2.513466</td>\n",
       "    </tr>\n",
       "    <tr>\n",
       "      <th>2024-08-01</th>\n",
       "      <td>2.91701</td>\n",
       "      <td>1.3657</td>\n",
       "      <td>2.540358</td>\n",
       "    </tr>\n",
       "    <tr>\n",
       "      <th>2024-09-01</th>\n",
       "      <td>2.86923</td>\n",
       "      <td>1.3657</td>\n",
       "      <td>2.445496</td>\n",
       "    </tr>\n",
       "    <tr>\n",
       "      <th>2024-10-01</th>\n",
       "      <td>2.35231</td>\n",
       "      <td>1.3671</td>\n",
       "      <td>2.211509</td>\n",
       "    </tr>\n",
       "    <tr>\n",
       "      <th>2024-11-01</th>\n",
       "      <td>2.06220</td>\n",
       "      <td>1.3671</td>\n",
       "      <td>2.053952</td>\n",
       "    </tr>\n",
       "    <tr>\n",
       "      <th>2024-12-01</th>\n",
       "      <td>1.75191</td>\n",
       "      <td>1.3671</td>\n",
       "      <td>1.594513</td>\n",
       "    </tr>\n",
       "    <tr>\n",
       "      <th>2025-01-01</th>\n",
       "      <td>1.72262</td>\n",
       "      <td>1.3730</td>\n",
       "      <td>1.635405</td>\n",
       "    </tr>\n",
       "    <tr>\n",
       "      <th>2025-02-01</th>\n",
       "      <td>1.61952</td>\n",
       "      <td>1.3730</td>\n",
       "      <td>1.336609</td>\n",
       "    </tr>\n",
       "    <tr>\n",
       "      <th>2025-03-01</th>\n",
       "      <td>1.97057</td>\n",
       "      <td>1.3730</td>\n",
       "      <td>2.257408</td>\n",
       "    </tr>\n",
       "    <tr>\n",
       "      <th>2025-04-01</th>\n",
       "      <td>2.05257</td>\n",
       "      <td>1.3730</td>\n",
       "      <td>0.873350</td>\n",
       "    </tr>\n",
       "    <tr>\n",
       "      <th>2025-05-01</th>\n",
       "      <td>1.87191</td>\n",
       "      <td>1.3730</td>\n",
       "      <td>1.202134</td>\n",
       "    </tr>\n",
       "    <tr>\n",
       "      <th>2025-06-01</th>\n",
       "      <td>1.73649</td>\n",
       "      <td>1.3730</td>\n",
       "      <td>1.721208</td>\n",
       "    </tr>\n",
       "    <tr>\n",
       "      <th>2025-07-01</th>\n",
       "      <td>1.73334</td>\n",
       "      <td>1.3730</td>\n",
       "      <td>0.838904</td>\n",
       "    </tr>\n",
       "    <tr>\n",
       "      <th>2025-08-01</th>\n",
       "      <td>1.58884</td>\n",
       "      <td>1.3730</td>\n",
       "      <td>1.523005</td>\n",
       "    </tr>\n",
       "    <tr>\n",
       "      <th>2025-09-01</th>\n",
       "      <td>1.58884</td>\n",
       "      <td>1.3730</td>\n",
       "      <td>1.099890</td>\n",
       "    </tr>\n",
       "    <tr>\n",
       "      <th>2025-10-01</th>\n",
       "      <td>1.58884</td>\n",
       "      <td>1.3730</td>\n",
       "      <td>1.134774</td>\n",
       "    </tr>\n",
       "  </tbody>\n",
       "</table>\n",
       "</div>"
      ],
      "text/plain": [
       "            Fisher Implied Real Rate   LW Model R* (Quarterly)  \\\n",
       "2024-01-01                    2.63125                   1.3619   \n",
       "2024-02-01                    2.62494                   1.3619   \n",
       "2024-03-01                    2.40206                   1.3619   \n",
       "2024-04-01                    2.50385                   1.3647   \n",
       "2024-05-01                    2.66833                   1.3647   \n",
       "2024-06-01                    2.78163                   1.3647   \n",
       "2024-07-01                    2.73562                   1.3657   \n",
       "2024-08-01                    2.91701                   1.3657   \n",
       "2024-09-01                    2.86923                   1.3657   \n",
       "2024-10-01                    2.35231                   1.3671   \n",
       "2024-11-01                    2.06220                   1.3671   \n",
       "2024-12-01                    1.75191                   1.3671   \n",
       "2025-01-01                    1.72262                   1.3730   \n",
       "2025-02-01                    1.61952                   1.3730   \n",
       "2025-03-01                    1.97057                   1.3730   \n",
       "2025-04-01                    2.05257                   1.3730   \n",
       "2025-05-01                    1.87191                   1.3730   \n",
       "2025-06-01                    1.73649                   1.3730   \n",
       "2025-07-01                    1.73334                   1.3730   \n",
       "2025-08-01                    1.58884                   1.3730   \n",
       "2025-09-01                    1.58884                   1.3730   \n",
       "2025-10-01                    1.58884                   1.3730   \n",
       "\n",
       "            Cleveland Fed Estimated 1 Year Real Interest Rate  \n",
       "2024-01-01                                           2.506889  \n",
       "2024-02-01                                           2.395777  \n",
       "2024-03-01                                           3.035620  \n",
       "2024-04-01                                           2.084637  \n",
       "2024-05-01                                           1.953609  \n",
       "2024-06-01                                           2.317161  \n",
       "2024-07-01                                           2.513466  \n",
       "2024-08-01                                           2.540358  \n",
       "2024-09-01                                           2.445496  \n",
       "2024-10-01                                           2.211509  \n",
       "2024-11-01                                           2.053952  \n",
       "2024-12-01                                           1.594513  \n",
       "2025-01-01                                           1.635405  \n",
       "2025-02-01                                           1.336609  \n",
       "2025-03-01                                           2.257408  \n",
       "2025-04-01                                           0.873350  \n",
       "2025-05-01                                           1.202134  \n",
       "2025-06-01                                           1.721208  \n",
       "2025-07-01                                           0.838904  \n",
       "2025-08-01                                           1.523005  \n",
       "2025-09-01                                           1.099890  \n",
       "2025-10-01                                           1.134774  "
      ]
     },
     "execution_count": 6,
     "metadata": {},
     "output_type": "execute_result"
    }
   ],
   "source": [
    "today = dt.date.today()\n",
    "\n",
    "effr = fred.get_series(\n",
    "    series_id=\"EFFR\",\n",
    "    observation_start=dt.date(2019, 1, 1),\n",
    "    observation_end=today,\n",
    "    frequency='m',\n",
    ").rename(\"Fed Funds\")\n",
    "\n",
    "pce = fred.get_series(\n",
    "    series_id=\"PCEPI\",\n",
    "    observation_start=dt.date(2019, 1, 1),\n",
    "    observation_end=today,\n",
    "    units='pc1'\n",
    ").rename(\"PCE\")\n",
    "\n",
    "clv_fed = fred.get_series(\n",
    "    series_id=\"REAINTRATREARAT1YE\",\n",
    "    observation_start=dt.date(2019, 1, 1),\n",
    "    observation_end=today,\n",
    ").rename(\"Cleveland Fed Estimated 1 Year Real Interest Rate\")\n",
    "\n",
    "real = (effr - pce).dropna().rename('Fisher Implied Real Rate ')\n",
    "\n",
    "joined_df = pd.concat(\n",
    "    [real, r_star, clv_fed],\n",
    "    axis = 1,\n",
    "    join='outer'\n",
    ").fillna(method='ffill')\n",
    "\n",
    "joined_df = joined_df[joined_df.index >= '2024-01-01']\n",
    "joined_df\n"
   ]
  },
  {
   "cell_type": "markdown",
   "id": "f36c32ec",
   "metadata": {},
   "source": [
    "5. Now that all our data is ready, make the graph and have it save itself as a .html file to graph_output whenver the notebooks is rerun. The name of the file should exactly match the notebook name. For instance, this file \"example.ipynb\" produces the graph \"example.html.\" Nice work, you made a graph! "
   ]
  },
  {
   "cell_type": "code",
   "execution_count": 7,
   "id": "8d83fc29",
   "metadata": {},
   "outputs": [
    {
     "data": {
      "application/vnd.plotly.v1+json": {
       "config": {
        "plotlyServerURL": "https://plot.ly"
       },
       "data": [
        {
         "mode": "lines",
         "name": "Fisher Implied Real Rate ",
         "type": "scatter",
         "x": [
          "2024-01-01T00:00:00",
          "2024-02-01T00:00:00",
          "2024-03-01T00:00:00",
          "2024-04-01T00:00:00",
          "2024-05-01T00:00:00",
          "2024-06-01T00:00:00",
          "2024-07-01T00:00:00",
          "2024-08-01T00:00:00",
          "2024-09-01T00:00:00",
          "2024-10-01T00:00:00",
          "2024-11-01T00:00:00",
          "2024-12-01T00:00:00",
          "2025-01-01T00:00:00",
          "2025-02-01T00:00:00",
          "2025-03-01T00:00:00",
          "2025-04-01T00:00:00",
          "2025-05-01T00:00:00",
          "2025-06-01T00:00:00",
          "2025-07-01T00:00:00",
          "2025-08-01T00:00:00",
          "2025-09-01T00:00:00",
          "2025-10-01T00:00:00"
         ],
         "y": {
          "bdata": "zczMzMwMBUCrsu+K4P8EQPM8uDtrNwNAgLdAguIHBEBGfCdmvVgFQHGUvDrHQAZApkQSvYziBUD11sBWCVYHQNydtdsu9AZAGm7A54fRAkBXfa62Yn8AQNiQuMfSB/w/5Pc2/dmP+z+afLPNjen5P9aoh2h0h/8/egH20alrAEDC4nDmV/P9P/BL/bypyPs/CJRNucK7+z/sOel942v5P+w56X3ja/k/7DnpfeNr+T8=",
          "dtype": "f8"
         }
        },
        {
         "mode": "lines",
         "name": "LW Model R* (Quarterly)",
         "type": "scatter",
         "x": [
          "2024-01-01T00:00:00",
          "2024-02-01T00:00:00",
          "2024-03-01T00:00:00",
          "2024-04-01T00:00:00",
          "2024-05-01T00:00:00",
          "2024-06-01T00:00:00",
          "2024-07-01T00:00:00",
          "2024-08-01T00:00:00",
          "2024-09-01T00:00:00",
          "2024-10-01T00:00:00",
          "2024-11-01T00:00:00",
          "2024-12-01T00:00:00",
          "2025-01-01T00:00:00",
          "2025-02-01T00:00:00",
          "2025-03-01T00:00:00",
          "2025-04-01T00:00:00",
          "2025-05-01T00:00:00",
          "2025-06-01T00:00:00",
          "2025-07-01T00:00:00",
          "2025-08-01T00:00:00",
          "2025-09-01T00:00:00",
          "2025-10-01T00:00:00"
         ],
         "y": {
          "bdata": "J8KGp1fK9T8nwoanV8r1PyfChqdXyvU/hJ7Nqs/V9T+Ens2qz9X1P4SezarP1fU/7lpCPujZ9T/uWkI+6Nn1P+5aQj7o2fU/HcnlP6Tf9T8dyeU/pN/1Px3J5T+k3/U/K4cW2c739T8rhxbZzvf1PyuHFtnO9/U/K4cW2c739T8rhxbZzvf1PyuHFtnO9/U/K4cW2c739T8rhxbZzvf1PyuHFtnO9/U/K4cW2c739T8=",
          "dtype": "f8"
         }
        },
        {
         "mode": "lines",
         "name": "Cleveland Fed Estimated 1 Year Real Interest Rate",
         "type": "scatter",
         "x": [
          "2024-01-01T00:00:00",
          "2024-02-01T00:00:00",
          "2024-03-01T00:00:00",
          "2024-04-01T00:00:00",
          "2024-05-01T00:00:00",
          "2024-06-01T00:00:00",
          "2024-07-01T00:00:00",
          "2024-08-01T00:00:00",
          "2024-09-01T00:00:00",
          "2024-10-01T00:00:00",
          "2024-11-01T00:00:00",
          "2024-12-01T00:00:00",
          "2025-01-01T00:00:00",
          "2025-02-01T00:00:00",
          "2025-03-01T00:00:00",
          "2025-04-01T00:00:00",
          "2025-05-01T00:00:00",
          "2025-06-01T00:00:00",
          "2025-07-01T00:00:00",
          "2025-08-01T00:00:00",
          "2025-09-01T00:00:00",
          "2025-10-01T00:00:00"
         ],
         "y": {
          "bdata": "Gw90vBsOBEBfWCf8jCoDQLkE+TzzSAhApO3rAlatAEB/vcKC+0H/P4PYHXuLiQJA6g6cEpQbBEDsCsc9p1IEQOFGqQhgkANAulXngyuxAUBa9sGFfm4AQNIIT0sgg/k/YbJlt54q+j/NQ54LwGL1P4TU7ewrDwJAxthsWXzy6z/q1oQX8TvzP5g7TF4Rivs/ne24fk3Y6j/uvY0HOl74P41dBaUmmfE/2KEWWggo8j8=",
          "dtype": "f8"
         }
        },
        {
         "hoverinfo": "skip",
         "marker": {
          "color": "#2A547E",
          "size": 8,
          "symbol": "circle"
         },
         "mode": "markers",
         "showlegend": false,
         "type": "scatter",
         "x": [
          1759276800000000000
         ],
         "y": [
          1.5888400000000003
         ],
         "zorder": 3
        },
        {
         "hoverinfo": "skip",
         "marker": {
          "color": "#CF8B40",
          "size": 8,
          "symbol": "circle"
         },
         "mode": "markers",
         "showlegend": false,
         "type": "scatter",
         "x": [
          1759276800000000000
         ],
         "y": [
          1.373
         ],
         "zorder": 3
        },
        {
         "hoverinfo": "skip",
         "marker": {
          "color": "#879396",
          "size": 8,
          "symbol": "circle"
         },
         "mode": "markers",
         "showlegend": false,
         "type": "scatter",
         "x": [
          1759276800000000000
         ],
         "y": [
          1.13477359
         ],
         "zorder": 3
        }
       ],
       "layout": {
        "annotations": [
         {
          "showarrow": false,
          "text": "Sep. SEP Fisher-Implied R*: 1%</br>",
          "x": 0,
          "xanchor": "left",
          "xref": "x domain",
          "y": 1,
          "yanchor": "top",
          "yref": "y"
         },
         {
          "font": {
           "color": "#2A547E"
          },
          "showarrow": false,
          "text": "1.6",
          "x": "2025-10-01T00:00:00",
          "xanchor": "left",
          "xshift": 6,
          "y": 1.6552485000000003,
          "yanchor": "middle"
         },
         {
          "font": {
           "color": "#CF8B40"
          },
          "showarrow": false,
          "text": "1.4",
          "x": "2025-10-01T00:00:00",
          "xanchor": "left",
          "xshift": 6,
          "y": 1.373555,
          "yanchor": "middle"
         },
         {
          "font": {
           "color": "#879396"
          },
          "showarrow": false,
          "text": "1.1",
          "x": "2025-10-01T00:00:00",
          "xanchor": "left",
          "xshift": 6,
          "y": 1.2446093925,
          "yanchor": "middle"
         }
        ],
        "height": 550,
        "legend": {
         "font": {
          "size": 20
         },
         "orientation": "v"
        },
        "shapes": [
         {
          "line": {
           "color": "red",
           "dash": "dash"
          },
          "type": "line",
          "x0": 0,
          "x1": 1,
          "xref": "x domain",
          "y0": 1,
          "y1": 1,
          "yref": "y"
         }
        ],
        "template": {
         "data": {
          "scatter": [
           {
            "hovertemplate": "%{x|%Y-%m-%d}<br> %{y:.1f}<extra></extra>",
            "line": {
             "width": 3
            },
            "type": "scatter"
           }
          ]
         },
         "layout": {
          "colorway": [
           "#2A547E",
           "#CF8B40",
           "#879396",
           "#F7CAC9",
           "#7095cf"
          ],
          "height": 500,
          "legend": {
           "bgcolor": "rgba(0,0,0,0)",
           "borderwidth": 0,
           "font": {
            "color": "#163855",
            "family": "Cambria Bold",
            "size": 22
           },
           "orientation": "h",
           "x": 1,
           "xanchor": "right",
           "y": 1.05,
           "yanchor": "bottom"
          },
          "title": {
           "font": {
            "color": "#163855",
            "family": "Cambria Bold",
            "size": 36
           },
           "x": 0.05,
           "xanchor": "left"
          },
          "width": 1200,
          "xaxis": {
           "gridcolor": "#D3D3D3",
           "gridwidth": 0.5,
           "showgrid": true,
           "tickfont": {
            "color": "#163855",
            "family": "Cambria Bold",
            "size": 18
           },
           "title": {
            "font": {
             "color": "#163855",
             "family": "Cambria Bold",
             "size": 24
            }
           },
           "type": "date"
          },
          "yaxis": {
           "gridcolor": "#D3D3D3",
           "gridwidth": 0.5,
           "showgrid": true,
           "tickfont": {
            "color": "#163855",
            "family": "Cambria Bold",
            "size": 18
           },
           "title": {
            "font": {
             "color": "#163855",
             "family": "Cambria Bold",
             "size": 24
            }
           }
          }
         }
        },
        "title": {
         "text": "R* and Real Rates Estimates<br><sup>Monthly </sup>"
        },
        "width": 1150,
        "xaxis": {
         "dtick": "M12",
         "tickformat": "%Y",
         "title": {},
         "type": "date"
        },
        "yaxis": {
         "tickformat": ".2f%",
         "ticksuffix": "%",
         "title": {
          "text": "Change (%)"
         }
        }
       }
      }
     },
     "metadata": {},
     "output_type": "display_data"
    }
   ],
   "source": [
    "import numpy as np\n",
    "\n",
    "# First make the figure\n",
    "fig = go.Figure()\n",
    "\n",
    "\n",
    "# Loop the columns of the dataframe and plot each as a separate trace\n",
    "for col in joined_df.columns:\n",
    "    fig.add_trace(\n",
    "        go.Scatter(\n",
    "            x=joined_df.index,\n",
    "            y=joined_df[col],\n",
    "            mode='lines',\n",
    "            name=col\n",
    "        )\n",
    "    )\n",
    "\n",
    "# Update the titles, using the html tage <sup> for a subtitle \n",
    "fig.update_layout(\n",
    "    title = dict(text = 'R* and Real Rates Estimates<br><sup>Monthly </sup>'),\n",
    "    xaxis_title=\"Date\",\n",
    "    yaxis_title=\"Change (%)\",\n",
    ")\n",
    "\n",
    "# This is graph specific, but here we want the y-axis to be percent signs \n",
    "fig.update_yaxes(\n",
    "    tickformat=\".2f%\",\n",
    "    ticksuffix=\"%\",\n",
    ")\n",
    "\n",
    "# Again, graph specific, we have a mutliyear series and want tick marks to be years\n",
    "fig.update_xaxes(\n",
    "    type='date',\n",
    "    dtick='M12',\n",
    "    tickformat='%Y',\n",
    "    title_text=None,\n",
    ")\n",
    "\n",
    "fig.update_layout(\n",
    "    height=550,\n",
    "    width=1150,\n",
    "        legend=dict(\n",
    "            orientation='v'\n",
    "        )\n",
    ")\n",
    "\n",
    "fig.add_hline(\n",
    "    y=1,\n",
    "    line_dash=\"dash\",\n",
    "    line_color=\"red\",\n",
    "    annotation_text=\"Sep. SEP Fisher-Implied R*: 1%</br>\",\n",
    "    annotation_position=\"bottom left\"\n",
    ")\n",
    "\n",
    "ut.add_end_labels(fig = fig, offset=0.05)\n",
    "\n",
    "fig.update_layout(legend=dict(font=dict(size=20)))\n",
    "\n",
    "# Show our figure (Dimensions may be off on different screen sizes)\n",
    "fig.show()\n",
    "\n",
    "# This should be the same for EVERY GRAPH!\n",
    "# Save it to the graph_output folder with the name matching the file, as HTML\n",
    "fig.write_html(GRAPH_OUTPUT_PATH / f\"{GRAPH_NAME}.html\")"
   ]
  }
 ],
 "metadata": {
  "kernelspec": {
   "display_name": ".venv",
   "language": "python",
   "name": "python3"
  },
  "language_info": {
   "codemirror_mode": {
    "name": "ipython",
    "version": 3
   },
   "file_extension": ".py",
   "mimetype": "text/x-python",
   "name": "python",
   "nbconvert_exporter": "python",
   "pygments_lexer": "ipython3",
   "version": "3.13.7"
  }
 },
 "nbformat": 4,
 "nbformat_minor": 5
}
