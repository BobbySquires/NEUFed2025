{
 "cells": [
  {
   "cell_type": "markdown",
   "id": "ec9a0460",
   "metadata": {},
   "source": [
    "Real Private Domestic Final Purchases \n",
    "\n",
    "1. Import the appropriate packages. We'll use plotly.graph_objects for making all of our graphs."
   ]
  },
  {
   "cell_type": "code",
   "execution_count": 1,
   "id": "b8a83946",
   "metadata": {},
   "outputs": [],
   "source": [
    "import datetime as dt\n",
    "import plotly.graph_objects as go\n",
    "import plotly.io as pio\n",
    "import pandas as pd\n",
    "import utils.utils as ut\n",
    "import utils.graph_templates\n",
    "\n",
    "from fredapi import Fred"
   ]
  },
  {
   "cell_type": "markdown",
   "id": "533182f0",
   "metadata": {},
   "source": [
    "2. We'll get data using the fredapi package. Set the path to the text file with your API key"
   ]
  },
  {
   "cell_type": "code",
   "execution_count": 2,
   "id": "f81e1110",
   "metadata": {},
   "outputs": [],
   "source": [
    "# Call the graph the exact same thing as its notebook (minus the ipynb suffix)\n",
    "GRAPH_NAME = \"pdfp\"\n",
    "\n",
    "API_KEY_PATH = ut.get_repo_root() / \"fred_api_key.txt\" \n",
    "\n",
    "fred = Fred(api_key_file = API_KEY_PATH)"
   ]
  },
  {
   "cell_type": "markdown",
   "id": "ee2ebb59",
   "metadata": {},
   "source": [
    "3. Set the fed_2025 template as default"
   ]
  },
  {
   "cell_type": "code",
   "execution_count": 3,
   "id": "00bbbcaa",
   "metadata": {},
   "outputs": [],
   "source": [
    "pio.templates.default = 'fed_2025'\n",
    "\n",
    "# Now is a good time to set the path to the graph output folder!\n",
    "GRAPH_OUTPUT_PATH = ut.get_repo_root() / \"figures\""
   ]
  },
  {
   "cell_type": "code",
   "execution_count": 4,
   "id": "d02adea9",
   "metadata": {},
   "outputs": [
    {
     "data": {
      "text/plain": [
       "WindowsPath('C:/Users/Bobby/Desktop/Fed Challenge 2025/NEUFed2025/figures')"
      ]
     },
     "execution_count": 4,
     "metadata": {},
     "output_type": "execute_result"
    }
   ],
   "source": [
    "GRAPH_OUTPUT_PATH"
   ]
  },
  {
   "cell_type": "markdown",
   "id": "c2af7dd8",
   "metadata": {},
   "source": [
    "4. Use the fredapi to get the data and prepare it for graphing. Documentation on the optional parameters that can be passed to the get_series called are found here (the documentation in fredapi is out of date). \n",
    "\n",
    "https://fred.stlouisfed.org/docs/api/fred/series_observations.html#Description\n",
    "\n",
    "If you get data from somewhere else thats fine too! Put the raw csv in the \"raw_data\" folder and read it in here. Make sure not to edit the raw data, just transform and graph it."
   ]
  },
  {
   "cell_type": "code",
   "execution_count": 5,
   "id": "4c582e8a",
   "metadata": {},
   "outputs": [],
   "source": [
    "# It's good practice to store the series codes in a dictionary with their names\n",
    "series_codes = {\n",
    "    \"Real PDFP\": \"LB0000031Q020SBEA\",\n",
    "    \"Real GDP\": \"GDPC1\",\n",
    "}"
   ]
  },
  {
   "cell_type": "code",
   "execution_count": 23,
   "id": "5934d6c9",
   "metadata": {},
   "outputs": [
    {
     "data": {
      "text/html": [
       "<div>\n",
       "<style scoped>\n",
       "    .dataframe tbody tr th:only-of-type {\n",
       "        vertical-align: middle;\n",
       "    }\n",
       "\n",
       "    .dataframe tbody tr th {\n",
       "        vertical-align: top;\n",
       "    }\n",
       "\n",
       "    .dataframe thead th {\n",
       "        text-align: right;\n",
       "    }\n",
       "</style>\n",
       "<table border=\"1\" class=\"dataframe\">\n",
       "  <thead>\n",
       "    <tr style=\"text-align: right;\">\n",
       "      <th></th>\n",
       "      <th>Real PDFP</th>\n",
       "      <th>Real GDP</th>\n",
       "      <th>HLW Trend Growth</th>\n",
       "    </tr>\n",
       "    <tr>\n",
       "      <th>Date</th>\n",
       "      <th></th>\n",
       "      <th></th>\n",
       "      <th></th>\n",
       "    </tr>\n",
       "  </thead>\n",
       "  <tbody>\n",
       "    <tr>\n",
       "      <th>2024-04-01</th>\n",
       "      <td>3.32840</td>\n",
       "      <td>3.54196</td>\n",
       "      <td>2.432907</td>\n",
       "    </tr>\n",
       "    <tr>\n",
       "      <th>2024-07-01</th>\n",
       "      <td>3.40664</td>\n",
       "      <td>3.29912</td>\n",
       "      <td>2.471950</td>\n",
       "    </tr>\n",
       "    <tr>\n",
       "      <th>2024-10-01</th>\n",
       "      <td>2.63524</td>\n",
       "      <td>1.83948</td>\n",
       "      <td>2.449158</td>\n",
       "    </tr>\n",
       "    <tr>\n",
       "      <th>2025-01-01</th>\n",
       "      <td>1.89188</td>\n",
       "      <td>-0.65008</td>\n",
       "      <td>2.336189</td>\n",
       "    </tr>\n",
       "    <tr>\n",
       "      <th>2025-04-01</th>\n",
       "      <td>2.83224</td>\n",
       "      <td>3.78400</td>\n",
       "      <td>2.450188</td>\n",
       "    </tr>\n",
       "  </tbody>\n",
       "</table>\n",
       "</div>"
      ],
      "text/plain": [
       "            Real PDFP  Real GDP  HLW Trend Growth\n",
       "Date                                             \n",
       "2024-04-01    3.32840   3.54196          2.432907\n",
       "2024-07-01    3.40664   3.29912          2.471950\n",
       "2024-10-01    2.63524   1.83948          2.449158\n",
       "2025-01-01    1.89188  -0.65008          2.336189\n",
       "2025-04-01    2.83224   3.78400          2.450188"
      ]
     },
     "execution_count": 23,
     "metadata": {},
     "output_type": "execute_result"
    }
   ],
   "source": [
    "today = dt.date.today()\n",
    "\n",
    "real_pdfp = fred.get_series(\n",
    "    series_id=series_codes[\"Real PDFP\"],\n",
    "    observation_start=dt.date(2024, 1, 1),\n",
    "    observation_end=today,\n",
    "    frequency='q',\n",
    "    units='pch'\n",
    ").rename(\"Real PDFP\")\n",
    "\n",
    "real_gdp = fred.get_series(\n",
    "    series_id=series_codes[\"Real GDP\"],\n",
    "    observation_start=dt.date(2024, 1, 1),\n",
    "    observation_end=today,\n",
    "    frequency='q',\n",
    "    units='pch'\n",
    ").rename(\"Real GDP\")\n",
    "\n",
    "real_pdfp = real_pdfp * 4\n",
    "real_gdp = real_gdp * 4\n",
    "\n",
    "\n",
    "hlb_df = pd.read_excel(ut.get_repo_root() / \"code\" / \"data\" / \"hlb_2.xlsx\")\n",
    "\n",
    "trend_srs = hlb_df.set_index(pd.to_datetime(hlb_df[\"Date\"]))['Trend Growth'].rename(\"HLW Trend Growth\")\n",
    "\n",
    "trend_srs.tail()\n",
    "\n",
    "\n",
    "joined_df = pd.concat(\n",
    "    [real_pdfp, real_gdp, trend_srs], # srs to join\n",
    "    axis=1, # multiple observations per index entry\n",
    "    join='inner' # only include observations where none of the 3 are missing\n",
    ")\n",
    "\n",
    "# Naming the index makes it easier tot title\n",
    "joined_df.index.name = \"Date\"\n",
    "\n",
    "joined_df.tail()"
   ]
  },
  {
   "cell_type": "markdown",
   "id": "f36c32ec",
   "metadata": {},
   "source": [
    "5. Now that all our data is ready, make the graph and have it save itself as a .html file to graph_output whenver the notebooks is rerun. The name of the file should exactly match the notebook name. For instance, this file \"example.ipynb\" produces the graph \"example.html.\" Nice work, you made a graph! "
   ]
  },
  {
   "cell_type": "code",
   "execution_count": 27,
   "id": "8d83fc29",
   "metadata": {},
   "outputs": [
    {
     "data": {
      "application/vnd.plotly.v1+json": {
       "config": {
        "plotlyServerURL": "https://plot.ly"
       },
       "data": [
        {
         "mode": "lines",
         "name": "Real PDFP",
         "type": "scatter",
         "x": [
          "2024-01-01T00:00:00",
          "2024-04-01T00:00:00",
          "2024-07-01T00:00:00",
          "2024-10-01T00:00:00",
          "2025-01-01T00:00:00",
          "2025-04-01T00:00:00"
         ],
         "y": {
          "bdata": "ucfShy6o/z8bDeAtkKAKQKn26XjMQAtAaeOItfgUBUC+TX/2I0X+P2Ni83FtqAZA",
          "dtype": "f8"
         }
        },
        {
         "mode": "lines",
         "name": "Real GDP",
         "type": "scatter",
         "x": [
          "2024-01-01T00:00:00",
          "2024-04-01T00:00:00",
          "2024-07-01T00:00:00",
          "2024-10-01T00:00:00",
          "2025-01-01T00:00:00",
          "2025-04-01T00:00:00"
         ],
         "y": {
          "bdata": "IoleRrHc6j/Z690f71UMQNuizAaZZApAWFaalIJu/T/oE3mSdM3kvxKDwMqhRQ5A",
          "dtype": "f8"
         }
        },
        {
         "mode": "lines",
         "name": "HLW Trend Growth",
         "type": "scatter",
         "x": [
          "2024-01-01T00:00:00",
          "2024-04-01T00:00:00",
          "2024-07-01T00:00:00",
          "2024-10-01T00:00:00",
          "2025-01-01T00:00:00",
          "2025-04-01T00:00:00"
         ],
         "y": {
          "bdata": "FS9GEdUAA0DihcTgl3YDQOY/GOaNxgNA1teaR+CXA0D5N5IbhLACQBZTMWH8mQNA",
          "dtype": "f8"
         }
        },
        {
         "hoverinfo": "skip",
         "marker": {
          "color": "#2A547E",
          "size": 8,
          "symbol": "circle"
         },
         "mode": "markers",
         "showlegend": false,
         "type": "scatter",
         "x": [
          1743465600000000000
         ],
         "y": [
          2.83224
         ],
         "zorder": 3
        },
        {
         "hoverinfo": "skip",
         "marker": {
          "color": "#CF8B40",
          "size": 8,
          "symbol": "circle"
         },
         "mode": "markers",
         "showlegend": false,
         "type": "scatter",
         "x": [
          1743465600000000000
         ],
         "y": [
          3.784
         ],
         "zorder": 3
        },
        {
         "hoverinfo": "skip",
         "marker": {
          "color": "#879396",
          "size": 8,
          "symbol": "circle"
         },
         "mode": "markers",
         "showlegend": false,
         "type": "scatter",
         "x": [
          1743465600000000000
         ],
         "y": [
          2.45018840724732
         ],
         "zorder": 3
        }
       ],
       "layout": {
        "annotations": [
         {
          "showarrow": false,
          "text": "Sep. SEP Longer-Run Projection: 1.8%</br>",
          "x": 1,
          "xanchor": "right",
          "xref": "x domain",
          "y": 1.8,
          "yanchor": "top",
          "yref": "y"
         },
         {
          "font": {
           "color": "#2A547E"
          },
          "showarrow": false,
          "text": "2.8",
          "x": "2025-04-01T00:00:00",
          "xanchor": "left",
          "xshift": 6,
          "y": 2.907978,
          "yanchor": "middle"
         },
         {
          "font": {
           "color": "#CF8B40"
          },
          "showarrow": false,
          "text": "3.8",
          "x": "2025-04-01T00:00:00",
          "xanchor": "left",
          "xshift": 6,
          "y": 4.005704,
          "yanchor": "middle"
         },
         {
          "font": {
           "color": "#879396"
          },
          "showarrow": false,
          "text": "2.5",
          "x": "2025-04-01T00:00:00",
          "xanchor": "left",
          "xshift": 6,
          "y": 2.4569764503751097,
          "yanchor": "middle"
         }
        ],
        "height": 550,
        "legend": {
         "font": {
          "size": 20
         }
        },
        "shapes": [
         {
          "line": {
           "color": "red",
           "dash": "dash"
          },
          "type": "line",
          "x0": 0,
          "x1": 1,
          "xref": "x domain",
          "y0": 1.8,
          "y1": 1.8,
          "yref": "y"
         }
        ],
        "template": {
         "data": {
          "scatter": [
           {
            "hovertemplate": "%{x|%Y-%m-%d}<br> %{y:.1f}<extra></extra>",
            "line": {
             "width": 3
            },
            "type": "scatter"
           }
          ]
         },
         "layout": {
          "colorway": [
           "#2A547E",
           "#CF8B40",
           "#879396",
           "#F7CAC9",
           "#7095cf"
          ],
          "height": 500,
          "legend": {
           "bgcolor": "rgba(0,0,0,0)",
           "borderwidth": 0,
           "font": {
            "color": "#163855",
            "family": "Cambria Bold",
            "size": 22
           },
           "orientation": "h",
           "x": 1,
           "xanchor": "right",
           "y": 1.05,
           "yanchor": "bottom"
          },
          "title": {
           "font": {
            "color": "#163855",
            "family": "Cambria Bold",
            "size": 36
           },
           "x": 0.05,
           "xanchor": "left"
          },
          "width": 1200,
          "xaxis": {
           "gridcolor": "#D3D3D3",
           "gridwidth": 0.5,
           "showgrid": true,
           "tickfont": {
            "color": "#163855",
            "family": "Cambria Bold",
            "size": 18
           },
           "title": {
            "font": {
             "color": "#163855",
             "family": "Cambria Bold",
             "size": 24
            }
           },
           "type": "date"
          },
          "yaxis": {
           "gridcolor": "#D3D3D3",
           "gridwidth": 0.5,
           "showgrid": true,
           "tickfont": {
            "color": "#163855",
            "family": "Cambria Bold",
            "size": 18
           },
           "title": {
            "font": {
             "color": "#163855",
             "family": "Cambria Bold",
             "size": 24
            }
           }
          }
         }
        },
        "title": {
         "text": "Real GDP & PDPF<br><sup>Quarterly, Annualized, Seasonally Adjusted </sup>"
        },
        "width": 1150,
        "xaxis": {
         "dtick": "M12",
         "tickformat": "%Y",
         "title": {},
         "type": "date"
        },
        "yaxis": {
         "range": [
          -1.1,
          5
         ],
         "tickformat": ".2f%",
         "ticksuffix": "%",
         "title": {
          "text": "Change (%)"
         }
        }
       }
      }
     },
     "metadata": {},
     "output_type": "display_data"
    }
   ],
   "source": [
    "import numpy as np\n",
    "\n",
    "# First make the figure\n",
    "fig = go.Figure()\n",
    "\n",
    "\n",
    "# Loop the columns of the dataframe and plot each as a separate trace\n",
    "for col in joined_df.columns:\n",
    "    fig.add_trace(\n",
    "        go.Scatter(\n",
    "            x=joined_df.index,\n",
    "            y=joined_df[col],\n",
    "            mode='lines',\n",
    "            name=col\n",
    "        )\n",
    "    )\n",
    "\n",
    "# Update the titles, using the html tage <sup> for a subtitle \n",
    "fig.update_layout(\n",
    "    title = dict(text = 'Real GDP & PDPF<br><sup>Quarterly, Annualized, Seasonally Adjusted </sup>'),\n",
    "    xaxis_title=\"Date\",\n",
    "    yaxis_title=\"Change (%)\",\n",
    ")\n",
    "\n",
    "# This is graph specific, but here we want the y-axis to be percent signs \n",
    "fig.update_yaxes(\n",
    "    tickformat=\".2f%\",\n",
    "    ticksuffix=\"%\",\n",
    "    range=[-1.1, 5]\n",
    ")\n",
    "\n",
    "# Again, graph specific, we have a mutliyear series and want tick marks to be years\n",
    "fig.update_xaxes(\n",
    "    type='date',\n",
    "    dtick='M12',\n",
    "    tickformat='%Y',\n",
    "    title_text=None,\n",
    ")\n",
    "\n",
    "# Add a dotted line projecting Real GDP to the next quarter at 3.8\n",
    "\n",
    "# # Get the last date in the index and add one quarter\n",
    "# last_date = joined_df.index[-1]\n",
    "# next_quarter = (last_date + pd.offsets.QuarterEnd())\n",
    "\n",
    "# # Coordinates for the projection\n",
    "# x_proj = [last_date, next_quarter]\n",
    "# y_proj = [joined_df[\"Real GDP\"].iloc[-1], 3.9]\n",
    "\n",
    "# fig.add_trace(\n",
    "#     go.Scatter(\n",
    "#         x=x_proj,\n",
    "#         y=y_proj,\n",
    "#         mode='lines+markers',\n",
    "#         name='Real GDP Projection',\n",
    "#         line=dict(dash='dot', color='#CF8B40'),\n",
    "#         marker=dict(color='#CF8B40', size=8, symbol='circle'),\n",
    "#         showlegend=False,\n",
    "#     )\n",
    "# )\n",
    "\n",
    "# # Add annotation above the projected point\n",
    "# fig.add_annotation(\n",
    "#     x=next_quarter,\n",
    "#     y=3.5,\n",
    "#     text=\"GDPNow (10/14)\",\n",
    "#     showarrow=False,\n",
    "#     yanchor=\"bottom\",\n",
    "#     xanchor=\"left\",\n",
    "#     xshift=6,\n",
    "#     font=dict(color=\"#CF8B40\")\n",
    "# )\n",
    "\n",
    "fig.update_layout(\n",
    "    height=550,\n",
    "    width=1150,\n",
    ")\n",
    "\n",
    "fig.add_hline(\n",
    "    y=1.8,\n",
    "    line_dash=\"dash\",\n",
    "    line_color=\"red\",\n",
    "    annotation_text=\"Sep. SEP Longer-Run Projection: 1.8%</br>\",\n",
    "    annotation_position=\"bottom right\"\n",
    ")\n",
    "\n",
    "ut.add_end_labels(fig = fig, offset=0.05)\n",
    "\n",
    "fig.update_layout(legend=dict(font=dict(size=20)))\n",
    "\n",
    "# Show our figure (Dimensions may be off on different screen sizes)\n",
    "fig.show()\n",
    "\n",
    "# This should be the same for EVERY GRAPH!\n",
    "# Save it to the graph_output folder with the name matching the file, as HTML\n",
    "fig.write_html(GRAPH_OUTPUT_PATH / f\"{GRAPH_NAME}.html\")"
   ]
  }
 ],
 "metadata": {
  "kernelspec": {
   "display_name": ".venv",
   "language": "python",
   "name": "python3"
  },
  "language_info": {
   "codemirror_mode": {
    "name": "ipython",
    "version": 3
   },
   "file_extension": ".py",
   "mimetype": "text/x-python",
   "name": "python",
   "nbconvert_exporter": "python",
   "pygments_lexer": "ipython3",
   "version": "3.13.7"
  }
 },
 "nbformat": 4,
 "nbformat_minor": 5
}
