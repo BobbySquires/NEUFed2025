{
 "cells": [
  {
   "cell_type": "markdown",
   "id": "ec9a0460",
   "metadata": {},
   "source": [
    "This notebook walks through how to make graphs in this repo. You can copy this example.ipynb and rename it for your own graphing work. <b> Please do each graph in a seperate notebook!</b>\n",
    "\n",
    "1. Import the appropriate packages. We'll use plotly.graph_objects for making all of our graphs."
   ]
  },
  {
   "cell_type": "code",
   "execution_count": 1,
   "id": "b8a83946",
   "metadata": {},
   "outputs": [],
   "source": [
    "import datetime as dt\n",
    "import plotly.graph_objects as go\n",
    "import plotly.io as pio\n",
    "import pandas as pd\n",
    "import utils.utils as ut\n",
    "import utils.graph_templates\n",
    "\n",
    "from fredapi import Fred"
   ]
  },
  {
   "cell_type": "markdown",
   "id": "533182f0",
   "metadata": {},
   "source": [
    "2. We'll get data using the fredapi package. Set the path to the text file with your API key"
   ]
  },
  {
   "cell_type": "code",
   "execution_count": 2,
   "id": "f81e1110",
   "metadata": {},
   "outputs": [],
   "source": [
    "# Call the graph the exact same thing as its notebook (minus the ipynb suffix)\n",
    "GRAPH_NAME = \"vix\"\n",
    "\n",
    "API_KEY_PATH = ut.get_repo_root() / \"fred_api_key.txt\" \n",
    "\n",
    "fred = Fred(api_key_file = API_KEY_PATH)"
   ]
  },
  {
   "cell_type": "markdown",
   "id": "ee2ebb59",
   "metadata": {},
   "source": [
    "3. Set the fed_2025 template as default"
   ]
  },
  {
   "cell_type": "code",
   "execution_count": 3,
   "id": "00bbbcaa",
   "metadata": {},
   "outputs": [],
   "source": [
    "pio.templates.default = 'fed_2025'\n",
    "\n",
    "# Call the graph the exact same thing as its notebook (minus the ipynb suffix)\n",
    "GRAPH_NAME = \"example\"\n",
    "\n",
    "# Now is a good time to set the path to the graph output folder!\n",
    "GRAPH_OUTPUT_PATH = ut.get_repo_root() / \"figures\""
   ]
  },
  {
   "cell_type": "code",
   "execution_count": 4,
   "id": "d02adea9",
   "metadata": {},
   "outputs": [
    {
     "data": {
      "text/plain": [
       "WindowsPath('C:/Users/Bobby/Desktop/Fed Challenge 2025/NEUFed2025/figures')"
      ]
     },
     "execution_count": 4,
     "metadata": {},
     "output_type": "execute_result"
    }
   ],
   "source": [
    "GRAPH_OUTPUT_PATH"
   ]
  },
  {
   "cell_type": "markdown",
   "id": "c2af7dd8",
   "metadata": {},
   "source": [
    "4. Use the fredapi to get the data and prepare it for graphing. Documentation on the optional parameters that can be passed to the get_series called are found here (the documentation in fredapi is out of date). \n",
    "\n",
    "https://fred.stlouisfed.org/docs/api/fred/series_observations.html#Description\n",
    "\n",
    "If you get data from somewhere else thats fine too! Put the raw csv in the \"raw_data\" folder and read it in here. Make sure not to edit the raw data, just transform and graph it."
   ]
  },
  {
   "cell_type": "code",
   "execution_count": 5,
   "id": "4c582e8a",
   "metadata": {},
   "outputs": [],
   "source": [
    "# The get_series_info method may be useful\n",
    "fred.get_series_info(series_id=\"CPIAUCSL\")\n",
    "\n",
    "# It's good practice to store the series codes in a dictionary with their names\n",
    "series_codes = {\n",
    "    \"Nasdaq 100 Exc. Tech Stocks\": \"NASDAQNDXX\",\n",
    "    \"Nasdaq 100\": \"NASDAQ100\"\n",
    "    \n",
    "}"
   ]
  },
  {
   "cell_type": "code",
   "execution_count": 29,
   "id": "5934d6c9",
   "metadata": {},
   "outputs": [
    {
     "data": {
      "text/html": [
       "<div>\n",
       "<style scoped>\n",
       "    .dataframe tbody tr th:only-of-type {\n",
       "        vertical-align: middle;\n",
       "    }\n",
       "\n",
       "    .dataframe tbody tr th {\n",
       "        vertical-align: top;\n",
       "    }\n",
       "\n",
       "    .dataframe thead th {\n",
       "        text-align: right;\n",
       "    }\n",
       "</style>\n",
       "<table border=\"1\" class=\"dataframe\">\n",
       "  <thead>\n",
       "    <tr style=\"text-align: right;\">\n",
       "      <th></th>\n",
       "      <th>Nasdaq 100 Ex. Tech</th>\n",
       "      <th>Nasdaq 100</th>\n",
       "    </tr>\n",
       "    <tr>\n",
       "      <th>Date</th>\n",
       "      <th></th>\n",
       "      <th></th>\n",
       "    </tr>\n",
       "  </thead>\n",
       "  <tbody>\n",
       "    <tr>\n",
       "      <th>2025-09-19</th>\n",
       "      <td>12.807519</td>\n",
       "      <td>44.583654</td>\n",
       "    </tr>\n",
       "    <tr>\n",
       "      <th>2025-09-26</th>\n",
       "      <td>11.916231</td>\n",
       "      <td>41.907019</td>\n",
       "    </tr>\n",
       "    <tr>\n",
       "      <th>2025-10-03</th>\n",
       "      <td>14.644808</td>\n",
       "      <td>44.337788</td>\n",
       "    </tr>\n",
       "    <tr>\n",
       "      <th>2025-10-10</th>\n",
       "      <td>13.398673</td>\n",
       "      <td>42.751481</td>\n",
       "    </tr>\n",
       "    <tr>\n",
       "      <th>2025-10-17</th>\n",
       "      <td>9.002519</td>\n",
       "      <td>40.490423</td>\n",
       "    </tr>\n",
       "  </tbody>\n",
       "</table>\n",
       "</div>"
      ],
      "text/plain": [
       "            Nasdaq 100 Ex. Tech  Nasdaq 100\n",
       "Date                                       \n",
       "2025-09-19            12.807519   44.583654\n",
       "2025-09-26            11.916231   41.907019\n",
       "2025-10-03            14.644808   44.337788\n",
       "2025-10-10            13.398673   42.751481\n",
       "2025-10-17             9.002519   40.490423"
      ]
     },
     "execution_count": 29,
     "metadata": {},
     "output_type": "execute_result"
    }
   ],
   "source": [
    "today = dt.date.today()\n",
    "\n",
    "imprts = fred.get_series(\n",
    "    series_id=series_codes[\"Nasdaq 100 Exc. Tech Stocks\"],\n",
    "    observation_start=dt.date(2024, 1, 1),\n",
    "    observation_end=today,\n",
    "    frequency='w',\n",
    "    units='pch'\n",
    ").rename(\"Nasdaq 100 Ex. Tech\").dropna().rolling(window=52).mean() * 100\n",
    "\n",
    "exprts = fred.get_series(\n",
    "    series_id=series_codes[\"Nasdaq 100\"],\n",
    "    observation_start=dt.date(2024, 1, 1),\n",
    "    observation_end=today,\n",
    "    frequency='w',\n",
    "    units='pch'\n",
    ").rename(\"Nasdaq 100\").dropna().rolling(window=52).mean() * 100\n",
    "\n",
    "\n",
    "\n",
    "joined_df = pd.concat(\n",
    "    [imprts, exprts], # srs to join\n",
    "    axis=1, # multiple observations per index entry\n",
    "    join='inner' # only include observations where none of the 3 are missing\n",
    ")\n",
    "\n",
    "# Naming the index makes it easier tot title\n",
    "joined_df.index.name = \"Date\"\n",
    "\n",
    "joined_df.tail()"
   ]
  },
  {
   "cell_type": "markdown",
   "id": "f36c32ec",
   "metadata": {},
   "source": [
    "5. Now that all our data is ready, make the graph and have it save itself as a .html file to graph_output whenver the notebooks is rerun. The name of the file should exactly match the notebook name. For instance, this file \"example.ipynb\" produces the graph \"example.html.\" Nice work, you made a graph! "
   ]
  },
  {
   "cell_type": "code",
   "execution_count": null,
   "id": "8d83fc29",
   "metadata": {},
   "outputs": [
    {
     "data": {
      "application/vnd.plotly.v1+json": {
       "config": {
        "plotlyServerURL": "https://plot.ly"
       },
       "data": [
        {
         "mode": "lines",
         "name": "Nasdaq 100 Ex. Tech",
         "type": "scatter",
         "x": [
          "2025-01-03T00:00:00",
          "2025-01-10T00:00:00",
          "2025-01-17T00:00:00",
          "2025-01-24T00:00:00",
          "2025-01-31T00:00:00",
          "2025-02-07T00:00:00",
          "2025-02-14T00:00:00",
          "2025-02-21T00:00:00",
          "2025-02-28T00:00:00",
          "2025-03-07T00:00:00",
          "2025-03-14T00:00:00",
          "2025-03-21T00:00:00",
          "2025-03-28T00:00:00",
          "2025-04-04T00:00:00",
          "2025-04-11T00:00:00",
          "2025-04-18T00:00:00",
          "2025-04-25T00:00:00",
          "2025-05-02T00:00:00",
          "2025-05-09T00:00:00",
          "2025-05-16T00:00:00",
          "2025-05-23T00:00:00",
          "2025-05-30T00:00:00",
          "2025-06-06T00:00:00",
          "2025-06-13T00:00:00",
          "2025-06-20T00:00:00",
          "2025-06-27T00:00:00",
          "2025-07-04T00:00:00",
          "2025-07-11T00:00:00",
          "2025-07-18T00:00:00",
          "2025-07-25T00:00:00",
          "2025-08-01T00:00:00",
          "2025-08-08T00:00:00",
          "2025-08-15T00:00:00",
          "2025-08-22T00:00:00",
          "2025-08-29T00:00:00",
          "2025-09-05T00:00:00",
          "2025-09-12T00:00:00",
          "2025-09-19T00:00:00",
          "2025-09-26T00:00:00",
          "2025-10-03T00:00:00",
          "2025-10-10T00:00:00",
          "2025-10-17T00:00:00"
         ],
         "y": {
          "bdata": "mvURPmbfK0Dup8ZLN/kqQAfdDehXwjBAMntC6pmPMkBZ2obonAwyQMbYoLsBfTRAupEbuZFzNkCI/AVqdzI2QHiNrow7LjJA54gTJJMKMEAJwzqD1+ghQEfNESdIJiJAWu7v1QIuJEAoMQisHLoeQHsvC2FYZ7g/IyBU+sNEJkAFVg4tsg0kQKg8l0DWoC5APtyaUYoyLUAOo/2mPE8zQD5PMR/KNTRAlecSyBo2N0CeSyBrGI01QNRkgDnL7jVAJ0vbEJ1rMkD9eABFWtszQAlkDaP9JjlAQ0YSbKJBN0CdN7d9suMyQFNZ8aQR4DhA28tCGNbxNUDkpZvEIOA5QMl2vp8axzVAG0b7TXmuMUDDxDfOm3svQK1htN+U9zBAKAAXHiljL0ABFx4pc50pQMLeCjMc1SdAblfdOyRKLUBRXKbgHswqQKSHWzNKASJA",
          "dtype": "f8"
         }
        },
        {
         "mode": "lines",
         "name": "Nasdaq 100",
         "type": "scatter",
         "x": [
          "2025-01-03T00:00:00",
          "2025-01-10T00:00:00",
          "2025-01-17T00:00:00",
          "2025-01-24T00:00:00",
          "2025-01-31T00:00:00",
          "2025-02-07T00:00:00",
          "2025-02-14T00:00:00",
          "2025-02-21T00:00:00",
          "2025-02-28T00:00:00",
          "2025-03-07T00:00:00",
          "2025-03-14T00:00:00",
          "2025-03-21T00:00:00",
          "2025-03-28T00:00:00",
          "2025-04-04T00:00:00",
          "2025-04-11T00:00:00",
          "2025-04-18T00:00:00",
          "2025-04-25T00:00:00",
          "2025-05-02T00:00:00",
          "2025-05-09T00:00:00",
          "2025-05-16T00:00:00",
          "2025-05-23T00:00:00",
          "2025-05-30T00:00:00",
          "2025-06-06T00:00:00",
          "2025-06-13T00:00:00",
          "2025-06-20T00:00:00",
          "2025-06-27T00:00:00",
          "2025-07-04T00:00:00",
          "2025-07-11T00:00:00",
          "2025-07-18T00:00:00",
          "2025-07-25T00:00:00",
          "2025-08-01T00:00:00",
          "2025-08-08T00:00:00",
          "2025-08-15T00:00:00",
          "2025-08-22T00:00:00",
          "2025-08-29T00:00:00",
          "2025-09-05T00:00:00",
          "2025-09-12T00:00:00",
          "2025-09-19T00:00:00",
          "2025-09-26T00:00:00",
          "2025-10-03T00:00:00",
          "2025-10-10T00:00:00",
          "2025-10-17T00:00:00"
         ],
         "y": {
          "bdata": "ICa+cd5sSUAzqX48gHpHQF7RZzV1sEVAFiHerrpHRkAuPFLmWpdEQLpJDAIrq0NAJzEIrBziRED4agHPDqJFQCJRRYi3az9A5Sybf8aUOECF61G4Hj0xQNVKrdRKpTFAlecSyBrWMkC7YCornmQkQCp2Yid2ogdAnwbG774ULEDQU8yHciEvQAY8O8gxhDhAPFLmWtd5NUCEBSUdnz4+QO1/9HBrHjtAU1nxpBEQPUBaH+Fj9pQ9QJ3bPtnl1TlADRlJsIn+NECNO/ZttsI6QMQMR4UCODpAAi48UuYKOEAc/uuWEvI9QGk1ddhyH0NAURdMZcUbRUBRLmqOOGVJQIaMJNhEJ0ZAHw+gSGu/QUCre4dEFW1DQGY4KhSAg0ZAzm2f7PKWRkAstVIrtUpGQJt/xjQZ9ERADqP9pjwrRkCltZeFMGBFQE5L8i7GPkRA",
          "dtype": "f8"
         }
        }
       ],
       "layout": {
        "height": 450,
        "legend": {
         "font": {
          "size": 18
         }
        },
        "template": {
         "data": {
          "scatter": [
           {
            "hovertemplate": "%{x|%Y-%m-%d}<br> %{y:.1f}<extra></extra>",
            "line": {
             "width": 3
            },
            "type": "scatter"
           }
          ]
         },
         "layout": {
          "colorway": [
           "#2A547E",
           "#CF8B40",
           "#879396",
           "#F7CAC9",
           "#7095cf"
          ],
          "height": 500,
          "legend": {
           "bgcolor": "rgba(0,0,0,0)",
           "borderwidth": 0,
           "font": {
            "color": "#163855",
            "family": "Cambria Bold",
            "size": 22
           },
           "orientation": "h",
           "x": 1,
           "xanchor": "right",
           "y": 1.05,
           "yanchor": "bottom"
          },
          "title": {
           "font": {
            "color": "#163855",
            "family": "Cambria Bold",
            "size": 36
           },
           "x": 0.05,
           "xanchor": "left"
          },
          "width": 1200,
          "xaxis": {
           "gridcolor": "#D3D3D3",
           "gridwidth": 0.5,
           "showgrid": true,
           "tickfont": {
            "color": "#163855",
            "family": "Cambria Bold",
            "size": 18
           },
           "title": {
            "font": {
             "color": "#163855",
             "family": "Cambria Bold",
             "size": 24
            }
           },
           "type": "date"
          },
          "yaxis": {
           "gridcolor": "#D3D3D3",
           "gridwidth": 0.5,
           "showgrid": true,
           "tickfont": {
            "color": "#163855",
            "family": "Cambria Bold",
            "size": 18
           },
           "title": {
            "font": {
             "color": "#163855",
             "family": "Cambria Bold",
             "size": 24
            }
           }
          }
         }
        },
        "title": {
         "font": {
          "size": 28
         },
         "text": "Volatility Indexes<br><sup>Daily</sup>"
        },
        "width": 800,
        "xaxis": {
         "dtick": "M4",
         "tickformat": "%b %Y",
         "title": {
          "text": "Date"
         },
         "type": "date"
        },
        "yaxis": {
         "tickformat": ",.0f",
         "ticksuffix": "%",
         "title": {
          "text": "52-Week Moving Average Percent Change"
         }
        }
       }
      }
     },
     "metadata": {},
     "output_type": "display_data"
    }
   ],
   "source": [
    "# First make the figure\n",
    "fig = go.Figure()\n",
    "\n",
    "joined_df = joined_df[joined_df.index >= pd.to_datetime(dt.date(2025, 1, 1))]\n",
    "\n",
    "\n",
    "# Loop the columns of the dataframe and plot each as a separate trace\n",
    "for col in joined_df.columns:\n",
    "    fig.add_trace(\n",
    "        go.Scatter(\n",
    "            x=joined_df.index,\n",
    "            y=joined_df[col],\n",
    "            mode='lines',\n",
    "            name=col\n",
    "        )\n",
    "    )\n",
    "\n",
    "# Update the titles, using the html tag <sup> for a subtitle \n",
    "fig.update_layout(\n",
    "    title = dict(\n",
    "        text = 'Volatility Indexes<br><sup>Weekly</sup>',  # Add comma here\n",
    "        font=dict(size=28)),\n",
    "    xaxis_title=\"Date\",\n",
    "    yaxis_title=\"1-Year Moving Average Percent Change\",\n",
    "    legend=dict(\n",
    "        font=dict(size=18)  # Change legend font size\n",
    "    )\n",
    ")\n",
    "\n",
    "# This is graph specific, but here we want the y-axis to be billions of dollars\n",
    "fig.update_yaxes(\n",
    "    tickformat=\",.0f\",\n",
    "        ticksuffix='%'\n",
    ")\n",
    "\n",
    "# Again, graph specific, we have a mutliyear series and want tick marks to be years\n",
    "fig.update_xaxes(\n",
    "    type='date',\n",
    "    tickformat='%b %Y',\n",
    "    dtick=\"M4\",\n",
    ")\n",
    "\n",
    "\n",
    "fig.update_layout(\n",
    "    height=450,\n",
    "    width=800,\n",
    ")\n",
    "\n",
    "# Show our figure (Dimensions may be off on different screen sizes)\n",
    "fig.show()\n",
    "\n",
    "# This should be the same for EVERY GRAPH!\n",
    "# Save it to the graph_output folder with the name matching the file, as HTML\n",
    "fig.write_html(GRAPH_OUTPUT_PATH / f\"{GRAPH_NAME}.html\")"
   ]
  }
 ],
 "metadata": {
  "kernelspec": {
   "display_name": ".venv",
   "language": "python",
   "name": "python3"
  },
  "language_info": {
   "codemirror_mode": {
    "name": "ipython",
    "version": 3
   },
   "file_extension": ".py",
   "mimetype": "text/x-python",
   "name": "python",
   "nbconvert_exporter": "python",
   "pygments_lexer": "ipython3",
   "version": "3.13.7"
  }
 },
 "nbformat": 4,
 "nbformat_minor": 5
}
