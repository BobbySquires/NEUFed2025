{
 "cells": [
  {
   "cell_type": "markdown",
   "id": "ec9a0460",
   "metadata": {},
   "source": [
    "This notebook walks through how to make graphs in this repo. You can copy this example.ipynb and rename it for your own graphing work. <b> Please do each graph in a seperate notebook!</b>\n",
    "\n",
    "1. Import the appropriate packages. We'll use plotly.graph_objects for making all of our graphs."
   ]
  },
  {
   "cell_type": "code",
   "execution_count": 1,
   "id": "b8a83946",
   "metadata": {},
   "outputs": [],
   "source": [
    "import datetime as dt\n",
    "import plotly.graph_objects as go\n",
    "import plotly.io as pio\n",
    "import pandas as pd\n",
    "import utils.utils as ut\n",
    "import utils.graph_templates\n",
    "\n",
    "from fredapi import Fred"
   ]
  },
  {
   "cell_type": "markdown",
   "id": "533182f0",
   "metadata": {},
   "source": [
    "2. We'll get data using the fredapi package. Set the path to the text file with your API key"
   ]
  },
  {
   "cell_type": "code",
   "execution_count": 2,
   "id": "f81e1110",
   "metadata": {},
   "outputs": [],
   "source": [
    "# Call the graph the exact same thing as its notebook (minus the ipynb suffix) NAME FOR THE FILE, not the title\n",
    "GRAPH_NAME = \"gdp_contrib\"\n",
    "\n",
    "API_KEY_PATH = ut.get_repo_root() / \"fred_api_key.txt\" \n",
    "\n",
    "fred = Fred(api_key_file = API_KEY_PATH)"
   ]
  },
  {
   "cell_type": "markdown",
   "id": "ee2ebb59",
   "metadata": {},
   "source": [
    "3. Set the fed_2025 template as default"
   ]
  },
  {
   "cell_type": "code",
   "execution_count": 3,
   "id": "00bbbcaa",
   "metadata": {},
   "outputs": [],
   "source": [
    "pio.templates.default = 'fed_2025'\n",
    "\n",
    "# Now is a good time to set the path to the graph output folder!\n",
    "GRAPH_OUTPUT_PATH = ut.get_repo_root() / \"figures\""
   ]
  },
  {
   "cell_type": "code",
   "execution_count": 7,
   "id": "bfc2b297",
   "metadata": {},
   "outputs": [
    {
     "name": "stderr",
     "output_type": "stream",
     "text": [
      "C:\\Users\\Bobby\\AppData\\Local\\Temp\\ipykernel_14192\\3013989618.py:11: UserWarning:\n",
      "\n",
      "Could not infer format, so each element will be parsed individually, falling back to `dateutil`. To ensure parsing is consistent and as-expected, please specify a format.\n",
      "\n"
     ]
    },
    {
     "data": {
      "text/html": [
       "<div>\n",
       "<style scoped>\n",
       "    .dataframe tbody tr th:only-of-type {\n",
       "        vertical-align: middle;\n",
       "    }\n",
       "\n",
       "    .dataframe tbody tr th {\n",
       "        vertical-align: top;\n",
       "    }\n",
       "\n",
       "    .dataframe thead th {\n",
       "        text-align: right;\n",
       "    }\n",
       "</style>\n",
       "<table border=\"1\" class=\"dataframe\">\n",
       "  <thead>\n",
       "    <tr style=\"text-align: right;\">\n",
       "      <th></th>\n",
       "      <th>Real GDP</th>\n",
       "      <th>Consumption</th>\n",
       "      <th>Nonresidential  Investment</th>\n",
       "      <th>Residential Investment</th>\n",
       "      <th>Change in Inventories</th>\n",
       "      <th>Net Exports</th>\n",
       "      <th>Government Spending</th>\n",
       "    </tr>\n",
       "    <tr>\n",
       "      <th>Date</th>\n",
       "      <th></th>\n",
       "      <th></th>\n",
       "      <th></th>\n",
       "      <th></th>\n",
       "      <th></th>\n",
       "      <th></th>\n",
       "      <th></th>\n",
       "    </tr>\n",
       "  </thead>\n",
       "  <tbody>\n",
       "    <tr>\n",
       "      <th>2023-01-01</th>\n",
       "      <td>2.9</td>\n",
       "      <td>2.99</td>\n",
       "      <td>1.13</td>\n",
       "      <td>-0.28</td>\n",
       "      <td>-2.18</td>\n",
       "      <td>0.58</td>\n",
       "      <td>0.69</td>\n",
       "    </tr>\n",
       "    <tr>\n",
       "      <th>2023-04-01</th>\n",
       "      <td>2.5</td>\n",
       "      <td>1.02</td>\n",
       "      <td>1.47</td>\n",
       "      <td>0.16</td>\n",
       "      <td>-0.36</td>\n",
       "      <td>-0.30</td>\n",
       "      <td>0.56</td>\n",
       "    </tr>\n",
       "    <tr>\n",
       "      <th>2023-07-01</th>\n",
       "      <td>4.7</td>\n",
       "      <td>2.08</td>\n",
       "      <td>0.25</td>\n",
       "      <td>0.44</td>\n",
       "      <td>0.97</td>\n",
       "      <td>0.09</td>\n",
       "      <td>0.87</td>\n",
       "    </tr>\n",
       "    <tr>\n",
       "      <th>2023-10-01</th>\n",
       "      <td>3.4</td>\n",
       "      <td>2.04</td>\n",
       "      <td>0.76</td>\n",
       "      <td>0.06</td>\n",
       "      <td>-0.17</td>\n",
       "      <td>-0.06</td>\n",
       "      <td>0.79</td>\n",
       "    </tr>\n",
       "    <tr>\n",
       "      <th>2024-01-01</th>\n",
       "      <td>0.8</td>\n",
       "      <td>1.17</td>\n",
       "      <td>0.22</td>\n",
       "      <td>0.32</td>\n",
       "      <td>-0.83</td>\n",
       "      <td>-0.42</td>\n",
       "      <td>0.39</td>\n",
       "    </tr>\n",
       "    <tr>\n",
       "      <th>2024-04-01</th>\n",
       "      <td>3.6</td>\n",
       "      <td>2.61</td>\n",
       "      <td>0.35</td>\n",
       "      <td>-0.08</td>\n",
       "      <td>1.17</td>\n",
       "      <td>-1.04</td>\n",
       "      <td>0.57</td>\n",
       "    </tr>\n",
       "    <tr>\n",
       "      <th>2024-07-01</th>\n",
       "      <td>3.3</td>\n",
       "      <td>2.66</td>\n",
       "      <td>0.48</td>\n",
       "      <td>-0.20</td>\n",
       "      <td>-0.11</td>\n",
       "      <td>-0.41</td>\n",
       "      <td>0.92</td>\n",
       "    </tr>\n",
       "    <tr>\n",
       "      <th>2024-10-01</th>\n",
       "      <td>1.9</td>\n",
       "      <td>2.61</td>\n",
       "      <td>-0.51</td>\n",
       "      <td>0.17</td>\n",
       "      <td>-0.91</td>\n",
       "      <td>-0.06</td>\n",
       "      <td>0.57</td>\n",
       "    </tr>\n",
       "    <tr>\n",
       "      <th>2025-01-01</th>\n",
       "      <td>-0.6</td>\n",
       "      <td>0.42</td>\n",
       "      <td>1.24</td>\n",
       "      <td>-0.04</td>\n",
       "      <td>2.58</td>\n",
       "      <td>-4.68</td>\n",
       "      <td>-0.17</td>\n",
       "    </tr>\n",
       "    <tr>\n",
       "      <th>2025-04-01</th>\n",
       "      <td>3.8</td>\n",
       "      <td>1.68</td>\n",
       "      <td>0.98</td>\n",
       "      <td>-0.21</td>\n",
       "      <td>-3.44</td>\n",
       "      <td>4.83</td>\n",
       "      <td>-0.01</td>\n",
       "    </tr>\n",
       "    <tr>\n",
       "      <th>2025-07-01</th>\n",
       "      <td>3.9</td>\n",
       "      <td>2.28</td>\n",
       "      <td>0.58</td>\n",
       "      <td>-0.19</td>\n",
       "      <td>0.37</td>\n",
       "      <td>0.58</td>\n",
       "      <td>0.26</td>\n",
       "    </tr>\n",
       "  </tbody>\n",
       "</table>\n",
       "</div>"
      ],
      "text/plain": [
       "            Real GDP  Consumption  Nonresidential  Investment  \\\n",
       "Date                                                            \n",
       "2023-01-01       2.9         2.99                        1.13   \n",
       "2023-04-01       2.5         1.02                        1.47   \n",
       "2023-07-01       4.7         2.08                        0.25   \n",
       "2023-10-01       3.4         2.04                        0.76   \n",
       "2024-01-01       0.8         1.17                        0.22   \n",
       "2024-04-01       3.6         2.61                        0.35   \n",
       "2024-07-01       3.3         2.66                        0.48   \n",
       "2024-10-01       1.9         2.61                       -0.51   \n",
       "2025-01-01      -0.6         0.42                        1.24   \n",
       "2025-04-01       3.8         1.68                        0.98   \n",
       "2025-07-01       3.9         2.28                        0.58   \n",
       "\n",
       "            Residential Investment  Change in Inventories  Net Exports  \\\n",
       "Date                                                                     \n",
       "2023-01-01                   -0.28                  -2.18         0.58   \n",
       "2023-04-01                    0.16                  -0.36        -0.30   \n",
       "2023-07-01                    0.44                   0.97         0.09   \n",
       "2023-10-01                    0.06                  -0.17        -0.06   \n",
       "2024-01-01                    0.32                  -0.83        -0.42   \n",
       "2024-04-01                   -0.08                   1.17        -1.04   \n",
       "2024-07-01                   -0.20                  -0.11        -0.41   \n",
       "2024-10-01                    0.17                  -0.91        -0.06   \n",
       "2025-01-01                   -0.04                   2.58        -4.68   \n",
       "2025-04-01                   -0.21                  -3.44         4.83   \n",
       "2025-07-01                   -0.19                   0.37         0.58   \n",
       "\n",
       "            Government Spending  \n",
       "Date                             \n",
       "2023-01-01                 0.69  \n",
       "2023-04-01                 0.56  \n",
       "2023-07-01                 0.87  \n",
       "2023-10-01                 0.79  \n",
       "2024-01-01                 0.39  \n",
       "2024-04-01                 0.57  \n",
       "2024-07-01                 0.92  \n",
       "2024-10-01                 0.57  \n",
       "2025-01-01                -0.17  \n",
       "2025-04-01                -0.01  \n",
       "2025-07-01                 0.26  "
      ]
     },
     "execution_count": 7,
     "metadata": {},
     "output_type": "execute_result"
    }
   ],
   "source": [
    "today = dt.date.today()\n",
    "\n",
    "contrib_df = pd.read_csv(\n",
    "    ut.get_repo_root() / \"code\" / \"data\" / \"gdp_contrib.csv\")\n",
    "\n",
    "contrib_df = contrib_df.dropna(axis=\"columns\").rename(columns=\n",
    "    {\"Unnamed: 0\": \"Year\",\n",
    "    \"Unnamed: 1\": \"Quarter\"},\n",
    ")\n",
    "\n",
    "contrib_df[\"Date\"] = pd.to_datetime(contrib_df[\"Year\"].astype(str) + contrib_df[\"Quarter\"])\n",
    "\n",
    "contrib_df = contrib_df.set_index(\"Date\").drop(columns=[\"Year\", \"Quarter\"])\n",
    "contrib_df"
   ]
  },
  {
   "cell_type": "code",
   "execution_count": null,
   "id": "d385f5ac",
   "metadata": {},
   "outputs": [
    {
     "data": {
      "text/plain": [
       "Index(['Real GDP', 'Consumption', 'Nonresidential  Investment',\n",
       "       'Residential Investment', 'Change in Inventories', 'Net Exports',\n",
       "       'Government Spending'],\n",
       "      dtype='object')"
      ]
     },
     "execution_count": 8,
     "metadata": {},
     "output_type": "execute_result"
    }
   ],
   "source": []
  },
  {
   "cell_type": "code",
   "execution_count": 39,
   "id": "1121b2cf",
   "metadata": {},
   "outputs": [
    {
     "data": {
      "application/vnd.plotly.v1+json": {
       "config": {
        "plotlyServerURL": "https://plot.ly"
       },
       "data": [
        {
         "marker": {
          "color": "#CF8B40"
         },
         "name": "Consumption",
         "type": "bar",
         "x": [
          "2023-01-01T00:00:00.000000000",
          "2023-04-01T00:00:00.000000000",
          "2023-07-01T00:00:00.000000000",
          "2023-10-01T00:00:00.000000000",
          "2024-01-01T00:00:00.000000000",
          "2024-04-01T00:00:00.000000000",
          "2024-07-01T00:00:00.000000000",
          "2024-10-01T00:00:00.000000000",
          "2025-01-01T00:00:00.000000000",
          "2025-04-01T00:00:00.000000000",
          "2025-07-01T00:00:00.000000000"
         ],
         "y": {
          "bdata": "7FG4HoXrB0BSuB6F61HwP6RwPQrXowBAUrgehetRAEC4HoXrUbjyP+F6FK5H4QRASOF6FK5HBUDhehSuR+EEQOF6FK5H4do/4XoUrkfh+j89CtejcD0CQA==",
          "dtype": "f8"
         }
        },
        {
         "marker": {
          "color": "#163855"
         },
         "name": "Nonresidential  Investment",
         "type": "bar",
         "x": [
          "2023-01-01T00:00:00.000000000",
          "2023-04-01T00:00:00.000000000",
          "2023-07-01T00:00:00.000000000",
          "2023-10-01T00:00:00.000000000",
          "2024-01-01T00:00:00.000000000",
          "2024-04-01T00:00:00.000000000",
          "2024-07-01T00:00:00.000000000",
          "2024-10-01T00:00:00.000000000",
          "2025-01-01T00:00:00.000000000",
          "2025-04-01T00:00:00.000000000",
          "2025-07-01T00:00:00.000000000"
         ],
         "y": {
          "bdata": "FK5H4XoU8j+F61G4HoX3PwAAAAAAANA/UrgehetR6D8pXI/C9SjMP2ZmZmZmZtY/uB6F61G43j9SuB6F61Hgv9ejcD0K1/M/XI/C9Shc7z+PwvUoXI/iPw==",
          "dtype": "f8"
         }
        },
        {
         "marker": {
          "color": "#7095cf"
         },
         "name": "Residential Investment",
         "type": "bar",
         "x": [
          "2023-01-01T00:00:00.000000000",
          "2023-04-01T00:00:00.000000000",
          "2023-07-01T00:00:00.000000000",
          "2023-10-01T00:00:00.000000000",
          "2024-01-01T00:00:00.000000000",
          "2024-04-01T00:00:00.000000000",
          "2024-07-01T00:00:00.000000000",
          "2024-10-01T00:00:00.000000000",
          "2025-01-01T00:00:00.000000000",
          "2025-04-01T00:00:00.000000000",
          "2025-07-01T00:00:00.000000000"
         ],
         "y": {
          "bdata": "7FG4HoXr0b97FK5H4XrEPylcj8L1KNw/uB6F61G4rj97FK5H4XrUP3sUrkfherS/mpmZmZmZyb/D9Shcj8LFP3sUrkfheqS/4XoUrkfhyr9SuB6F61HIvw==",
          "dtype": "f8"
         }
        },
        {
         "marker": {
          "color": "#2A547E"
         },
         "name": "Change in Inventories",
         "type": "bar",
         "x": [
          "2023-01-01T00:00:00.000000000",
          "2023-04-01T00:00:00.000000000",
          "2023-07-01T00:00:00.000000000",
          "2023-10-01T00:00:00.000000000",
          "2024-01-01T00:00:00.000000000",
          "2024-04-01T00:00:00.000000000",
          "2024-07-01T00:00:00.000000000",
          "2024-10-01T00:00:00.000000000",
          "2025-01-01T00:00:00.000000000",
          "2025-04-01T00:00:00.000000000",
          "2025-07-01T00:00:00.000000000"
         ],
         "y": {
          "bdata": "cT0K16NwAcAK16NwPQrXvwrXo3A9Cu8/w/UoXI/Cxb+PwvUoXI/qv7gehetRuPI/KVyPwvUovL8fhetRuB7tv6RwPQrXowRAhetRuB6FC8CuR+F6FK7XPw==",
          "dtype": "f8"
         }
        },
        {
         "marker": {
          "color": "#D3D3D3"
         },
         "name": "Net Exports",
         "type": "bar",
         "x": [
          "2023-01-01T00:00:00.000000000",
          "2023-04-01T00:00:00.000000000",
          "2023-07-01T00:00:00.000000000",
          "2023-10-01T00:00:00.000000000",
          "2024-01-01T00:00:00.000000000",
          "2024-04-01T00:00:00.000000000",
          "2024-07-01T00:00:00.000000000",
          "2024-10-01T00:00:00.000000000",
          "2025-01-01T00:00:00.000000000",
          "2025-04-01T00:00:00.000000000",
          "2025-07-01T00:00:00.000000000"
         ],
         "y": {
          "bdata": "j8L1KFyP4j8zMzMzMzPTvwrXo3A9Crc/uB6F61G4rr/hehSuR+Hav6RwPQrXo/C/PQrXo3A92r+4HoXrUbiuv7gehetRuBLAUrgehetRE0CPwvUoXI/iPw==",
          "dtype": "f8"
         }
        },
        {
         "marker": {
          "color": "#879396"
         },
         "name": "Government Spending",
         "type": "bar",
         "x": [
          "2023-01-01T00:00:00.000000000",
          "2023-04-01T00:00:00.000000000",
          "2023-07-01T00:00:00.000000000",
          "2023-10-01T00:00:00.000000000",
          "2024-01-01T00:00:00.000000000",
          "2024-04-01T00:00:00.000000000",
          "2024-07-01T00:00:00.000000000",
          "2024-10-01T00:00:00.000000000",
          "2025-01-01T00:00:00.000000000",
          "2025-04-01T00:00:00.000000000",
          "2025-07-01T00:00:00.000000000"
         ],
         "y": {
          "bdata": "FK5H4XoU5j/sUbgehevhP9ejcD0K1+s/SOF6FK5H6T/2KFyPwvXYPz0K16NwPeI/cT0K16Nw7T89CtejcD3iP8P1KFyPwsW/exSuR+F6hL+kcD0K16PQPw==",
          "dtype": "f8"
         }
        },
        {
         "line": {
          "color": "black",
          "width": 3
         },
         "mode": "lines+markers",
         "name": "Real GDP",
         "type": "scatter",
         "x": [
          "2023-01-01T00:00:00.000000000",
          "2023-04-01T00:00:00.000000000",
          "2023-07-01T00:00:00.000000000",
          "2023-10-01T00:00:00.000000000",
          "2024-01-01T00:00:00.000000000",
          "2024-04-01T00:00:00.000000000",
          "2024-07-01T00:00:00.000000000",
          "2024-10-01T00:00:00.000000000",
          "2025-01-01T00:00:00.000000000",
          "2025-04-01T00:00:00.000000000",
          "2025-07-01T00:00:00.000000000"
         ],
         "y": {
          "bdata": "MzMzMzMzB0AAAAAAAAAEQM3MzMzMzBJAMzMzMzMzC0CamZmZmZnpP83MzMzMzAxAZmZmZmZmCkBmZmZmZmb+PzMzMzMzM+O/ZmZmZmZmDkAzMzMzMzMPQA==",
          "dtype": "f8"
         }
        }
       ],
       "layout": {
        "annotations": [
         {
          "font": {
           "color": "black",
           "size": 11
          },
          "showarrow": false,
          "text": "GDPNow Q3<br>3.9%",
          "x": "2025-07-01T00:00:00",
          "xanchor": "center",
          "y": 4.5,
          "yanchor": "bottom"
         }
        ],
        "barmode": "relative",
        "legend": {
         "orientation": "v",
         "title": {
          "text": "Component"
         },
         "x": 1.02,
         "xanchor": "left",
         "y": 0.5,
         "yanchor": "middle"
        },
        "template": {
         "data": {
          "scatter": [
           {
            "hovertemplate": "%{x|%Y-%m-%d}<br> %{y:.1f}<extra></extra>",
            "line": {
             "width": 3
            },
            "type": "scatter"
           }
          ]
         },
         "layout": {
          "colorway": [
           "#2A547E",
           "#CF8B40",
           "#879396",
           "#F7CAC9",
           "#7095cf"
          ],
          "height": 500,
          "legend": {
           "bgcolor": "rgba(0,0,0,0)",
           "borderwidth": 0,
           "font": {
            "color": "#163855",
            "family": "Cambria Bold",
            "size": 22
           },
           "orientation": "h",
           "x": 1,
           "xanchor": "right",
           "y": 1.05,
           "yanchor": "bottom"
          },
          "title": {
           "font": {
            "color": "#163855",
            "family": "Cambria Bold",
            "size": 36
           },
           "x": 0.05,
           "xanchor": "left"
          },
          "width": 1200,
          "xaxis": {
           "gridcolor": "#D3D3D3",
           "gridwidth": 0.5,
           "showgrid": true,
           "tickfont": {
            "color": "#163855",
            "family": "Cambria Bold",
            "size": 18
           },
           "title": {
            "font": {
             "color": "#163855",
             "family": "Cambria Bold",
             "size": 24
            }
           },
           "type": "date"
          },
          "yaxis": {
           "gridcolor": "#D3D3D3",
           "gridwidth": 0.5,
           "showgrid": true,
           "tickfont": {
            "color": "#163855",
            "family": "Cambria Bold",
            "size": 18
           },
           "title": {
            "font": {
             "color": "#163855",
             "family": "Cambria Bold",
             "size": 24
            }
           }
          }
         }
        },
        "title": {
         "text": "Real GDP by Component <br><sup>Quarterly, Annualized, Seasonally Adjusted</sup>"
        },
        "xaxis": {
         "dtick": "M12",
         "tickformat": "%Y",
         "title": {
          "text": "Date"
         }
        },
        "yaxis": {
         "tickformat": ".f",
         "ticksuffix": "%",
         "title": {
          "text": "Contribution to Percent Change"
         }
        }
       }
      }
     },
     "metadata": {},
     "output_type": "display_data"
    }
   ],
   "source": [
    "fig = go.Figure()\n",
    "\n",
    "\n",
    "# All colors with \"names\"\n",
    "colors_dict = {\n",
    "    'orange':  '#CF8B40',\n",
    "    'blue': '#2A547E' ,\n",
    "    'dark_gray': '#879396',\n",
    "    'beige':'#F7CAC9',\n",
    "    'light_blue': '#7095cf',\n",
    "    'light_gray': '#D3D3D3',\n",
    "    'dark_blue_text': '#163855'\n",
    "}\n",
    "\n",
    "# Ordered colors for order of trace coloring\n",
    "custom_colorway = [\n",
    "    colors_dict['orange'],\n",
    "    colors_dict['dark_blue_text'],\n",
    "    colors_dict['light_blue'],\n",
    "    colors_dict['blue'],\n",
    "    colors_dict['light_gray'],\n",
    "    colors_dict['dark_gray']\n",
    "]\n",
    "\n",
    "\n",
    "# Add stacked bars for all columns except 'Real GDP', using the custom color sequence\n",
    "for i, col in enumerate(bar_columns):\n",
    "    fig.add_trace(\n",
    "        go.Bar(\n",
    "            x=contrib_df.index,\n",
    "            y=contrib_df[col],\n",
    "            name=col,\n",
    "            marker_color=custom_colorway[i % len(custom_colorway)]\n",
    "        )\n",
    "    )\n",
    "\n",
    "# Add Real GDP as a line on top\n",
    "fig.add_trace(\n",
    "    go.Scatter(\n",
    "        x=contrib_df.index,\n",
    "        y=contrib_df[\"Real GDP\"],\n",
    "        name=\"Real GDP\",\n",
    "        mode=\"lines+markers\",\n",
    "        line=dict(color=\"black\", width=3)\n",
    "    )\n",
    ")\n",
    "\n",
    "# Add annotation for GDPNow at the final point on the x axis\n",
    "fig.add_annotation(\n",
    "    x=contrib_df.index[-1],\n",
    "    y=4.5,\n",
    "    text=\"GDPNow Q3<br>3.9%\",\n",
    "    showarrow=False,\n",
    "    font=dict(color=\"black\", size=11),\n",
    "    xanchor=\"center\",\n",
    "    yanchor=\"bottom\"\n",
    ")\n",
    "\n",
    "fig.update_layout(\n",
    "    legend=dict(\n",
    "        orientation=\"v\",\n",
    "        x=1.02,\n",
    "        y=0.5,\n",
    "        xanchor=\"left\",\n",
    "        yanchor=\"middle\"\n",
    "    ),\n",
    "    barmode='relative',\n",
    "    title=\"Real GDP by Component <br><sup>Quarterly, Annualized, Seasonally Adjusted</sup>\",\n",
    "    xaxis_title=\"Date\",\n",
    "    yaxis_title=\"Contribution to Percent Change\",\n",
    "    legend_title=\"Component\"\n",
    ")\n",
    "\n",
    "fig.update_xaxes(\n",
    "    dtick=\"M12\",\n",
    "    tickformat=\"%Y\",\n",
    ")\n",
    "fig.update_yaxes(ticksuffix=\"%\", tickformat=\".f\")\n",
    "\n",
    "\n",
    "fig.write_html(GRAPH_OUTPUT_PATH / f\"{GRAPH_NAME}.html\")\n",
    "fig.show()"
   ]
  }
 ],
 "metadata": {
  "kernelspec": {
   "display_name": ".venv",
   "language": "python",
   "name": "python3"
  },
  "language_info": {
   "codemirror_mode": {
    "name": "ipython",
    "version": 3
   },
   "file_extension": ".py",
   "mimetype": "text/x-python",
   "name": "python",
   "nbconvert_exporter": "python",
   "pygments_lexer": "ipython3",
   "version": "3.13.7"
  }
 },
 "nbformat": 4,
 "nbformat_minor": 5
}
