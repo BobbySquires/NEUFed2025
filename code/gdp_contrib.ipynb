{
 "cells": [
  {
   "cell_type": "markdown",
   "id": "ec9a0460",
   "metadata": {},
   "source": [
    "This notebook walks through how to make graphs in this repo. You can copy this example.ipynb and rename it for your own graphing work. <b> Please do each graph in a seperate notebook!</b>\n",
    "\n",
    "1. Import the appropriate packages. We'll use plotly.graph_objects for making all of our graphs."
   ]
  },
  {
   "cell_type": "code",
   "execution_count": 11,
   "id": "b8a83946",
   "metadata": {},
   "outputs": [],
   "source": [
    "import datetime as dt\n",
    "import plotly.graph_objects as go\n",
    "import plotly.io as pio\n",
    "import pandas as pd\n",
    "import utils.utils as ut\n",
    "import utils.graph_templates\n",
    "import numpy as np\n",
    "\n",
    "from fredapi import Fred"
   ]
  },
  {
   "cell_type": "markdown",
   "id": "533182f0",
   "metadata": {},
   "source": [
    "2. We'll get data using the fredapi package. Set the path to the text file with your API key"
   ]
  },
  {
   "cell_type": "code",
   "execution_count": 2,
   "id": "f81e1110",
   "metadata": {},
   "outputs": [],
   "source": [
    "# Call the graph the exact same thing as its notebook (minus the ipynb suffix) NAME FOR THE FILE, not the title\n",
    "GRAPH_NAME = \"gdp_contrib\"\n",
    "\n",
    "API_KEY_PATH = ut.get_repo_root() / \"fred_api_key.txt\" \n",
    "\n",
    "fred = Fred(api_key_file = API_KEY_PATH)"
   ]
  },
  {
   "cell_type": "markdown",
   "id": "ee2ebb59",
   "metadata": {},
   "source": [
    "3. Set the fed_2025 template as default"
   ]
  },
  {
   "cell_type": "code",
   "execution_count": 3,
   "id": "00bbbcaa",
   "metadata": {},
   "outputs": [],
   "source": [
    "pio.templates.default = 'fed_2025'\n",
    "\n",
    "# Now is a good time to set the path to the graph output folder!\n",
    "GRAPH_OUTPUT_PATH = ut.get_repo_root() / \"figures\""
   ]
  },
  {
   "cell_type": "code",
   "execution_count": 15,
   "id": "bfc2b297",
   "metadata": {},
   "outputs": [
    {
     "name": "stderr",
     "output_type": "stream",
     "text": [
      "C:\\Users\\Bobby\\AppData\\Local\\Temp\\ipykernel_21052\\2530312567.py:11: UserWarning:\n",
      "\n",
      "Could not infer format, so each element will be parsed individually, falling back to `dateutil`. To ensure parsing is consistent and as-expected, please specify a format.\n",
      "\n"
     ]
    },
    {
     "data": {
      "text/html": [
       "<div>\n",
       "<style scoped>\n",
       "    .dataframe tbody tr th:only-of-type {\n",
       "        vertical-align: middle;\n",
       "    }\n",
       "\n",
       "    .dataframe tbody tr th {\n",
       "        vertical-align: top;\n",
       "    }\n",
       "\n",
       "    .dataframe thead th {\n",
       "        text-align: right;\n",
       "    }\n",
       "</style>\n",
       "<table border=\"1\" class=\"dataframe\">\n",
       "  <thead>\n",
       "    <tr style=\"text-align: right;\">\n",
       "      <th></th>\n",
       "      <th>Real GDP</th>\n",
       "      <th>Consumption</th>\n",
       "      <th>Nonresidential  Investment</th>\n",
       "      <th>Residential Investment</th>\n",
       "      <th>Change in Inventories</th>\n",
       "      <th>Net Exports</th>\n",
       "      <th>Government Spending</th>\n",
       "    </tr>\n",
       "    <tr>\n",
       "      <th>Date</th>\n",
       "      <th></th>\n",
       "      <th></th>\n",
       "      <th></th>\n",
       "      <th></th>\n",
       "      <th></th>\n",
       "      <th></th>\n",
       "      <th></th>\n",
       "    </tr>\n",
       "  </thead>\n",
       "  <tbody>\n",
       "    <tr>\n",
       "      <th>2024-07-01</th>\n",
       "      <td>3.3</td>\n",
       "      <td>2.66</td>\n",
       "      <td>0.48</td>\n",
       "      <td>-0.20</td>\n",
       "      <td>-0.11</td>\n",
       "      <td>-0.41</td>\n",
       "      <td>0.92</td>\n",
       "    </tr>\n",
       "    <tr>\n",
       "      <th>2024-10-01</th>\n",
       "      <td>1.9</td>\n",
       "      <td>2.61</td>\n",
       "      <td>-0.51</td>\n",
       "      <td>0.17</td>\n",
       "      <td>-0.91</td>\n",
       "      <td>-0.06</td>\n",
       "      <td>0.57</td>\n",
       "    </tr>\n",
       "    <tr>\n",
       "      <th>2025-01-01</th>\n",
       "      <td>-0.6</td>\n",
       "      <td>0.42</td>\n",
       "      <td>1.24</td>\n",
       "      <td>-0.04</td>\n",
       "      <td>2.58</td>\n",
       "      <td>-4.68</td>\n",
       "      <td>-0.17</td>\n",
       "    </tr>\n",
       "    <tr>\n",
       "      <th>2025-04-01</th>\n",
       "      <td>3.8</td>\n",
       "      <td>1.68</td>\n",
       "      <td>0.98</td>\n",
       "      <td>-0.21</td>\n",
       "      <td>-3.44</td>\n",
       "      <td>4.83</td>\n",
       "      <td>-0.01</td>\n",
       "    </tr>\n",
       "    <tr>\n",
       "      <th>2025-07-01</th>\n",
       "      <td>NaN</td>\n",
       "      <td>2.28</td>\n",
       "      <td>0.58</td>\n",
       "      <td>-0.19</td>\n",
       "      <td>0.37</td>\n",
       "      <td>0.58</td>\n",
       "      <td>0.26</td>\n",
       "    </tr>\n",
       "  </tbody>\n",
       "</table>\n",
       "</div>"
      ],
      "text/plain": [
       "            Real GDP  Consumption  Nonresidential  Investment  \\\n",
       "Date                                                            \n",
       "2024-07-01       3.3         2.66                        0.48   \n",
       "2024-10-01       1.9         2.61                       -0.51   \n",
       "2025-01-01      -0.6         0.42                        1.24   \n",
       "2025-04-01       3.8         1.68                        0.98   \n",
       "2025-07-01       NaN         2.28                        0.58   \n",
       "\n",
       "            Residential Investment  Change in Inventories  Net Exports  \\\n",
       "Date                                                                     \n",
       "2024-07-01                   -0.20                  -0.11        -0.41   \n",
       "2024-10-01                    0.17                  -0.91        -0.06   \n",
       "2025-01-01                   -0.04                   2.58        -4.68   \n",
       "2025-04-01                   -0.21                  -3.44         4.83   \n",
       "2025-07-01                   -0.19                   0.37         0.58   \n",
       "\n",
       "            Government Spending  \n",
       "Date                             \n",
       "2024-07-01                 0.92  \n",
       "2024-10-01                 0.57  \n",
       "2025-01-01                -0.17  \n",
       "2025-04-01                -0.01  \n",
       "2025-07-01                 0.26  "
      ]
     },
     "execution_count": 15,
     "metadata": {},
     "output_type": "execute_result"
    }
   ],
   "source": [
    "today = dt.date.today()\n",
    "\n",
    "contrib_df = pd.read_csv(\n",
    "    ut.get_repo_root() / \"code\" / \"data\" / \"gdp_contrib.csv\")\n",
    "\n",
    "contrib_df = contrib_df.dropna(axis=\"columns\").rename(columns=\n",
    "    {\"Unnamed: 0\": \"Year\",\n",
    "    \"Unnamed: 1\": \"Quarter\"},\n",
    ")\n",
    "\n",
    "contrib_df[\"Date\"] = pd.to_datetime(contrib_df[\"Year\"].astype(str) + contrib_df[\"Quarter\"])\n",
    "\n",
    "\n",
    "contrib_df = contrib_df.set_index(\"Date\").drop(columns=[\"Year\", \"Quarter\"])\n",
    "\n",
    "contrib_df = contrib_df.loc[contrib_df.index >= pd.to_datetime(\"2024-01-01\")]\n",
    "\n",
    "contrib_df.loc['2025-07-01', 'Real GDP'] = np.nan  # July 1, 2025 Nowcast\n",
    "\n",
    "contrib_df.tail()"
   ]
  },
  {
   "cell_type": "code",
   "execution_count": 101,
   "id": "1121b2cf",
   "metadata": {},
   "outputs": [
    {
     "data": {
      "application/vnd.plotly.v1+json": {
       "config": {
        "plotlyServerURL": "https://plot.ly"
       },
       "data": [
        {
         "marker": {
          "color": "#CF8B40"
         },
         "name": "Consumption",
         "type": "bar",
         "x": [
          "2024-01-01T00:00:00",
          "2024-04-01T00:00:00",
          "2024-07-01T00:00:00",
          "2024-10-01T00:00:00",
          "2025-01-01T00:00:00",
          "2025-04-01T00:00:00",
          "2025-07-01T00:00:00"
         ],
         "y": {
          "bdata": "uB6F61G48j/hehSuR+EEQEjhehSuRwVA4XoUrkfhBEDhehSuR+HaP+F6FK5H4fo/PQrXo3A9AkA=",
          "dtype": "f8"
         }
        },
        {
         "marker": {
          "color": "#163855"
         },
         "name": "Nonresidential  Investment",
         "type": "bar",
         "x": [
          "2024-01-01T00:00:00",
          "2024-04-01T00:00:00",
          "2024-07-01T00:00:00",
          "2024-10-01T00:00:00",
          "2025-01-01T00:00:00",
          "2025-04-01T00:00:00",
          "2025-07-01T00:00:00"
         ],
         "y": {
          "bdata": "KVyPwvUozD9mZmZmZmbWP7gehetRuN4/UrgehetR4L/Xo3A9CtfzP1yPwvUoXO8/j8L1KFyP4j8=",
          "dtype": "f8"
         }
        },
        {
         "marker": {
          "color": "#7095cf"
         },
         "name": "Residential Investment",
         "type": "bar",
         "x": [
          "2024-01-01T00:00:00",
          "2024-04-01T00:00:00",
          "2024-07-01T00:00:00",
          "2024-10-01T00:00:00",
          "2025-01-01T00:00:00",
          "2025-04-01T00:00:00",
          "2025-07-01T00:00:00"
         ],
         "y": {
          "bdata": "exSuR+F61D97FK5H4Xq0v5qZmZmZmcm/w/UoXI/CxT97FK5H4Xqkv+F6FK5H4cq/UrgehetRyL8=",
          "dtype": "f8"
         }
        },
        {
         "marker": {
          "color": "#2A547E"
         },
         "name": "Change in Inventories",
         "type": "bar",
         "x": [
          "2024-01-01T00:00:00",
          "2024-04-01T00:00:00",
          "2024-07-01T00:00:00",
          "2024-10-01T00:00:00",
          "2025-01-01T00:00:00",
          "2025-04-01T00:00:00",
          "2025-07-01T00:00:00"
         ],
         "y": {
          "bdata": "j8L1KFyP6r+4HoXrUbjyPylcj8L1KLy/H4XrUbge7b+kcD0K16MEQIXrUbgehQvArkfhehSu1z8=",
          "dtype": "f8"
         }
        },
        {
         "marker": {
          "color": "#D3D3D3"
         },
         "name": "Net Exports",
         "type": "bar",
         "x": [
          "2024-01-01T00:00:00",
          "2024-04-01T00:00:00",
          "2024-07-01T00:00:00",
          "2024-10-01T00:00:00",
          "2025-01-01T00:00:00",
          "2025-04-01T00:00:00",
          "2025-07-01T00:00:00"
         ],
         "y": {
          "bdata": "4XoUrkfh2r+kcD0K16Pwvz0K16NwPdq/uB6F61G4rr+4HoXrUbgSwFK4HoXrURNAj8L1KFyP4j8=",
          "dtype": "f8"
         }
        },
        {
         "marker": {
          "color": "#879396"
         },
         "name": "Government Spending",
         "type": "bar",
         "x": [
          "2024-01-01T00:00:00",
          "2024-04-01T00:00:00",
          "2024-07-01T00:00:00",
          "2024-10-01T00:00:00",
          "2025-01-01T00:00:00",
          "2025-04-01T00:00:00",
          "2025-07-01T00:00:00"
         ],
         "y": {
          "bdata": "9ihcj8L12D89CtejcD3iP3E9CtejcO0/PQrXo3A94j/D9Shcj8LFv3sUrkfheoS/pHA9Ctej0D8=",
          "dtype": "f8"
         }
        },
        {
         "line": {
          "color": "black",
          "width": 3
         },
         "mode": "lines+markers",
         "name": "Real GDP",
         "type": "scatter",
         "x": [
          "2024-01-01T00:00:00",
          "2024-04-01T00:00:00",
          "2024-07-01T00:00:00",
          "2024-10-01T00:00:00",
          "2025-01-01T00:00:00",
          "2025-04-01T00:00:00",
          "2025-07-01T00:00:00"
         ],
         "y": {
          "bdata": "mpmZmZmZ6T/NzMzMzMwMQGZmZmZmZgpAZmZmZmZm/j8zMzMzMzPjv2ZmZmZmZg5AAAAAAAAA+H8=",
          "dtype": "f8"
         }
        },
        {
         "line": {
          "dash": "dash"
         },
         "marker": {
          "color": "green",
          "size": 8,
          "symbol": "square"
         },
         "mode": "lines+markers+text",
         "name": "NY Fed Nowcast",
         "text": [
          "",
          "",
          "Nowcast: 2.3%"
         ],
         "textfont": {
          "color": "green",
          "size": 12
         },
         "textposition": "top center",
         "type": "scatter",
         "x": [
          "2025-04-01",
          "2025-07-01",
          "2025-10-01"
         ],
         "y": [
          3.8,
          2.3,
          2.3
         ]
        },
        {
         "line": {
          "dash": "dash"
         },
         "marker": {
          "color": "purple",
          "size": 8,
          "symbol": "diamond"
         },
         "mode": "lines+markers+text",
         "name": "GDPNow",
         "text": [
          "",
          "GDPNow: 3.9%"
         ],
         "textfont": {
          "color": "purple",
          "size": 12
         },
         "textposition": "top center",
         "type": "scatter",
         "x": [
          "2025-04-01",
          "2025-07-01"
         ],
         "y": [
          3.8,
          3.9
         ]
        },
        {
         "line": {
          "color": "red",
          "dash": "dash"
         },
         "marker": {
          "color": "red",
          "size": 8,
          "symbol": "triangle-up"
         },
         "mode": "lines+text+markers",
         "name": "Sep. SEP EOY 2025",
         "text": [
          "",
          "",
          "",
          "SEP: 1.6%"
         ],
         "textfont": {
          "color": "red",
          "size": 12
         },
         "textposition": "bottom center",
         "type": "scatter",
         "x": [
          "2025-01-01",
          "2025-04-01",
          "2025-07-01",
          "2025-10-01"
         ],
         "y": [
          1.6,
          1.6,
          1.6,
          1.6
         ]
        }
       ],
       "layout": {
        "barmode": "relative",
        "height": 550,
        "legend": {
         "font": {
          "size": 18
         },
         "orientation": "v",
         "title": {
          "text": "Component"
         },
         "x": 1,
         "xanchor": "left",
         "y": 0.5,
         "yanchor": "middle"
        },
        "template": {
         "data": {
          "scatter": [
           {
            "hovertemplate": "%{x|%Y-%m-%d}<br> %{y:.1f}<extra></extra>",
            "line": {
             "width": 3
            },
            "type": "scatter"
           }
          ]
         },
         "layout": {
          "colorway": [
           "#2A547E",
           "#CF8B40",
           "#879396",
           "#F7CAC9",
           "#7095cf"
          ],
          "height": 500,
          "legend": {
           "bgcolor": "rgba(0,0,0,0)",
           "borderwidth": 0,
           "font": {
            "color": "#163855",
            "family": "Cambria Bold",
            "size": 22
           },
           "orientation": "h",
           "x": 1,
           "xanchor": "right",
           "y": 1.05,
           "yanchor": "bottom"
          },
          "title": {
           "font": {
            "color": "#163855",
            "family": "Cambria Bold",
            "size": 36
           },
           "x": 0.05,
           "xanchor": "left"
          },
          "width": 1200,
          "xaxis": {
           "gridcolor": "#D3D3D3",
           "gridwidth": 0.5,
           "showgrid": true,
           "tickfont": {
            "color": "#163855",
            "family": "Cambria Bold",
            "size": 18
           },
           "title": {
            "font": {
             "color": "#163855",
             "family": "Cambria Bold",
             "size": 24
            }
           },
           "type": "date"
          },
          "yaxis": {
           "gridcolor": "#D3D3D3",
           "gridwidth": 0.5,
           "showgrid": true,
           "tickfont": {
            "color": "#163855",
            "family": "Cambria Bold",
            "size": 18
           },
           "title": {
            "font": {
             "color": "#163855",
             "family": "Cambria Bold",
             "size": 24
            }
           }
          }
         }
        },
        "title": {
         "text": "Real GDP by Component <br><sup>Quarterly, Annualized, Seasonally Adjusted</sup>"
        },
        "width": 1150,
        "xaxis": {
         "dtick": "M12",
         "tickformat": "%Y",
         "title": {}
        },
        "yaxis": {
         "tickformat": ".f",
         "ticksuffix": "%",
         "title": {
          "text": "Contribution to Percent Change"
         }
        }
       }
      }
     },
     "metadata": {},
     "output_type": "display_data"
    }
   ],
   "source": [
    "fig = go.Figure()\n",
    "\n",
    "\n",
    "# All colors with \"names\"\n",
    "colors_dict = {\n",
    "    'orange':  '#CF8B40',\n",
    "    'blue': '#2A547E' ,\n",
    "    'dark_gray': '#879396',\n",
    "    'beige':'#F7CAC9',\n",
    "    'light_blue': '#7095cf',\n",
    "    'light_gray': '#D3D3D3',\n",
    "    'dark_blue_text': '#163855'\n",
    "}\n",
    "\n",
    "# Ordered colors for order of trace coloring\n",
    "custom_colorway = [\n",
    "    colors_dict['orange'],\n",
    "    colors_dict['dark_blue_text'],\n",
    "    colors_dict['light_blue'],\n",
    "    colors_dict['blue'],\n",
    "    colors_dict['light_gray'],\n",
    "    colors_dict['dark_gray']\n",
    "]\n",
    "\n",
    "bar_columns = [col for col in contrib_df.columns if col != \"Real GDP\"]\n",
    "\n",
    "# Add stacked bars for all columns except 'Real GDP', using the custom color sequence\n",
    "for i, col in enumerate(bar_columns):\n",
    "    fig.add_trace(\n",
    "        go.Bar(\n",
    "            x=contrib_df.index,\n",
    "            y=contrib_df[col],\n",
    "            name=col,\n",
    "            marker_color=custom_colorway[i % len(custom_colorway)]\n",
    "        )\n",
    "    )\n",
    "\n",
    "# Add Real GDP as a line on top\n",
    "fig.add_trace(\n",
    "    go.Scatter(\n",
    "        x=contrib_df.index,\n",
    "        y=contrib_df[\"Real GDP\"],\n",
    "        name=\"Real GDP\",\n",
    "        mode=\"lines+markers\",\n",
    "        line=dict(color=\"black\", width=3)\n",
    "    )\n",
    ")\n",
    "\n",
    "# # Add annotation for GDPNow at the final point on the x axis\n",
    "# fig.add_annotation(\n",
    "#     x=contrib_df.index[-1],\n",
    "#     y=4.5,\n",
    "#     text=\"GDPNow: 3.9%\",\n",
    "#     showarrow=False,\n",
    "#     font=dict(color=\"black\", size=11),\n",
    "#     xanchor=\"center\",\n",
    "#     yanchor=\"bottom\"\n",
    "# )\n",
    "\n",
    "fig.update_layout(\n",
    "    legend=dict(\n",
    "        font=dict(size= 18),\n",
    "        orientation=\"v\",\n",
    "        x=1,\n",
    "        y=0.5,\n",
    "        xanchor=\"left\",\n",
    "        yanchor=\"middle\"\n",
    "    ),\n",
    "    barmode='relative',\n",
    "    title=\"Real GDP by Component <br><sup>Quarterly, Annualized, Seasonally Adjusted</sup>\",\n",
    "    xaxis_title=\"Date\",\n",
    "    yaxis_title=\"Contribution to Percent Change\",\n",
    "    legend_title=\"Component\"\n",
    ")\n",
    "\n",
    "fig.add_trace(go.Scatter(\n",
    "    x=[\"2025-04-01\", \"2025-07-01\", \"2025-10-01\"],\n",
    "    y=[3.8, 2.3, 2.3],\n",
    "    mode='lines+markers+text',\n",
    "    text=['','', 'Nowcast: 2.3%'],  # Labels for the dots\n",
    "    textposition='top center',\n",
    "    line=dict(dash='dash'),\n",
    "    textfont=dict(color='green', size=12),\n",
    "    marker=dict(size=8, color='green', symbol='square'),\n",
    "    name='NY Fed Nowcast'\n",
    "))\n",
    "\n",
    "fig.add_trace(go.Scatter(\n",
    "    x=[\"2025-04-01\", \"2025-07-01\"],\n",
    "    y=[3.8, 3.9],\n",
    "    mode='lines+markers+text',\n",
    "    text=['', 'GDPNow: 3.9%'],  # Labels for the dots\n",
    "    textposition='top center',\n",
    "    line=dict(dash='dash'),\n",
    "    textfont=dict(color='purple', size=12),\n",
    "    marker=dict(size=8, color='purple', symbol='diamond'),\n",
    "    name='GDPNow'\n",
    "))\n",
    "\n",
    "\n",
    "fig.add_trace(go.Scatter(\n",
    "    x=[\"2025-01-01\", \"2025-04-01\", \"2025-07-01\", \"2025-10-01\"],\n",
    "    y=[1.6, 1.6, 1.6, 1.6],\n",
    "    mode='lines+text+markers',\n",
    "    text=['', '', '', 'SEP: 1.6%'],  # Labels for the dots\n",
    "    textposition='bottom center',\n",
    "    line=dict(dash='dash', color='red'),\n",
    "    textfont=dict(color='red', size=12),\n",
    "    marker=dict(size=8, color='red', symbol='triangle-up'),\n",
    "    name='Sep. SEP EOY 2025'\n",
    "))\n",
    "\n",
    "fig.update_xaxes(\n",
    "    dtick=\"M12\",\n",
    "    tickformat=\"%Y\",\n",
    "    title_text=None,\n",
    ")\n",
    "\n",
    "fig.update_layout(\n",
    "    height=550,\n",
    "    width=1150,\n",
    ")\n",
    "fig.update_yaxes(ticksuffix=\"%\", tickformat=\".f\")\n",
    "\n",
    "\n",
    "fig.write_html(GRAPH_OUTPUT_PATH / f\"{GRAPH_NAME}.html\")\n",
    "fig.show()"
   ]
  }
 ],
 "metadata": {
  "kernelspec": {
   "display_name": ".venv",
   "language": "python",
   "name": "python3"
  },
  "language_info": {
   "codemirror_mode": {
    "name": "ipython",
    "version": 3
   },
   "file_extension": ".py",
   "mimetype": "text/x-python",
   "name": "python",
   "nbconvert_exporter": "python",
   "pygments_lexer": "ipython3",
   "version": "3.13.7"
  }
 },
 "nbformat": 4,
 "nbformat_minor": 5
}
