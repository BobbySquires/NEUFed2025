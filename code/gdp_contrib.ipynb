{
 "cells": [
  {
   "cell_type": "markdown",
   "id": "ec9a0460",
   "metadata": {},
   "source": [
    "This notebook walks through how to make graphs in this repo. You can copy this example.ipynb and rename it for your own graphing work. <b> Please do each graph in a seperate notebook!</b>\n",
    "\n",
    "1. Import the appropriate packages. We'll use plotly.graph_objects for making all of our graphs."
   ]
  },
  {
   "cell_type": "code",
   "execution_count": 1,
   "id": "b8a83946",
   "metadata": {},
   "outputs": [],
   "source": [
    "import datetime as dt\n",
    "import plotly.graph_objects as go\n",
    "import plotly.io as pio\n",
    "import pandas as pd\n",
    "import utils.utils as ut\n",
    "import utils.graph_templates\n",
    "\n",
    "from fredapi import Fred"
   ]
  },
  {
   "cell_type": "markdown",
   "id": "533182f0",
   "metadata": {},
   "source": [
    "2. We'll get data using the fredapi package. Set the path to the text file with your API key"
   ]
  },
  {
   "cell_type": "code",
   "execution_count": 2,
   "id": "f81e1110",
   "metadata": {},
   "outputs": [],
   "source": [
    "# Call the graph the exact same thing as its notebook (minus the ipynb suffix) NAME FOR THE FILE, not the title\n",
    "GRAPH_NAME = \"gdp_contrib\"\n",
    "\n",
    "API_KEY_PATH = ut.get_repo_root() / \"fred_api_key.txt\" \n",
    "\n",
    "fred = Fred(api_key_file = API_KEY_PATH)"
   ]
  },
  {
   "cell_type": "markdown",
   "id": "ee2ebb59",
   "metadata": {},
   "source": [
    "3. Set the fed_2025 template as default"
   ]
  },
  {
   "cell_type": "code",
   "execution_count": 3,
   "id": "00bbbcaa",
   "metadata": {},
   "outputs": [],
   "source": [
    "pio.templates.default = 'fed_2025'\n",
    "\n",
    "# Now is a good time to set the path to the graph output folder!\n",
    "GRAPH_OUTPUT_PATH = ut.get_repo_root() / \"figures\""
   ]
  },
  {
   "cell_type": "code",
   "execution_count": 4,
   "id": "bfc2b297",
   "metadata": {},
   "outputs": [
    {
     "name": "stderr",
     "output_type": "stream",
     "text": [
      "C:\\Users\\Bobby\\AppData\\Local\\Temp\\ipykernel_9380\\2160308300.py:11: UserWarning: Could not infer format, so each element will be parsed individually, falling back to `dateutil`. To ensure parsing is consistent and as-expected, please specify a format.\n",
      "  contrib_df[\"Date\"] = pd.to_datetime(contrib_df[\"Year\"].astype(str) + contrib_df[\"Quarter\"])\n"
     ]
    }
   ],
   "source": [
    "today = dt.date.today()\n",
    "\n",
    "contrib_df = pd.read_csv(\n",
    "    ut.get_repo_root() / \"code\" / \"data\" / \"gdp_contrib.csv\")\n",
    "\n",
    "contrib_df = contrib_df.dropna(axis=\"columns\").rename(columns=\n",
    "    {\"Unnamed: 0\": \"Year\",\n",
    "    \"Unnamed: 1\": \"Quarter\"},\n",
    ")\n",
    "\n",
    "contrib_df[\"Date\"] = pd.to_datetime(contrib_df[\"Year\"].astype(str) + contrib_df[\"Quarter\"])\n",
    "\n",
    "\n",
    "contrib_df = contrib_df.set_index(\"Date\").drop(columns=[\"Year\", \"Quarter\"])\n",
    "\n",
    "contrib_df = contrib_df.loc[contrib_df.index >= pd.to_datetime(\"2024-01-01\")]"
   ]
  },
  {
   "cell_type": "code",
   "execution_count": null,
   "id": "1121b2cf",
   "metadata": {},
   "outputs": [
    {
     "data": {
      "application/vnd.plotly.v1+json": {
       "config": {
        "plotlyServerURL": "https://plot.ly"
       },
       "data": [
        {
         "marker": {
          "color": "#CF8B40"
         },
         "name": "Consumption",
         "type": "bar",
         "x": [
          "2024-01-01T00:00:00.000000000",
          "2024-04-01T00:00:00.000000000",
          "2024-07-01T00:00:00.000000000",
          "2024-10-01T00:00:00.000000000",
          "2025-01-01T00:00:00.000000000",
          "2025-04-01T00:00:00.000000000",
          "2025-07-01T00:00:00.000000000"
         ],
         "y": {
          "bdata": "uB6F61G48j/hehSuR+EEQEjhehSuRwVA4XoUrkfhBEDhehSuR+HaP+F6FK5H4fo/PQrXo3A9AkA=",
          "dtype": "f8"
         }
        },
        {
         "marker": {
          "color": "#163855"
         },
         "name": "Nonresidential  Investment",
         "type": "bar",
         "x": [
          "2024-01-01T00:00:00.000000000",
          "2024-04-01T00:00:00.000000000",
          "2024-07-01T00:00:00.000000000",
          "2024-10-01T00:00:00.000000000",
          "2025-01-01T00:00:00.000000000",
          "2025-04-01T00:00:00.000000000",
          "2025-07-01T00:00:00.000000000"
         ],
         "y": {
          "bdata": "KVyPwvUozD9mZmZmZmbWP7gehetRuN4/UrgehetR4L/Xo3A9CtfzP1yPwvUoXO8/j8L1KFyP4j8=",
          "dtype": "f8"
         }
        },
        {
         "marker": {
          "color": "#7095cf"
         },
         "name": "Residential Investment",
         "type": "bar",
         "x": [
          "2024-01-01T00:00:00.000000000",
          "2024-04-01T00:00:00.000000000",
          "2024-07-01T00:00:00.000000000",
          "2024-10-01T00:00:00.000000000",
          "2025-01-01T00:00:00.000000000",
          "2025-04-01T00:00:00.000000000",
          "2025-07-01T00:00:00.000000000"
         ],
         "y": {
          "bdata": "exSuR+F61D97FK5H4Xq0v5qZmZmZmcm/w/UoXI/CxT97FK5H4Xqkv+F6FK5H4cq/UrgehetRyL8=",
          "dtype": "f8"
         }
        },
        {
         "marker": {
          "color": "#2A547E"
         },
         "name": "Change in Inventories",
         "type": "bar",
         "x": [
          "2024-01-01T00:00:00.000000000",
          "2024-04-01T00:00:00.000000000",
          "2024-07-01T00:00:00.000000000",
          "2024-10-01T00:00:00.000000000",
          "2025-01-01T00:00:00.000000000",
          "2025-04-01T00:00:00.000000000",
          "2025-07-01T00:00:00.000000000"
         ],
         "y": {
          "bdata": "j8L1KFyP6r+4HoXrUbjyPylcj8L1KLy/H4XrUbge7b+kcD0K16MEQIXrUbgehQvArkfhehSu1z8=",
          "dtype": "f8"
         }
        },
        {
         "marker": {
          "color": "#D3D3D3"
         },
         "name": "Net Exports",
         "type": "bar",
         "x": [
          "2024-01-01T00:00:00.000000000",
          "2024-04-01T00:00:00.000000000",
          "2024-07-01T00:00:00.000000000",
          "2024-10-01T00:00:00.000000000",
          "2025-01-01T00:00:00.000000000",
          "2025-04-01T00:00:00.000000000",
          "2025-07-01T00:00:00.000000000"
         ],
         "y": {
          "bdata": "4XoUrkfh2r+kcD0K16Pwvz0K16NwPdq/uB6F61G4rr+4HoXrUbgSwFK4HoXrURNAj8L1KFyP4j8=",
          "dtype": "f8"
         }
        },
        {
         "marker": {
          "color": "#879396"
         },
         "name": "Government Spending",
         "type": "bar",
         "x": [
          "2024-01-01T00:00:00.000000000",
          "2024-04-01T00:00:00.000000000",
          "2024-07-01T00:00:00.000000000",
          "2024-10-01T00:00:00.000000000",
          "2025-01-01T00:00:00.000000000",
          "2025-04-01T00:00:00.000000000",
          "2025-07-01T00:00:00.000000000"
         ],
         "y": {
          "bdata": "9ihcj8L12D89CtejcD3iP3E9CtejcO0/PQrXo3A94j/D9Shcj8LFv3sUrkfheoS/pHA9Ctej0D8=",
          "dtype": "f8"
         }
        },
        {
         "line": {
          "color": "black",
          "width": 3
         },
         "mode": "lines+markers",
         "name": "Real GDP",
         "type": "scatter",
         "x": [
          "2024-01-01T00:00:00.000000000",
          "2024-04-01T00:00:00.000000000",
          "2024-07-01T00:00:00.000000000",
          "2024-10-01T00:00:00.000000000",
          "2025-01-01T00:00:00.000000000",
          "2025-04-01T00:00:00.000000000",
          "2025-07-01T00:00:00.000000000"
         ],
         "y": {
          "bdata": "mpmZmZmZ6T/NzMzMzMwMQGZmZmZmZgpAZmZmZmZm/j8zMzMzMzPjv2ZmZmZmZg5AMzMzMzMzD0A=",
          "dtype": "f8"
         }
        }
       ],
       "layout": {
        "annotations": [
         {
          "font": {
           "color": "black",
           "size": 11
          },
          "showarrow": false,
          "text": "GDPNow Q3<br>3.9%",
          "x": "2025-07-01T00:00:00",
          "xanchor": "center",
          "y": 4.5,
          "yanchor": "bottom"
         }
        ],
        "barmode": "relative",
        "legend": {
         "orientation": "v",
         "title": {
          "text": "Component"
         },
         "x": 1.02,
         "xanchor": "left",
         "y": 0.5,
         "yanchor": "middle"
        },
        "template": {
         "data": {
          "scatter": [
           {
            "hovertemplate": "%{x|%Y-%m-%d}<br> %{y:.1f}<extra></extra>",
            "line": {
             "width": 3
            },
            "type": "scatter"
           }
          ]
         },
         "layout": {
          "colorway": [
           "#2A547E",
           "#CF8B40",
           "#879396",
           "#F7CAC9",
           "#7095cf"
          ],
          "height": 500,
          "legend": {
           "bgcolor": "rgba(0,0,0,0)",
           "borderwidth": 0,
           "font": {
            "color": "#163855",
            "family": "Cambria Bold",
            "size": 22
           },
           "orientation": "h",
           "x": 1,
           "xanchor": "right",
           "y": 1.05,
           "yanchor": "bottom"
          },
          "title": {
           "font": {
            "color": "#163855",
            "family": "Cambria Bold",
            "size": 36
           },
           "x": 0.05,
           "xanchor": "left"
          },
          "width": 1200,
          "xaxis": {
           "gridcolor": "#D3D3D3",
           "gridwidth": 0.5,
           "showgrid": true,
           "tickfont": {
            "color": "#163855",
            "family": "Cambria Bold",
            "size": 18
           },
           "title": {
            "font": {
             "color": "#163855",
             "family": "Cambria Bold",
             "size": 24
            }
           },
           "type": "date"
          },
          "yaxis": {
           "gridcolor": "#D3D3D3",
           "gridwidth": 0.5,
           "showgrid": true,
           "tickfont": {
            "color": "#163855",
            "family": "Cambria Bold",
            "size": 18
           },
           "title": {
            "font": {
             "color": "#163855",
             "family": "Cambria Bold",
             "size": 24
            }
           }
          }
         }
        },
        "title": {
         "text": "Real GDP by Component <br><sup>Quarterly, Annualized, Seasonally Adjusted</sup>"
        },
        "xaxis": {
         "dtick": "M12",
         "tickformat": "%Y",
         "title": {
          "text": "Date"
         }
        },
        "yaxis": {
         "tickformat": ".f",
         "ticksuffix": "%",
         "title": {
          "text": "Contribution to Percent Change"
         }
        }
       }
      }
     },
     "metadata": {},
     "output_type": "display_data"
    }
   ],
   "source": [
    "fig = go.Figure()\n",
    "\n",
    "\n",
    "# All colors with \"names\"\n",
    "colors_dict = {\n",
    "    'orange':  '#CF8B40',\n",
    "    'blue': '#2A547E' ,\n",
    "    'dark_gray': '#879396',\n",
    "    'beige':'#F7CAC9',\n",
    "    'light_blue': '#7095cf',\n",
    "    'light_gray': '#D3D3D3',\n",
    "    'dark_blue_text': '#163855'\n",
    "}\n",
    "\n",
    "# Ordered colors for order of trace coloring\n",
    "custom_colorway = [\n",
    "    colors_dict['orange'],\n",
    "    colors_dict['dark_blue_text'],\n",
    "    colors_dict['light_blue'],\n",
    "    colors_dict['blue'],\n",
    "    colors_dict['light_gray'],\n",
    "    colors_dict['dark_gray']\n",
    "]\n",
    "\n",
    "bar_columns = [col for col in contrib_df.columns if col != \"Real GDP\"]\n",
    "\n",
    "# Add stacked bars for all columns except 'Real GDP', using the custom color sequence\n",
    "for i, col in enumerate(bar_columns):\n",
    "    fig.add_trace(\n",
    "        go.Bar(\n",
    "            x=contrib_df.index,\n",
    "            y=contrib_df[col],\n",
    "            name=col,\n",
    "            marker_color=custom_colorway[i % len(custom_colorway)]\n",
    "        )\n",
    "    )\n",
    "\n",
    "# Add Real GDP as a line on top\n",
    "fig.add_trace(\n",
    "    go.Scatter(\n",
    "        x=contrib_df.index,\n",
    "        y=contrib_df[\"Real GDP\"],\n",
    "        name=\"Real GDP\",\n",
    "        mode=\"lines+markers\",\n",
    "        line=dict(color=\"black\", width=3)\n",
    "    )\n",
    ")\n",
    "\n",
    "# Add annotation for GDPNow at the final point on the x axis\n",
    "fig.add_annotation(\n",
    "    x=contrib_df.index[-1],\n",
    "    y=4.5,\n",
    "    text=\"GDPNow Q3<br>3.9%\",\n",
    "    showarrow=False,\n",
    "    font=dict(color=\"black\", size=11),\n",
    "    xanchor=\"center\",\n",
    "    yanchor=\"bottom\"\n",
    ")\n",
    "\n",
    "fig.update_layout(\n",
    "    legend=dict(\n",
    "        font=dict(size= 20)\n",
    "        orientation=\"v\",\n",
    "        x=1.02,\n",
    "        y=0.5,\n",
    "        xanchor=\"left\",\n",
    "        yanchor=\"middle\"\n",
    "    ),\n",
    "    barmode='relative',\n",
    "    title=\"Real GDP by Component <br><sup>Quarterly, Annualized, Seasonally Adjusted</sup>\",\n",
    "    xaxis_title=\"Date\",\n",
    "    yaxis_title=\"Contribution to Percent Change\",\n",
    "    legend_title=\"Component\"\n",
    ")\n",
    "\n",
    "fig.update_xaxes(\n",
    "    dtick=\"M12\",\n",
    "    tickformat=\"%Y\",\n",
    ")\n",
    "fig.update_yaxes(ticksuffix=\"%\", tickformat=\".f\")\n",
    "\n",
    "\n",
    "fig.write_html(GRAPH_OUTPUT_PATH / f\"{GRAPH_NAME}.html\")\n",
    "fig.show()"
   ]
  }
 ],
 "metadata": {
  "kernelspec": {
   "display_name": ".venv",
   "language": "python",
   "name": "python3"
  },
  "language_info": {
   "codemirror_mode": {
    "name": "ipython",
    "version": 3
   },
   "file_extension": ".py",
   "mimetype": "text/x-python",
   "name": "python",
   "nbconvert_exporter": "python",
   "pygments_lexer": "ipython3",
   "version": "3.13.7"
  }
 },
 "nbformat": 4,
 "nbformat_minor": 5
}
