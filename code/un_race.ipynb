{
 "cells": [
  {
   "cell_type": "markdown",
   "id": "ec9a0460",
   "metadata": {},
   "source": [
    "This notebook walks through how to make graphs in this repo. You can copy this example.ipynb and rename it for your own graphing work. <b> Please do each graph in a seperate notebook!</b>\n",
    "\n",
    "1. Import the appropriate packages. We'll use plotly.graph_objects for making all of our graphs."
   ]
  },
  {
   "cell_type": "code",
   "execution_count": 1,
   "id": "b8a83946",
   "metadata": {},
   "outputs": [],
   "source": [
    "import datetime as dt\n",
    "import plotly.graph_objects as go\n",
    "import plotly.io as pio\n",
    "import pandas as pd\n",
    "import utils.utils as ut\n",
    "import utils.graph_templates\n",
    "\n",
    "from fredapi import Fred"
   ]
  },
  {
   "cell_type": "markdown",
   "id": "533182f0",
   "metadata": {},
   "source": [
    "2. We'll get data using the fredapi package. Set the path to the text file with your API key"
   ]
  },
  {
   "cell_type": "code",
   "execution_count": 2,
   "id": "f81e1110",
   "metadata": {},
   "outputs": [],
   "source": [
    "# Call the graph the exact same thing as its notebook (minus the ipynb suffix)\n",
    "GRAPH_NAME = \"un_race\"\n",
    "\n",
    "API_KEY_PATH = ut.get_repo_root() / \"fred_api_key.txt\" \n",
    "\n",
    "fred = Fred(api_key_file = API_KEY_PATH)"
   ]
  },
  {
   "cell_type": "markdown",
   "id": "ee2ebb59",
   "metadata": {},
   "source": [
    "3. Set the fed_2025 template as default"
   ]
  },
  {
   "cell_type": "code",
   "execution_count": 3,
   "id": "00bbbcaa",
   "metadata": {},
   "outputs": [],
   "source": [
    "pio.templates.default = 'fed_2025'\n",
    "\n",
    "# Now is a good time to set the path to the graph output folder!\n",
    "GRAPH_OUTPUT_PATH = ut.get_repo_root() / \"figures\""
   ]
  },
  {
   "cell_type": "markdown",
   "id": "c2af7dd8",
   "metadata": {},
   "source": [
    "4. Use the fredapi to get the data and prepare it for graphing. Documentation on the optional parameters that can be passed to the get_series called are found here (the documentation in fredapi is out of date). \n",
    "\n",
    "https://fred.stlouisfed.org/docs/api/fred/series_observations.html#Description\n",
    "\n",
    "If you get data from somewhere else thats fine too! Put the raw csv in the \"raw_data\" folder and read it in here. Make sure not to edit the raw data, just transform and graph it."
   ]
  },
  {
   "cell_type": "code",
   "execution_count": 4,
   "id": "4c582e8a",
   "metadata": {},
   "outputs": [],
   "source": [
    "# The get_series_info method may be useful\n",
    "fred.get_series_info(series_id=\"CPIAUCSL\")\n",
    "\n",
    "# It's good practice to store the series codes in a dictionary with their names\n",
    "series_codes = {\n",
    "    \"African American\": \"LNS14000006\",\n",
    "    \"16-24 Year Olds\":\"LNS14024887\",\n",
    "    \"Overall\": \"UNRATE\",\n",
    "}"
   ]
  },
  {
   "cell_type": "code",
   "execution_count": 11,
   "id": "5934d6c9",
   "metadata": {},
   "outputs": [
    {
     "data": {
      "text/html": [
       "<div>\n",
       "<style scoped>\n",
       "    .dataframe tbody tr th:only-of-type {\n",
       "        vertical-align: middle;\n",
       "    }\n",
       "\n",
       "    .dataframe tbody tr th {\n",
       "        vertical-align: top;\n",
       "    }\n",
       "\n",
       "    .dataframe thead th {\n",
       "        text-align: right;\n",
       "    }\n",
       "</style>\n",
       "<table border=\"1\" class=\"dataframe\">\n",
       "  <thead>\n",
       "    <tr style=\"text-align: right;\">\n",
       "      <th></th>\n",
       "      <th>Black</th>\n",
       "      <th>16-24 Year Olds</th>\n",
       "      <th>Overall</th>\n",
       "    </tr>\n",
       "    <tr>\n",
       "      <th>Date</th>\n",
       "      <th></th>\n",
       "      <th></th>\n",
       "      <th></th>\n",
       "    </tr>\n",
       "  </thead>\n",
       "  <tbody>\n",
       "    <tr>\n",
       "      <th>2025-04-01</th>\n",
       "      <td>6.3</td>\n",
       "      <td>9.6</td>\n",
       "      <td>4.2</td>\n",
       "    </tr>\n",
       "    <tr>\n",
       "      <th>2025-05-01</th>\n",
       "      <td>6.0</td>\n",
       "      <td>9.7</td>\n",
       "      <td>4.2</td>\n",
       "    </tr>\n",
       "    <tr>\n",
       "      <th>2025-06-01</th>\n",
       "      <td>6.8</td>\n",
       "      <td>10.0</td>\n",
       "      <td>4.1</td>\n",
       "    </tr>\n",
       "    <tr>\n",
       "      <th>2025-07-01</th>\n",
       "      <td>7.2</td>\n",
       "      <td>10.0</td>\n",
       "      <td>4.2</td>\n",
       "    </tr>\n",
       "    <tr>\n",
       "      <th>2025-08-01</th>\n",
       "      <td>7.5</td>\n",
       "      <td>10.5</td>\n",
       "      <td>4.3</td>\n",
       "    </tr>\n",
       "  </tbody>\n",
       "</table>\n",
       "</div>"
      ],
      "text/plain": [
       "            Black  16-24 Year Olds  Overall\n",
       "Date                                       \n",
       "2025-04-01    6.3              9.6      4.2\n",
       "2025-05-01    6.0              9.7      4.2\n",
       "2025-06-01    6.8             10.0      4.1\n",
       "2025-07-01    7.2             10.0      4.2\n",
       "2025-08-01    7.5             10.5      4.3"
      ]
     },
     "execution_count": 11,
     "metadata": {},
     "output_type": "execute_result"
    }
   ],
   "source": [
    "today = dt.date.today()\n",
    "\n",
    "un_black=fred.get_series(\n",
    "    series_id=series_codes[\"African American\"],\n",
    "    observation_start=dt.date(2023, 1, 1),\n",
    "    observation_end=today,\n",
    "    frequency='m',\n",
    ").rename(\"Black\")\n",
    "\n",
    "un_white=fred.get_series(\n",
    "    series_id=series_codes[\"16-24 Year Olds\"],\n",
    "    observation_start=dt.date(2023, 1, 1),\n",
    "    observation_end=today,\n",
    "    frequency='m'\n",
    ").rename(\"16-24 Year Olds\")\n",
    "\n",
    "un_asian=fred.get_series(\n",
    "    series_id=series_codes[\"Overall\"],\n",
    "    observation_start=dt.date(2023, 1, 1),\n",
    "    observation_end=today,\n",
    "    frequency='m'\n",
    ").rename(\"Overall\")\n",
    "\n",
    "# un_latino=fred.get_series(\n",
    "#     series_id=series_codes[\"Hispanic or Latino\"],\n",
    "#     observation_start=dt.date(2019, 1, 1),\n",
    "#     observation_end=today,\n",
    "#     frequency='m'\n",
    "# ).rename(\"Hispanic or Latino\")\n",
    "\n",
    "joined_df = pd.concat(\n",
    "    [un_black, un_white, un_asian], #un_latino], # srs to join\n",
    "    axis=1, # multiple observations per index entry\n",
    "    join='inner' # only include observations where none of the 3 are missing\n",
    ")\n",
    "\n",
    "# Naming the index makes it easier tot title\n",
    "joined_df.index.name = \"Date\"\n",
    "\n",
    "joined_df.tail()"
   ]
  },
  {
   "cell_type": "markdown",
   "id": "f36c32ec",
   "metadata": {},
   "source": [
    "5. Now that all our data is ready, make the graph and have it save itself as a .html file to graph_output whenver the notebooks is rerun. The name of the file should exactly match the notebook name. For instance, this file \"example.ipynb\" produces the graph \"example.html.\" Nice work, you made a graph! "
   ]
  },
  {
   "cell_type": "code",
   "execution_count": 16,
   "id": "8d83fc29",
   "metadata": {},
   "outputs": [
    {
     "ename": "ValueError",
     "evalue": "Invalid property specified for object of type plotly.graph_objs.layout.Legend: 'align'\n\nDid you mean \"valign\"?\n\n    Valid properties:\n        bgcolor\n            Sets the legend background color. Defaults to\n            `layout.paper_bgcolor`.\n        bordercolor\n            Sets the color of the border enclosing the legend.\n        borderwidth\n            Sets the width (in px) of the border enclosing the\n            legend.\n        entrywidth\n            Sets the width (in px or fraction) of the legend. Use 0\n            to size the entry based on the text width, when\n            `entrywidthmode` is set to \"pixels\".\n        entrywidthmode\n            Determines what entrywidth means.\n        font\n            Sets the font used to text the legend items.\n        groupclick\n            Determines the behavior on legend group item click.\n            \"toggleitem\" toggles the visibility of the individual\n            item clicked on the graph. \"togglegroup\" toggles the\n            visibility of all items in the same legendgroup as the\n            item clicked on the graph.\n        grouptitlefont\n            Sets the font for group titles in legend. Defaults to\n            `legend.font` with its size increased about 10%.\n        indentation\n            Sets the indentation (in px) of the legend entries.\n        itemclick\n            Determines the behavior on legend item click. \"toggle\"\n            toggles the visibility of the item clicked on the\n            graph. \"toggleothers\" makes the clicked item the sole\n            visible item on the graph. False disables legend item\n            click interactions.\n        itemdoubleclick\n            Determines the behavior on legend item double-click.\n            \"toggle\" toggles the visibility of the item clicked on\n            the graph. \"toggleothers\" makes the clicked item the\n            sole visible item on the graph. False disables legend\n            item double-click interactions.\n        itemsizing\n            Determines if the legend items symbols scale with their\n            corresponding \"trace\" attributes or remain \"constant\"\n            independent of the symbol size on the graph.\n        itemwidth\n            Sets the width (in px) of the legend item symbols (the\n            part other than the title.text).\n        orientation\n            Sets the orientation of the legend.\n        title\n            :class:`plotly.graph_objects.layout.legend.Title`\n            instance or dict with compatible properties\n        tracegroupgap\n            Sets the amount of vertical space (in px) between\n            legend groups.\n        traceorder\n            Determines the order at which the legend items are\n            displayed. If \"normal\", the items are displayed top-to-\n            bottom in the same order as the input data. If\n            \"reversed\", the items are displayed in the opposite\n            order as \"normal\". If \"grouped\", the items are\n            displayed in groups (when a trace `legendgroup` is\n            provided). if \"grouped+reversed\", the items are\n            displayed in the opposite order as \"grouped\".\n        uirevision\n            Controls persistence of legend-driven changes in trace\n            and pie label visibility. Defaults to\n            `layout.uirevision`.\n        valign\n            Sets the vertical alignment of the symbols with respect\n            to their associated text.\n        visible\n            Determines whether or not this legend is visible.\n        x\n            Sets the x position with respect to `xref` (in\n            normalized coordinates) of the legend. When `xref` is\n            \"paper\", defaults to 1.02 for vertical legends and\n            defaults to 0 for horizontal legends. When `xref` is\n            \"container\", defaults to 1 for vertical legends and\n            defaults to 0 for horizontal legends. Must be between 0\n            and 1 if `xref` is \"container\". and between \"-2\" and 3\n            if `xref` is \"paper\".\n        xanchor\n            Sets the legend's horizontal position anchor. This\n            anchor binds the `x` position to the \"left\", \"center\"\n            or \"right\" of the legend. Value \"auto\" anchors legends\n            to the right for `x` values greater than or equal to\n            2/3, anchors legends to the left for `x` values less\n            than or equal to 1/3 and anchors legends with respect\n            to their center otherwise.\n        xref\n            Sets the container `x` refers to. \"container\" spans the\n            entire `width` of the plot. \"paper\" refers to the width\n            of the plotting area only.\n        y\n            Sets the y position with respect to `yref` (in\n            normalized coordinates) of the legend. When `yref` is\n            \"paper\", defaults to 1 for vertical legends, defaults\n            to \"-0.1\" for horizontal legends on graphs w/o range\n            sliders and defaults to 1.1 for horizontal legends on\n            graph with one or multiple range sliders. When `yref`\n            is \"container\", defaults to 1. Must be between 0 and 1\n            if `yref` is \"container\" and between \"-2\" and 3 if\n            `yref` is \"paper\".\n        yanchor\n            Sets the legend's vertical position anchor This anchor\n            binds the `y` position to the \"top\", \"middle\" or\n            \"bottom\" of the legend. Value \"auto\" anchors legends at\n            their bottom for `y` values less than or equal to 1/3,\n            anchors legends to at their top for `y` values greater\n            than or equal to 2/3 and anchors legends with respect\n            to their middle otherwise.\n        yref\n            Sets the container `y` refers to. \"container\" spans the\n            entire `height` of the plot. \"paper\" refers to the\n            height of the plotting area only.\n        \nDid you mean \"valign\"?\n\nBad property path:\nalign\n^^^^^",
     "output_type": "error",
     "traceback": [
      "\u001b[31m---------------------------------------------------------------------------\u001b[39m",
      "\u001b[31mValueError\u001b[39m                                Traceback (most recent call last)",
      "\u001b[36mCell\u001b[39m\u001b[36m \u001b[39m\u001b[32mIn[16]\u001b[39m\u001b[32m, line 16\u001b[39m\n\u001b[32m      6\u001b[39m     fig.add_trace(\n\u001b[32m      7\u001b[39m         go.Scatter(\n\u001b[32m      8\u001b[39m             x=joined_df.index,\n\u001b[32m   (...)\u001b[39m\u001b[32m     12\u001b[39m         )\n\u001b[32m     13\u001b[39m     )\n\u001b[32m     15\u001b[39m \u001b[38;5;66;03m# Update the titles, using the html tage <sup> for a subtitle \u001b[39;00m\n\u001b[32m---> \u001b[39m\u001b[32m16\u001b[39m \u001b[43mfig\u001b[49m\u001b[43m.\u001b[49m\u001b[43mupdate_layout\u001b[49m\u001b[43m(\u001b[49m\n\u001b[32m     17\u001b[39m \u001b[43m    \u001b[49m\u001b[43mtitle\u001b[49m\u001b[43m \u001b[49m\u001b[43m=\u001b[49m\u001b[43m \u001b[49m\u001b[38;5;28;43mdict\u001b[39;49m\u001b[43m(\u001b[49m\u001b[43mtext\u001b[49m\u001b[43m \u001b[49m\u001b[43m=\u001b[49m\u001b[43m \u001b[49m\u001b[33;43m'\u001b[39;49m\u001b[33;43mUnemployment Rates<br><sup>Monthly, Seasonally Adjusted </sup>\u001b[39;49m\u001b[33;43m'\u001b[39;49m\u001b[43m)\u001b[49m\u001b[43m,\u001b[49m\n\u001b[32m     18\u001b[39m \u001b[43m    \u001b[49m\u001b[43mxaxis_title\u001b[49m\u001b[43m=\u001b[49m\u001b[33;43m\"\u001b[39;49m\u001b[33;43mDate\u001b[39;49m\u001b[33;43m\"\u001b[39;49m\u001b[43m,\u001b[49m\n\u001b[32m     19\u001b[39m \u001b[43m    \u001b[49m\u001b[43myaxis_title\u001b[49m\u001b[43m=\u001b[49m\u001b[33;43m\"\u001b[39;49m\u001b[33;43mShare of Labor Force (\u001b[39;49m\u001b[33;43m%\u001b[39;49m\u001b[33;43m)\u001b[39;49m\u001b[33;43m\"\u001b[39;49m\u001b[43m,\u001b[49m\n\u001b[32m     20\u001b[39m \u001b[43m    \u001b[49m\u001b[43mheight\u001b[49m\u001b[43m=\u001b[49m\u001b[32;43m500\u001b[39;49m\u001b[43m,\u001b[49m\n\u001b[32m     21\u001b[39m \u001b[43m    \u001b[49m\u001b[43mwidth\u001b[49m\u001b[43m=\u001b[49m\u001b[32;43m800\u001b[39;49m\u001b[43m,\u001b[49m\n\u001b[32m     22\u001b[39m \u001b[43m    \u001b[49m\u001b[43mlegend\u001b[49m\u001b[43m=\u001b[49m\u001b[38;5;28;43mdict\u001b[39;49m\u001b[43m(\u001b[49m\n\u001b[32m     23\u001b[39m \u001b[43m        \u001b[49m\u001b[43malign\u001b[49m\u001b[43m=\u001b[49m\u001b[33;43m\"\u001b[39;49m\u001b[33;43mv\u001b[39;49m\u001b[33;43m\"\u001b[39;49m\u001b[43m,\u001b[49m\n\u001b[32m     24\u001b[39m \u001b[43m        \u001b[49m\u001b[43mfont\u001b[49m\u001b[43m=\u001b[49m\u001b[38;5;28;43mdict\u001b[39;49m\u001b[43m(\u001b[49m\u001b[43msize\u001b[49m\u001b[43m=\u001b[49m\u001b[32;43m18\u001b[39;49m\u001b[43m)\u001b[49m\u001b[43m)\u001b[49m\n\u001b[32m     25\u001b[39m \u001b[43m)\u001b[49m\n\u001b[32m     28\u001b[39m \u001b[38;5;66;03m# This is graph specific, but here we want the y-axis to be percent signs \u001b[39;00m\n\u001b[32m     29\u001b[39m fig.update_yaxes(\n\u001b[32m     30\u001b[39m     tickformat=\u001b[33m\"\u001b[39m\u001b[33m0.2f\u001b[39m\u001b[33m%\u001b[39m\u001b[33m\"\u001b[39m,\n\u001b[32m     31\u001b[39m     ticksuffix=\u001b[33m\"\u001b[39m\u001b[33m%\u001b[39m\u001b[33m\"\u001b[39m\n\u001b[32m     32\u001b[39m )\n",
      "\u001b[36mFile \u001b[39m\u001b[32mc:\\Users\\Bobby\\Desktop\\Fed Challenge 2025\\NEUFed2025\\.venv\\Lib\\site-packages\\plotly\\graph_objs\\_figure.py:218\u001b[39m, in \u001b[36mFigure.update_layout\u001b[39m\u001b[34m(self, dict1, overwrite, **kwargs)\u001b[39m\n\u001b[32m    192\u001b[39m \u001b[38;5;28;01mdef\u001b[39;00m\u001b[38;5;250m \u001b[39m\u001b[34mupdate_layout\u001b[39m(\u001b[38;5;28mself\u001b[39m, dict1=\u001b[38;5;28;01mNone\u001b[39;00m, overwrite=\u001b[38;5;28;01mFalse\u001b[39;00m, **kwargs) -> \u001b[33m\"\u001b[39m\u001b[33mFigure\u001b[39m\u001b[33m\"\u001b[39m:\n\u001b[32m    193\u001b[39m \u001b[38;5;250m    \u001b[39m\u001b[33;03m\"\"\"\u001b[39;00m\n\u001b[32m    194\u001b[39m \n\u001b[32m    195\u001b[39m \u001b[33;03m    Update the properties of the figure's layout with a dict and/or with\u001b[39;00m\n\u001b[32m   (...)\u001b[39m\u001b[32m    216\u001b[39m \n\u001b[32m    217\u001b[39m \u001b[33;03m    \"\"\"\u001b[39;00m\n\u001b[32m--> \u001b[39m\u001b[32m218\u001b[39m     \u001b[38;5;28;01mreturn\u001b[39;00m \u001b[38;5;28;43msuper\u001b[39;49m\u001b[43m(\u001b[49m\u001b[43m)\u001b[49m\u001b[43m.\u001b[49m\u001b[43mupdate_layout\u001b[49m\u001b[43m(\u001b[49m\u001b[43mdict1\u001b[49m\u001b[43m,\u001b[49m\u001b[43m \u001b[49m\u001b[43moverwrite\u001b[49m\u001b[43m,\u001b[49m\u001b[43m \u001b[49m\u001b[43m*\u001b[49m\u001b[43m*\u001b[49m\u001b[43mkwargs\u001b[49m\u001b[43m)\u001b[49m\n",
      "\u001b[36mFile \u001b[39m\u001b[32mc:\\Users\\Bobby\\Desktop\\Fed Challenge 2025\\NEUFed2025\\.venv\\Lib\\site-packages\\plotly\\basedatatypes.py:1415\u001b[39m, in \u001b[36mBaseFigure.update_layout\u001b[39m\u001b[34m(self, dict1, overwrite, **kwargs)\u001b[39m\n\u001b[32m   1391\u001b[39m \u001b[38;5;28;01mdef\u001b[39;00m\u001b[38;5;250m \u001b[39m\u001b[34mupdate_layout\u001b[39m(\u001b[38;5;28mself\u001b[39m, dict1=\u001b[38;5;28;01mNone\u001b[39;00m, overwrite=\u001b[38;5;28;01mFalse\u001b[39;00m, **kwargs):\n\u001b[32m   1392\u001b[39m \u001b[38;5;250m    \u001b[39m\u001b[33;03m\"\"\"\u001b[39;00m\n\u001b[32m   1393\u001b[39m \u001b[33;03m    Update the properties of the figure's layout with a dict and/or with\u001b[39;00m\n\u001b[32m   1394\u001b[39m \u001b[33;03m    keyword arguments.\u001b[39;00m\n\u001b[32m   (...)\u001b[39m\u001b[32m   1413\u001b[39m \u001b[33;03m        The Figure object that the update_layout method was called on\u001b[39;00m\n\u001b[32m   1414\u001b[39m \u001b[33;03m    \"\"\"\u001b[39;00m\n\u001b[32m-> \u001b[39m\u001b[32m1415\u001b[39m     \u001b[38;5;28;43mself\u001b[39;49m\u001b[43m.\u001b[49m\u001b[43mlayout\u001b[49m\u001b[43m.\u001b[49m\u001b[43mupdate\u001b[49m\u001b[43m(\u001b[49m\u001b[43mdict1\u001b[49m\u001b[43m,\u001b[49m\u001b[43m \u001b[49m\u001b[43moverwrite\u001b[49m\u001b[43m=\u001b[49m\u001b[43moverwrite\u001b[49m\u001b[43m,\u001b[49m\u001b[43m \u001b[49m\u001b[43m*\u001b[49m\u001b[43m*\u001b[49m\u001b[43mkwargs\u001b[49m\u001b[43m)\u001b[49m\n\u001b[32m   1416\u001b[39m     \u001b[38;5;28;01mreturn\u001b[39;00m \u001b[38;5;28mself\u001b[39m\n",
      "\u001b[36mFile \u001b[39m\u001b[32mc:\\Users\\Bobby\\Desktop\\Fed Challenge 2025\\NEUFed2025\\.venv\\Lib\\site-packages\\plotly\\basedatatypes.py:5195\u001b[39m, in \u001b[36mBasePlotlyType.update\u001b[39m\u001b[34m(self, dict1, overwrite, **kwargs)\u001b[39m\n\u001b[32m   5193\u001b[39m     \u001b[38;5;28;01mwith\u001b[39;00m \u001b[38;5;28mself\u001b[39m.figure.batch_update():\n\u001b[32m   5194\u001b[39m         BaseFigure._perform_update(\u001b[38;5;28mself\u001b[39m, dict1, overwrite=overwrite)\n\u001b[32m-> \u001b[39m\u001b[32m5195\u001b[39m         \u001b[43mBaseFigure\u001b[49m\u001b[43m.\u001b[49m\u001b[43m_perform_update\u001b[49m\u001b[43m(\u001b[49m\u001b[38;5;28;43mself\u001b[39;49m\u001b[43m,\u001b[49m\u001b[43m \u001b[49m\u001b[43mkwargs\u001b[49m\u001b[43m,\u001b[49m\u001b[43m \u001b[49m\u001b[43moverwrite\u001b[49m\u001b[43m=\u001b[49m\u001b[43moverwrite\u001b[49m\u001b[43m)\u001b[49m\n\u001b[32m   5196\u001b[39m \u001b[38;5;28;01melse\u001b[39;00m:\n\u001b[32m   5197\u001b[39m     BaseFigure._perform_update(\u001b[38;5;28mself\u001b[39m, dict1, overwrite=overwrite)\n",
      "\u001b[36mFile \u001b[39m\u001b[32mc:\\Users\\Bobby\\Desktop\\Fed Challenge 2025\\NEUFed2025\\.venv\\Lib\\site-packages\\plotly\\basedatatypes.py:3971\u001b[39m, in \u001b[36mBaseFigure._perform_update\u001b[39m\u001b[34m(plotly_obj, update_obj, overwrite)\u001b[39m\n\u001b[32m   3966\u001b[39m validator = plotly_obj._get_prop_validator(key)\n\u001b[32m   3968\u001b[39m \u001b[38;5;28;01mif\u001b[39;00m \u001b[38;5;28misinstance\u001b[39m(validator, CompoundValidator) \u001b[38;5;129;01mand\u001b[39;00m \u001b[38;5;28misinstance\u001b[39m(val, \u001b[38;5;28mdict\u001b[39m):\n\u001b[32m   3969\u001b[39m     \u001b[38;5;66;03m# Update compound objects recursively\u001b[39;00m\n\u001b[32m   3970\u001b[39m     \u001b[38;5;66;03m# plotly_obj[key].update(val)\u001b[39;00m\n\u001b[32m-> \u001b[39m\u001b[32m3971\u001b[39m     \u001b[43mBaseFigure\u001b[49m\u001b[43m.\u001b[49m\u001b[43m_perform_update\u001b[49m\u001b[43m(\u001b[49m\u001b[43mplotly_obj\u001b[49m\u001b[43m[\u001b[49m\u001b[43mkey\u001b[49m\u001b[43m]\u001b[49m\u001b[43m,\u001b[49m\u001b[43m \u001b[49m\u001b[43mval\u001b[49m\u001b[43m)\u001b[49m\n\u001b[32m   3972\u001b[39m \u001b[38;5;28;01melif\u001b[39;00m \u001b[38;5;28misinstance\u001b[39m(validator, CompoundArrayValidator):\n\u001b[32m   3973\u001b[39m     \u001b[38;5;28;01mif\u001b[39;00m plotly_obj[key]:\n\u001b[32m   3974\u001b[39m         \u001b[38;5;66;03m# plotly_obj has an existing non-empty array for key\u001b[39;00m\n\u001b[32m   3975\u001b[39m         \u001b[38;5;66;03m# In this case we merge val into the existing elements\u001b[39;00m\n",
      "\u001b[36mFile \u001b[39m\u001b[32mc:\\Users\\Bobby\\Desktop\\Fed Challenge 2025\\NEUFed2025\\.venv\\Lib\\site-packages\\plotly\\basedatatypes.py:3949\u001b[39m, in \u001b[36mBaseFigure._perform_update\u001b[39m\u001b[34m(plotly_obj, update_obj, overwrite)\u001b[39m\n\u001b[32m   3947\u001b[39m     err = _check_path_in_prop_tree(plotly_obj, key, error_cast=\u001b[38;5;167;01mValueError\u001b[39;00m)\n\u001b[32m   3948\u001b[39m     \u001b[38;5;28;01mif\u001b[39;00m err \u001b[38;5;129;01mis\u001b[39;00m \u001b[38;5;129;01mnot\u001b[39;00m \u001b[38;5;28;01mNone\u001b[39;00m:\n\u001b[32m-> \u001b[39m\u001b[32m3949\u001b[39m         \u001b[38;5;28;01mraise\u001b[39;00m err\n\u001b[32m   3951\u001b[39m \u001b[38;5;66;03m# Convert update_obj to dict\u001b[39;00m\n\u001b[32m   3952\u001b[39m \u001b[38;5;66;03m# --------------------------\u001b[39;00m\n\u001b[32m   3953\u001b[39m \u001b[38;5;28;01mif\u001b[39;00m \u001b[38;5;28misinstance\u001b[39m(update_obj, BasePlotlyType):\n",
      "\u001b[31mValueError\u001b[39m: Invalid property specified for object of type plotly.graph_objs.layout.Legend: 'align'\n\nDid you mean \"valign\"?\n\n    Valid properties:\n        bgcolor\n            Sets the legend background color. Defaults to\n            `layout.paper_bgcolor`.\n        bordercolor\n            Sets the color of the border enclosing the legend.\n        borderwidth\n            Sets the width (in px) of the border enclosing the\n            legend.\n        entrywidth\n            Sets the width (in px or fraction) of the legend. Use 0\n            to size the entry based on the text width, when\n            `entrywidthmode` is set to \"pixels\".\n        entrywidthmode\n            Determines what entrywidth means.\n        font\n            Sets the font used to text the legend items.\n        groupclick\n            Determines the behavior on legend group item click.\n            \"toggleitem\" toggles the visibility of the individual\n            item clicked on the graph. \"togglegroup\" toggles the\n            visibility of all items in the same legendgroup as the\n            item clicked on the graph.\n        grouptitlefont\n            Sets the font for group titles in legend. Defaults to\n            `legend.font` with its size increased about 10%.\n        indentation\n            Sets the indentation (in px) of the legend entries.\n        itemclick\n            Determines the behavior on legend item click. \"toggle\"\n            toggles the visibility of the item clicked on the\n            graph. \"toggleothers\" makes the clicked item the sole\n            visible item on the graph. False disables legend item\n            click interactions.\n        itemdoubleclick\n            Determines the behavior on legend item double-click.\n            \"toggle\" toggles the visibility of the item clicked on\n            the graph. \"toggleothers\" makes the clicked item the\n            sole visible item on the graph. False disables legend\n            item double-click interactions.\n        itemsizing\n            Determines if the legend items symbols scale with their\n            corresponding \"trace\" attributes or remain \"constant\"\n            independent of the symbol size on the graph.\n        itemwidth\n            Sets the width (in px) of the legend item symbols (the\n            part other than the title.text).\n        orientation\n            Sets the orientation of the legend.\n        title\n            :class:`plotly.graph_objects.layout.legend.Title`\n            instance or dict with compatible properties\n        tracegroupgap\n            Sets the amount of vertical space (in px) between\n            legend groups.\n        traceorder\n            Determines the order at which the legend items are\n            displayed. If \"normal\", the items are displayed top-to-\n            bottom in the same order as the input data. If\n            \"reversed\", the items are displayed in the opposite\n            order as \"normal\". If \"grouped\", the items are\n            displayed in groups (when a trace `legendgroup` is\n            provided). if \"grouped+reversed\", the items are\n            displayed in the opposite order as \"grouped\".\n        uirevision\n            Controls persistence of legend-driven changes in trace\n            and pie label visibility. Defaults to\n            `layout.uirevision`.\n        valign\n            Sets the vertical alignment of the symbols with respect\n            to their associated text.\n        visible\n            Determines whether or not this legend is visible.\n        x\n            Sets the x position with respect to `xref` (in\n            normalized coordinates) of the legend. When `xref` is\n            \"paper\", defaults to 1.02 for vertical legends and\n            defaults to 0 for horizontal legends. When `xref` is\n            \"container\", defaults to 1 for vertical legends and\n            defaults to 0 for horizontal legends. Must be between 0\n            and 1 if `xref` is \"container\". and between \"-2\" and 3\n            if `xref` is \"paper\".\n        xanchor\n            Sets the legend's horizontal position anchor. This\n            anchor binds the `x` position to the \"left\", \"center\"\n            or \"right\" of the legend. Value \"auto\" anchors legends\n            to the right for `x` values greater than or equal to\n            2/3, anchors legends to the left for `x` values less\n            than or equal to 1/3 and anchors legends with respect\n            to their center otherwise.\n        xref\n            Sets the container `x` refers to. \"container\" spans the\n            entire `width` of the plot. \"paper\" refers to the width\n            of the plotting area only.\n        y\n            Sets the y position with respect to `yref` (in\n            normalized coordinates) of the legend. When `yref` is\n            \"paper\", defaults to 1 for vertical legends, defaults\n            to \"-0.1\" for horizontal legends on graphs w/o range\n            sliders and defaults to 1.1 for horizontal legends on\n            graph with one or multiple range sliders. When `yref`\n            is \"container\", defaults to 1. Must be between 0 and 1\n            if `yref` is \"container\" and between \"-2\" and 3 if\n            `yref` is \"paper\".\n        yanchor\n            Sets the legend's vertical position anchor This anchor\n            binds the `y` position to the \"top\", \"middle\" or\n            \"bottom\" of the legend. Value \"auto\" anchors legends at\n            their bottom for `y` values less than or equal to 1/3,\n            anchors legends to at their top for `y` values greater\n            than or equal to 2/3 and anchors legends with respect\n            to their middle otherwise.\n        yref\n            Sets the container `y` refers to. \"container\" spans the\n            entire `height` of the plot. \"paper\" refers to the\n            height of the plotting area only.\n        \nDid you mean \"valign\"?\n\nBad property path:\nalign\n^^^^^"
     ]
    }
   ],
   "source": [
    "# First make the figure\n",
    "fig = go.Figure()\n",
    "\n",
    "# Loop the columns of the dataframe and plot each as a separate trace\n",
    "for col in joined_df.columns:\n",
    "    fig.add_trace(\n",
    "        go.Scatter(\n",
    "            x=joined_df.index,\n",
    "            y=joined_df[col],\n",
    "            mode='lines',\n",
    "            name=col\n",
    "        )\n",
    "    )\n",
    "\n",
    "# Update the titles, using the html tage <sup> for a subtitle \n",
    "fig.update_layout(\n",
    "    title = dict(text = 'Unemployment Rates<br><sup>Monthly, Seasonally Adjusted </sup>'),\n",
    "    xaxis_title=\"Date\",\n",
    "    yaxis_title=\"Share of Labor Force (%)\",\n",
    "    height=500,\n",
    "    width=800,\n",
    "    legend=dict(\n",
    "        align=\"v\",\n",
    "        font=dict(size=18))\n",
    ")\n",
    "\n",
    "\n",
    "# This is graph specific, but here we want the y-axis to be percent signs \n",
    "fig.update_yaxes(\n",
    "    tickformat=\"0.2f%\",\n",
    "    ticksuffix=\"%\"\n",
    ")\n",
    "\n",
    "# Again, graph specific, we have a mutliyear series and want tick marks to be years\n",
    "fig.update_xaxes(\n",
    "    type='date',\n",
    "    tickformat='%b %Y',\n",
    ")\n",
    "\n",
    "ut.add_end_labels(fig = fig)\n",
    "\n",
    "# Show our figure (Dimensions may be off on different screen sizes)\n",
    "fig.show()\n",
    "\n",
    "# This should be the same for EVERY GRAPH!\n",
    "# Save it to the graph_output folder with the name matching the file, as HTML\n",
    "fig.write_html(GRAPH_OUTPUT_PATH / f\"{GRAPH_NAME}.html\")"
   ]
  }
 ],
 "metadata": {
  "kernelspec": {
   "display_name": ".venv",
   "language": "python",
   "name": "python3"
  },
  "language_info": {
   "codemirror_mode": {
    "name": "ipython",
    "version": 3
   },
   "file_extension": ".py",
   "mimetype": "text/x-python",
   "name": "python",
   "nbconvert_exporter": "python",
   "pygments_lexer": "ipython3",
   "version": "3.13.7"
  }
 },
 "nbformat": 4,
 "nbformat_minor": 5
}
