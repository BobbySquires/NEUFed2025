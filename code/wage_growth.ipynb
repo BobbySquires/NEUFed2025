{
 "cells": [
  {
   "cell_type": "markdown",
   "id": "ec9a0460",
   "metadata": {},
   "source": [
    "This notebook walks through how to make graphs in this repo. You can copy this example.ipynb and rename it for your own graphing work. <b> Please do each graph in a seperate notebook!</b>\n",
    "\n",
    "1. Import the appropriate packages. We'll use plotly.graph_objects for making all of our graphs."
   ]
  },
  {
   "cell_type": "code",
   "execution_count": 1,
   "id": "b8a83946",
   "metadata": {},
   "outputs": [],
   "source": [
    "import datetime as dt\n",
    "import plotly.graph_objects as go\n",
    "import plotly.io as pio\n",
    "import pandas as pd\n",
    "import utils.utils as ut\n",
    "import utils.graph_templates\n",
    "\n",
    "from fredapi import Fred"
   ]
  },
  {
   "cell_type": "markdown",
   "id": "533182f0",
   "metadata": {},
   "source": [
    "2. We'll get data using the fredapi package. Set the path to the text file with your API key"
   ]
  },
  {
   "cell_type": "code",
   "execution_count": 2,
   "id": "f81e1110",
   "metadata": {},
   "outputs": [],
   "source": [
    "# Call the graph the exact same thing as its notebook (minus the ipynb suffix)\n",
    "GRAPH_NAME = \"example\"\n",
    "\n",
    "API_KEY_PATH = ut.get_repo_root() / \"fred_api_key.txt\" \n",
    "\n",
    "fred = Fred(api_key_file = API_KEY_PATH)"
   ]
  },
  {
   "cell_type": "markdown",
   "id": "ee2ebb59",
   "metadata": {},
   "source": [
    "3. Set the fed_2025 template as default"
   ]
  },
  {
   "cell_type": "code",
   "execution_count": 3,
   "id": "00bbbcaa",
   "metadata": {},
   "outputs": [],
   "source": [
    "pio.templates.default = 'fed_2025'\n",
    "\n",
    "# Call the graph the exact same thing as its notebook (minus the ipynb suffix)\n",
    "GRAPH_NAME = \"example\"\n",
    "\n",
    "# Now is a good time to set the path to the graph output folder!\n",
    "GRAPH_OUTPUT_PATH = ut.get_repo_root() / \"figures\""
   ]
  },
  {
   "cell_type": "code",
   "execution_count": 4,
   "id": "d02adea9",
   "metadata": {},
   "outputs": [
    {
     "data": {
      "text/plain": [
       "WindowsPath('C:/Users/Bobby/Desktop/Fed Challenge 2025/NEUFed2025/figures')"
      ]
     },
     "execution_count": 4,
     "metadata": {},
     "output_type": "execute_result"
    }
   ],
   "source": [
    "GRAPH_OUTPUT_PATH"
   ]
  },
  {
   "cell_type": "markdown",
   "id": "c2af7dd8",
   "metadata": {},
   "source": [
    "4. Use the fredapi to get the data and prepare it for graphing. Documentation on the optional parameters that can be passed to the get_series called are found here (the documentation in fredapi is out of date). \n",
    "\n",
    "https://fred.stlouisfed.org/docs/api/fred/series_observations.html#Description\n",
    "\n",
    "If you get data from somewhere else thats fine too! Put the raw csv in the \"raw_data\" folder and read it in here. Make sure not to edit the raw data, just transform and graph it."
   ]
  },
  {
   "cell_type": "code",
   "execution_count": 5,
   "id": "4c582e8a",
   "metadata": {},
   "outputs": [],
   "source": [
    "# The get_series_info method may be useful\n",
    "fred.get_series_info(series_id=\"CPIAUCSL\")\n",
    "\n",
    "# It's good practice to store the series codes in a dictionary with their names\n",
    "series_codes = {\n",
    "    \"Wage Growth\": \"FRBATLWGTUMHWG83O\",\n",
    "}"
   ]
  },
  {
   "cell_type": "code",
   "execution_count": 6,
   "id": "5934d6c9",
   "metadata": {},
   "outputs": [
    {
     "data": {
      "application/vnd.microsoft.datawrangler.viewer.v0+json": {
       "columns": [
        {
         "name": "Date",
         "rawType": "datetime64[ns]",
         "type": "datetime"
        },
        {
         "name": "Wage Growth",
         "rawType": "float64",
         "type": "float"
        }
       ],
       "ref": "900f6c5a-287c-4f88-b6b4-6670390d74cf",
       "rows": [
        [
         "2025-04-01 00:00:00",
         "4.2"
        ],
        [
         "2025-05-01 00:00:00",
         "4.2"
        ],
        [
         "2025-06-01 00:00:00",
         "4.1"
        ],
        [
         "2025-07-01 00:00:00",
         "4.1"
        ],
        [
         "2025-08-01 00:00:00",
         "4.1"
        ]
       ],
       "shape": {
        "columns": 1,
        "rows": 5
       }
      },
      "text/html": [
       "<div>\n",
       "<style scoped>\n",
       "    .dataframe tbody tr th:only-of-type {\n",
       "        vertical-align: middle;\n",
       "    }\n",
       "\n",
       "    .dataframe tbody tr th {\n",
       "        vertical-align: top;\n",
       "    }\n",
       "\n",
       "    .dataframe thead th {\n",
       "        text-align: right;\n",
       "    }\n",
       "</style>\n",
       "<table border=\"1\" class=\"dataframe\">\n",
       "  <thead>\n",
       "    <tr style=\"text-align: right;\">\n",
       "      <th></th>\n",
       "      <th>Wage Growth</th>\n",
       "    </tr>\n",
       "    <tr>\n",
       "      <th>Date</th>\n",
       "      <th></th>\n",
       "    </tr>\n",
       "  </thead>\n",
       "  <tbody>\n",
       "    <tr>\n",
       "      <th>2025-04-01</th>\n",
       "      <td>4.2</td>\n",
       "    </tr>\n",
       "    <tr>\n",
       "      <th>2025-05-01</th>\n",
       "      <td>4.2</td>\n",
       "    </tr>\n",
       "    <tr>\n",
       "      <th>2025-06-01</th>\n",
       "      <td>4.1</td>\n",
       "    </tr>\n",
       "    <tr>\n",
       "      <th>2025-07-01</th>\n",
       "      <td>4.1</td>\n",
       "    </tr>\n",
       "    <tr>\n",
       "      <th>2025-08-01</th>\n",
       "      <td>4.1</td>\n",
       "    </tr>\n",
       "  </tbody>\n",
       "</table>\n",
       "</div>"
      ],
      "text/plain": [
       "            Wage Growth\n",
       "Date                   \n",
       "2025-04-01          4.2\n",
       "2025-05-01          4.2\n",
       "2025-06-01          4.1\n",
       "2025-07-01          4.1\n",
       "2025-08-01          4.1"
      ]
     },
     "execution_count": 6,
     "metadata": {},
     "output_type": "execute_result"
    }
   ],
   "source": [
    "today = dt.date.today()\n",
    "\n",
    "wage_growth = fred.get_series(\n",
    "    series_id=series_codes[\"Wage Growth\"],\n",
    "    observation_start=dt.date(2020, 1, 1),\n",
    "    observation_end=today,\n",
    "    frequency='m',\n",
    ").rename(\"Wage Growth\")\n",
    "\n",
    "\n",
    "\n",
    "joined_df = pd.concat(\n",
    "    [wage_growth], # srs to join\n",
    "    axis=1, # multiple observations per index entry\n",
    "    join='inner' # only include observations where none of the 3 are missing\n",
    ")\n",
    "\n",
    "# Naming the index makes it easier tot title\n",
    "joined_df.index.name = \"Date\"\n",
    "\n",
    "joined_df.tail()"
   ]
  },
  {
   "cell_type": "markdown",
   "id": "f36c32ec",
   "metadata": {},
   "source": [
    "5. Now that all our data is ready, make the graph and have it save itself as a .html file to graph_output whenver the notebooks is rerun. The name of the file should exactly match the notebook name. For instance, this file \"example.ipynb\" produces the graph \"example.html.\" Nice work, you made a graph! "
   ]
  },
  {
   "cell_type": "code",
   "execution_count": 7,
   "id": "8d83fc29",
   "metadata": {},
   "outputs": [
    {
     "data": {
      "application/vnd.plotly.v1+json": {
       "config": {
        "plotlyServerURL": "https://plot.ly"
       },
       "data": [
        {
         "mode": "lines",
         "name": "Wage Growth",
         "type": "scatter",
         "x": [
          "2020-01-01T00:00:00",
          "2020-02-01T00:00:00",
          "2020-03-01T00:00:00",
          "2020-04-01T00:00:00",
          "2020-05-01T00:00:00",
          "2020-06-01T00:00:00",
          "2020-07-01T00:00:00",
          "2020-08-01T00:00:00",
          "2020-09-01T00:00:00",
          "2020-10-01T00:00:00",
          "2020-11-01T00:00:00",
          "2020-12-01T00:00:00",
          "2021-01-01T00:00:00",
          "2021-02-01T00:00:00",
          "2021-03-01T00:00:00",
          "2021-04-01T00:00:00",
          "2021-05-01T00:00:00",
          "2021-06-01T00:00:00",
          "2021-07-01T00:00:00",
          "2021-08-01T00:00:00",
          "2021-09-01T00:00:00",
          "2021-10-01T00:00:00",
          "2021-11-01T00:00:00",
          "2021-12-01T00:00:00",
          "2022-01-01T00:00:00",
          "2022-02-01T00:00:00",
          "2022-03-01T00:00:00",
          "2022-04-01T00:00:00",
          "2022-05-01T00:00:00",
          "2022-06-01T00:00:00",
          "2022-07-01T00:00:00",
          "2022-08-01T00:00:00",
          "2022-09-01T00:00:00",
          "2022-10-01T00:00:00",
          "2022-11-01T00:00:00",
          "2022-12-01T00:00:00",
          "2023-01-01T00:00:00",
          "2023-02-01T00:00:00",
          "2023-03-01T00:00:00",
          "2023-04-01T00:00:00",
          "2023-05-01T00:00:00",
          "2023-06-01T00:00:00",
          "2023-07-01T00:00:00",
          "2023-08-01T00:00:00",
          "2023-09-01T00:00:00",
          "2023-10-01T00:00:00",
          "2023-11-01T00:00:00",
          "2023-12-01T00:00:00",
          "2024-01-01T00:00:00",
          "2024-02-01T00:00:00",
          "2024-03-01T00:00:00",
          "2024-04-01T00:00:00",
          "2024-05-01T00:00:00",
          "2024-06-01T00:00:00",
          "2024-07-01T00:00:00",
          "2024-08-01T00:00:00",
          "2024-09-01T00:00:00",
          "2024-10-01T00:00:00",
          "2024-11-01T00:00:00",
          "2024-12-01T00:00:00",
          "2025-01-01T00:00:00",
          "2025-02-01T00:00:00",
          "2025-03-01T00:00:00",
          "2025-04-01T00:00:00",
          "2025-05-01T00:00:00",
          "2025-06-01T00:00:00",
          "2025-07-01T00:00:00",
          "2025-08-01T00:00:00"
         ],
         "y": {
          "bdata": "MzMzMzMzD0DNzMzMzMwMQAAAAAAAAAhAMzMzMzMzC0BmZmZmZmYQQDMzMzMzMw9AzczMzMzMDEAAAAAAAAAIQJqZmZmZmQ1AZmZmZmZmDkDNzMzMzMwMQDMzMzMzMwdAAAAAAAAADEDNzMzMzMwMQAAAAAAAAAhAzczMzMzMCEAAAAAAAAAIQM3MzMzMzAxAAAAAAAAAEkDNzMzMzMwMQAAAAAAAABJAMzMzMzMzEUBmZmZmZmYQQM3MzMzMzBRAZmZmZmZmGEBmZmZmZmYYQM3MzMzMzBZAMzMzMzMzGUAAAAAAAAAaQJqZmZmZmR1AMzMzMzMzGUAzMzMzMzMZQAAAAAAAABpAMzMzMzMzGUAAAAAAAAAaQAAAAAAAABZAzczMzMzMGEBmZmZmZmYaQAAAAAAAABpAZmZmZmZmFEAAAAAAAAAaQDMzMzMzMxVAMzMzMzMzFUAzMzMzMzMVQGZmZmZmZhRAzczMzMzMFEBmZmZmZmYUQJqZmZmZmRVAzczMzMzMEkCamZmZmZkTQM3MzMzMzBJAAAAAAAAAGkCamZmZmZkTQM3MzMzMzBJAAAAAAAAAEkDNzMzMzMwSQJqZmZmZmRNAzczMzMzMEEBmZmZmZmYOQJqZmZmZmRFAZmZmZmZmEEAzMzMzMzMRQJqZmZmZmRFAzczMzMzMEEDNzMzMzMwQQGZmZmZmZhBAZmZmZmZmEEBmZmZmZmYQQA==",
          "dtype": "f8"
         }
        }
       ],
       "layout": {
        "template": {
         "data": {
          "scatter": [
           {
            "hovertemplate": "%{x|%Y-%m-%d}<br> %{y:.1f}<extra></extra>",
            "line": {
             "width": 3
            },
            "type": "scatter"
           }
          ]
         },
         "layout": {
          "colorway": [
           "#2A547E",
           "#CF8B40",
           "#879396",
           "#F7CAC9",
           "#7095cf"
          ],
          "height": 500,
          "legend": {
           "bgcolor": "rgba(0,0,0,0)",
           "borderwidth": 0,
           "font": {
            "color": "#163855",
            "family": "Cambria Bold",
            "size": 22
           },
           "orientation": "h",
           "x": 1,
           "xanchor": "right",
           "y": 1.05,
           "yanchor": "bottom"
          },
          "title": {
           "font": {
            "color": "#163855",
            "family": "Cambria Bold",
            "size": 36
           },
           "x": 0.05,
           "xanchor": "left"
          },
          "width": 1200,
          "xaxis": {
           "gridcolor": "#D3D3D3",
           "gridwidth": 0.5,
           "showgrid": true,
           "tickfont": {
            "color": "#163855",
            "family": "Cambria Bold",
            "size": 18
           },
           "title": {
            "font": {
             "color": "#163855",
             "family": "Cambria Bold",
             "size": 24
            }
           },
           "type": "date"
          },
          "yaxis": {
           "gridcolor": "#D3D3D3",
           "gridwidth": 0.5,
           "showgrid": true,
           "tickfont": {
            "color": "#163855",
            "family": "Cambria Bold",
            "size": 18
           },
           "title": {
            "font": {
             "color": "#163855",
             "family": "Cambria Bold",
             "size": 24
            }
           }
          }
         }
        },
        "title": {
         "text": "Median Hourly Wage Growth <br><sup>Percent Change from Year Ago, Not Seasonally Adjusted </sup>"
        },
        "xaxis": {
         "tickformat": "%Y",
         "title": {
          "text": "Date"
         },
         "type": "date"
        },
        "yaxis": {
         "tickformat": ".2f%",
         "ticksuffix": "%",
         "title": {
          "text": "% Change from Year Ago"
         }
        }
       }
      }
     },
     "metadata": {},
     "output_type": "display_data"
    }
   ],
   "source": [
    "# First make the figure\n",
    "fig = go.Figure()\n",
    "\n",
    "\n",
    "# Loop the columns of the dataframe and plot each as a separate trace\n",
    "for col in joined_df.columns:\n",
    "    fig.add_trace(\n",
    "        go.Scatter(\n",
    "            x=joined_df.index,\n",
    "            y=joined_df[col],\n",
    "            mode='lines',\n",
    "            name=col\n",
    "        )\n",
    "    )\n",
    "\n",
    "# Update the titles, using the html tage <sup> for a subtitle \n",
    "fig.update_layout(\n",
    "    title = dict(text = 'Median Hourly Wage Growth <br><sup>Percent Change from Year Ago, Not Seasonally Adjusted </sup>'),\n",
    "    xaxis_title=\"Date\",\n",
    "    yaxis_title=\"% Change from Year Ago\",\n",
    ")\n",
    "\n",
    "# This is graph specific, but here we want the y-axis to be percent signs \n",
    "fig.update_yaxes(\n",
    "    tickformat=\".2f%\",\n",
    "    ticksuffix=\"%\"\n",
    ")\n",
    "\n",
    "# Again, graph specific, we have a mutliyear series and want tick marks to be years\n",
    "fig.update_xaxes(\n",
    "    type='date',\n",
    "    tickformat='%Y',\n",
    ")\n",
    "\n",
    "\n",
    "# Show our figure (Dimensions may be off on different screen sizes)\n",
    "fig.show()\n",
    "\n",
    "# This should be the same for EVERY GRAPH!\n",
    "# Save it to the graph_output folder with the name matching the file, as HTML\n",
    "fig.write_html(GRAPH_OUTPUT_PATH / f\"{GRAPH_NAME}.html\")"
   ]
  }
 ],
 "metadata": {
  "kernelspec": {
   "display_name": ".venv",
   "language": "python",
   "name": "python3"
  },
  "language_info": {
   "codemirror_mode": {
    "name": "ipython",
    "version": 3
   },
   "file_extension": ".py",
   "mimetype": "text/x-python",
   "name": "python",
   "nbconvert_exporter": "python",
   "pygments_lexer": "ipython3",
   "version": "3.13.7"
  }
 },
 "nbformat": 4,
 "nbformat_minor": 5
}
