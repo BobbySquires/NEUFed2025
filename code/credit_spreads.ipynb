{
 "cells": [
  {
   "cell_type": "markdown",
   "id": "ec9a0460",
   "metadata": {},
   "source": [
    "This notebook walks through how to make graphs in this repo. You can copy this example.ipynb and rename it for your own graphing work. <b> Please do each graph in a seperate notebook!</b>\n",
    "\n",
    "1. Import the appropriate packages. We'll use plotly.graph_objects for making all of our graphs."
   ]
  },
  {
   "cell_type": "code",
   "execution_count": 1,
   "id": "b8a83946",
   "metadata": {},
   "outputs": [],
   "source": [
    "import datetime as dt\n",
    "import plotly.graph_objects as go\n",
    "import plotly.io as pio\n",
    "import pandas as pd\n",
    "import utils.utils as ut\n",
    "import utils.graph_templates\n",
    "\n",
    "from fredapi import Fred"
   ]
  },
  {
   "cell_type": "markdown",
   "id": "533182f0",
   "metadata": {},
   "source": [
    "2. We'll get data using the fredapi package. Set the path to the text file with your API key"
   ]
  },
  {
   "cell_type": "code",
   "execution_count": 2,
   "id": "f81e1110",
   "metadata": {},
   "outputs": [],
   "source": [
    "# Call the graph the exact same thing as its notebook (minus the ipynb suffix)\n",
    "GRAPH_NAME = \"example\"\n",
    "\n",
    "API_KEY_PATH = ut.get_repo_root() / \"fred_api_key.txt\" \n",
    "\n",
    "fred = Fred(api_key_file = API_KEY_PATH)"
   ]
  },
  {
   "cell_type": "markdown",
   "id": "ee2ebb59",
   "metadata": {},
   "source": [
    "3. Set the fed_2025 template as default"
   ]
  },
  {
   "cell_type": "code",
   "execution_count": null,
   "id": "00bbbcaa",
   "metadata": {},
   "outputs": [],
   "source": [
    "pio.templates.default = 'fed_2025'\n",
    "\n",
    "# Call the graph the exact same thing as its notebook (minus the ipynb suffix)\n",
    "GRAPH_NAME = \"credit_spreads\"\n",
    "\n",
    "# Now is a good time to set the path to the graph output folder!\n",
    "GRAPH_OUTPUT_PATH = ut.get_repo_root() / \"figures\""
   ]
  },
  {
   "cell_type": "code",
   "execution_count": 4,
   "id": "d02adea9",
   "metadata": {},
   "outputs": [
    {
     "data": {
      "text/plain": [
       "WindowsPath('C:/Users/Bobby/Desktop/Fed Challenge 2025/NEUFed2025/figures')"
      ]
     },
     "execution_count": 4,
     "metadata": {},
     "output_type": "execute_result"
    }
   ],
   "source": [
    "GRAPH_OUTPUT_PATH"
   ]
  },
  {
   "cell_type": "markdown",
   "id": "c2af7dd8",
   "metadata": {},
   "source": [
    "4. Use the fredapi to get the data and prepare it for graphing. Documentation on the optional parameters that can be passed to the get_series called are found here (the documentation in fredapi is out of date). \n",
    "\n",
    "https://fred.stlouisfed.org/docs/api/fred/series_observations.html#Description\n",
    "\n",
    "If you get data from somewhere else thats fine too! Put the raw csv in the \"raw_data\" folder and read it in here. Make sure not to edit the raw data, just transform and graph it."
   ]
  },
  {
   "cell_type": "code",
   "execution_count": 5,
   "id": "4c582e8a",
   "metadata": {},
   "outputs": [],
   "source": [
    "# The get_series_info method may be useful\n",
    "fred.get_series_info(series_id=\"CPIAUCSL\")\n",
    "\n",
    "# It's good practice to store the series codes in a dictionary with their names\n",
    "series_codes = {\n",
    "    \"High Yield Option-Adjusted Spread\": \"BAMLH0A0HYM2\",\n",
    "    \"Investment Grade Option-Adjusted Spread\": \"BAMLC0A0CM\"\n",
    "    \n",
    "}"
   ]
  },
  {
   "cell_type": "code",
   "execution_count": null,
   "id": "5934d6c9",
   "metadata": {},
   "outputs": [
    {
     "data": {
      "text/html": [
       "<div>\n",
       "<style scoped>\n",
       "    .dataframe tbody tr th:only-of-type {\n",
       "        vertical-align: middle;\n",
       "    }\n",
       "\n",
       "    .dataframe tbody tr th {\n",
       "        vertical-align: top;\n",
       "    }\n",
       "\n",
       "    .dataframe thead th {\n",
       "        text-align: right;\n",
       "    }\n",
       "</style>\n",
       "<table border=\"1\" class=\"dataframe\">\n",
       "  <thead>\n",
       "    <tr style=\"text-align: right;\">\n",
       "      <th></th>\n",
       "      <th>High Yield Option-Adjusted Spread</th>\n",
       "      <th>Investment Grade Option-Adjusted Spread</th>\n",
       "    </tr>\n",
       "    <tr>\n",
       "      <th>Date</th>\n",
       "      <th></th>\n",
       "      <th></th>\n",
       "    </tr>\n",
       "  </thead>\n",
       "  <tbody>\n",
       "    <tr>\n",
       "      <th>2025-09-19</th>\n",
       "      <td>2.75</td>\n",
       "      <td>0.75</td>\n",
       "    </tr>\n",
       "    <tr>\n",
       "      <th>2025-09-26</th>\n",
       "      <td>2.72</td>\n",
       "      <td>0.75</td>\n",
       "    </tr>\n",
       "    <tr>\n",
       "      <th>2025-10-03</th>\n",
       "      <td>2.79</td>\n",
       "      <td>0.75</td>\n",
       "    </tr>\n",
       "    <tr>\n",
       "      <th>2025-10-10</th>\n",
       "      <td>2.91</td>\n",
       "      <td>0.76</td>\n",
       "    </tr>\n",
       "    <tr>\n",
       "      <th>2025-10-17</th>\n",
       "      <td>3.06</td>\n",
       "      <td>0.80</td>\n",
       "    </tr>\n",
       "  </tbody>\n",
       "</table>\n",
       "</div>"
      ],
      "text/plain": [
       "            High Yield Option-Adjusted Spread  \\\n",
       "Date                                            \n",
       "2025-09-19                               2.75   \n",
       "2025-09-26                               2.72   \n",
       "2025-10-03                               2.79   \n",
       "2025-10-10                               2.91   \n",
       "2025-10-17                               3.06   \n",
       "\n",
       "            Investment Grade Option-Adjusted Spread  \n",
       "Date                                                 \n",
       "2025-09-19                                     0.75  \n",
       "2025-09-26                                     0.75  \n",
       "2025-10-03                                     0.75  \n",
       "2025-10-10                                     0.76  \n",
       "2025-10-17                                     0.80  "
      ]
     },
     "execution_count": 6,
     "metadata": {},
     "output_type": "execute_result"
    }
   ],
   "source": [
    "today = dt.date.today()\n",
    "\n",
    "imprts = fred.get_series(\n",
    "    series_id=series_codes[\"High Yield Option-Adjusted Spread\"],\n",
    "    observation_start=dt.date(2024, 1, 1),\n",
    "    observation_end=today,\n",
    "    frequency='w',\n",
    ").rename(\"High Yield Option-Adjusted Spread\")\n",
    "\n",
    "exprts = fred.get_series(\n",
    "    series_id=series_codes[\"Investment Grade Option-Adjusted Spread\"],\n",
    "    observation_start=dt.date(2024, 1, 1),\n",
    "    observation_end=today,\n",
    "    frequency='w',\n",
    ").rename(\"Investment Grade Option-Adjusted Spread\") \n",
    "\n",
    "\n",
    "\n",
    "joined_df = pd.concat(\n",
    "    [imprts, exprts], # srs to join\n",
    "    axis=1, # multiple observations per index entry\n",
    "    join='inner' # only include observations where none of the 3 are missing\n",
    ")\n",
    "\n",
    "# Naming the index makes it easier tot title\n",
    "joined_df.index.name = \"Date\"\n",
    "\n",
    "joined_df.tail()"
   ]
  },
  {
   "cell_type": "markdown",
   "id": "f36c32ec",
   "metadata": {},
   "source": [
    "5. Now that all our data is ready, make the graph and have it save itself as a .html file to graph_output whenver the notebooks is rerun. The name of the file should exactly match the notebook name. For instance, this file \"example.ipynb\" produces the graph \"example.html.\" Nice work, you made a graph! "
   ]
  },
  {
   "cell_type": "code",
   "execution_count": 8,
   "id": "8d83fc29",
   "metadata": {},
   "outputs": [
    {
     "data": {
      "application/vnd.plotly.v1+json": {
       "config": {
        "plotlyServerURL": "https://plot.ly"
       },
       "data": [
        {
         "mode": "lines",
         "name": "High Yield Option-Adjusted Spread",
         "type": "scatter",
         "x": [
          "2024-01-05T00:00:00",
          "2024-01-12T00:00:00",
          "2024-01-19T00:00:00",
          "2024-01-26T00:00:00",
          "2024-02-02T00:00:00",
          "2024-02-09T00:00:00",
          "2024-02-16T00:00:00",
          "2024-02-23T00:00:00",
          "2024-03-01T00:00:00",
          "2024-03-08T00:00:00",
          "2024-03-15T00:00:00",
          "2024-03-22T00:00:00",
          "2024-03-29T00:00:00",
          "2024-04-05T00:00:00",
          "2024-04-12T00:00:00",
          "2024-04-19T00:00:00",
          "2024-04-26T00:00:00",
          "2024-05-03T00:00:00",
          "2024-05-10T00:00:00",
          "2024-05-17T00:00:00",
          "2024-05-24T00:00:00",
          "2024-05-31T00:00:00",
          "2024-06-07T00:00:00",
          "2024-06-14T00:00:00",
          "2024-06-21T00:00:00",
          "2024-06-28T00:00:00",
          "2024-07-05T00:00:00",
          "2024-07-12T00:00:00",
          "2024-07-19T00:00:00",
          "2024-07-26T00:00:00",
          "2024-08-02T00:00:00",
          "2024-08-09T00:00:00",
          "2024-08-16T00:00:00",
          "2024-08-23T00:00:00",
          "2024-08-30T00:00:00",
          "2024-09-06T00:00:00",
          "2024-09-13T00:00:00",
          "2024-09-20T00:00:00",
          "2024-09-27T00:00:00",
          "2024-10-04T00:00:00",
          "2024-10-11T00:00:00",
          "2024-10-18T00:00:00",
          "2024-10-25T00:00:00",
          "2024-11-01T00:00:00",
          "2024-11-08T00:00:00",
          "2024-11-15T00:00:00",
          "2024-11-22T00:00:00",
          "2024-11-29T00:00:00",
          "2024-12-06T00:00:00",
          "2024-12-13T00:00:00",
          "2024-12-20T00:00:00",
          "2024-12-27T00:00:00",
          "2025-01-03T00:00:00",
          "2025-01-10T00:00:00",
          "2025-01-17T00:00:00",
          "2025-01-24T00:00:00",
          "2025-01-31T00:00:00",
          "2025-02-07T00:00:00",
          "2025-02-14T00:00:00",
          "2025-02-21T00:00:00",
          "2025-02-28T00:00:00",
          "2025-03-07T00:00:00",
          "2025-03-14T00:00:00",
          "2025-03-21T00:00:00",
          "2025-03-28T00:00:00",
          "2025-04-04T00:00:00",
          "2025-04-11T00:00:00",
          "2025-04-18T00:00:00",
          "2025-04-25T00:00:00",
          "2025-05-02T00:00:00",
          "2025-05-09T00:00:00",
          "2025-05-16T00:00:00",
          "2025-05-23T00:00:00",
          "2025-05-30T00:00:00",
          "2025-06-06T00:00:00",
          "2025-06-13T00:00:00",
          "2025-06-20T00:00:00",
          "2025-06-27T00:00:00",
          "2025-07-04T00:00:00",
          "2025-07-11T00:00:00",
          "2025-07-18T00:00:00",
          "2025-07-25T00:00:00",
          "2025-08-01T00:00:00",
          "2025-08-08T00:00:00",
          "2025-08-15T00:00:00",
          "2025-08-22T00:00:00",
          "2025-08-29T00:00:00",
          "2025-09-05T00:00:00",
          "2025-09-12T00:00:00",
          "2025-09-19T00:00:00",
          "2025-09-26T00:00:00",
          "2025-10-03T00:00:00",
          "2025-10-10T00:00:00",
          "2025-10-17T00:00:00"
         ],
         "y": {
          "bdata": "zczMzMzMDECPwvUoXI8MQI/C9ShcjwxArkfhehSuC0DsUbgehesLQHE9CtejcAtA4XoUrkfhCkBmZmZmZmYKQD0K16NwPQpAKVyPwvUoCkBxPQrXo3AJQM3MzMzMzAhACtejcD0KCUCF61G4HoUJQEjhehSuRwlA4XoUrkfhCkDD9Shcj8IJQDMzMzMzMwlAuB6F61G4CED2KFyPwvUIQLgehetRuAhAMzMzMzMzCUCF61G4HoUJQHE9CtejcAlA7FG4HoXrCUCF61G4HoUJQOxRuB6F6wlAhetRuB6FCUDNzMzMzMwIQI/C9ShcjwhApHA9CtejCkAK16NwPQoNQFyPwvUoXAtA16NwPQrXCUBI4XoUrkcJQD0K16NwPQpAMzMzMzMzC0CuR+F6FK4JQFyPwvUoXAlAKVyPwvUoCEDD9Shcj8IHQEjhehSuRwdASOF6FK5HB0C4HoXrUbgGQClcj8L1KAZAH4XrUbgeBUBI4XoUrkcFQHE9CtejcAVAcT0K16NwBUBI4XoUrkcFQFK4HoXrUQZAzczMzMzMBkAfhetRuB4HQGZmZmZmZgZAAAAAAAAABkDhehSuR+EEQFyPwvUoXAVAhetRuB6FBUAzMzMzMzMFQFyPwvUoXAVAj8L1KFyPBkCamZmZmZkHQAAAAAAAAApAmpmZmZmZCUCuR+F6FK4JQFK4HoXrUQ5AzczMzMzMEUBmZmZmZmYQQOF6FK5H4Q5AFK5H4XoUDkC4HoXrUbgMQB+F61G4HglAPQrXo3A9CkA9CtejcD0KQK5H4XoUrglAH4XrUbgeCUAfhetRuB4JQHsUrkfheghA9ihcj8L1BkBcj8L1KFwHQJqZmZmZmQdA4XoUrkfhBkBI4XoUrkcHQMP1KFyPwgdASOF6FK5HB0BI4XoUrkcHQFK4HoXrUQZA4XoUrkfhBkCPwvUoXI8GQAAAAAAAAAZAw/UoXI/CBUBSuB6F61EGQEjhehSuRwdAexSuR+F6CEA=",
          "dtype": "f8"
         }
        },
        {
         "mode": "lines",
         "name": "Investment Grade Option-Adjusted Spread",
         "type": "scatter",
         "x": [
          "2024-01-05T00:00:00",
          "2024-01-12T00:00:00",
          "2024-01-19T00:00:00",
          "2024-01-26T00:00:00",
          "2024-02-02T00:00:00",
          "2024-02-09T00:00:00",
          "2024-02-16T00:00:00",
          "2024-02-23T00:00:00",
          "2024-03-01T00:00:00",
          "2024-03-08T00:00:00",
          "2024-03-15T00:00:00",
          "2024-03-22T00:00:00",
          "2024-03-29T00:00:00",
          "2024-04-05T00:00:00",
          "2024-04-12T00:00:00",
          "2024-04-19T00:00:00",
          "2024-04-26T00:00:00",
          "2024-05-03T00:00:00",
          "2024-05-10T00:00:00",
          "2024-05-17T00:00:00",
          "2024-05-24T00:00:00",
          "2024-05-31T00:00:00",
          "2024-06-07T00:00:00",
          "2024-06-14T00:00:00",
          "2024-06-21T00:00:00",
          "2024-06-28T00:00:00",
          "2024-07-05T00:00:00",
          "2024-07-12T00:00:00",
          "2024-07-19T00:00:00",
          "2024-07-26T00:00:00",
          "2024-08-02T00:00:00",
          "2024-08-09T00:00:00",
          "2024-08-16T00:00:00",
          "2024-08-23T00:00:00",
          "2024-08-30T00:00:00",
          "2024-09-06T00:00:00",
          "2024-09-13T00:00:00",
          "2024-09-20T00:00:00",
          "2024-09-27T00:00:00",
          "2024-10-04T00:00:00",
          "2024-10-11T00:00:00",
          "2024-10-18T00:00:00",
          "2024-10-25T00:00:00",
          "2024-11-01T00:00:00",
          "2024-11-08T00:00:00",
          "2024-11-15T00:00:00",
          "2024-11-22T00:00:00",
          "2024-11-29T00:00:00",
          "2024-12-06T00:00:00",
          "2024-12-13T00:00:00",
          "2024-12-20T00:00:00",
          "2024-12-27T00:00:00",
          "2025-01-03T00:00:00",
          "2025-01-10T00:00:00",
          "2025-01-17T00:00:00",
          "2025-01-24T00:00:00",
          "2025-01-31T00:00:00",
          "2025-02-07T00:00:00",
          "2025-02-14T00:00:00",
          "2025-02-21T00:00:00",
          "2025-02-28T00:00:00",
          "2025-03-07T00:00:00",
          "2025-03-14T00:00:00",
          "2025-03-21T00:00:00",
          "2025-03-28T00:00:00",
          "2025-04-04T00:00:00",
          "2025-04-11T00:00:00",
          "2025-04-18T00:00:00",
          "2025-04-25T00:00:00",
          "2025-05-02T00:00:00",
          "2025-05-09T00:00:00",
          "2025-05-16T00:00:00",
          "2025-05-23T00:00:00",
          "2025-05-30T00:00:00",
          "2025-06-06T00:00:00",
          "2025-06-13T00:00:00",
          "2025-06-20T00:00:00",
          "2025-06-27T00:00:00",
          "2025-07-04T00:00:00",
          "2025-07-11T00:00:00",
          "2025-07-18T00:00:00",
          "2025-07-25T00:00:00",
          "2025-08-01T00:00:00",
          "2025-08-08T00:00:00",
          "2025-08-15T00:00:00",
          "2025-08-22T00:00:00",
          "2025-08-29T00:00:00",
          "2025-09-05T00:00:00",
          "2025-09-12T00:00:00",
          "2025-09-19T00:00:00",
          "2025-09-26T00:00:00",
          "2025-10-03T00:00:00",
          "2025-10-10T00:00:00",
          "2025-10-17T00:00:00"
         ],
         "y": {
          "bdata": "H4XrUbge8T/NzMzMzMzwP1K4HoXrUfA/rkfhehSu7z8pXI/C9SjwPwAAAAAAAPA/XI/C9Shc7z9mZmZmZmbuP1yPwvUoXO8/AAAAAAAA8D9mZmZmZmbuP3E9CtejcO0/w/UoXI/C7T/D9Shcj8LtP83MzMzMzOw/FK5H4XoU7j9xPQrXo3DtP83MzMzMzOw/exSuR+F67D/NzMzMzMzsP3sUrkfheuw/KVyPwvUo7D/NzMzMzMzsP3E9CtejcO0/uB6F61G47j+4HoXrUbjuPxSuR+F6FO4/cT0K16Nw7T/D9Shcj8LtPxSuR+F6FO4/rkfhehSu7z8fhetRuB7xPylcj8L1KPA/CtejcD0K7z+4HoXrUbjuP1yPwvUoXO8/AAAAAAAA8D9mZmZmZmbuP3E9CtejcO0/zczMzMzM7D8zMzMzMzPrP4/C9Shcj+o/MzMzMzMz6z8zMzMzMzPrP+xRuB6F6+k/9ihcj8L16D+amZmZmZnpP+xRuB6F6+k/7FG4HoXr6T9I4XoUrkfpP5qZmZmZmek/7FG4HoXr6T+PwvUoXI/qP4/C9Shcj+o/j8L1KFyP6j/sUbgehevpP+xRuB6F6+k/j8L1KFyP6j89CtejcD3qP5qZmZmZmek/4XoUrkfh6j8pXI/C9SjsPxSuR+F6FO4/cT0K16Nw7T8fhetRuB7tP1K4HoXrUfA/CtejcD0K8z8UrkfhehTyP0jhehSuR/E/H4XrUbge8T+kcD0K16PwPxSuR+F6FO4/cT0K16Nw7T8fhetRuB7tP83MzMzMzOw/16NwPQrX6z8pXI/C9SjsPylcj8L1KOw/j8L1KFyP6j89CtejcD3qP+xRuB6F6+k/SOF6FK5H6T9I4XoUrkfpP+xRuB6F6+k/9ihcj8L16D9SuB6F61HoP/YoXI/C9eg/7FG4HoXr6T9I4XoUrkfpPwAAAAAAAOg/AAAAAAAA6D8AAAAAAADoP1K4HoXrUeg/mpmZmZmZ6T8=",
          "dtype": "f8"
         }
        },
        {
         "hoverinfo": "skip",
         "marker": {
          "color": "#2A547E",
          "size": 8,
          "symbol": "circle"
         },
         "mode": "markers",
         "showlegend": false,
         "type": "scatter",
         "x": [
          1760659200000000000
         ],
         "y": [
          3.06
         ],
         "zorder": 3
        },
        {
         "hoverinfo": "skip",
         "marker": {
          "color": "#CF8B40",
          "size": 8,
          "symbol": "circle"
         },
         "mode": "markers",
         "showlegend": false,
         "type": "scatter",
         "x": [
          1760659200000000000
         ],
         "y": [
          0.8
         ],
         "zorder": 3
        }
       ],
       "layout": {
        "annotations": [
         {
          "font": {
           "color": "#2A547E"
          },
          "showarrow": false,
          "text": "3.1",
          "x": "2025-10-17T00:00:00",
          "xanchor": "left",
          "xshift": 6,
          "y": 3.06,
          "yanchor": "middle"
         },
         {
          "font": {
           "color": "#CF8B40"
          },
          "showarrow": false,
          "text": "0.8",
          "x": "2025-10-17T00:00:00",
          "xanchor": "left",
          "xshift": 6,
          "y": 0.8,
          "yanchor": "middle"
         }
        ],
        "height": 550,
        "legend": {
         "font": {
          "size": 18
         }
        },
        "template": {
         "data": {
          "scatter": [
           {
            "hovertemplate": "%{x|%Y-%m-%d}<br> %{y:.1f}<extra></extra>",
            "line": {
             "width": 3
            },
            "type": "scatter"
           }
          ]
         },
         "layout": {
          "colorway": [
           "#2A547E",
           "#CF8B40",
           "#879396",
           "#F7CAC9",
           "#7095cf"
          ],
          "height": 500,
          "legend": {
           "bgcolor": "rgba(0,0,0,0)",
           "borderwidth": 0,
           "font": {
            "color": "#163855",
            "family": "Cambria Bold",
            "size": 22
           },
           "orientation": "h",
           "x": 1,
           "xanchor": "right",
           "y": 1.05,
           "yanchor": "bottom"
          },
          "title": {
           "font": {
            "color": "#163855",
            "family": "Cambria Bold",
            "size": 36
           },
           "x": 0.05,
           "xanchor": "left"
          },
          "width": 1200,
          "xaxis": {
           "gridcolor": "#D3D3D3",
           "gridwidth": 0.5,
           "showgrid": true,
           "tickfont": {
            "color": "#163855",
            "family": "Cambria Bold",
            "size": 18
           },
           "title": {
            "font": {
             "color": "#163855",
             "family": "Cambria Bold",
             "size": 24
            }
           },
           "type": "date"
          },
          "yaxis": {
           "gridcolor": "#D3D3D3",
           "gridwidth": 0.5,
           "showgrid": true,
           "tickfont": {
            "color": "#163855",
            "family": "Cambria Bold",
            "size": 18
           },
           "title": {
            "font": {
             "color": "#163855",
             "family": "Cambria Bold",
             "size": 24
            }
           }
          }
         }
        },
        "title": {
         "font": {
          "size": 28
         },
         "text": "Credit Spreads<br><sup>Weekly, Spread Over Treasuries</sup>"
        },
        "width": 1150,
        "xaxis": {
         "tickformat": "%b %Y",
         "title": {},
         "type": "date"
        },
        "yaxis": {
         "dtick": 1,
         "range": [
          0,
          null
         ],
         "tickformat": ",.0f",
         "ticksuffix": "%",
         "title": {}
        }
       }
      }
     },
     "metadata": {},
     "output_type": "display_data"
    }
   ],
   "source": [
    "# First make the figure\n",
    "fig = go.Figure()\n",
    "\n",
    "\n",
    "# Loop the columns of the dataframe and plot each as a separate trace\n",
    "for col in joined_df.columns:\n",
    "    fig.add_trace(\n",
    "        go.Scatter(\n",
    "            x=joined_df.index,\n",
    "            y=joined_df[col],\n",
    "            mode='lines',\n",
    "            name=col\n",
    "        )\n",
    "    )\n",
    "\n",
    "# Update the titles, using the html tag <sup> for a subtitle \n",
    "fig.update_layout(\n",
    "    title = dict(\n",
    "        text = 'Credit Spreads<br><sup>Weekly, Spread Over Treasuries</sup>',  # Add comma here\n",
    "        font=dict(size=28)),\n",
    "    xaxis_title=None,\n",
    "    yaxis_title=None,\n",
    "    legend=dict(\n",
    "        font=dict(size=18)  # Change legend font size\n",
    "    )\n",
    ")\n",
    "\n",
    "# This is graph specific, but here we want the y-axis to be billions of dollars\n",
    "fig.update_yaxes(\n",
    "    tickformat=\",.0f\",\n",
    "    ticksuffix=\"%\",\n",
    "    dtick=1,\n",
    "    range=[0, None]  # Start y-axis at 0\n",
    ")\n",
    "\n",
    "# Again, graph specific, we have a mutliyear series and want tick marks to be years\n",
    "fig.update_xaxes(\n",
    "    type='date',\n",
    "    tickformat='%b %Y',\n",
    ")\n",
    "\n",
    "ut.add_end_labels(fig)\n",
    "\n",
    "fig.update_layout(\n",
    "    height=550,\n",
    "    width=1150,\n",
    ")\n",
    "\n",
    "# Show our figure (Dimensions may be off on different screen sizes)\n",
    "fig.show()\n",
    "\n",
    "# This should be the same for EVERY GRAPH!\n",
    "# Save it to the graph_output folder with the name matching the file, as HTML\n",
    "fig.write_html(GRAPH_OUTPUT_PATH / f\"{GRAPH_NAME}.html\")"
   ]
  }
 ],
 "metadata": {
  "kernelspec": {
   "display_name": ".venv",
   "language": "python",
   "name": "python3"
  },
  "language_info": {
   "codemirror_mode": {
    "name": "ipython",
    "version": 3
   },
   "file_extension": ".py",
   "mimetype": "text/x-python",
   "name": "python",
   "nbconvert_exporter": "python",
   "pygments_lexer": "ipython3",
   "version": "3.13.7"
  }
 },
 "nbformat": 4,
 "nbformat_minor": 5
}
