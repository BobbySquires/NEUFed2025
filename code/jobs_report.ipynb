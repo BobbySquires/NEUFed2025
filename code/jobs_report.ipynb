{
 "cells": [
  {
   "cell_type": "markdown",
   "id": "ec9a0460",
   "metadata": {},
   "source": [
    "A couple graphs with several key time series for jobs reports. Update whenver a new one releases."
   ]
  },
  {
   "cell_type": "code",
   "execution_count": 1,
   "id": "b8a83946",
   "metadata": {},
   "outputs": [],
   "source": [
    "import datetime as dt\n",
    "import plotly.graph_objects as go\n",
    "import plotly.io as pio\n",
    "import pandas as pd\n",
    "import utils as ut\n",
    "\n",
    "from plotly.subplots import make_subplots"
   ]
  },
  {
   "cell_type": "code",
   "execution_count": 2,
   "id": "f81e1110",
   "metadata": {},
   "outputs": [],
   "source": [
    "from fredapi import Fred\n",
    "\n",
    "API_KEY_PATH = \"fred_api_key.txt\" \n",
    "fred = Fred(api_key_file = API_KEY_PATH)"
   ]
  },
  {
   "cell_type": "code",
   "execution_count": 3,
   "id": "00bbbcaa",
   "metadata": {},
   "outputs": [],
   "source": [
    "import graph_templates\n",
    "\n",
    "pio.templates.default = 'fed_2025'\n",
    "\n",
    "# Call the graph the exact same thing as its notebook (minus the ipynb suffix)\n",
    "GRAPH_NAME = \"jobs_report\"\n",
    "\n",
    "# Now is a good time to set the path to the graph output folder!\n",
    "GRAPH_OUTPUT_PATH = \"../graph_output\"\n"
   ]
  },
  {
   "cell_type": "markdown",
   "id": "c2af7dd8",
   "metadata": {},
   "source": [
    "4. Use the fredapi to get the data and prepare it for graphing. Documentation on the optional parameters that can be passed to the get_series called are found here (the documentation in fredapi is out of date). \n",
    "\n",
    "https://fred.stlouisfed.org/docs/api/fred/series_observations.html#Description\n",
    "\n",
    "If you get data from somewhere else thats fine too! Put the raw csv in the \"raw_data\" folder and read it in here. Make sure not to edit the raw data, just transform and graph it."
   ]
  },
  {
   "cell_type": "code",
   "execution_count": 4,
   "id": "4c582e8a",
   "metadata": {},
   "outputs": [],
   "source": [
    "# It's good practice to store the series codes in a dictionary with their names\n",
    "series_codes = {\n",
    "    \"Nonfarm Payrolls\": \"PAYEMS\",\n",
    "    \"U-6 Unemployment Rate\": \"U6RATE\",\n",
    "    \"Unemployment Rate\": \"UNRATE\",\n",
    "    \"Average Hourly Earnings\": \"CES0500000003\",\n",
    "}\n",
    "today = dt.date.today()\n",
    "all_start_date = dt.date(2022, 1, 1) # Start all on same date for subplot alignment"
   ]
  },
  {
   "cell_type": "code",
   "execution_count": 5,
   "id": "5934d6c9",
   "metadata": {},
   "outputs": [
    {
     "data": {
      "application/vnd.microsoft.datawrangler.viewer.v0+json": {
       "columns": [
        {
         "name": "Date",
         "rawType": "datetime64[ns]",
         "type": "datetime"
        },
        {
         "name": "U6 Unemployment Rate",
         "rawType": "float64",
         "type": "float"
        },
        {
         "name": "Unemployment Rate",
         "rawType": "float64",
         "type": "float"
        }
       ],
       "ref": "daea3c01-a031-44fc-98c0-6a7e3adbc2ed",
       "rows": [
        [
         "2025-04-01 00:00:00",
         "7.8",
         "4.2"
        ],
        [
         "2025-05-01 00:00:00",
         "7.8",
         "4.2"
        ],
        [
         "2025-06-01 00:00:00",
         "7.7",
         "4.1"
        ],
        [
         "2025-07-01 00:00:00",
         "7.9",
         "4.2"
        ],
        [
         "2025-08-01 00:00:00",
         "8.1",
         "4.3"
        ]
       ],
       "shape": {
        "columns": 2,
        "rows": 5
       }
      },
      "text/html": [
       "<div>\n",
       "<style scoped>\n",
       "    .dataframe tbody tr th:only-of-type {\n",
       "        vertical-align: middle;\n",
       "    }\n",
       "\n",
       "    .dataframe tbody tr th {\n",
       "        vertical-align: top;\n",
       "    }\n",
       "\n",
       "    .dataframe thead th {\n",
       "        text-align: right;\n",
       "    }\n",
       "</style>\n",
       "<table border=\"1\" class=\"dataframe\">\n",
       "  <thead>\n",
       "    <tr style=\"text-align: right;\">\n",
       "      <th></th>\n",
       "      <th>U6 Unemployment Rate</th>\n",
       "      <th>Unemployment Rate</th>\n",
       "    </tr>\n",
       "    <tr>\n",
       "      <th>Date</th>\n",
       "      <th></th>\n",
       "      <th></th>\n",
       "    </tr>\n",
       "  </thead>\n",
       "  <tbody>\n",
       "    <tr>\n",
       "      <th>2025-04-01</th>\n",
       "      <td>7.8</td>\n",
       "      <td>4.2</td>\n",
       "    </tr>\n",
       "    <tr>\n",
       "      <th>2025-05-01</th>\n",
       "      <td>7.8</td>\n",
       "      <td>4.2</td>\n",
       "    </tr>\n",
       "    <tr>\n",
       "      <th>2025-06-01</th>\n",
       "      <td>7.7</td>\n",
       "      <td>4.1</td>\n",
       "    </tr>\n",
       "    <tr>\n",
       "      <th>2025-07-01</th>\n",
       "      <td>7.9</td>\n",
       "      <td>4.2</td>\n",
       "    </tr>\n",
       "    <tr>\n",
       "      <th>2025-08-01</th>\n",
       "      <td>8.1</td>\n",
       "      <td>4.3</td>\n",
       "    </tr>\n",
       "  </tbody>\n",
       "</table>\n",
       "</div>"
      ],
      "text/plain": [
       "            U6 Unemployment Rate  Unemployment Rate\n",
       "Date                                               \n",
       "2025-04-01                   7.8                4.2\n",
       "2025-05-01                   7.8                4.2\n",
       "2025-06-01                   7.7                4.1\n",
       "2025-07-01                   7.9                4.2\n",
       "2025-08-01                   8.1                4.3"
      ]
     },
     "execution_count": 5,
     "metadata": {},
     "output_type": "execute_result"
    }
   ],
   "source": [
    "payrolls_srs = fred.get_series(\n",
    "    series_id=series_codes[\"Nonfarm Payrolls\"],\n",
    "    observation_start=all_start_date,\n",
    "    observation_end=today,\n",
    "    frequency='m',\n",
    "    units='chg' # change from previous observation\n",
    ").rename(\"Change in Nonfarm Payrolls\")\n",
    "\n",
    "u3_srs = fred.get_series(\n",
    "    series_id=series_codes[\"Unemployment Rate\"],\n",
    "    observation_start=all_start_date,\n",
    "    observation_end=today,\n",
    ").rename(\"Unemployment Rate\")\n",
    "\n",
    "u6_srs = fred.get_series(\n",
    "    series_id=series_codes[\"U-6 Unemployment Rate\"],\n",
    "    observation_start=all_start_date,\n",
    "    observation_end=today,\n",
    ").rename(\"U6 Unemployment Rate\")\n",
    "\n",
    "earnings_srs = fred.get_series(\n",
    "    series_id=series_codes[\"Average Hourly Earnings\"],\n",
    "    observation_start=all_start_date,\n",
    "    observation_end=today,\n",
    "    units='pc1' # percent change from previous observation\n",
    ").rename(\"Percent Change in Average Hourly Earnings (YoY)\")\n",
    "\n",
    "joined_unemp_df = pd.concat(\n",
    "    [u6_srs, u3_srs], # srs to join\n",
    "    axis=1, # multiple observations per index entry\n",
    "    join='inner' # include observations where some of the 3 are missing\n",
    ")\n",
    "\n",
    "# Naming the index makes it easier to title\n",
    "joined_unemp_df.index.name = \"Date\"\n",
    "\n",
    "joined_unemp_df.tail()"
   ]
  },
  {
   "cell_type": "code",
   "execution_count": 6,
   "id": "8d83fc29",
   "metadata": {},
   "outputs": [
    {
     "data": {
      "application/vnd.plotly.v1+json": {
       "config": {
        "plotlyServerURL": "https://plot.ly"
       },
       "data": [
        {
         "mode": "lines",
         "name": "U6 Unemployment Rate",
         "type": "scatter",
         "x": [
          "2022-01-01T00:00:00",
          "2022-02-01T00:00:00",
          "2022-03-01T00:00:00",
          "2022-04-01T00:00:00",
          "2022-05-01T00:00:00",
          "2022-06-01T00:00:00",
          "2022-07-01T00:00:00",
          "2022-08-01T00:00:00",
          "2022-09-01T00:00:00",
          "2022-10-01T00:00:00",
          "2022-11-01T00:00:00",
          "2022-12-01T00:00:00",
          "2023-01-01T00:00:00",
          "2023-02-01T00:00:00",
          "2023-03-01T00:00:00",
          "2023-04-01T00:00:00",
          "2023-05-01T00:00:00",
          "2023-06-01T00:00:00",
          "2023-07-01T00:00:00",
          "2023-08-01T00:00:00",
          "2023-09-01T00:00:00",
          "2023-10-01T00:00:00",
          "2023-11-01T00:00:00",
          "2023-12-01T00:00:00",
          "2024-01-01T00:00:00",
          "2024-02-01T00:00:00",
          "2024-03-01T00:00:00",
          "2024-04-01T00:00:00",
          "2024-05-01T00:00:00",
          "2024-06-01T00:00:00",
          "2024-07-01T00:00:00",
          "2024-08-01T00:00:00",
          "2024-09-01T00:00:00",
          "2024-10-01T00:00:00",
          "2024-11-01T00:00:00",
          "2024-12-01T00:00:00",
          "2025-01-01T00:00:00",
          "2025-02-01T00:00:00",
          "2025-03-01T00:00:00",
          "2025-04-01T00:00:00",
          "2025-05-01T00:00:00",
          "2025-06-01T00:00:00",
          "2025-07-01T00:00:00",
          "2025-08-01T00:00:00"
         ],
         "xaxis": "x",
         "y": {
          "bdata": "ZmZmZmZmHEDNzMzMzMwcQAAAAAAAABxAAAAAAAAAHEBmZmZmZmYcQM3MzMzMzBpAMzMzMzMzG0CamZmZmZkbQM3MzMzMzBpAzczMzMzMGkDNzMzMzMwaQGZmZmZmZhpAzczMzMzMGkAzMzMzMzMbQM3MzMzMzBpAZmZmZmZmGkDNzMzMzMwaQJqZmZmZmRtAzczMzMzMGkBmZmZmZmYcQAAAAAAAABxAzczMzMzMHEAAAAAAAAAcQM3MzMzMzBxAzczMzMzMHEAzMzMzMzMdQDMzMzMzMx1AmpmZmZmZHUCamZmZmZkdQJqZmZmZmR1AMzMzMzMzH0AzMzMzMzMfQM3MzMzMzB5AzczMzMzMHkDNzMzMzMweQAAAAAAAAB5AAAAAAAAAHkAAAAAAAAAgQJqZmZmZmR9AMzMzMzMzH0AzMzMzMzMfQM3MzMzMzB5AmpmZmZmZH0AzMzMzMzMgQA==",
          "dtype": "f8"
         },
         "yaxis": "y"
        },
        {
         "mode": "lines",
         "name": "Unemployment Rate",
         "type": "scatter",
         "x": [
          "2022-01-01T00:00:00",
          "2022-02-01T00:00:00",
          "2022-03-01T00:00:00",
          "2022-04-01T00:00:00",
          "2022-05-01T00:00:00",
          "2022-06-01T00:00:00",
          "2022-07-01T00:00:00",
          "2022-08-01T00:00:00",
          "2022-09-01T00:00:00",
          "2022-10-01T00:00:00",
          "2022-11-01T00:00:00",
          "2022-12-01T00:00:00",
          "2023-01-01T00:00:00",
          "2023-02-01T00:00:00",
          "2023-03-01T00:00:00",
          "2023-04-01T00:00:00",
          "2023-05-01T00:00:00",
          "2023-06-01T00:00:00",
          "2023-07-01T00:00:00",
          "2023-08-01T00:00:00",
          "2023-09-01T00:00:00",
          "2023-10-01T00:00:00",
          "2023-11-01T00:00:00",
          "2023-12-01T00:00:00",
          "2024-01-01T00:00:00",
          "2024-02-01T00:00:00",
          "2024-03-01T00:00:00",
          "2024-04-01T00:00:00",
          "2024-05-01T00:00:00",
          "2024-06-01T00:00:00",
          "2024-07-01T00:00:00",
          "2024-08-01T00:00:00",
          "2024-09-01T00:00:00",
          "2024-10-01T00:00:00",
          "2024-11-01T00:00:00",
          "2024-12-01T00:00:00",
          "2025-01-01T00:00:00",
          "2025-02-01T00:00:00",
          "2025-03-01T00:00:00",
          "2025-04-01T00:00:00",
          "2025-05-01T00:00:00",
          "2025-06-01T00:00:00",
          "2025-07-01T00:00:00",
          "2025-08-01T00:00:00"
         ],
         "xaxis": "x",
         "y": {
          "bdata": "AAAAAAAAEEBmZmZmZmYOQJqZmZmZmQ1AmpmZmZmZDUDNzMzMzMwMQM3MzMzMzAxAAAAAAAAADEDNzMzMzMwMQAAAAAAAAAxAzczMzMzMDEDNzMzMzMwMQAAAAAAAAAxAAAAAAAAADEDNzMzMzMwMQAAAAAAAAAxAMzMzMzMzC0DNzMzMzMwMQM3MzMzMzAxAAAAAAAAADECamZmZmZkNQGZmZmZmZg5AMzMzMzMzD0CamZmZmZkNQGZmZmZmZg5AmpmZmZmZDUAzMzMzMzMPQDMzMzMzMw9AMzMzMzMzD0AAAAAAAAAQQGZmZmZmZhBAzczMzMzMEEDNzMzMzMwQQGZmZmZmZhBAZmZmZmZmEEDNzMzMzMwQQGZmZmZmZhBAAAAAAAAAEEBmZmZmZmYQQM3MzMzMzBBAzczMzMzMEEDNzMzMzMwQQGZmZmZmZhBAzczMzMzMEEAzMzMzMzMRQA==",
          "dtype": "f8"
         },
         "yaxis": "y"
        },
        {
         "mode": "lines",
         "name": "Change in Nonfarm Payrolls",
         "type": "scatter",
         "x": [
          "2022-01-01T00:00:00",
          "2022-02-01T00:00:00",
          "2022-03-01T00:00:00",
          "2022-04-01T00:00:00",
          "2022-05-01T00:00:00",
          "2022-06-01T00:00:00",
          "2022-07-01T00:00:00",
          "2022-08-01T00:00:00",
          "2022-09-01T00:00:00",
          "2022-10-01T00:00:00",
          "2022-11-01T00:00:00",
          "2022-12-01T00:00:00",
          "2023-01-01T00:00:00",
          "2023-02-01T00:00:00",
          "2023-03-01T00:00:00",
          "2023-04-01T00:00:00",
          "2023-05-01T00:00:00",
          "2023-06-01T00:00:00",
          "2023-07-01T00:00:00",
          "2023-08-01T00:00:00",
          "2023-09-01T00:00:00",
          "2023-10-01T00:00:00",
          "2023-11-01T00:00:00",
          "2023-12-01T00:00:00",
          "2024-01-01T00:00:00",
          "2024-02-01T00:00:00",
          "2024-03-01T00:00:00",
          "2024-04-01T00:00:00",
          "2024-05-01T00:00:00",
          "2024-06-01T00:00:00",
          "2024-07-01T00:00:00",
          "2024-08-01T00:00:00",
          "2024-09-01T00:00:00",
          "2024-10-01T00:00:00",
          "2024-11-01T00:00:00",
          "2024-12-01T00:00:00",
          "2025-01-01T00:00:00",
          "2025-02-01T00:00:00",
          "2025-03-01T00:00:00",
          "2025-04-01T00:00:00",
          "2025-05-01T00:00:00",
          "2025-06-01T00:00:00",
          "2025-07-01T00:00:00",
          "2025-08-01T00:00:00"
         ],
         "xaxis": "x2",
         "y": {
          "bdata": "AAAAAAAgbEAAAAAAACiLQAAAAAAAcH1AAAAAAAAQc0AAAAAAACBuQAAAAAAA0HxAAAAAAADAhUAAAAAAAKBtQAAAAAAAYGxAAAAAAAAAeUAAAAAAAJByQAAAAAAAgF9AAAAAAADAe0AAAAAAACBzQAAAAAAAQFVAAAAAAAAAa0AAAAAAAGBsQAAAAAAAEHBAAAAAAACAYkAAAAAAAKBjQAAAAAAAwGNAAAAAAABAZ0AAAAAAAKBhQAAAAAAA0HBAAAAAAADAXUAAAAAAAMBrQAAAAAAAwG5AAAAAAACAXUAAAAAAACBoQAAAAAAAwFVAAAAAAAAAVkAAAAAAAMBRQAAAAAAAAG5AAAAAAAAARkAAAAAAAFBwQAAAAAAAMHRAAAAAAADAW0AAAAAAAIBZQAAAAAAAAF5AAAAAAADAY0AAAAAAAAAzQAAAAAAAACrAAAAAAADAU0AAAAAAAAA2QA==",
          "dtype": "f8"
         },
         "yaxis": "y2"
        },
        {
         "mode": "lines",
         "name": "Percent Change in Average Hourly Earnings (YoY)",
         "type": "scatter",
         "x": [
          "2022-01-01T00:00:00",
          "2022-02-01T00:00:00",
          "2022-03-01T00:00:00",
          "2022-04-01T00:00:00",
          "2022-05-01T00:00:00",
          "2022-06-01T00:00:00",
          "2022-07-01T00:00:00",
          "2022-08-01T00:00:00",
          "2022-09-01T00:00:00",
          "2022-10-01T00:00:00",
          "2022-11-01T00:00:00",
          "2022-12-01T00:00:00",
          "2023-01-01T00:00:00",
          "2023-02-01T00:00:00",
          "2023-03-01T00:00:00",
          "2023-04-01T00:00:00",
          "2023-05-01T00:00:00",
          "2023-06-01T00:00:00",
          "2023-07-01T00:00:00",
          "2023-08-01T00:00:00",
          "2023-09-01T00:00:00",
          "2023-10-01T00:00:00",
          "2023-11-01T00:00:00",
          "2023-12-01T00:00:00",
          "2024-01-01T00:00:00",
          "2024-02-01T00:00:00",
          "2024-03-01T00:00:00",
          "2024-04-01T00:00:00",
          "2024-05-01T00:00:00",
          "2024-06-01T00:00:00",
          "2024-07-01T00:00:00",
          "2024-08-01T00:00:00",
          "2024-09-01T00:00:00",
          "2024-10-01T00:00:00",
          "2024-11-01T00:00:00",
          "2024-12-01T00:00:00",
          "2025-01-01T00:00:00",
          "2025-02-01T00:00:00",
          "2025-03-01T00:00:00",
          "2025-04-01T00:00:00",
          "2025-05-01T00:00:00",
          "2025-06-01T00:00:00",
          "2025-07-01T00:00:00",
          "2025-08-01T00:00:00"
         ],
         "xaxis": "x3",
         "y": {
          "bdata": "7ginBS+6FkAteNFXkCYVQPryAuyjsxdA3IDPDyPkFkAmx53SwToWQHtmSYCamhVABg39E1wMFkABwRw9fm8VQF6AfXTqihRAngyOklfnE0AnMQisHFoUQD5cctwpvRNASS7/If0WEkD6uDZUjPMSQJijx+9tWhJAZwqd19hFEkCL4H8r2bERQN8yp8tighJAlYJuL2lsEkCM8zehEOERQKc/+5EishFAUkmdgCbCEEDEWnwKgHEQQIqryr4rYhBAj3Ba8KIvEUDa5sb0hKUQQNttF5rrtBBAETY8vVLWD0BFniRdM1kQQF2/YDdsGw9AhxbZzvcTDUDE6/oFu6EPQH2zzY3piQ9AWcAEbt2NEEDNI38w8JwQQIts5/up8Q9Ax2gdVU2QD0Add0oH638PQNieWRKgJg9AkWEVb2SeDkDvrN12obkOQG8NbJVg8Q1AvJF55A8GD0BpdAexM4UNQA==",
          "dtype": "f8"
         },
         "yaxis": "y3"
        }
       ],
       "layout": {
        "annotations": [
         {
          "font": {
           "size": 16
          },
          "showarrow": false,
          "text": "Unemployment Rates",
          "x": 0.5,
          "xanchor": "center",
          "xref": "paper",
          "y": 1,
          "yanchor": "bottom",
          "yref": "paper"
         },
         {
          "font": {
           "size": 16
          },
          "showarrow": false,
          "text": "Change in Nonfarm Payrolls",
          "x": 0.5,
          "xanchor": "center",
          "xref": "paper",
          "y": 0.6399999999999999,
          "yanchor": "bottom",
          "yref": "paper"
         },
         {
          "font": {
           "size": 16
          },
          "showarrow": false,
          "text": "Percent Change in Average Hourly Earnings (YoY)",
          "x": 0.5,
          "xanchor": "center",
          "xref": "paper",
          "y": 0.27999999999999997,
          "yanchor": "bottom",
          "yref": "paper"
         }
        ],
        "height": 900,
        "legend": {
         "font": {
          "size": 16
         },
         "orientation": "v"
        },
        "showlegend": true,
        "template": {
         "data": {
          "scatter": [
           {
            "hovertemplate": "%{x|%Y-%m-%d}<br> %{y:.1f}<extra></extra>",
            "line": {
             "width": 3
            },
            "type": "scatter"
           }
          ]
         },
         "layout": {
          "colorway": [
           "#2A547E",
           "#CF8B40",
           "#879396",
           "#F7CAC9",
           "#7095cf"
          ],
          "height": 500,
          "legend": {
           "bgcolor": "rgba(0,0,0,0)",
           "borderwidth": 0,
           "font": {
            "color": "#163855",
            "family": "Cambria Bold",
            "size": 22
           },
           "orientation": "h",
           "x": 1,
           "xanchor": "right",
           "y": 1.05,
           "yanchor": "bottom"
          },
          "title": {
           "font": {
            "color": "#163855",
            "family": "Cambria Bold",
            "size": 36
           },
           "x": 0.05,
           "xanchor": "left"
          },
          "width": 1200,
          "xaxis": {
           "gridcolor": "#D3D3D3",
           "gridwidth": 0.5,
           "showgrid": true,
           "tickfont": {
            "color": "#163855",
            "family": "Cambria Bold",
            "size": 18
           },
           "title": {
            "font": {
             "color": "#163855",
             "family": "Cambria Bold",
             "size": 24
            }
           },
           "type": "date"
          },
          "yaxis": {
           "gridcolor": "#D3D3D3",
           "gridwidth": 0.5,
           "showgrid": true,
           "tickfont": {
            "color": "#163855",
            "family": "Cambria Bold",
            "size": 18
           },
           "title": {
            "font": {
             "color": "#163855",
             "family": "Cambria Bold",
             "size": 24
            }
           }
          }
         }
        },
        "title": {
         "text": "Jobs Report<br><sup>Monthly, Seasonally Adjusted</sup>"
        },
        "xaxis": {
         "anchor": "y",
         "domain": [
          0,
          1
         ],
         "matches": "x3",
         "showticklabels": false
        },
        "xaxis2": {
         "anchor": "y2",
         "domain": [
          0,
          1
         ],
         "matches": "x3",
         "showticklabels": false
        },
        "xaxis3": {
         "anchor": "y3",
         "domain": [
          0,
          1
         ],
         "tickformat": "%b %Y",
         "title": {
          "text": "Date"
         },
         "type": "date"
        },
        "yaxis": {
         "anchor": "x",
         "domain": [
          0.72,
          1
         ],
         "tickformat": ".0f",
         "ticksuffix": "%",
         "title": {
          "text": "Percent"
         }
        },
        "yaxis2": {
         "anchor": "x2",
         "domain": [
          0.36,
          0.6399999999999999
         ],
         "tickformat": ",0",
         "ticksuffix": "k",
         "title": {
          "text": "Thousands"
         }
        },
        "yaxis3": {
         "anchor": "x3",
         "domain": [
          0,
          0.27999999999999997
         ],
         "tickformat": ".1f",
         "ticksuffix": "%",
         "title": {
          "text": "Percent Change"
         }
        }
       }
      }
     },
     "metadata": {},
     "output_type": "display_data"
    }
   ],
   "source": [
    "# Create a figure with 3 vertically stacked subplots (shared x-axis)\n",
    "\n",
    "fig = make_subplots(\n",
    "    rows=3, cols=1,\n",
    "    shared_xaxes=True,\n",
    "    vertical_spacing=0.08,\n",
    "    subplot_titles=(\n",
    "        \"Unemployment Rates\",\n",
    "        \"Change in Nonfarm Payrolls\",\n",
    "        \"Percent Change in Average Hourly Earnings (YoY)\"\n",
    "    )\n",
    ")\n",
    "\n",
    "# 1. Plot both unemployment rates in the first subplot\n",
    "for col in joined_unemp_df.columns:\n",
    "    fig.add_trace(\n",
    "        go.Scatter(\n",
    "            x=joined_unemp_df.index,\n",
    "            y=joined_unemp_df[col],\n",
    "            mode='lines',\n",
    "            name=col\n",
    "        ),\n",
    "        row=1, col=1\n",
    "    )\n",
    "\n",
    "# 2. Plot payrolls_srs in the second subplot\n",
    "fig.add_trace(\n",
    "    go.Scatter(\n",
    "        x=payrolls_srs.index,\n",
    "        y=payrolls_srs.values,\n",
    "        mode='lines',\n",
    "        name=payrolls_srs.name\n",
    "    ),\n",
    "    row=2, col=1\n",
    ")\n",
    "\n",
    "# 3. Plot earnings_srs in the third subplot\n",
    "fig.add_trace(\n",
    "    go.Scatter(\n",
    "        x=earnings_srs.index,\n",
    "        y=earnings_srs.values,\n",
    "        mode='lines',\n",
    "        name=earnings_srs.name\n",
    "    ),\n",
    "    row=3, col=1\n",
    ")\n",
    "\n",
    "# Update layout and axes\n",
    "fig.update_layout(\n",
    "    height=900,\n",
    "    title=dict(\n",
    "        text='Jobs Report<br><sup>Monthly, Seasonally Adjusted</sup>'\n",
    "    ),\n",
    "    showlegend=True,\n",
    "    xaxis3_title=\"Date\"\n",
    ")\n",
    "\n",
    "# Y-axis formatting for each subplot\n",
    "fig.update_yaxes(\n",
    "    title_text=\"Percent\", tickformat=\".0f\", ticksuffix=\"%\", row=1, col=1\n",
    ")\n",
    "fig.update_yaxes(\n",
    "    title_text=\"Thousands\", tickformat=\",0\", ticksuffix=\"k\", row=2, col=1\n",
    ")\n",
    "fig.update_yaxes(\n",
    "    title_text=\"Percent Change\", tickformat=\".1f\", ticksuffix=\"%\", row=3, col=1\n",
    ")\n",
    "\n",
    "# X-axis formatting (bottom subplot only)\n",
    "fig.update_xaxes(\n",
    "    type='date',\n",
    "    tickformat='%b %Y',\n",
    "    row=3, col=1\n",
    ")\n",
    "\n",
    "\n",
    "fig.update_layout(\n",
    "    legend=dict(\n",
    "        font_size=16,\n",
    "        orientation='v'\n",
    "    )\n",
    ")\n",
    "\n",
    "fig.show()\n",
    "\n",
    "# Save the figure as HTML\n",
    "fig.write_html(GRAPH_OUTPUT_PATH + f\"/{GRAPH_NAME}.html\")"
   ]
  }
 ],
 "metadata": {
  "kernelspec": {
   "display_name": ".venv",
   "language": "python",
   "name": "python3"
  },
  "language_info": {
   "codemirror_mode": {
    "name": "ipython",
    "version": 3
   },
   "file_extension": ".py",
   "mimetype": "text/x-python",
   "name": "python",
   "nbconvert_exporter": "python",
   "pygments_lexer": "ipython3",
   "version": "3.13.7"
  }
 },
 "nbformat": 4,
 "nbformat_minor": 5
}
