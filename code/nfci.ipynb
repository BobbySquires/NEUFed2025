{
 "cells": [
  {
   "cell_type": "markdown",
   "id": "ec9a0460",
   "metadata": {},
   "source": [
    "This notebook walks through how to make graphs in this repo. You can copy this example.ipynb and rename it for your own graphing work. <b> Please do each graph in a seperate notebook!</b>\n",
    "\n",
    "1. Import the appropriate packages. We'll use plotly.graph_objects for making all of our graphs."
   ]
  },
  {
   "cell_type": "code",
   "execution_count": 1,
   "id": "b8a83946",
   "metadata": {},
   "outputs": [],
   "source": [
    "import datetime as dt\n",
    "import plotly.graph_objects as go\n",
    "import plotly.io as pio\n",
    "import pandas as pd\n",
    "import utils.utils as ut\n",
    "import utils.graph_templates\n",
    "\n",
    "from fredapi import Fred"
   ]
  },
  {
   "cell_type": "markdown",
   "id": "533182f0",
   "metadata": {},
   "source": [
    "2. We'll get data using the fredapi package. Set the path to the text file with your API key"
   ]
  },
  {
   "cell_type": "code",
   "execution_count": 2,
   "id": "f81e1110",
   "metadata": {},
   "outputs": [],
   "source": [
    "# Call the graph the exact same thing as its notebook (minus the ipynb suffix)\n",
    "GRAPH_NAME = \"example\"\n",
    "\n",
    "API_KEY_PATH = ut.get_repo_root() / \"fred_api_key.txt\" \n",
    "\n",
    "fred = Fred(api_key_file = API_KEY_PATH)"
   ]
  },
  {
   "cell_type": "markdown",
   "id": "ee2ebb59",
   "metadata": {},
   "source": [
    "3. Set the fed_2025 template as default"
   ]
  },
  {
   "cell_type": "code",
   "execution_count": 3,
   "id": "00bbbcaa",
   "metadata": {},
   "outputs": [],
   "source": [
    "pio.templates.default = 'fed_2025'\n",
    "\n",
    "# Call the graph the exact same thing as its notebook (minus the ipynb suffix)\n",
    "GRAPH_NAME = \"example\"\n",
    "\n",
    "# Now is a good time to set the path to the graph output folder!\n",
    "GRAPH_OUTPUT_PATH = ut.get_repo_root() / \"figures\""
   ]
  },
  {
   "cell_type": "code",
   "execution_count": 4,
   "id": "d02adea9",
   "metadata": {},
   "outputs": [
    {
     "data": {
      "text/plain": [
       "WindowsPath('C:/Users/Bobby/Desktop/Fed Challenge 2025/NEUFed2025/figures')"
      ]
     },
     "execution_count": 4,
     "metadata": {},
     "output_type": "execute_result"
    }
   ],
   "source": [
    "GRAPH_OUTPUT_PATH"
   ]
  },
  {
   "cell_type": "markdown",
   "id": "c2af7dd8",
   "metadata": {},
   "source": [
    "4. Use the fredapi to get the data and prepare it for graphing. Documentation on the optional parameters that can be passed to the get_series called are found here (the documentation in fredapi is out of date). \n",
    "\n",
    "https://fred.stlouisfed.org/docs/api/fred/series_observations.html#Description\n",
    "\n",
    "If you get data from somewhere else thats fine too! Put the raw csv in the \"raw_data\" folder and read it in here. Make sure not to edit the raw data, just transform and graph it."
   ]
  },
  {
   "cell_type": "code",
   "execution_count": 5,
   "id": "4c582e8a",
   "metadata": {},
   "outputs": [],
   "source": [
    "# The get_series_info method may be useful\n",
    "fred.get_series_info(series_id=\"CPIAUCSL\")\n",
    "\n",
    "# It's good practice to store the series codes in a dictionary with their names\n",
    "series_codes = {\n",
    "    \"National Finnancial Conditions Index\": \"NFCI\",\n",
    "    \"Adjusted National Finnancial Conditions Index\": \"ANFCI\"\n",
    "    \n",
    "}"
   ]
  },
  {
   "cell_type": "code",
   "execution_count": null,
   "id": "5934d6c9",
   "metadata": {},
   "outputs": [
    {
     "data": {
      "text/html": [
       "<div>\n",
       "<style scoped>\n",
       "    .dataframe tbody tr th:only-of-type {\n",
       "        vertical-align: middle;\n",
       "    }\n",
       "\n",
       "    .dataframe tbody tr th {\n",
       "        vertical-align: top;\n",
       "    }\n",
       "\n",
       "    .dataframe thead th {\n",
       "        text-align: right;\n",
       "    }\n",
       "</style>\n",
       "<table border=\"1\" class=\"dataframe\">\n",
       "  <thead>\n",
       "    <tr style=\"text-align: right;\">\n",
       "      <th></th>\n",
       "      <th>NFCI</th>\n",
       "      <th>Adjusted NFCI</th>\n",
       "    </tr>\n",
       "    <tr>\n",
       "      <th>Date</th>\n",
       "      <th></th>\n",
       "      <th></th>\n",
       "    </tr>\n",
       "  </thead>\n",
       "  <tbody>\n",
       "    <tr>\n",
       "      <th>2025-09-12</th>\n",
       "      <td>-0.53573</td>\n",
       "      <td>-0.50384</td>\n",
       "    </tr>\n",
       "    <tr>\n",
       "      <th>2025-09-19</th>\n",
       "      <td>-0.53897</td>\n",
       "      <td>-0.50963</td>\n",
       "    </tr>\n",
       "    <tr>\n",
       "      <th>2025-09-26</th>\n",
       "      <td>-0.54433</td>\n",
       "      <td>-0.52134</td>\n",
       "    </tr>\n",
       "    <tr>\n",
       "      <th>2025-10-03</th>\n",
       "      <td>-0.55163</td>\n",
       "      <td>-0.53925</td>\n",
       "    </tr>\n",
       "    <tr>\n",
       "      <th>2025-10-10</th>\n",
       "      <td>-0.55852</td>\n",
       "      <td>-0.55672</td>\n",
       "    </tr>\n",
       "  </tbody>\n",
       "</table>\n",
       "</div>"
      ],
      "text/plain": [
       "               NFCI  Adjusted NFCI\n",
       "Date                              \n",
       "2025-09-12 -0.53573       -0.50384\n",
       "2025-09-19 -0.53897       -0.50963\n",
       "2025-09-26 -0.54433       -0.52134\n",
       "2025-10-03 -0.55163       -0.53925\n",
       "2025-10-10 -0.55852       -0.55672"
      ]
     },
     "execution_count": 11,
     "metadata": {},
     "output_type": "execute_result"
    }
   ],
   "source": [
    "today = dt.date.today()\n",
    "\n",
    "imprts = fred.get_series(\n",
    "    series_id=series_codes[\"National Finnancial Conditions Index\"],\n",
    "    observation_start=dt.date(2023, 1, 1),\n",
    "    observation_end=today,\n",
    "    frequency='w',\n",
    ").rename(\"NFCI\")\n",
    "\n",
    "exprts = fred.get_series(\n",
    "    series_id=series_codes[\"Adjusted National Finnancial Conditions Index\"],\n",
    "    observation_start=dt.date(2023, 1, 1),\n",
    "    observation_end=today,\n",
    "    frequency='w',\n",
    ").rename(\"Adjusted NFCI\") \n",
    "\n",
    "\n",
    "\n",
    "joined_df = pd.concat(\n",
    "    [imprts, exprts], # srs to join\n",
    "    axis=1, # multiple observations per index entry\n",
    "    join='inner' # only include observations where none of the 3 are missing\n",
    ")\n",
    "\n",
    "# Naming the index makes it easier tot title\n",
    "joined_df.index.name = \"Date\"\n",
    "\n",
    "joined_df.tail()"
   ]
  },
  {
   "cell_type": "markdown",
   "id": "f36c32ec",
   "metadata": {},
   "source": [
    "5. Now that all our data is ready, make the graph and have it save itself as a .html file to graph_output whenver the notebooks is rerun. The name of the file should exactly match the notebook name. For instance, this file \"example.ipynb\" produces the graph \"example.html.\" Nice work, you made a graph! "
   ]
  },
  {
   "cell_type": "code",
   "execution_count": 20,
   "id": "8d83fc29",
   "metadata": {},
   "outputs": [
    {
     "data": {
      "application/vnd.plotly.v1+json": {
       "config": {
        "plotlyServerURL": "https://plot.ly"
       },
       "data": [
        {
         "mode": "lines",
         "name": "NFCI",
         "type": "scatter",
         "x": [
          "2023-01-06T00:00:00",
          "2023-01-13T00:00:00",
          "2023-01-20T00:00:00",
          "2023-01-27T00:00:00",
          "2023-02-03T00:00:00",
          "2023-02-10T00:00:00",
          "2023-02-17T00:00:00",
          "2023-02-24T00:00:00",
          "2023-03-03T00:00:00",
          "2023-03-10T00:00:00",
          "2023-03-17T00:00:00",
          "2023-03-24T00:00:00",
          "2023-03-31T00:00:00",
          "2023-04-07T00:00:00",
          "2023-04-14T00:00:00",
          "2023-04-21T00:00:00",
          "2023-04-28T00:00:00",
          "2023-05-05T00:00:00",
          "2023-05-12T00:00:00",
          "2023-05-19T00:00:00",
          "2023-05-26T00:00:00",
          "2023-06-02T00:00:00",
          "2023-06-09T00:00:00",
          "2023-06-16T00:00:00",
          "2023-06-23T00:00:00",
          "2023-06-30T00:00:00",
          "2023-07-07T00:00:00",
          "2023-07-14T00:00:00",
          "2023-07-21T00:00:00",
          "2023-07-28T00:00:00",
          "2023-08-04T00:00:00",
          "2023-08-11T00:00:00",
          "2023-08-18T00:00:00",
          "2023-08-25T00:00:00",
          "2023-09-01T00:00:00",
          "2023-09-08T00:00:00",
          "2023-09-15T00:00:00",
          "2023-09-22T00:00:00",
          "2023-09-29T00:00:00",
          "2023-10-06T00:00:00",
          "2023-10-13T00:00:00",
          "2023-10-20T00:00:00",
          "2023-10-27T00:00:00",
          "2023-11-03T00:00:00",
          "2023-11-10T00:00:00",
          "2023-11-17T00:00:00",
          "2023-11-24T00:00:00",
          "2023-12-01T00:00:00",
          "2023-12-08T00:00:00",
          "2023-12-15T00:00:00",
          "2023-12-22T00:00:00",
          "2023-12-29T00:00:00",
          "2024-01-05T00:00:00",
          "2024-01-12T00:00:00",
          "2024-01-19T00:00:00",
          "2024-01-26T00:00:00",
          "2024-02-02T00:00:00",
          "2024-02-09T00:00:00",
          "2024-02-16T00:00:00",
          "2024-02-23T00:00:00",
          "2024-03-01T00:00:00",
          "2024-03-08T00:00:00",
          "2024-03-15T00:00:00",
          "2024-03-22T00:00:00",
          "2024-03-29T00:00:00",
          "2024-04-05T00:00:00",
          "2024-04-12T00:00:00",
          "2024-04-19T00:00:00",
          "2024-04-26T00:00:00",
          "2024-05-03T00:00:00",
          "2024-05-10T00:00:00",
          "2024-05-17T00:00:00",
          "2024-05-24T00:00:00",
          "2024-05-31T00:00:00",
          "2024-06-07T00:00:00",
          "2024-06-14T00:00:00",
          "2024-06-21T00:00:00",
          "2024-06-28T00:00:00",
          "2024-07-05T00:00:00",
          "2024-07-12T00:00:00",
          "2024-07-19T00:00:00",
          "2024-07-26T00:00:00",
          "2024-08-02T00:00:00",
          "2024-08-09T00:00:00",
          "2024-08-16T00:00:00",
          "2024-08-23T00:00:00",
          "2024-08-30T00:00:00",
          "2024-09-06T00:00:00",
          "2024-09-13T00:00:00",
          "2024-09-20T00:00:00",
          "2024-09-27T00:00:00",
          "2024-10-04T00:00:00",
          "2024-10-11T00:00:00",
          "2024-10-18T00:00:00",
          "2024-10-25T00:00:00",
          "2024-11-01T00:00:00",
          "2024-11-08T00:00:00",
          "2024-11-15T00:00:00",
          "2024-11-22T00:00:00",
          "2024-11-29T00:00:00",
          "2024-12-06T00:00:00",
          "2024-12-13T00:00:00",
          "2024-12-20T00:00:00",
          "2024-12-27T00:00:00",
          "2025-01-03T00:00:00",
          "2025-01-10T00:00:00",
          "2025-01-17T00:00:00",
          "2025-01-24T00:00:00",
          "2025-01-31T00:00:00",
          "2025-02-07T00:00:00",
          "2025-02-14T00:00:00",
          "2025-02-21T00:00:00",
          "2025-02-28T00:00:00",
          "2025-03-07T00:00:00",
          "2025-03-14T00:00:00",
          "2025-03-21T00:00:00",
          "2025-03-28T00:00:00",
          "2025-04-04T00:00:00",
          "2025-04-11T00:00:00",
          "2025-04-18T00:00:00",
          "2025-04-25T00:00:00",
          "2025-05-02T00:00:00",
          "2025-05-09T00:00:00",
          "2025-05-16T00:00:00",
          "2025-05-23T00:00:00",
          "2025-05-30T00:00:00",
          "2025-06-06T00:00:00",
          "2025-06-13T00:00:00",
          "2025-06-20T00:00:00",
          "2025-06-27T00:00:00",
          "2025-07-04T00:00:00",
          "2025-07-11T00:00:00",
          "2025-07-18T00:00:00",
          "2025-07-25T00:00:00",
          "2025-08-01T00:00:00",
          "2025-08-08T00:00:00",
          "2025-08-15T00:00:00",
          "2025-08-22T00:00:00",
          "2025-08-29T00:00:00",
          "2025-09-05T00:00:00",
          "2025-09-12T00:00:00",
          "2025-09-19T00:00:00",
          "2025-09-26T00:00:00",
          "2025-10-03T00:00:00",
          "2025-10-10T00:00:00"
         ],
         "y": {
          "bdata": "LjnulA7Wz7+wcmiR7XzRvxQi4BCq1NK/mnyzzY3p07+lFHR7SWPUv6NYbmk1JNS/9YQlHlA207+huU4jLZXRv2rBi76CNM+/XKyowTQMy79s7BLVWwPHv47pCUs8oMS/gPEMGvonxL8QBp57D5fEv+if4GJFDca/WcAEbt3Nx782k2+2uTHJv6Cmlq31Rcq/jgHZ690fy7/ejnBa8KLLv1WH3Aw34Mu/n3HhQEgWzL/5FADjGTTMv/hwyXGndMy/J/c7FAX6zL/D9Shcj8LNv2+e6pCb4c6/h78ma9RD0L9HWipvRzjRv86N6QlLPNK/RgiPNo5Y07+y9KEL6lvUvyqMLQQ5KNW/R3L5D+m31b9sQ8U4fxPWvxzO/GoOENa/w/UoXI/C1b8drP9zmC/Vv0i/fR04Z9S/4nX9gt2w07+/SGjLuRTTv97lIr4Ts9K/3V7SGK2j0r8c8PlhhPDSv+zAOSNKe9O/LhwIyQIm1L/OUx1yM9zUvxMPKJtyhdW/MPXzpiIV1r9IG0esxafWv1qBIatbPde/SPlJtU/H179rn47HDFTYvwwCK4cW2di/dO/hkuNO2b+GIAclzLTZv2cKndfYJdq/vjCZKhiV2r9MbD6uDRXbv/EuF/GdmNu/PE7RkVz+27+BeF2/YDfcv7FtUWaDTNy/7Q2+MJkq3L/NI38w8Nzbv1QdcjPcgNu/H4XrUbge279gsBu2Lcrav5xQiIBDqNq/8IXJVMGo2r8r+64I/rfav+LMr+YAwdq/tr5IaMu52r81RuuoaoLavyy8y0V8J9q/iIBDqFKz2b/X3TzVITfZv83MzMzMzNi/C5jArbt52L9tyhXe5SLYv8EcPX5v09e/n1kSoKaW17+HxD2WPnTXv6bydoTTgte/2NglqrcG2L/NHmgFhqzYv0eP39v0Z9m/jdE6qpog2r9qMA3DR8Tav5q2f2WlSdu/i+B/K9mx27/XUdUEUffbv+0NvjCZKty/GHjuPVxy3L9fKcsQx7rcv10z+WabG92/W+uLhLac3b+fceFASBbevw1xrIvbaN6//mX35GGh3r8pIsMq3sjev2recYqO5N6/YOXQItv53r9VwaikTkDfvzSdnQyOkt+/X7Uy4Zf6378M5US7Cingv8SUSKKXUeC/1bK1vkho4L9aL4Zyol3gv0m6ZvLNNuC/HXIz3IDP378012mkpfLevxk5C3va4d2/gpAsYAK33L+/YDdsW5Tbv6TC2EKQg9q/AG+BBMWP2b/k2lAxzt/Yv54MjpJX59i/U+i8xi5R2b/wbfqzHynavzp6/N6mP9u/Y3/ZPXlY3L/C3Vm77ULdv3B87ZklAd6/hUIEHEKV3r825QrvchHfv4qryr4rgt+/X7Uy4Zf63791yM1wAz7gv5m7lpAPeuC/71UrE36p4L+QTl35LM/gv/bRqSuf5eC/qkNuhhvw4L/IQQkzbf/gv4hjXdxGA+G/DTfg88MI4b8e/pqsUQ/hv/iNrz2zJOG/yM1wAz4/4b/saYe/Jmvhv2XCL/XzpuG/cy7FVWXf4b8=",
          "dtype": "f8"
         }
        },
        {
         "mode": "lines",
         "name": "Adjusted NFCI",
         "type": "scatter",
         "x": [
          "2023-01-06T00:00:00",
          "2023-01-13T00:00:00",
          "2023-01-20T00:00:00",
          "2023-01-27T00:00:00",
          "2023-02-03T00:00:00",
          "2023-02-10T00:00:00",
          "2023-02-17T00:00:00",
          "2023-02-24T00:00:00",
          "2023-03-03T00:00:00",
          "2023-03-10T00:00:00",
          "2023-03-17T00:00:00",
          "2023-03-24T00:00:00",
          "2023-03-31T00:00:00",
          "2023-04-07T00:00:00",
          "2023-04-14T00:00:00",
          "2023-04-21T00:00:00",
          "2023-04-28T00:00:00",
          "2023-05-05T00:00:00",
          "2023-05-12T00:00:00",
          "2023-05-19T00:00:00",
          "2023-05-26T00:00:00",
          "2023-06-02T00:00:00",
          "2023-06-09T00:00:00",
          "2023-06-16T00:00:00",
          "2023-06-23T00:00:00",
          "2023-06-30T00:00:00",
          "2023-07-07T00:00:00",
          "2023-07-14T00:00:00",
          "2023-07-21T00:00:00",
          "2023-07-28T00:00:00",
          "2023-08-04T00:00:00",
          "2023-08-11T00:00:00",
          "2023-08-18T00:00:00",
          "2023-08-25T00:00:00",
          "2023-09-01T00:00:00",
          "2023-09-08T00:00:00",
          "2023-09-15T00:00:00",
          "2023-09-22T00:00:00",
          "2023-09-29T00:00:00",
          "2023-10-06T00:00:00",
          "2023-10-13T00:00:00",
          "2023-10-20T00:00:00",
          "2023-10-27T00:00:00",
          "2023-11-03T00:00:00",
          "2023-11-10T00:00:00",
          "2023-11-17T00:00:00",
          "2023-11-24T00:00:00",
          "2023-12-01T00:00:00",
          "2023-12-08T00:00:00",
          "2023-12-15T00:00:00",
          "2023-12-22T00:00:00",
          "2023-12-29T00:00:00",
          "2024-01-05T00:00:00",
          "2024-01-12T00:00:00",
          "2024-01-19T00:00:00",
          "2024-01-26T00:00:00",
          "2024-02-02T00:00:00",
          "2024-02-09T00:00:00",
          "2024-02-16T00:00:00",
          "2024-02-23T00:00:00",
          "2024-03-01T00:00:00",
          "2024-03-08T00:00:00",
          "2024-03-15T00:00:00",
          "2024-03-22T00:00:00",
          "2024-03-29T00:00:00",
          "2024-04-05T00:00:00",
          "2024-04-12T00:00:00",
          "2024-04-19T00:00:00",
          "2024-04-26T00:00:00",
          "2024-05-03T00:00:00",
          "2024-05-10T00:00:00",
          "2024-05-17T00:00:00",
          "2024-05-24T00:00:00",
          "2024-05-31T00:00:00",
          "2024-06-07T00:00:00",
          "2024-06-14T00:00:00",
          "2024-06-21T00:00:00",
          "2024-06-28T00:00:00",
          "2024-07-05T00:00:00",
          "2024-07-12T00:00:00",
          "2024-07-19T00:00:00",
          "2024-07-26T00:00:00",
          "2024-08-02T00:00:00",
          "2024-08-09T00:00:00",
          "2024-08-16T00:00:00",
          "2024-08-23T00:00:00",
          "2024-08-30T00:00:00",
          "2024-09-06T00:00:00",
          "2024-09-13T00:00:00",
          "2024-09-20T00:00:00",
          "2024-09-27T00:00:00",
          "2024-10-04T00:00:00",
          "2024-10-11T00:00:00",
          "2024-10-18T00:00:00",
          "2024-10-25T00:00:00",
          "2024-11-01T00:00:00",
          "2024-11-08T00:00:00",
          "2024-11-15T00:00:00",
          "2024-11-22T00:00:00",
          "2024-11-29T00:00:00",
          "2024-12-06T00:00:00",
          "2024-12-13T00:00:00",
          "2024-12-20T00:00:00",
          "2024-12-27T00:00:00",
          "2025-01-03T00:00:00",
          "2025-01-10T00:00:00",
          "2025-01-17T00:00:00",
          "2025-01-24T00:00:00",
          "2025-01-31T00:00:00",
          "2025-02-07T00:00:00",
          "2025-02-14T00:00:00",
          "2025-02-21T00:00:00",
          "2025-02-28T00:00:00",
          "2025-03-07T00:00:00",
          "2025-03-14T00:00:00",
          "2025-03-21T00:00:00",
          "2025-03-28T00:00:00",
          "2025-04-04T00:00:00",
          "2025-04-11T00:00:00",
          "2025-04-18T00:00:00",
          "2025-04-25T00:00:00",
          "2025-05-02T00:00:00",
          "2025-05-09T00:00:00",
          "2025-05-16T00:00:00",
          "2025-05-23T00:00:00",
          "2025-05-30T00:00:00",
          "2025-06-06T00:00:00",
          "2025-06-13T00:00:00",
          "2025-06-20T00:00:00",
          "2025-06-27T00:00:00",
          "2025-07-04T00:00:00",
          "2025-07-11T00:00:00",
          "2025-07-18T00:00:00",
          "2025-07-25T00:00:00",
          "2025-08-01T00:00:00",
          "2025-08-08T00:00:00",
          "2025-08-15T00:00:00",
          "2025-08-22T00:00:00",
          "2025-08-29T00:00:00",
          "2025-09-05T00:00:00",
          "2025-09-12T00:00:00",
          "2025-09-19T00:00:00",
          "2025-09-26T00:00:00",
          "2025-10-03T00:00:00",
          "2025-10-10T00:00:00"
         ],
         "y": {
          "bdata": "Ka4q+64I0L/rqGqCqPvQv0rSNZNvttG/QiYZOQt70r8mHlA25QrTv2CTNeohGtO/pWYPtAJD0r92cRsN4C3QvyKmRBK9jMq/1NSytb5IxL//ykqTUtC9vz9vKlJhbLm/y/j3GRcOvL8yWkdVE0TBv6OSOgFNhMW/Ztr+lZUmyb8Zc9cS8kHLv2vxKQDGM8y/nil0XmOXzL9m9+RhodbMv2CTNeohGs2/PWGJB5RNzb+Q96qVCb/Mv5ijx+9t+su/BoGVQ4tsy7/VsrW+SGjLv+xph78ma8y/iPTb14Fzzr9CeLRxxFrQv/vL7snDQtG/VACMZ9DQ0b+WQ4ts5/vRv5M16iEa3dG/qYdodAex0b+qYFRSJ6DRv8u5FFeVfdG/ZK93f7xX0b+DTDJyFvbQv034pX7eVNC/HOviNhrAz7/TpBR0e0nPv4qO5PIf0s+/hXe5iO/E0L9EozuInSnSv63AkNWtntO/2IFzRpT21L+Lw5lfzQHWv8nlP6Tfvta/by9pjNZR179hjh6/t+nXv6Pp7GRwlNi/mrZ/ZaVJ2b+2SrA4nPnZv11txf6ye9q/a7ddaK7T2r/HaB1VTRDbv4JWYMjqVtu/YTJVMCqp2792cRsN4C3cvz1Jumbyzdy/N091yM1w3b8SoKaWrfXdv2/YtiizQd6/Q8pPqn063r9t5/up8dLdvwaeew+XHN2/owbTMHxE3L/pYP2fw3zbv/RPcLGiBtu/DAIrhxbZ2r/nOo20VN7avx+i0R3Eztq/exSuR+F62r9OucK7XMTZvzrpfeNrz9i/WW5pNSTu179WSPlJtU/Xv3QMyF7v/ta/+IiYEkn01r8zUBn/PuPWv6A3Fakwtta/LSY2H9eG1r+M22gAb4HWv/G6fsFu2Na/V2DI6lbP17+rIXGPpQ/Zv94CCYofY9q/AfbRqSuf27/CacGLvoLcvzrMlxdgH92/oblOIy2V3b9l/PuMCwfev3ctIR/0bN6/Y0UNpmH43r9mvRjKiXbfv2R1q+ek99+/yM1wAz4/4L/5oGez6nPgv+1HisiwiuC/JNbiUwCM4L/WOQZkr3fgvxMKEXAIVeC/EMzR4/c24L9+GCE82jjgv8bE5uPaUOC/Q1a3ek564L+9APvo1JXgvzNt/8pKk+C/pOTVOQZk4L+z6nO1Ffvfv38TChFwCN+/NbVsrS8S3r+U9gZfmEzdv+rsZHCUvNy/hjjWxW003L8lXTP5Zpvbv9Zz0vvG19q/oyO5/If02b+CqPsApDbZv6OvIM1YNNm/9MMI4dHG2b8012mkpfLav8pUwaikTty/+aBns+pz3b8WhzO/mgPev1TjpZvEIN6/zzEge7373b8u51JcVfbdv7JGPUSjO96/pn7eVKTC3r/4GRcOhGTfv9Lj9zb92d+/TkUqjC0E4L8VV5V9VwTgv/T4vU1/9t+/91j60AX1378mHlA25Qrgv4nqrYGtEuC/otEdxM4U4L9yM9yAzw/gvx1VTRB1H+C/dO/hkuNO4L+tF0M50a7gv6jGSzeJQeG/je4gdqbQ4b8=",
          "dtype": "f8"
         }
        }
       ],
       "layout": {
        "legend": {
         "font": {
          "size": 18
         }
        },
        "template": {
         "data": {
          "scatter": [
           {
            "hovertemplate": "%{x|%Y-%m-%d}<br> %{y:.1f}<extra></extra>",
            "line": {
             "width": 3
            },
            "type": "scatter"
           }
          ]
         },
         "layout": {
          "colorway": [
           "#2A547E",
           "#CF8B40",
           "#879396",
           "#F7CAC9",
           "#7095cf"
          ],
          "height": 500,
          "legend": {
           "bgcolor": "rgba(0,0,0,0)",
           "borderwidth": 0,
           "font": {
            "color": "#163855",
            "family": "Cambria Bold",
            "size": 22
           },
           "orientation": "h",
           "x": 1,
           "xanchor": "right",
           "y": 1.05,
           "yanchor": "bottom"
          },
          "title": {
           "font": {
            "color": "#163855",
            "family": "Cambria Bold",
            "size": 36
           },
           "x": 0.05,
           "xanchor": "left"
          },
          "width": 1200,
          "xaxis": {
           "gridcolor": "#D3D3D3",
           "gridwidth": 0.5,
           "showgrid": true,
           "tickfont": {
            "color": "#163855",
            "family": "Cambria Bold",
            "size": 18
           },
           "title": {
            "font": {
             "color": "#163855",
             "family": "Cambria Bold",
             "size": 24
            }
           },
           "type": "date"
          },
          "yaxis": {
           "gridcolor": "#D3D3D3",
           "gridwidth": 0.5,
           "showgrid": true,
           "tickfont": {
            "color": "#163855",
            "family": "Cambria Bold",
            "size": 18
           },
           "title": {
            "font": {
             "color": "#163855",
             "family": "Cambria Bold",
             "size": 24
            }
           }
          }
         }
        },
        "title": {
         "font": {
          "size": 28
         },
         "text": "National Financial Conditions Index<br><sup>Weekly, Seasonally Adjusted, 0 = Neutral</sup>"
        },
        "xaxis": {
         "tickformat": "%b %Y",
         "title": {
          "text": "Date"
         },
         "type": "date"
        },
        "yaxis": {
         "range": [
          -1.1,
          1
         ],
         "tickformat": ",.2f",
         "title": {
          "text": "Std. Deviations from Average"
         }
        }
       }
      }
     },
     "metadata": {},
     "output_type": "display_data"
    }
   ],
   "source": [
    "# First make the figure\n",
    "fig = go.Figure()\n",
    "\n",
    "\n",
    "# Loop the columns of the dataframe and plot each as a separate trace\n",
    "for col in joined_df.columns:\n",
    "    fig.add_trace(\n",
    "        go.Scatter(\n",
    "            x=joined_df.index,\n",
    "            y=joined_df[col],\n",
    "            mode='lines',\n",
    "            name=col\n",
    "        )\n",
    "    )\n",
    "\n",
    "# Update the titles, using the html tag <sup> for a subtitle \n",
    "fig.update_layout(\n",
    "    title = dict(\n",
    "        text = 'National Financial Conditions Index<br><sup>Weekly, Seasonally Adjusted, 0 = Neutral</sup>',  # Add comma here\n",
    "        font=dict(size=28)),\n",
    "    xaxis_title=\"Date\",\n",
    "    yaxis_title=\"Std. Deviations from Average\",\n",
    "    legend=dict(\n",
    "        font=dict(size=18)  # Change legend font size\n",
    "    )\n",
    ")\n",
    "\n",
    "# This is graph specific, but here we want the y-axis to be billions of dollars\n",
    "fig.update_yaxes(\n",
    "    tickformat=\",.2f\",\n",
    "    range=[-1.1, 1]\n",
    ")\n",
    "\n",
    "# Again, graph specific, we have a mutliyear series and want tick marks to be years\n",
    "fig.update_xaxes(\n",
    "    type='date',\n",
    "    tickformat='%b %Y',\n",
    ")\n",
    "\n",
    "\n",
    "# Show our figure (Dimensions may be off on different screen sizes)\n",
    "fig.show()\n",
    "\n",
    "# This should be the same for EVERY GRAPH!\n",
    "# Save it to the graph_output folder with the name matching the file, as HTML\n",
    "fig.write_html(GRAPH_OUTPUT_PATH / f\"{GRAPH_NAME}.html\")"
   ]
  }
 ],
 "metadata": {
  "kernelspec": {
   "display_name": ".venv",
   "language": "python",
   "name": "python3"
  },
  "language_info": {
   "codemirror_mode": {
    "name": "ipython",
    "version": 3
   },
   "file_extension": ".py",
   "mimetype": "text/x-python",
   "name": "python",
   "nbconvert_exporter": "python",
   "pygments_lexer": "ipython3",
   "version": "3.13.7"
  }
 },
 "nbformat": 4,
 "nbformat_minor": 5
}
