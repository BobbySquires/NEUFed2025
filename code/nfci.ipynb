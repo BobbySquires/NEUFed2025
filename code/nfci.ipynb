{
 "cells": [
  {
   "cell_type": "markdown",
   "id": "ec9a0460",
   "metadata": {},
   "source": [
    "This notebook walks through how to make graphs in this repo. You can copy this example.ipynb and rename it for your own graphing work. <b> Please do each graph in a seperate notebook!</b>\n",
    "\n",
    "1. Import the appropriate packages. We'll use plotly.graph_objects for making all of our graphs."
   ]
  },
  {
   "cell_type": "code",
   "execution_count": 1,
   "id": "b8a83946",
   "metadata": {},
   "outputs": [],
   "source": [
    "import datetime as dt\n",
    "import plotly.graph_objects as go\n",
    "import plotly.io as pio\n",
    "import pandas as pd\n",
    "import utils.utils as ut\n",
    "import utils.graph_templates\n",
    "\n",
    "from fredapi import Fred"
   ]
  },
  {
   "cell_type": "markdown",
   "id": "533182f0",
   "metadata": {},
   "source": [
    "2. We'll get data using the fredapi package. Set the path to the text file with your API key"
   ]
  },
  {
   "cell_type": "code",
   "execution_count": null,
   "id": "f81e1110",
   "metadata": {},
   "outputs": [],
   "source": [
    "# Call the graph the exact same thing as its notebook (minus the ipynb suffix)\n",
    "GRAPH_NAME = \"nfci\"\n",
    "\n",
    "API_KEY_PATH = ut.get_repo_root() / \"fred_api_key.txt\" \n",
    "\n",
    "fred = Fred(api_key_file = API_KEY_PATH)"
   ]
  },
  {
   "cell_type": "markdown",
   "id": "ee2ebb59",
   "metadata": {},
   "source": [
    "3. Set the fed_2025 template as default"
   ]
  },
  {
   "cell_type": "code",
   "execution_count": 3,
   "id": "00bbbcaa",
   "metadata": {},
   "outputs": [],
   "source": [
    "pio.templates.default = 'fed_2025'\n",
    "\n",
    "# Call the graph the exact same thing as its notebook (minus the ipynb suffix)\n",
    "GRAPH_NAME = \"example\"\n",
    "\n",
    "# Now is a good time to set the path to the graph output folder!\n",
    "GRAPH_OUTPUT_PATH = ut.get_repo_root() / \"figures\""
   ]
  },
  {
   "cell_type": "code",
   "execution_count": 4,
   "id": "d02adea9",
   "metadata": {},
   "outputs": [
    {
     "data": {
      "text/plain": [
       "WindowsPath('C:/Users/Bobby/Desktop/Fed Challenge 2025/NEUFed2025/figures')"
      ]
     },
     "execution_count": 4,
     "metadata": {},
     "output_type": "execute_result"
    }
   ],
   "source": [
    "GRAPH_OUTPUT_PATH"
   ]
  },
  {
   "cell_type": "markdown",
   "id": "c2af7dd8",
   "metadata": {},
   "source": [
    "4. Use the fredapi to get the data and prepare it for graphing. Documentation on the optional parameters that can be passed to the get_series called are found here (the documentation in fredapi is out of date). \n",
    "\n",
    "https://fred.stlouisfed.org/docs/api/fred/series_observations.html#Description\n",
    "\n",
    "If you get data from somewhere else thats fine too! Put the raw csv in the \"raw_data\" folder and read it in here. Make sure not to edit the raw data, just transform and graph it."
   ]
  },
  {
   "cell_type": "code",
   "execution_count": 5,
   "id": "4c582e8a",
   "metadata": {},
   "outputs": [],
   "source": [
    "# The get_series_info method may be useful\n",
    "fred.get_series_info(series_id=\"CPIAUCSL\")\n",
    "\n",
    "# It's good practice to store the series codes in a dictionary with their names\n",
    "series_codes = {\n",
    "    \"National Finnancial Conditions Index\": \"NFCI\",\n",
    "    \"Adjusted National Finnancial Conditions Index\": \"ANFCI\"\n",
    "    \n",
    "}"
   ]
  },
  {
   "cell_type": "code",
   "execution_count": 22,
   "id": "5934d6c9",
   "metadata": {},
   "outputs": [
    {
     "data": {
      "text/html": [
       "<div>\n",
       "<style scoped>\n",
       "    .dataframe tbody tr th:only-of-type {\n",
       "        vertical-align: middle;\n",
       "    }\n",
       "\n",
       "    .dataframe tbody tr th {\n",
       "        vertical-align: top;\n",
       "    }\n",
       "\n",
       "    .dataframe thead th {\n",
       "        text-align: right;\n",
       "    }\n",
       "</style>\n",
       "<table border=\"1\" class=\"dataframe\">\n",
       "  <thead>\n",
       "    <tr style=\"text-align: right;\">\n",
       "      <th></th>\n",
       "      <th>NFCI</th>\n",
       "      <th>Adjusted NFCI</th>\n",
       "    </tr>\n",
       "    <tr>\n",
       "      <th>Date</th>\n",
       "      <th></th>\n",
       "      <th></th>\n",
       "    </tr>\n",
       "  </thead>\n",
       "  <tbody>\n",
       "    <tr>\n",
       "      <th>2025-09-12</th>\n",
       "      <td>-0.53573</td>\n",
       "      <td>-0.50384</td>\n",
       "    </tr>\n",
       "    <tr>\n",
       "      <th>2025-09-19</th>\n",
       "      <td>-0.53897</td>\n",
       "      <td>-0.50963</td>\n",
       "    </tr>\n",
       "    <tr>\n",
       "      <th>2025-09-26</th>\n",
       "      <td>-0.54433</td>\n",
       "      <td>-0.52134</td>\n",
       "    </tr>\n",
       "    <tr>\n",
       "      <th>2025-10-03</th>\n",
       "      <td>-0.55163</td>\n",
       "      <td>-0.53925</td>\n",
       "    </tr>\n",
       "    <tr>\n",
       "      <th>2025-10-10</th>\n",
       "      <td>-0.55852</td>\n",
       "      <td>-0.55672</td>\n",
       "    </tr>\n",
       "  </tbody>\n",
       "</table>\n",
       "</div>"
      ],
      "text/plain": [
       "               NFCI  Adjusted NFCI\n",
       "Date                              \n",
       "2025-09-12 -0.53573       -0.50384\n",
       "2025-09-19 -0.53897       -0.50963\n",
       "2025-09-26 -0.54433       -0.52134\n",
       "2025-10-03 -0.55163       -0.53925\n",
       "2025-10-10 -0.55852       -0.55672"
      ]
     },
     "execution_count": 22,
     "metadata": {},
     "output_type": "execute_result"
    }
   ],
   "source": [
    "today = dt.date.today()\n",
    "\n",
    "imprts = fred.get_series(\n",
    "    series_id=series_codes[\"National Finnancial Conditions Index\"],\n",
    "    observation_start=dt.date(2024, 1, 1),\n",
    "    observation_end=today,\n",
    "    frequency='w',\n",
    ").rename(\"NFCI\")\n",
    "\n",
    "exprts = fred.get_series(\n",
    "    series_id=series_codes[\"Adjusted National Finnancial Conditions Index\"],\n",
    "    observation_start=dt.date(2024, 1, 1),\n",
    "    observation_end=today,\n",
    "    frequency='w',\n",
    ").rename(\"Adjusted NFCI\") \n",
    "\n",
    "\n",
    "\n",
    "joined_df = pd.concat(\n",
    "    [imprts, exprts], # srs to join\n",
    "    axis=1, # multiple observations per index entry\n",
    "    join='inner' # only include observations where none of the 3 are missing\n",
    ")\n",
    "\n",
    "# Naming the index makes it easier tot title\n",
    "joined_df.index.name = \"Date\"\n",
    "\n",
    "joined_df.tail()"
   ]
  },
  {
   "cell_type": "markdown",
   "id": "f36c32ec",
   "metadata": {},
   "source": [
    "5. Now that all our data is ready, make the graph and have it save itself as a .html file to graph_output whenver the notebooks is rerun. The name of the file should exactly match the notebook name. For instance, this file \"example.ipynb\" produces the graph \"example.html.\" Nice work, you made a graph! "
   ]
  },
  {
   "cell_type": "code",
   "execution_count": 25,
   "id": "8d83fc29",
   "metadata": {},
   "outputs": [
    {
     "data": {
      "application/vnd.plotly.v1+json": {
       "config": {
        "plotlyServerURL": "https://plot.ly"
       },
       "data": [
        {
         "mode": "lines",
         "name": "NFCI",
         "type": "scatter",
         "x": [
          "2024-01-05T00:00:00",
          "2024-01-12T00:00:00",
          "2024-01-19T00:00:00",
          "2024-01-26T00:00:00",
          "2024-02-02T00:00:00",
          "2024-02-09T00:00:00",
          "2024-02-16T00:00:00",
          "2024-02-23T00:00:00",
          "2024-03-01T00:00:00",
          "2024-03-08T00:00:00",
          "2024-03-15T00:00:00",
          "2024-03-22T00:00:00",
          "2024-03-29T00:00:00",
          "2024-04-05T00:00:00",
          "2024-04-12T00:00:00",
          "2024-04-19T00:00:00",
          "2024-04-26T00:00:00",
          "2024-05-03T00:00:00",
          "2024-05-10T00:00:00",
          "2024-05-17T00:00:00",
          "2024-05-24T00:00:00",
          "2024-05-31T00:00:00",
          "2024-06-07T00:00:00",
          "2024-06-14T00:00:00",
          "2024-06-21T00:00:00",
          "2024-06-28T00:00:00",
          "2024-07-05T00:00:00",
          "2024-07-12T00:00:00",
          "2024-07-19T00:00:00",
          "2024-07-26T00:00:00",
          "2024-08-02T00:00:00",
          "2024-08-09T00:00:00",
          "2024-08-16T00:00:00",
          "2024-08-23T00:00:00",
          "2024-08-30T00:00:00",
          "2024-09-06T00:00:00",
          "2024-09-13T00:00:00",
          "2024-09-20T00:00:00",
          "2024-09-27T00:00:00",
          "2024-10-04T00:00:00",
          "2024-10-11T00:00:00",
          "2024-10-18T00:00:00",
          "2024-10-25T00:00:00",
          "2024-11-01T00:00:00",
          "2024-11-08T00:00:00",
          "2024-11-15T00:00:00",
          "2024-11-22T00:00:00",
          "2024-11-29T00:00:00",
          "2024-12-06T00:00:00",
          "2024-12-13T00:00:00",
          "2024-12-20T00:00:00",
          "2024-12-27T00:00:00",
          "2025-01-03T00:00:00",
          "2025-01-10T00:00:00",
          "2025-01-17T00:00:00",
          "2025-01-24T00:00:00",
          "2025-01-31T00:00:00",
          "2025-02-07T00:00:00",
          "2025-02-14T00:00:00",
          "2025-02-21T00:00:00",
          "2025-02-28T00:00:00",
          "2025-03-07T00:00:00",
          "2025-03-14T00:00:00",
          "2025-03-21T00:00:00",
          "2025-03-28T00:00:00",
          "2025-04-04T00:00:00",
          "2025-04-11T00:00:00",
          "2025-04-18T00:00:00",
          "2025-04-25T00:00:00",
          "2025-05-02T00:00:00",
          "2025-05-09T00:00:00",
          "2025-05-16T00:00:00",
          "2025-05-23T00:00:00",
          "2025-05-30T00:00:00",
          "2025-06-06T00:00:00",
          "2025-06-13T00:00:00",
          "2025-06-20T00:00:00",
          "2025-06-27T00:00:00",
          "2025-07-04T00:00:00",
          "2025-07-11T00:00:00",
          "2025-07-18T00:00:00",
          "2025-07-25T00:00:00",
          "2025-08-01T00:00:00",
          "2025-08-08T00:00:00",
          "2025-08-15T00:00:00",
          "2025-08-22T00:00:00",
          "2025-08-29T00:00:00",
          "2025-09-05T00:00:00",
          "2025-09-12T00:00:00",
          "2025-09-19T00:00:00",
          "2025-09-26T00:00:00",
          "2025-10-03T00:00:00",
          "2025-10-10T00:00:00"
         ],
         "y": {
          "bdata": "a5+OxwxU2L8MAiuHFtnYv3Tv4ZLjTtm/hiAHJcy02b9nCp3X2CXav74wmSoYldq/TGw+rg0V27/xLhfxnZjbvzxO0ZFc/tu/gXhdv2A33L+xbVFmg0zcv+0NvjCZKty/zSN/MPDc279UHXIz3IDbvx+F61G4Htu/YLAbti3K2r+cUIiAQ6jav/CFyVTBqNq/K/uuCP632r/izK/mAMHav7a+SGjLudq/NUbrqGqC2r8svMtFfCfav4iAQ6hSs9m/19081SE32b/NzMzMzMzYvwuYwK27edi/bcoV3uUi2L/BHD1+b9PXv59ZEqCmlte/h8Q9lj5017+m8naE04LXv9jYJaq3Bti/zR5oBYas2L9Hj9/b9GfZv43ROqqaINq/ajANw0fE2r+atn9lpUnbv4vgfyvZsdu/11HVBFH327/tDb4wmSrcvxh47j1ccty/XynLEMe63L9dM/lmmxvdv1vri4S2nN2/n3HhQEgW3r8NcayL22jev/5l9+Rhod6/KSLDKt7I3r9q3nGKjuTev2Dl0CLb+d6/VcGopE5A3780nZ0MjpLfv1+1MuGX+t+/DOVEuwop4L/ElEiil1Hgv9Wytb5IaOC/Wi+GcqJd4L9JumbyzTbgvx1yM9yAz9+/NNdppKXy3r8ZOQt72uHdv4KQLGACt9y/v2A3bFuU27+kwthCkIPavwBvgQTFj9m/5NpQMc7f2L+eDI6SV+fYv1PovMYuUdm/8G36sx8p2r86evzepj/bv2N/2T15WNy/wt1Zu+1C3b9wfO2ZJQHev4VCBBxCld6/NuUK73IR37+Kq8q+K4Lfv1+1MuGX+t+/dcjNcAM+4L+Zu5aQD3rgv+9VKxN+qeC/kE5d+SzP4L/20akrn+Xgv6pDboYb8OC/yEEJM23/4L+IY13cRgPhvw034PPDCOG/Hv6arFEP4b/4ja89syThv8jNcAM+P+G/7GmHvyZr4b9lwi/186bhv3MuxVVl3+G/",
          "dtype": "f8"
         }
        },
        {
         "mode": "lines",
         "name": "Adjusted NFCI",
         "type": "scatter",
         "x": [
          "2024-01-05T00:00:00",
          "2024-01-12T00:00:00",
          "2024-01-19T00:00:00",
          "2024-01-26T00:00:00",
          "2024-02-02T00:00:00",
          "2024-02-09T00:00:00",
          "2024-02-16T00:00:00",
          "2024-02-23T00:00:00",
          "2024-03-01T00:00:00",
          "2024-03-08T00:00:00",
          "2024-03-15T00:00:00",
          "2024-03-22T00:00:00",
          "2024-03-29T00:00:00",
          "2024-04-05T00:00:00",
          "2024-04-12T00:00:00",
          "2024-04-19T00:00:00",
          "2024-04-26T00:00:00",
          "2024-05-03T00:00:00",
          "2024-05-10T00:00:00",
          "2024-05-17T00:00:00",
          "2024-05-24T00:00:00",
          "2024-05-31T00:00:00",
          "2024-06-07T00:00:00",
          "2024-06-14T00:00:00",
          "2024-06-21T00:00:00",
          "2024-06-28T00:00:00",
          "2024-07-05T00:00:00",
          "2024-07-12T00:00:00",
          "2024-07-19T00:00:00",
          "2024-07-26T00:00:00",
          "2024-08-02T00:00:00",
          "2024-08-09T00:00:00",
          "2024-08-16T00:00:00",
          "2024-08-23T00:00:00",
          "2024-08-30T00:00:00",
          "2024-09-06T00:00:00",
          "2024-09-13T00:00:00",
          "2024-09-20T00:00:00",
          "2024-09-27T00:00:00",
          "2024-10-04T00:00:00",
          "2024-10-11T00:00:00",
          "2024-10-18T00:00:00",
          "2024-10-25T00:00:00",
          "2024-11-01T00:00:00",
          "2024-11-08T00:00:00",
          "2024-11-15T00:00:00",
          "2024-11-22T00:00:00",
          "2024-11-29T00:00:00",
          "2024-12-06T00:00:00",
          "2024-12-13T00:00:00",
          "2024-12-20T00:00:00",
          "2024-12-27T00:00:00",
          "2025-01-03T00:00:00",
          "2025-01-10T00:00:00",
          "2025-01-17T00:00:00",
          "2025-01-24T00:00:00",
          "2025-01-31T00:00:00",
          "2025-02-07T00:00:00",
          "2025-02-14T00:00:00",
          "2025-02-21T00:00:00",
          "2025-02-28T00:00:00",
          "2025-03-07T00:00:00",
          "2025-03-14T00:00:00",
          "2025-03-21T00:00:00",
          "2025-03-28T00:00:00",
          "2025-04-04T00:00:00",
          "2025-04-11T00:00:00",
          "2025-04-18T00:00:00",
          "2025-04-25T00:00:00",
          "2025-05-02T00:00:00",
          "2025-05-09T00:00:00",
          "2025-05-16T00:00:00",
          "2025-05-23T00:00:00",
          "2025-05-30T00:00:00",
          "2025-06-06T00:00:00",
          "2025-06-13T00:00:00",
          "2025-06-20T00:00:00",
          "2025-06-27T00:00:00",
          "2025-07-04T00:00:00",
          "2025-07-11T00:00:00",
          "2025-07-18T00:00:00",
          "2025-07-25T00:00:00",
          "2025-08-01T00:00:00",
          "2025-08-08T00:00:00",
          "2025-08-15T00:00:00",
          "2025-08-22T00:00:00",
          "2025-08-29T00:00:00",
          "2025-09-05T00:00:00",
          "2025-09-12T00:00:00",
          "2025-09-19T00:00:00",
          "2025-09-26T00:00:00",
          "2025-10-03T00:00:00",
          "2025-10-10T00:00:00"
         ],
         "y": {
          "bdata": "tkqwOJz52b9dbcX+snvav2u3XWiu09q/x2gdVU0Q27+CVmDI6lbbv2EyVTAqqdu/dnEbDeAt3L89Sbpm8s3cvzdPdcjNcN2/EqCmlq313b9v2LYos0Hev0PKT6p9Ot6/bef7qfHS3b8GnnsPlxzdv6MG0zB8RNy/6WD9n8N827/0T3CxogbbvwwCK4cW2dq/5zqNtFTe2r8fotEdxM7av3sUrkfhetq/TrnCu1zE2b866X3ja8/Yv1luaTUk7te/Vkj5SbVP1790DMhe7/7Wv/iImBJJ9Na/M1AZ/z7j1r+gNxWpMLbWvy0mNh/Xhta/jNtoAG+B1r/xun7BbtjWv1dgyOpWz9e/qyFxj6UP2b/eAgmKH2PavwH20akrn9u/wmnBi76C3L86zJcXYB/dv6G5TiMtld2/Zfz7jAsH3r93LSEf9Gzev2NFDaZh+N6/Zr0Yyol2379kdavnpPffv8jNcAM+P+C/+aBns+pz4L/tR4rIsIrgvyTW4lMAjOC/1jkGZK934L8TChFwCFXgvxDM0eP3NuC/fhghPNo44L/GxObj2lDgv0NWt3pOeuC/vQD76NSV4L8zbf/KSpPgv6Tk1TkGZOC/s+pztRX7379/EwoRcAjfvzW1bK0vEt6/lPYGX5hM3b/q7GRwlLzcv4Y41sVtNNy/JV0z+Wab27/Wc9L7xtfav6MjufyH9Nm/gqj7AKQ22b+jryDNWDTZv/TDCOHRxtm/NNdppKXy2r/KVMGopE7cv/mgZ7Pqc92/Foczv5oD3r9U46WbxCDev88xIHu9+92/LudSXFX23b+yRj1Eozvev6Z+3lSkwt6/+BkXDoRk37/S4/c2/dnfv05FKowtBOC/FVeVfVcE4L/0+L1Nf/bfv/dY+tAF9d+/Jh5QNuUK4L+J6q2BrRLgv6LRHcTOFOC/cjPcgM8P4L8dVU0QdR/gv3Tv4ZLjTuC/rRdDOdGu4L+oxks3iUHhv43uIHam0OG/",
          "dtype": "f8"
         }
        }
       ],
       "layout": {
        "height": 550,
        "legend": {
         "font": {
          "size": 18
         }
        },
        "template": {
         "data": {
          "scatter": [
           {
            "hovertemplate": "%{x|%Y-%m-%d}<br> %{y:.1f}<extra></extra>",
            "line": {
             "width": 3
            },
            "type": "scatter"
           }
          ]
         },
         "layout": {
          "colorway": [
           "#2A547E",
           "#CF8B40",
           "#879396",
           "#F7CAC9",
           "#7095cf"
          ],
          "height": 500,
          "legend": {
           "bgcolor": "rgba(0,0,0,0)",
           "borderwidth": 0,
           "font": {
            "color": "#163855",
            "family": "Cambria Bold",
            "size": 22
           },
           "orientation": "h",
           "x": 1,
           "xanchor": "right",
           "y": 1.05,
           "yanchor": "bottom"
          },
          "title": {
           "font": {
            "color": "#163855",
            "family": "Cambria Bold",
            "size": 36
           },
           "x": 0.05,
           "xanchor": "left"
          },
          "width": 1200,
          "xaxis": {
           "gridcolor": "#D3D3D3",
           "gridwidth": 0.5,
           "showgrid": true,
           "tickfont": {
            "color": "#163855",
            "family": "Cambria Bold",
            "size": 18
           },
           "title": {
            "font": {
             "color": "#163855",
             "family": "Cambria Bold",
             "size": 24
            }
           },
           "type": "date"
          },
          "yaxis": {
           "gridcolor": "#D3D3D3",
           "gridwidth": 0.5,
           "showgrid": true,
           "tickfont": {
            "color": "#163855",
            "family": "Cambria Bold",
            "size": 18
           },
           "title": {
            "font": {
             "color": "#163855",
             "family": "Cambria Bold",
             "size": 24
            }
           }
          }
         }
        },
        "title": {
         "font": {
          "size": 28
         },
         "text": "National Financial Conditions Index<br><sup>Weekly, Seasonally Adjusted, 0 = Neutral</sup>"
        },
        "width": 1150,
        "xaxis": {
         "tickformat": "%b %Y",
         "title": {
          "text": "Date"
         },
         "type": "date"
        },
        "yaxis": {
         "range": [
          -1.1,
          0.4
         ],
         "tickformat": ",.1f",
         "title": {
          "text": "Std. Deviations from Average"
         }
        }
       }
      }
     },
     "metadata": {},
     "output_type": "display_data"
    }
   ],
   "source": [
    "# First make the figure\n",
    "fig = go.Figure()\n",
    "\n",
    "\n",
    "# Loop the columns of the dataframe and plot each as a separate trace\n",
    "for col in joined_df.columns:\n",
    "    fig.add_trace(\n",
    "        go.Scatter(\n",
    "            x=joined_df.index,\n",
    "            y=joined_df[col],\n",
    "            mode='lines',\n",
    "            name=col\n",
    "        )\n",
    "    )\n",
    "\n",
    "# Update the titles, using the html tag <sup> for a subtitle \n",
    "fig.update_layout(\n",
    "    title = dict(\n",
    "        text = 'National Financial Conditions Index<br><sup>Weekly, Seasonally Adjusted, 0 = Neutral</sup>',  # Add comma here\n",
    "        font=dict(size=28)),\n",
    "    xaxis_title=\"Date\",\n",
    "    yaxis_title=\"Std. Deviations from Average\",\n",
    "    legend=dict(\n",
    "        font=dict(size=18)  # Change legend font size\n",
    "    )\n",
    ")\n",
    "\n",
    "# This is graph specific, but here we want the y-axis to be billions of dollars\n",
    "fig.update_yaxes(\n",
    "    tickformat=\",.1f\",\n",
    "    range=[-1.1, .4]\n",
    ")\n",
    "\n",
    "# Again, graph specific, we have a mutliyear series and want tick marks to be years\n",
    "fig.update_xaxes(\n",
    "    type='date',\n",
    "    tickformat='%b %Y',\n",
    ")\n",
    "\n",
    "fig.update_layout(\n",
    "    height=550,\n",
    "    width=1150,\n",
    ")\n",
    "\n",
    "# Show our figure (Dimensions may be off on different screen sizes)\n",
    "fig.show()\n",
    "\n",
    "# This should be the same for EVERY GRAPH!\n",
    "# Save it to the graph_output folder with the name matching the file, as HTML\n",
    "fig.write_html(GRAPH_OUTPUT_PATH / f\"{GRAPH_NAME}.html\")"
   ]
  }
 ],
 "metadata": {
  "kernelspec": {
   "display_name": ".venv",
   "language": "python",
   "name": "python3"
  },
  "language_info": {
   "codemirror_mode": {
    "name": "ipython",
    "version": 3
   },
   "file_extension": ".py",
   "mimetype": "text/x-python",
   "name": "python",
   "nbconvert_exporter": "python",
   "pygments_lexer": "ipython3",
   "version": "3.13.7"
  }
 },
 "nbformat": 4,
 "nbformat_minor": 5
}
