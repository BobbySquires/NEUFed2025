{
 "cells": [
  {
   "cell_type": "markdown",
   "id": "ec9a0460",
   "metadata": {},
   "source": [
    "This notebook walks through how to make graphs in this repo. You can copy this example.ipynb and rename it for your own graphing work. <b> Please do each graph in a seperate notebook!</b>\n",
    "\n",
    "1. Import the appropriate packages. We'll use plotly.graph_objects for making all of our graphs."
   ]
  },
  {
   "cell_type": "code",
   "execution_count": 1,
   "id": "b8a83946",
   "metadata": {},
   "outputs": [],
   "source": [
    "import datetime as dt\n",
    "import plotly.graph_objects as go\n",
    "import plotly.io as pio\n",
    "import pandas as pd\n",
    "import utils.utils as ut\n",
    "import utils.graph_templates\n",
    "\n",
    "from fredapi import Fred"
   ]
  },
  {
   "cell_type": "markdown",
   "id": "533182f0",
   "metadata": {},
   "source": [
    "2. We'll get data using the fredapi package. Set the path to the text file with your API key"
   ]
  },
  {
   "cell_type": "code",
   "execution_count": 2,
   "id": "f81e1110",
   "metadata": {},
   "outputs": [],
   "source": [
    "# Call the graph the exact same thing as its notebook (minus the ipynb suffix)\n",
    "GRAPH_NAME = \"vix\"\n",
    "\n",
    "API_KEY_PATH = ut.get_repo_root() / \"fred_api_key.txt\" \n",
    "\n",
    "fred = Fred(api_key_file = API_KEY_PATH)"
   ]
  },
  {
   "cell_type": "markdown",
   "id": "ee2ebb59",
   "metadata": {},
   "source": [
    "3. Set the fed_2025 template as default"
   ]
  },
  {
   "cell_type": "code",
   "execution_count": 3,
   "id": "00bbbcaa",
   "metadata": {},
   "outputs": [],
   "source": [
    "pio.templates.default = 'fed_2025'\n",
    "\n",
    "# Call the graph the exact same thing as its notebook (minus the ipynb suffix)\n",
    "GRAPH_NAME = \"example\"\n",
    "\n",
    "# Now is a good time to set the path to the graph output folder!\n",
    "GRAPH_OUTPUT_PATH = ut.get_repo_root() / \"figures\""
   ]
  },
  {
   "cell_type": "code",
   "execution_count": 4,
   "id": "d02adea9",
   "metadata": {},
   "outputs": [
    {
     "data": {
      "text/plain": [
       "WindowsPath('C:/Users/Bobby/Desktop/Fed Challenge 2025/NEUFed2025/figures')"
      ]
     },
     "execution_count": 4,
     "metadata": {},
     "output_type": "execute_result"
    }
   ],
   "source": [
    "GRAPH_OUTPUT_PATH"
   ]
  },
  {
   "cell_type": "markdown",
   "id": "c2af7dd8",
   "metadata": {},
   "source": [
    "4. Use the fredapi to get the data and prepare it for graphing. Documentation on the optional parameters that can be passed to the get_series called are found here (the documentation in fredapi is out of date). \n",
    "\n",
    "https://fred.stlouisfed.org/docs/api/fred/series_observations.html#Description\n",
    "\n",
    "If you get data from somewhere else thats fine too! Put the raw csv in the \"raw_data\" folder and read it in here. Make sure not to edit the raw data, just transform and graph it."
   ]
  },
  {
   "cell_type": "code",
   "execution_count": 8,
   "id": "4c582e8a",
   "metadata": {},
   "outputs": [],
   "source": [
    "# The get_series_info method may be useful\n",
    "fred.get_series_info(series_id=\"CPIAUCSL\")\n",
    "\n",
    "# It's good practice to store the series codes in a dictionary with their names\n",
    "series_codes = {\n",
    "    \"VIX\": \"VIXCLS\",\n",
    "    \"Russell 2000 VIX\": \"RVXCLS\"\n",
    "    \n",
    "}"
   ]
  },
  {
   "cell_type": "code",
   "execution_count": 20,
   "id": "5934d6c9",
   "metadata": {},
   "outputs": [
    {
     "data": {
      "text/html": [
       "<div>\n",
       "<style scoped>\n",
       "    .dataframe tbody tr th:only-of-type {\n",
       "        vertical-align: middle;\n",
       "    }\n",
       "\n",
       "    .dataframe tbody tr th {\n",
       "        vertical-align: top;\n",
       "    }\n",
       "\n",
       "    .dataframe thead th {\n",
       "        text-align: right;\n",
       "    }\n",
       "</style>\n",
       "<table border=\"1\" class=\"dataframe\">\n",
       "  <thead>\n",
       "    <tr style=\"text-align: right;\">\n",
       "      <th></th>\n",
       "      <th>VIX</th>\n",
       "      <th>Russell 2000 VIX</th>\n",
       "    </tr>\n",
       "    <tr>\n",
       "      <th>Date</th>\n",
       "      <th></th>\n",
       "      <th></th>\n",
       "    </tr>\n",
       "  </thead>\n",
       "  <tbody>\n",
       "    <tr>\n",
       "      <th>2025-09-19</th>\n",
       "      <td>15.78</td>\n",
       "      <td>22.69</td>\n",
       "    </tr>\n",
       "    <tr>\n",
       "      <th>2025-09-26</th>\n",
       "      <td>16.19</td>\n",
       "      <td>22.71</td>\n",
       "    </tr>\n",
       "    <tr>\n",
       "      <th>2025-10-03</th>\n",
       "      <td>16.39</td>\n",
       "      <td>22.35</td>\n",
       "    </tr>\n",
       "    <tr>\n",
       "      <th>2025-10-10</th>\n",
       "      <td>17.60</td>\n",
       "      <td>22.94</td>\n",
       "    </tr>\n",
       "    <tr>\n",
       "      <th>2025-10-17</th>\n",
       "      <td>21.31</td>\n",
       "      <td>25.93</td>\n",
       "    </tr>\n",
       "  </tbody>\n",
       "</table>\n",
       "</div>"
      ],
      "text/plain": [
       "              VIX  Russell 2000 VIX\n",
       "Date                               \n",
       "2025-09-19  15.78             22.69\n",
       "2025-09-26  16.19             22.71\n",
       "2025-10-03  16.39             22.35\n",
       "2025-10-10  17.60             22.94\n",
       "2025-10-17  21.31             25.93"
      ]
     },
     "execution_count": 20,
     "metadata": {},
     "output_type": "execute_result"
    }
   ],
   "source": [
    "today = dt.date.today()\n",
    "\n",
    "imprts = fred.get_series(\n",
    "    series_id=series_codes[\"VIX\"],\n",
    "    observation_start=dt.date(2024, 1, 1),\n",
    "    observation_end=today,\n",
    "    frequency='w',\n",
    ").rename(\"VIX\")\n",
    "\n",
    "exprts = fred.get_series(\n",
    "    series_id=series_codes[\"Russell 2000 VIX\"],\n",
    "    observation_start=dt.date(2024, 1, 1),\n",
    "    observation_end=today,\n",
    "    frequency='w',\n",
    ").rename(\"Russell 2000 VIX\") \n",
    "\n",
    "\n",
    "\n",
    "joined_df = pd.concat(\n",
    "    [imprts, exprts], # srs to join\n",
    "    axis=1, # multiple observations per index entry\n",
    "    join='inner' # only include observations where none of the 3 are missing\n",
    ")\n",
    "\n",
    "# Naming the index makes it easier tot title\n",
    "joined_df.index.name = \"Date\"\n",
    "\n",
    "joined_df.tail()"
   ]
  },
  {
   "cell_type": "markdown",
   "id": "f36c32ec",
   "metadata": {},
   "source": [
    "5. Now that all our data is ready, make the graph and have it save itself as a .html file to graph_output whenver the notebooks is rerun. The name of the file should exactly match the notebook name. For instance, this file \"example.ipynb\" produces the graph \"example.html.\" Nice work, you made a graph! "
   ]
  },
  {
   "cell_type": "code",
   "execution_count": 21,
   "id": "8d83fc29",
   "metadata": {},
   "outputs": [
    {
     "data": {
      "application/vnd.plotly.v1+json": {
       "config": {
        "plotlyServerURL": "https://plot.ly"
       },
       "data": [
        {
         "mode": "lines",
         "name": "VIX",
         "type": "scatter",
         "x": [
          "2024-01-05T00:00:00",
          "2024-01-12T00:00:00",
          "2024-01-19T00:00:00",
          "2024-01-26T00:00:00",
          "2024-02-02T00:00:00",
          "2024-02-09T00:00:00",
          "2024-02-16T00:00:00",
          "2024-02-23T00:00:00",
          "2024-03-01T00:00:00",
          "2024-03-08T00:00:00",
          "2024-03-15T00:00:00",
          "2024-03-22T00:00:00",
          "2024-03-29T00:00:00",
          "2024-04-05T00:00:00",
          "2024-04-12T00:00:00",
          "2024-04-19T00:00:00",
          "2024-04-26T00:00:00",
          "2024-05-03T00:00:00",
          "2024-05-10T00:00:00",
          "2024-05-17T00:00:00",
          "2024-05-24T00:00:00",
          "2024-05-31T00:00:00",
          "2024-06-07T00:00:00",
          "2024-06-14T00:00:00",
          "2024-06-21T00:00:00",
          "2024-06-28T00:00:00",
          "2024-07-05T00:00:00",
          "2024-07-12T00:00:00",
          "2024-07-19T00:00:00",
          "2024-07-26T00:00:00",
          "2024-08-02T00:00:00",
          "2024-08-09T00:00:00",
          "2024-08-16T00:00:00",
          "2024-08-23T00:00:00",
          "2024-08-30T00:00:00",
          "2024-09-06T00:00:00",
          "2024-09-13T00:00:00",
          "2024-09-20T00:00:00",
          "2024-09-27T00:00:00",
          "2024-10-04T00:00:00",
          "2024-10-11T00:00:00",
          "2024-10-18T00:00:00",
          "2024-10-25T00:00:00",
          "2024-11-01T00:00:00",
          "2024-11-08T00:00:00",
          "2024-11-15T00:00:00",
          "2024-11-22T00:00:00",
          "2024-11-29T00:00:00",
          "2024-12-06T00:00:00",
          "2024-12-13T00:00:00",
          "2024-12-20T00:00:00",
          "2024-12-27T00:00:00",
          "2025-01-03T00:00:00",
          "2025-01-10T00:00:00",
          "2025-01-17T00:00:00",
          "2025-01-24T00:00:00",
          "2025-01-31T00:00:00",
          "2025-02-07T00:00:00",
          "2025-02-14T00:00:00",
          "2025-02-21T00:00:00",
          "2025-02-28T00:00:00",
          "2025-03-07T00:00:00",
          "2025-03-14T00:00:00",
          "2025-03-21T00:00:00",
          "2025-03-28T00:00:00",
          "2025-04-04T00:00:00",
          "2025-04-11T00:00:00",
          "2025-04-18T00:00:00",
          "2025-04-25T00:00:00",
          "2025-05-02T00:00:00",
          "2025-05-09T00:00:00",
          "2025-05-16T00:00:00",
          "2025-05-23T00:00:00",
          "2025-05-30T00:00:00",
          "2025-06-06T00:00:00",
          "2025-06-13T00:00:00",
          "2025-06-20T00:00:00",
          "2025-06-27T00:00:00",
          "2025-07-04T00:00:00",
          "2025-07-11T00:00:00",
          "2025-07-18T00:00:00",
          "2025-07-25T00:00:00",
          "2025-08-01T00:00:00",
          "2025-08-08T00:00:00",
          "2025-08-15T00:00:00",
          "2025-08-22T00:00:00",
          "2025-08-29T00:00:00",
          "2025-09-05T00:00:00",
          "2025-09-12T00:00:00",
          "2025-09-19T00:00:00",
          "2025-09-26T00:00:00",
          "2025-10-03T00:00:00",
          "2025-10-10T00:00:00",
          "2025-10-17T00:00:00"
         ],
         "y": {
          "bdata": "XI/C9ShcK0D2KFyPwnUpQLgehetRuCtAPQrXo3A9KkCamZmZmZkrQB+F61G4HipA9ihcj8L1LEAAAAAAAIAtQAAAAAAAACtAKVyPwvWoLECkcD0K16MsQFyPwvUo3CpAH4XrUbgeKkB7FK5H4fotQEjhehSuRy9Aw/UoXI+CMkCamZmZmZkvQI/C9Shcjy1AexSuR+H6KUCPwvUoXI8pQGZmZmZmZihASOF6FK7HKkB7FK5H4XopQGZmZmZm5ihAmpmZmZmZKUBcj8L1KFwpQHE9CtejcChAPQrXo3A9KUDNzMzMzEwtQAAAAAAAgDBASOF6FK6HMkApXI/C9ag7QMP1KFyPAjFACtejcD0KMEA9CtejcL0vQLgehetR+DNAuB6F61H4MUDXo3A9ChcxQJqZmZmZmS9A7FG4HoXrMkDD9Shcj0I1QClcj8L1aDNACtejcD0KM0ApXI/C9eg0QEjhehSuxzFAKVyPwvWoLUA9CtejcD0wQBSuR+F6FCxAj8L1KFyPKkDhehSuR+ErQOF6FK5HITRAXI/C9SjcLkAzMzMzMzMxQBSuR+F61DFAUrgehetRMUDXo3A9ClcuQOF6FK5HoTBAexSuR+G6MEAK16NwPQovQHE9Ctej8C9AZmZmZmamM0AK16NwPUo3QNejcD0KFzlAPQrXo3A9NEApXI/C9agyQK5H4XoULjxAH4XrUbgeRUAUrkfhetQ+QBSuR+F61DxAw/UoXI9COECF61G4HkU3QI/C9ShcDzJArkfhehTuM0BSuB6F61EzQEjhehSuxzFACtejcD0KMkB7FK5H4bo0QGZmZmZmZjFAj8L1KFzPMEAK16NwPYowQK5H4XoU7jBACtejcD2KL0C4HoXrUbgwQIXrUbgexTBAKVyPwvUoLkBSuB6F69EuQB+F61G4ni1AhetRuB4FMEB7FK5H4fotQI/C9Shcjy9AcT0K16MwMECkcD0K12MwQJqZmZmZmTFAj8L1KFxPNUA=",
          "dtype": "f8"
         }
        },
        {
         "mode": "lines",
         "name": "Russell 2000 VIX",
         "type": "scatter",
         "x": [
          "2024-01-05T00:00:00",
          "2024-01-12T00:00:00",
          "2024-01-19T00:00:00",
          "2024-01-26T00:00:00",
          "2024-02-02T00:00:00",
          "2024-02-09T00:00:00",
          "2024-02-16T00:00:00",
          "2024-02-23T00:00:00",
          "2024-03-01T00:00:00",
          "2024-03-08T00:00:00",
          "2024-03-15T00:00:00",
          "2024-03-22T00:00:00",
          "2024-03-29T00:00:00",
          "2024-04-05T00:00:00",
          "2024-04-12T00:00:00",
          "2024-04-19T00:00:00",
          "2024-04-26T00:00:00",
          "2024-05-03T00:00:00",
          "2024-05-10T00:00:00",
          "2024-05-17T00:00:00",
          "2024-05-24T00:00:00",
          "2024-05-31T00:00:00",
          "2024-06-07T00:00:00",
          "2024-06-14T00:00:00",
          "2024-06-21T00:00:00",
          "2024-06-28T00:00:00",
          "2024-07-05T00:00:00",
          "2024-07-12T00:00:00",
          "2024-07-19T00:00:00",
          "2024-07-26T00:00:00",
          "2024-08-02T00:00:00",
          "2024-08-09T00:00:00",
          "2024-08-16T00:00:00",
          "2024-08-23T00:00:00",
          "2024-08-30T00:00:00",
          "2024-09-06T00:00:00",
          "2024-09-13T00:00:00",
          "2024-09-20T00:00:00",
          "2024-09-27T00:00:00",
          "2024-10-04T00:00:00",
          "2024-10-11T00:00:00",
          "2024-10-18T00:00:00",
          "2024-10-25T00:00:00",
          "2024-11-01T00:00:00",
          "2024-11-08T00:00:00",
          "2024-11-15T00:00:00",
          "2024-11-22T00:00:00",
          "2024-11-29T00:00:00",
          "2024-12-06T00:00:00",
          "2024-12-13T00:00:00",
          "2024-12-20T00:00:00",
          "2024-12-27T00:00:00",
          "2025-01-03T00:00:00",
          "2025-01-10T00:00:00",
          "2025-01-17T00:00:00",
          "2025-01-24T00:00:00",
          "2025-01-31T00:00:00",
          "2025-02-07T00:00:00",
          "2025-02-14T00:00:00",
          "2025-02-21T00:00:00",
          "2025-02-28T00:00:00",
          "2025-03-07T00:00:00",
          "2025-03-14T00:00:00",
          "2025-03-21T00:00:00",
          "2025-03-28T00:00:00",
          "2025-04-04T00:00:00",
          "2025-04-11T00:00:00",
          "2025-04-18T00:00:00",
          "2025-04-25T00:00:00",
          "2025-05-02T00:00:00",
          "2025-05-09T00:00:00",
          "2025-05-16T00:00:00",
          "2025-05-23T00:00:00",
          "2025-05-30T00:00:00",
          "2025-06-06T00:00:00",
          "2025-06-13T00:00:00",
          "2025-06-20T00:00:00",
          "2025-06-27T00:00:00",
          "2025-07-04T00:00:00",
          "2025-07-11T00:00:00",
          "2025-07-18T00:00:00",
          "2025-07-25T00:00:00",
          "2025-08-01T00:00:00",
          "2025-08-08T00:00:00",
          "2025-08-15T00:00:00",
          "2025-08-22T00:00:00",
          "2025-08-29T00:00:00",
          "2025-09-05T00:00:00",
          "2025-09-12T00:00:00",
          "2025-09-19T00:00:00",
          "2025-09-26T00:00:00",
          "2025-10-03T00:00:00",
          "2025-10-10T00:00:00",
          "2025-10-17T00:00:00"
         ],
         "y": {
          "bdata": "CtejcD1KN0AfhetRuF41QK5H4XoULjZAPQrXo3C9NUCPwvUoXA83QJqZmZmZmTZA9ihcj8J1OECPwvUoXA85QD0K16NwfTdAAAAAAACAN0DsUbgehas1QHsUrkfhujRACtejcD3KM0CPwvUoXA82QMP1KFyPwjZApHA9CtfjOECPwvUoXE82QIXrUbgexTRAzczMzMyMM0CPwvUoXI8zQFK4HoXrETJASOF6FK6HM0DsUbgehaszQM3MzMzMzDNAPQrXo3C9M0AUrkfhetQyQHE9CtejMDJA7FG4HoVrM0BxPQrXo7A3QBSuR+F6FDlAexSuR+E6O0BxPQrXo7BAQOxRuB6F6zhA4XoUrkfhN0DsUbgehSs4QI/C9ShcjztA7FG4HoWrOUDNzMzMzIw4QOF6FK5HITVAXI/C9SgcN0CkcD0K1yM6QGZmZmZm5jpAUrgehetROkAzMzMzM/M7QMP1KFyPAjhA16NwPQpXNkAzMzMzM/M3QPYoXI/CtTZAPQrXo3A9NUAfhetRuF41QM3MzMzMDDtAcT0K16MwNkAzMzMzMzM3QMP1KFyPAjdAPQrXo3B9NkBmZmZmZmY0QI/C9ShcTzVAUrgehesRNUCuR+F6FK4zQMP1KFyPwjRAUrgeheuRN0DNzMzMzIw7QM3MzMzMTDxApHA9CtfjOEDNzMzMzMw2QGZmZmZmJj5A4XoUrkehREDsUbgehctAQI/C9Shczz9ApHA9CtcjPEDNzMzMzIw6QGZmZmZmZjVAXI/C9SjcOEAK16NwPYo3QBSuR+F6VDdAcT0K16MwN0C4HoXrUfg4QHE9CtejsDZASOF6FK4HN0BmZmZmZiY3QMP1KFyPAjhAmpmZmZlZN0BmZmZmZiY4QHsUrkfh+jdAUrgehetRNkCamZmZmRk3QHE9CtejMDZAH4XrUbjeNkCuR+F6FO41QHE9CtejsDZA9ihcj8K1NkCamZmZmVk2QHE9Ctej8DZArkfhehTuOUA=",
          "dtype": "f8"
         }
        },
        {
         "hoverinfo": "skip",
         "marker": {
          "color": "#2A547E",
          "size": 8,
          "symbol": "circle"
         },
         "mode": "markers",
         "showlegend": false,
         "type": "scatter",
         "x": [
          1760659200000000000
         ],
         "y": [
          21.31
         ],
         "zorder": 3
        },
        {
         "hoverinfo": "skip",
         "marker": {
          "color": "#CF8B40",
          "size": 8,
          "symbol": "circle"
         },
         "mode": "markers",
         "showlegend": false,
         "type": "scatter",
         "x": [
          1760659200000000000
         ],
         "y": [
          25.93
         ],
         "zorder": 3
        }
       ],
       "layout": {
        "annotations": [
         {
          "font": {
           "color": "#2A547E"
          },
          "showarrow": false,
          "text": "21.3",
          "x": "2025-10-17T00:00:00",
          "xanchor": "left",
          "xshift": 6,
          "y": 21.31,
          "yanchor": "middle"
         },
         {
          "font": {
           "color": "#CF8B40"
          },
          "showarrow": false,
          "text": "25.9",
          "x": "2025-10-17T00:00:00",
          "xanchor": "left",
          "xshift": 6,
          "y": 25.93,
          "yanchor": "middle"
         }
        ],
        "height": 450,
        "legend": {
         "font": {
          "size": 18
         }
        },
        "template": {
         "data": {
          "scatter": [
           {
            "hovertemplate": "%{x|%Y-%m-%d}<br> %{y:.1f}<extra></extra>",
            "line": {
             "width": 3
            },
            "type": "scatter"
           }
          ]
         },
         "layout": {
          "colorway": [
           "#2A547E",
           "#CF8B40",
           "#879396",
           "#F7CAC9",
           "#7095cf"
          ],
          "height": 500,
          "legend": {
           "bgcolor": "rgba(0,0,0,0)",
           "borderwidth": 0,
           "font": {
            "color": "#163855",
            "family": "Cambria Bold",
            "size": 22
           },
           "orientation": "h",
           "x": 1,
           "xanchor": "right",
           "y": 1.05,
           "yanchor": "bottom"
          },
          "title": {
           "font": {
            "color": "#163855",
            "family": "Cambria Bold",
            "size": 36
           },
           "x": 0.05,
           "xanchor": "left"
          },
          "width": 1200,
          "xaxis": {
           "gridcolor": "#D3D3D3",
           "gridwidth": 0.5,
           "showgrid": true,
           "tickfont": {
            "color": "#163855",
            "family": "Cambria Bold",
            "size": 18
           },
           "title": {
            "font": {
             "color": "#163855",
             "family": "Cambria Bold",
             "size": 24
            }
           },
           "type": "date"
          },
          "yaxis": {
           "gridcolor": "#D3D3D3",
           "gridwidth": 0.5,
           "showgrid": true,
           "tickfont": {
            "color": "#163855",
            "family": "Cambria Bold",
            "size": 18
           },
           "title": {
            "font": {
             "color": "#163855",
             "family": "Cambria Bold",
             "size": 24
            }
           }
          }
         }
        },
        "title": {
         "font": {
          "size": 28
         },
         "text": "Volatility Indexes<br><sup>Daily</sup>"
        },
        "width": 800,
        "xaxis": {
         "dtick": "M4",
         "tickformat": "%b %Y",
         "title": {
          "text": "Date"
         },
         "type": "date"
        },
        "yaxis": {
         "tickformat": ",.0f",
         "title": {
          "text": "Std. Deviations from Average"
         }
        }
       }
      }
     },
     "metadata": {},
     "output_type": "display_data"
    }
   ],
   "source": [
    "# First make the figure\n",
    "fig = go.Figure()\n",
    "\n",
    "\n",
    "# Loop the columns of the dataframe and plot each as a separate trace\n",
    "for col in joined_df.columns:\n",
    "    fig.add_trace(\n",
    "        go.Scatter(\n",
    "            x=joined_df.index,\n",
    "            y=joined_df[col],\n",
    "            mode='lines',\n",
    "            name=col\n",
    "        )\n",
    "    )\n",
    "\n",
    "# Update the titles, using the html tag <sup> for a subtitle \n",
    "fig.update_layout(\n",
    "    title = dict(\n",
    "        text = 'Volatility Indexes<br><sup>Daily</sup>',  # Add comma here\n",
    "        font=dict(size=28)),\n",
    "    xaxis_title=\"Date\",\n",
    "    yaxis_title=\"Std. Deviations from Average\",\n",
    "    legend=dict(\n",
    "        font=dict(size=18)  # Change legend font size\n",
    "    )\n",
    ")\n",
    "\n",
    "# This is graph specific, but here we want the y-axis to be billions of dollars\n",
    "fig.update_yaxes(\n",
    "    tickformat=\",.0f\",\n",
    ")\n",
    "\n",
    "# Again, graph specific, we have a mutliyear series and want tick marks to be years\n",
    "fig.update_xaxes(\n",
    "    type='date',\n",
    "    tickformat='%b %Y',\n",
    "    dtick=\"M4\"\n",
    ")\n",
    "\n",
    "ut.add_end_labels(fig)\n",
    "\n",
    "fig.update_layout(\n",
    "    height=450,\n",
    "    width=800,\n",
    ")\n",
    "\n",
    "# Show our figure (Dimensions may be off on different screen sizes)\n",
    "fig.show()\n",
    "\n",
    "# This should be the same for EVERY GRAPH!\n",
    "# Save it to the graph_output folder with the name matching the file, as HTML\n",
    "fig.write_html(GRAPH_OUTPUT_PATH / f\"{GRAPH_NAME}.html\")"
   ]
  }
 ],
 "metadata": {
  "kernelspec": {
   "display_name": ".venv",
   "language": "python",
   "name": "python3"
  },
  "language_info": {
   "codemirror_mode": {
    "name": "ipython",
    "version": 3
   },
   "file_extension": ".py",
   "mimetype": "text/x-python",
   "name": "python",
   "nbconvert_exporter": "python",
   "pygments_lexer": "ipython3",
   "version": "3.13.7"
  }
 },
 "nbformat": 4,
 "nbformat_minor": 5
}
