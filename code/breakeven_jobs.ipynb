{
 "cells": [
  {
   "cell_type": "markdown",
   "id": "ec9a0460",
   "metadata": {},
   "source": [
    "This notebook walks through how to make graphs in this repo. You can copy this example.ipynb and rename it for your own graphing work. <b> Please do each graph in a seperate notebook!</b>\n",
    "\n",
    "1. Import the appropriate packages. We'll use plotly.graph_objects for making all of our graphs."
   ]
  },
  {
   "cell_type": "code",
   "execution_count": 1,
   "id": "b8a83946",
   "metadata": {
    "ExecuteTime": {
     "end_time": "2025-10-14T19:54:14.170615Z",
     "start_time": "2025-10-14T19:54:13.941823Z"
    }
   },
   "outputs": [],
   "source": [
    "import datetime as dt\n",
    "import plotly.graph_objects as go\n",
    "import plotly.io as pio\n",
    "import pandas as pd\n",
    "import utils.utils as ut\n",
    "import utils.graph_templates\n",
    "\n",
    "from fredapi import Fred"
   ]
  },
  {
   "cell_type": "markdown",
   "id": "533182f0",
   "metadata": {},
   "source": [
    "2. We'll get data using the fredapi package. Set the path to the text file with your API key"
   ]
  },
  {
   "cell_type": "code",
   "execution_count": 2,
   "id": "f81e1110",
   "metadata": {
    "ExecuteTime": {
     "end_time": "2025-10-14T19:54:14.186637Z",
     "start_time": "2025-10-14T19:54:14.183765Z"
    }
   },
   "outputs": [],
   "source": [
    "GRAPH_NAME = \"breakeven_jobs\"\n",
    "\n",
    "API_KEY_PATH = ut.get_repo_root() / \"fred_api_key.txt\" \n",
    "\n",
    "fred = Fred(api_key_file = API_KEY_PATH)"
   ]
  },
  {
   "cell_type": "markdown",
   "id": "ee2ebb59",
   "metadata": {},
   "source": [
    "3. Set the fed_2025 template as default"
   ]
  },
  {
   "cell_type": "code",
   "execution_count": 3,
   "id": "00bbbcaa",
   "metadata": {
    "ExecuteTime": {
     "end_time": "2025-10-14T19:54:14.195712Z",
     "start_time": "2025-10-14T19:54:14.191309Z"
    }
   },
   "outputs": [],
   "source": [
    "pio.templates.default = 'fed_2025'\n",
    "\n",
    "GRAPH_NAME = \"breakeven_inflation_10y\"\n",
    "\n",
    "GRAPH_OUTPUT_PATH = ut.get_repo_root() / \"figures\""
   ]
  },
  {
   "cell_type": "code",
   "execution_count": 4,
   "id": "d02adea9",
   "metadata": {
    "ExecuteTime": {
     "end_time": "2025-10-14T19:54:14.208394Z",
     "start_time": "2025-10-14T19:54:14.202632Z"
    }
   },
   "outputs": [
    {
     "data": {
      "text/plain": [
       "WindowsPath('C:/Users/Bobby/Desktop/Fed Challenge 2025/NEUFed2025/figures')"
      ]
     },
     "execution_count": 4,
     "metadata": {},
     "output_type": "execute_result"
    }
   ],
   "source": [
    "GRAPH_OUTPUT_PATH"
   ]
  },
  {
   "cell_type": "markdown",
   "id": "c2af7dd8",
   "metadata": {},
   "source": [
    "4. Use the fredapi to get the data and prepare it for graphing. Documentation on the optional parameters that can be passed to the get_series called are found here (the documentation in fredapi is out of date). \n",
    "\n",
    "https://fred.stlouisfed.org/docs/api/fred/series_observations.html#Description\n",
    "\n",
    "If you get data from somewhere else thats fine too! Put the raw csv in the \"raw_data\" folder and read it in here. Make sure not to edit the raw data, just transform and graph it."
   ]
  },
  {
   "cell_type": "code",
   "execution_count": 24,
   "id": "5934d6c9",
   "metadata": {
    "ExecuteTime": {
     "end_time": "2025-10-14T19:54:15.455527Z",
     "start_time": "2025-10-14T19:54:14.506839Z"
    }
   },
   "outputs": [],
   "source": [
    "today = dt.date.today()\n",
    "\n",
    "jobs_df = pd.read_excel(ut.get_repo_root() / \"code\" / \"data\" / \"Book1.xlsx\")\n",
    "\n",
    "filt_jobs_df = jobs_df.rename(columns={\n",
    "    \"Author's estimates, smoothed\": \"Estimated Breakeven Jobs Added (Cheremukhin)\",\n",
    "    \"Payroll gains\": \"Actual Jobs Added\",\n",
    "    \"observation_date\": 'Date'\n",
    "    }\n",
    ").set_index('Date')[[\"Estimated Breakeven Jobs Added (Cheremukhin)\", 'Upper bound', 'Lower bound', 'Actual Jobs Added']].dropna()\n",
    "\n",
    "filt_jobs_df = filt_jobs_df[filt_jobs_df.index >= '2025-01-01']\n"
   ]
  },
  {
   "cell_type": "markdown",
   "id": "f36c32ec",
   "metadata": {},
   "source": [
    "5. Now that all our data is ready, make the graph and have it save itself as a .html file to graph_output whenver the notebooks is rerun. The name of the file should exactly match the notebook name. For instance, this file \"example.ipynb\" produces the graph \"example.html.\" Nice work, you made a graph! "
   ]
  },
  {
   "cell_type": "code",
   "execution_count": 28,
   "id": "8d83fc29",
   "metadata": {
    "ExecuteTime": {
     "end_time": "2025-10-14T19:54:16.458237Z",
     "start_time": "2025-10-14T19:54:15.505092Z"
    }
   },
   "outputs": [
    {
     "data": {
      "application/vnd.plotly.v1+json": {
       "config": {
        "plotlyServerURL": "https://plot.ly"
       },
       "data": [
        {
         "mode": "lines",
         "name": "Estimated Breakeven",
         "type": "scatter",
         "x": [
          "2025-01-01T00:00:00",
          "2025-02-01T00:00:00",
          "2025-03-01T00:00:00",
          "2025-04-01T00:00:00",
          "2025-05-01T00:00:00",
          "2025-06-01T00:00:00",
          "2025-07-01T00:00:00",
          "2025-08-01T00:00:00"
         ],
         "y": {
          "bdata": "tFwKRNwUWUDoKbZyChNWQI9Se7CyblFAXcaJshowTUCsGJhGSFlJQNs/e0D6gUZAzh9mGxJBREDRxqHIjqpBQA==",
          "dtype": "f8"
         }
        },
        {
         "line": {
          "color": "#7095cf",
          "dash": "dot"
         },
         "mode": "lines",
         "name": "",
         "showlegend": false,
         "type": "scatter",
         "x": [
          "2025-01-01T00:00:00",
          "2025-02-01T00:00:00",
          "2025-03-01T00:00:00",
          "2025-04-01T00:00:00",
          "2025-05-01T00:00:00",
          "2025-06-01T00:00:00",
          "2025-07-01T00:00:00",
          "2025-08-01T00:00:00"
         ],
         "y": {
          "bdata": "1xFdZAdlXkByktEMYJ5bQFrTq+L6R1dAOjl8OxWxVEBQt835iiVTQGyEp+Ho21FAUFhwQxMDUUAIGkziroNPQA==",
          "dtype": "f8"
         }
        },
        {
         "line": {
          "color": "#7095cf",
          "dash": "dot"
         },
         "mode": "lines",
         "name": "",
         "showlegend": false,
         "type": "scatter",
         "x": [
          "2025-01-01T00:00:00",
          "2025-02-01T00:00:00",
          "2025-03-01T00:00:00",
          "2025-04-01T00:00:00",
          "2025-05-01T00:00:00",
          "2025-06-01T00:00:00",
          "2025-07-01T00:00:00",
          "2025-08-01T00:00:00"
         ],
         "y": {
          "bdata": "kae3I7HEU0BewZrYtIdQQIejlfzUKkdARhob7gr+QEByhSkz9c44QLztTntFmDJA9Duuv/bvKUDQnLt3dYseQA==",
          "dtype": "f8"
         }
        },
        {
         "marker": {
          "color": "#CF8B40"
         },
         "name": "Actual Jobs Added",
         "type": "bar",
         "x": [
          "2025-01-01T00:00:00",
          "2025-02-01T00:00:00",
          "2025-03-01T00:00:00",
          "2025-04-01T00:00:00",
          "2025-05-01T00:00:00",
          "2025-06-01T00:00:00",
          "2025-07-01T00:00:00",
          "2025-08-01T00:00:00"
         ],
         "y": {
          "bdata": "AAAAAADAW0AAAAAAAIBZQAAAAAAAAF5AAAAAAADAY0AAAAAAAAAzQAAAAAAAACrAAAAAAADAU0AAAAAAAAA2QA==",
          "dtype": "f8"
         }
        },
        {
         "hoverinfo": "skip",
         "marker": {
          "color": "#2A547E",
          "size": 8,
          "symbol": "circle"
         },
         "mode": "markers",
         "showlegend": false,
         "type": "scatter",
         "x": [
          1754006400000000000
         ],
         "y": [
          35.33248241328477
         ],
         "zorder": 3
        },
        {
         "hoverinfo": "skip",
         "marker": {
          "color": "#7095cf",
          "size": 8,
          "symbol": "circle"
         },
         "mode": "markers",
         "showlegend": false,
         "type": "scatter",
         "x": [
          1754006400000000000
         ],
         "y": [
          63.0287745353308
         ],
         "zorder": 3
        },
        {
         "hoverinfo": "skip",
         "marker": {
          "color": "#7095cf",
          "size": 8,
          "symbol": "circle"
         },
         "mode": "markers",
         "showlegend": false,
         "type": "scatter",
         "x": [
          1754006400000000000
         ],
         "y": [
          7.636190291238748
         ],
         "zorder": 3
        }
       ],
       "layout": {
        "annotations": [
         {
          "font": {
           "color": "#2A547E"
          },
          "showarrow": false,
          "text": "35.3",
          "x": "2025-08-01T00:00:00",
          "xanchor": "left",
          "xshift": 6,
          "y": 35.33248241328477,
          "yanchor": "middle"
         },
         {
          "font": {
           "color": "#7095cf"
          },
          "showarrow": false,
          "text": "63.0",
          "x": "2025-08-01T00:00:00",
          "xanchor": "left",
          "xshift": 6,
          "y": 63.0287745353308,
          "yanchor": "middle"
         },
         {
          "font": {
           "color": "#7095cf"
          },
          "showarrow": false,
          "text": "7.6",
          "x": "2025-08-01T00:00:00",
          "xanchor": "left",
          "xshift": 6,
          "y": 7.636190291238748,
          "yanchor": "middle"
         }
        ],
        "height": 350,
        "legend": {
         "orientation": "h",
         "x": 0.7,
         "y": -0.6
        },
        "template": {
         "data": {
          "scatter": [
           {
            "hovertemplate": "%{x|%Y-%m-%d}<br> %{y:.1f}<extra></extra>",
            "line": {
             "width": 3
            },
            "type": "scatter"
           }
          ]
         },
         "layout": {
          "colorway": [
           "#2A547E",
           "#CF8B40",
           "#879396",
           "#F7CAC9",
           "#7095cf"
          ],
          "height": 500,
          "legend": {
           "bgcolor": "rgba(0,0,0,0)",
           "borderwidth": 0,
           "font": {
            "color": "#163855",
            "family": "Cambria Bold",
            "size": 22
           },
           "orientation": "h",
           "x": 1,
           "xanchor": "right",
           "y": 1.05,
           "yanchor": "bottom"
          },
          "title": {
           "font": {
            "color": "#163855",
            "family": "Cambria Bold",
            "size": 36
           },
           "x": 0.05,
           "xanchor": "left"
          },
          "width": 1200,
          "xaxis": {
           "gridcolor": "#D3D3D3",
           "gridwidth": 0.5,
           "showgrid": true,
           "tickfont": {
            "color": "#163855",
            "family": "Cambria Bold",
            "size": 18
           },
           "title": {
            "font": {
             "color": "#163855",
             "family": "Cambria Bold",
             "size": 24
            }
           },
           "type": "date"
          },
          "yaxis": {
           "gridcolor": "#D3D3D3",
           "gridwidth": 0.5,
           "showgrid": true,
           "tickfont": {
            "color": "#163855",
            "family": "Cambria Bold",
            "size": 18
           },
           "title": {
            "font": {
             "color": "#163855",
             "family": "Cambria Bold",
             "size": 24
            }
           }
          }
         }
        },
        "title": {
         "text": "Breakeven Jobs Creation <br><sup>Monthly, Seasonally Adjusted</sup>"
        },
        "width": 600,
        "xaxis": {
         "tickformat": "%b %Y",
         "title": {},
         "type": "date"
        },
        "yaxis": {
         "tickformat": ".0f",
         "ticksuffix": "k",
         "title": {
          "text": "Change in Nonfarm Payrolls"
         }
        }
       }
      }
     },
     "metadata": {},
     "output_type": "display_data"
    }
   ],
   "source": [
    "fig = go.Figure()\n",
    "\n",
    "fig.add_trace(\n",
    "        go.Scatter(\n",
    "            x=filt_jobs_df.index,\n",
    "            y=filt_jobs_df['Estimated Breakeven Jobs Added (Cheremukhin)'],\n",
    "            mode='lines',\n",
    "            name='Estimated Breakeven'\n",
    "        )\n",
    "    )\n",
    "\n",
    "fig.add_trace(\n",
    "        go.Scatter(\n",
    "            x=filt_jobs_df.index,\n",
    "            y=filt_jobs_df['Upper bound'],\n",
    "            mode='lines',\n",
    "            name='',\n",
    "            line=dict(dash='dot', color='#7095cf'),\n",
    "            showlegend=False  # hides this trace from the legend\n",
    "        )\n",
    "    )\n",
    "\n",
    "fig.add_trace(\n",
    "        go.Scatter(\n",
    "            x=filt_jobs_df.index,\n",
    "            y=filt_jobs_df['Lower bound'],\n",
    "            mode='lines',\n",
    "            name='',\n",
    "            line=dict(dash='dot', color='#7095cf'),\n",
    "            showlegend=False  # hides this trace from the legend\n",
    "        )\n",
    "    )\n",
    "\n",
    "fig.add_trace(\n",
    "        go.Bar(\n",
    "            x=filt_jobs_df.index,\n",
    "            y=filt_jobs_df['Actual Jobs Added'],\n",
    "            name='Actual Jobs Added',\n",
    "              marker=dict(color='#CF8B40')\n",
    "        )\n",
    "    )\n",
    "\n",
    "fig.update_layout(\n",
    "    title = dict(text = 'Breakeven Jobs Creation <br><sup>Monthly, Seasonally Adjusted</sup>'),\n",
    "    xaxis_title=\"Date\",\n",
    "    yaxis_title=\"Change in Nonfarm Payrolls\",\n",
    "    legend=dict(orientation='h', y=-0.6, x=0.7),\n",
    "    height = 350,\n",
    "    width = 600\n",
    ")\n",
    "\n",
    "fig.update_yaxes(\n",
    "    tickformat=\".0f\",\n",
    "    ticksuffix=\"k\"\n",
    ")\n",
    "\n",
    "fig.update_xaxes(\n",
    "    type='date',\n",
    "    tickformat='%b %Y',\n",
    "    title_text=None,\n",
    ")\n",
    "\n",
    "ut.add_end_labels(fig = fig)\n",
    "\n",
    "fig.show()\n",
    "\n",
    "fig.write_html(GRAPH_OUTPUT_PATH / f\"{GRAPH_NAME}.html\")"
   ]
  }
 ],
 "metadata": {
  "kernelspec": {
   "display_name": ".venv",
   "language": "python",
   "name": "python3"
  },
  "language_info": {
   "codemirror_mode": {
    "name": "ipython",
    "version": 3
   },
   "file_extension": ".py",
   "mimetype": "text/x-python",
   "name": "python",
   "nbconvert_exporter": "python",
   "pygments_lexer": "ipython3",
   "version": "3.13.7"
  }
 },
 "nbformat": 4,
 "nbformat_minor": 5
}
