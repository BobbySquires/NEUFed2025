{
 "cells": [
  {
   "cell_type": "markdown",
   "id": "ec9a0460",
   "metadata": {},
   "source": [
    "This notebook walks through how to make graphs in this repo. You can copy this example.ipynb and rename it for your own graphing work. <b> Please do each graph in a seperate notebook!</b>\n",
    "\n",
    "1. Import the appropriate packages. We'll use plotly.graph_objects for making all of our graphs."
   ]
  },
  {
   "cell_type": "code",
   "execution_count": 247,
   "id": "b8a83946",
   "metadata": {},
   "outputs": [],
   "source": [
    "import datetime as dt\n",
    "import plotly.graph_objects as go\n",
    "import plotly.io as pio\n",
    "import pandas as pd\n",
    "import utils.utils as ut\n",
    "import utils.graph_templates\n",
    "\n",
    "from fredapi import Fred"
   ]
  },
  {
   "cell_type": "markdown",
   "id": "533182f0",
   "metadata": {},
   "source": [
    "2. We'll get data using the fredapi package. Set the path to the text file with your API key"
   ]
  },
  {
   "cell_type": "code",
   "execution_count": 248,
   "id": "f81e1110",
   "metadata": {},
   "outputs": [],
   "source": [
    "# Call the graph the exact same thing as its notebook (minus the ipynb suffix)\n",
    "GRAPH_NAME = \"lfpr\"\n",
    "\n",
    "API_KEY_PATH = ut.get_repo_root() / \"fred_api_key.txt\" \n",
    "\n",
    "fred = Fred(api_key_file = API_KEY_PATH)"
   ]
  },
  {
   "cell_type": "markdown",
   "id": "ee2ebb59",
   "metadata": {},
   "source": [
    "3. Set the fed_2025 template as default"
   ]
  },
  {
   "cell_type": "code",
   "execution_count": 249,
   "id": "00bbbcaa",
   "metadata": {},
   "outputs": [],
   "source": [
    "pio.templates.default = 'fed_2025'\n",
    "\n",
    "# Now is a good time to set the path to the graph output folder!\n",
    "GRAPH_OUTPUT_PATH = ut.get_repo_root() / \"figures\""
   ]
  },
  {
   "cell_type": "markdown",
   "id": "c2af7dd8",
   "metadata": {},
   "source": [
    "4. Use the fredapi to get the data and prepare it for graphing. Documentation on the optional parameters that can be passed to the get_series called are found here (the documentation in fredapi is out of date). \n",
    "\n",
    "https://fred.stlouisfed.org/docs/api/fred/series_observations.html#Description\n",
    "\n",
    "If you get data from somewhere else thats fine too! Put the raw csv in the \"raw_data\" folder and read it in here. Make sure not to edit the raw data, just transform and graph it."
   ]
  },
  {
   "cell_type": "code",
   "execution_count": 250,
   "id": "4c582e8a",
   "metadata": {},
   "outputs": [],
   "source": [
    "# The get_series_info method may be useful\n",
    "fred.get_series_info(series_id=\"CPIAUCSL\")\n",
    "\n",
    "# It's good practice to store the series codes in a dictionary with their names\n",
    "series_codes = {\n",
    "    \"Consumption Change\": \"PCE\",\n",
    "    \"Change Investment\": \"GPDI\",\n",
    "    \"Change Government Spending\": \"W068RCQ027SBEA\",\n",
    "    \"Change Imports\": \"IMPGS\",\n",
    "    \"Change Exports\": \"EXPGS\"\n",
    "}"
   ]
  },
  {
   "cell_type": "code",
   "execution_count": 251,
   "id": "5934d6c9",
   "metadata": {},
   "outputs": [],
   "source": [
    "today = dt.date.today()\n",
    "\n",
    "consumption_change = fred.get_series(\n",
    "    series_id=series_codes[\"Consumption Change\"],\n",
    "    observation_start=dt.date(2022, 1, 1),\n",
    "    observation_end=today,  \n",
    "    frequency='m',\n",
    ").rename(\"Consumption Change\")\n",
    "\n",
    "\n",
    "investment_change = fred.get_series(\n",
    "    series_id=series_codes[\"Change Investment\"],\n",
    "    observation_start=dt.date(2022, 1, 1),\n",
    "    observation_end=today,\n",
    "    frequency='q'\n",
    ").rename(\"Change Investment\")\n",
    "\n",
    "government_change = fred.get_series(\n",
    "    series_id=series_codes[\"Change Government Spending\"],\n",
    "    observation_start=dt.date(2022, 1, 1),\n",
    "    observation_end=today,\n",
    "    frequency='q'\n",
    ").rename(\"Change Government Spending\")\n",
    "\n",
    "imports_change = fred.get_series(\n",
    "    series_id=series_codes[\"Change Imports\"],\n",
    "    observation_start=dt.date(2022, 1, 1),\n",
    "    observation_end=today,\n",
    "    frequency='q'\n",
    ").rename(\"Change Imports\")\n",
    "\n",
    "exports_change = fred.get_series(\n",
    "    series_id=series_codes[\"Change Exports\"],\n",
    "    observation_start=dt.date(2022, 1, 1),\n",
    "    observation_end=today,\n",
    "    frequency='q'\n",
    ").rename(\"Change Exports\")\n",
    "\n",
    "joined_df = pd.concat(\n",
    "    [consumption_change, investment_change, government_change,imports_change, exports_change ], # srs to join\n",
    "    axis=1, # multiple observations per index entry\n",
    "    join='inner' # only include observations where none of the 3 are missing\n",
    ")\n",
    "\n"
   ]
  },
  {
   "cell_type": "markdown",
   "id": "f36c32ec",
   "metadata": {},
   "source": [
    "5. Now that all our data is ready, make the graph and have it save itself as a .html file to graph_output whenver the notebooks is rerun. The name of the file should exactly match the notebook name. For instance, this file \"example.ipynb\" produces the graph \"example.html.\" Nice work, you made a graph! "
   ]
  },
  {
   "cell_type": "code",
   "execution_count": 252,
   "id": "8d83fc29",
   "metadata": {},
   "outputs": [
    {
     "data": {
      "application/vnd.plotly.v1+json": {
       "config": {
        "plotlyServerURL": "https://plot.ly"
       },
       "data": [
        {
         "marker": {
          "color": "#8B6F47"
         },
         "name": "Consumption",
         "type": "bar",
         "x": [
          "Q1 2023",
          "Q2 2023",
          "Q3 2023",
          "Q4 2023",
          "Q1 2024",
          "Q2 2024",
          "Q3 2024",
          "Q4 2024",
          "Q1 2025",
          "Q2 2025"
         ],
         "y": {
          "bdata": "kLs6yp4gIUBqVENkh1caQNmEBhf9ExlAfkKGIFQVFkB8wIoyKIUSQLqjILRQ+BVA4eEs/pyQFkA/x0wwb18XQP1fuVW5AxhAGguxTT77FUA=",
          "dtype": "f8"
         }
        },
        {
         "marker": {
          "color": "#A67C52"
         },
         "name": "Investment",
         "type": "bar",
         "x": [
          "Q1 2023",
          "Q2 2023",
          "Q3 2023",
          "Q4 2023",
          "Q1 2024",
          "Q2 2024",
          "Q3 2024",
          "Q4 2024",
          "Q1 2025",
          "Q2 2025"
         ],
         "y": {
          "bdata": "KOGvxPgc9z+0SO5UEN0IQEF15fJo+xZAhAGJazT5EUDfqvWLDDYWQAsXViVGiRpAphSXRpb6EkDYQZa/2zX/PwbR5cA3IR9AlE2l+7O09D8=",
          "dtype": "f8"
         }
        },
        {
         "marker": {
          "color": "#C2956E"
         },
         "name": "Net Exports",
         "type": "bar",
         "x": [
          "Q1 2023",
          "Q2 2023",
          "Q3 2023",
          "Q4 2023",
          "Q1 2024",
          "Q2 2024",
          "Q3 2024",
          "Q4 2024",
          "Q1 2025",
          "Q2 2025"
         ],
         "y": {
          "bdata": "KzYqmuvAHkCOssB85AsEwBB+SexxB/i/GJiESNQu+z8C7/n8DGAEQNysxcB4ZRdAqWa9KXOiFkBkqNPn2NQRQAo4eFz1YBBAPNp8sf7CAkA=",
          "dtype": "f8"
         }
        },
        {
         "marker": {
          "color": "#D4B896"
         },
         "name": "Government",
         "type": "bar",
         "x": [
          "Q1 2023",
          "Q2 2023",
          "Q3 2023",
          "Q4 2023",
          "Q1 2024",
          "Q2 2024",
          "Q3 2024",
          "Q4 2024",
          "Q1 2025",
          "Q2 2025"
         ],
         "y": {
          "bdata": "PiD+ogfPKkDkXux0laMjQAaQ4+mtWSRA1No58TdiGEBpkN3MCOAYQGW0/NCBcxRAgurnCViSG0Dsl4zUOjIgQPycq8DlOBhANUENq/6pGUA=",
          "dtype": "f8"
         }
        },
        {
         "base": 0,
         "marker": {
          "color": "#CC82CD"
         },
         "name": "Imports (negative)",
         "type": "bar",
         "x": [
          "Q1 2023",
          "Q2 2023",
          "Q3 2023",
          "Q4 2023",
          "Q1 2024",
          "Q2 2024",
          "Q3 2024",
          "Q4 2024",
          "Q1 2025",
          "Q2 2025"
         ],
         "y": {
          "bdata": "hOm1R/HD6z/KD86XdwMbQFWDv+FohAtAyLU697Bl0T82nAP8IeIFwInu6kJmqhzAzGVzfBoMIsDrHS5LEK8dwEDYqjw3rizAvG9UyPpv/78=",
          "dtype": "f8"
         }
        }
       ],
       "layout": {
        "barmode": "relative",
        "height": 600,
        "hovermode": "x unified",
        "legend": {
         "bgcolor": "rgba(255,255,255,0.8)",
         "bordercolor": "gray",
         "borderwidth": 1,
         "font": {
          "size": 12
         },
         "orientation": "v",
         "x": 1,
         "xanchor": "right",
         "y": 1,
         "yanchor": "top"
        },
        "margin": {
         "b": 60,
         "l": 100,
         "r": 20,
         "t": 120
        },
        "template": {
         "data": {
          "scatter": [
           {
            "hovertemplate": "%{x|%Y-%m-%d}<br> %{y:.1f}<extra></extra>",
            "line": {
             "width": 3
            },
            "type": "scatter"
           }
          ]
         },
         "layout": {
          "colorway": [
           "#2A547E",
           "#CF8B40",
           "#879396",
           "#F7CAC9",
           "#7095cf"
          ],
          "height": 500,
          "legend": {
           "bgcolor": "rgba(0,0,0,0)",
           "borderwidth": 0,
           "font": {
            "color": "#163855",
            "family": "Cambria Bold",
            "size": 22
           },
           "orientation": "h",
           "x": 1,
           "xanchor": "right",
           "y": 1.05,
           "yanchor": "bottom"
          },
          "title": {
           "font": {
            "color": "#163855",
            "family": "Cambria Bold",
            "size": 36
           },
           "x": 0.05,
           "xanchor": "left"
          },
          "width": 1200,
          "xaxis": {
           "gridcolor": "#D3D3D3",
           "gridwidth": 0.5,
           "showgrid": true,
           "tickfont": {
            "color": "#163855",
            "family": "Cambria Bold",
            "size": 18
           },
           "title": {
            "font": {
             "color": "#163855",
             "family": "Cambria Bold",
             "size": 24
            }
           },
           "type": "date"
          },
          "yaxis": {
           "gridcolor": "#D3D3D3",
           "gridwidth": 0.5,
           "showgrid": true,
           "tickfont": {
            "color": "#163855",
            "family": "Cambria Bold",
            "size": 18
           },
           "title": {
            "font": {
             "color": "#163855",
             "family": "Cambria Bold",
             "size": 24
            }
           }
          }
         }
        },
        "title": {
         "text": "<span style=\"font-size:40px\">Contributions to Annualized Change in Real GDP by Component</span><br><sup style=\"font-size:5px\">Seasonally Adjusted, GDP Now: 2.3% </sup>",
         "x": 0.07,
         "xanchor": "left",
         "y": 0.9,
         "yanchor": "top"
        },
        "xaxis": {
         "title": {
          "standoff": 5,
          "text": "Quarter"
         },
         "type": "category"
        },
        "yaxis": {
         "dtick": 5,
         "tickfont": {
          "size": 10
         },
         "tickformat": ".0f",
         "ticksuffix": "%",
         "title": {
          "text": "Percent (%) Change"
         },
         "zeroline": true,
         "zerolinecolor": "black",
         "zerolinewidth": 2
        }
       }
      }
     },
     "metadata": {},
     "output_type": "display_data"
    }
   ],
   "source": [
    "# Filter data to start from 2022\n",
    "joined_df_filtered = joined_df[joined_df.index >= '2022-01-01']\n",
    "# Calculate percentage change (year-over-year)\n",
    "joined_df_pct = joined_df_filtered.pct_change(periods=4) * 100  # 4 quarters for year-over-year\n",
    "# Drop NaN values from percentage change calculation\n",
    "joined_df_pct = joined_df_pct.dropna()\n",
    "# Create quarter labels with Q before year (e.g., \"Q1 2022\")\n",
    "quarter_labels = [f\"Q{(date.month-1)//3 + 1} {date.year}\" for date in joined_df_pct.index]\n",
    "# Create the figure\n",
    "fig = go.Figure()\n",
    "# Add bars for positive contributions (stacked above zero)\n",
    "fig.add_trace(go.Bar(\n",
    "    x=quarter_labels,\n",
    "    y=joined_df_pct['Consumption Change'],\n",
    "    name='Consumption',\n",
    "    marker_color=\"#8B6F47\"  # Dark tan (Consumption)\n",
    "))\n",
    "fig.add_trace(go.Bar(\n",
    "    x=quarter_labels,\n",
    "    y=joined_df_pct['Change Investment'],\n",
    "    name='Investment',\n",
    "    marker_color=\"#A67C52\"  # Medium-dark tan (Investment)\n",
    "))\n",
    "fig.add_trace(go.Bar(\n",
    "    x=quarter_labels,\n",
    "    y=joined_df_pct['Change Exports'],\n",
    "    name='Net Exports',\n",
    "    marker_color=\"#C2956E\"  \n",
    "))\n",
    "fig.add_trace(go.Bar(\n",
    "    x=quarter_labels,\n",
    "    y=joined_df_pct['Change Government Spending'],\n",
    "    name='Government',\n",
    "    marker_color=\"#D4B896\"  # Light tan (Government)\n",
    "))\n",
    "# Add bars for imports - negative values to display below zero\n",
    "fig.add_trace(go.Bar(\n",
    "    x=quarter_labels,\n",
    "    y=-joined_df_pct['Change Imports'],  # Make negative to show below axis\n",
    "    name='Imports (negative)',\n",
    "    marker_color=\"#CC82CD\",  # Brick red\n",
    "    base=0  # Ensure it starts from zero and goes down\n",
    "))\n",
    "# Update layout\n",
    "fig.update_layout(\n",
    "    barmode='relative',\n",
    "    title={\n",
    "        'text': '<span style=\"font-size:40px\">Contributions to Annualized Change in Real GDP by Component</span><br><sup style=\"font-size:5px\">Seasonally Adjusted, GDP Now: 2.3% </sup>',\n",
    "        'x': 0.07,\n",
    "        'xanchor': 'left',\n",
    "        'y': 0.9,\n",
    "        'yanchor': 'top'\n",
    "    },\n",
    "    xaxis_title='Quarter',\n",
    "    yaxis_title='Percent (%) Change',\n",
    "    hovermode='x unified',\n",
    "    legend=dict(\n",
    "        orientation=\"v\",\n",
    "        yanchor=\"top\",\n",
    "        y=1,\n",
    "        xanchor=\"right\",\n",
    "        x=1,\n",
    "        font=dict(size=12),\n",
    "        bgcolor='rgba(255,255,255,0.8)',\n",
    "        bordercolor='gray',\n",
    "        borderwidth=1\n",
    "    ),\n",
    "    yaxis=dict(\n",
    "        tickformat='.0f',\n",
    "        ticksuffix='%',\n",
    "        dtick=5,\n",
    "        zeroline=True,\n",
    "        zerolinewidth=2,\n",
    "        zerolinecolor='black',\n",
    "        tickfont=dict(size=10)\n",
    "    ),\n",
    "    xaxis=dict(\n",
    "        type='category',\n",
    "        title_standoff=5\n",
    "    ),\n",
    "    height=600,\n",
    "    margin=dict(l=100, t=120, b=60, r=20)\n",
    ")"
   ]
  }
 ],
 "metadata": {
  "kernelspec": {
   "display_name": "Python 3",
   "language": "python",
   "name": "python3"
  },
  "language_info": {
   "codemirror_mode": {
    "name": "ipython",
    "version": 3
   },
   "file_extension": ".py",
   "mimetype": "text/x-python",
   "name": "python",
   "nbconvert_exporter": "python",
   "pygments_lexer": "ipython3",
   "version": "3.13.7"
  }
 },
 "nbformat": 4,
 "nbformat_minor": 5
}
