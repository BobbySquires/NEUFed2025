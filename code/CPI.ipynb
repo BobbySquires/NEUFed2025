{
 "cells": [
  {
   "cell_type": "markdown",
   "id": "ec9a0460",
   "metadata": {},
   "source": [
    "This notebook walks through how to make graphs in this repo. You can copy this example.ipynb and rename it for your own graphing work. <b> Please do each graph in a seperate notebook!</b>\n",
    "\n",
    "1. Import the appropriate packages. We'll use plotly.graph_objects for making all of our graphs."
   ]
  },
  {
   "cell_type": "code",
   "execution_count": 1,
   "id": "b8a83946",
   "metadata": {
    "ExecuteTime": {
     "end_time": "2025-10-11T19:15:12.318572Z",
     "start_time": "2025-10-11T19:15:12.049601Z"
    }
   },
   "outputs": [],
   "source": [
    "import datetime as dt\n",
    "import plotly.graph_objects as go\n",
    "import plotly.io as pio\n",
    "import pandas as pd\n",
    "import utils.utils as ut\n",
    "import utils.graph_templates\n",
    "\n",
    "from fredapi import Fred"
   ]
  },
  {
   "cell_type": "markdown",
   "id": "533182f0",
   "metadata": {},
   "source": [
    "2. We'll get data using the fredapi package. Set the path to the text file with your API key"
   ]
  },
  {
   "cell_type": "code",
   "execution_count": 2,
   "id": "f81e1110",
   "metadata": {
    "ExecuteTime": {
     "end_time": "2025-10-11T19:15:13.750405Z",
     "start_time": "2025-10-11T19:15:13.739567Z"
    }
   },
   "outputs": [],
   "source": [
    "# Call the graph the exact same thing as its notebook (minus the ipynb suffix)\n",
    "API_KEY_PATH = ut.get_repo_root() / \"fred_api_key.txt\" \n",
    "\n",
    "fred = Fred(api_key_file = API_KEY_PATH)"
   ]
  },
  {
   "cell_type": "markdown",
   "id": "ee2ebb59",
   "metadata": {},
   "source": [
    "3. Set the fed_2025 template as default"
   ]
  },
  {
   "cell_type": "code",
   "execution_count": 3,
   "id": "00bbbcaa",
   "metadata": {
    "ExecuteTime": {
     "end_time": "2025-10-11T19:15:16.755235Z",
     "start_time": "2025-10-11T19:15:16.749570Z"
    }
   },
   "outputs": [],
   "source": [
    "pio.templates.default = 'fed_2025'\n",
    "\n",
    "# Call the graph the exact same thing as its notebook (minus the ipynb suffix)\n",
    "GRAPH_NAME = \"cpi\"\n",
    "\n",
    "# Now is a good time to set the path to the graph output folder!\n",
    "GRAPH_OUTPUT_PATH = ut.get_repo_root() / \"figures\""
   ]
  },
  {
   "cell_type": "code",
   "execution_count": 4,
   "id": "d02adea9",
   "metadata": {
    "ExecuteTime": {
     "end_time": "2025-10-11T19:15:19.121134Z",
     "start_time": "2025-10-11T19:15:19.115032Z"
    }
   },
   "outputs": [
    {
     "data": {
      "text/plain": [
       "WindowsPath('C:/Users/Bobby/Desktop/Fed Challenge 2025/NEUFed2025/figures')"
      ]
     },
     "execution_count": 4,
     "metadata": {},
     "output_type": "execute_result"
    }
   ],
   "source": [
    "GRAPH_OUTPUT_PATH"
   ]
  },
  {
   "cell_type": "markdown",
   "id": "c2af7dd8",
   "metadata": {},
   "source": [
    "4. Use the fredapi to get the data and prepare it for graphing. Documentation on the optional parameters that can be passed to the get_series called are found here (the documentation in fredapi is out of date). \n",
    "\n",
    "https://fred.stlouisfed.org/docs/api/fred/series_observations.html#Description\n",
    "\n",
    "If you get data from somewhere else thats fine too! Put the raw csv in the \"raw_data\" folder and read it in here. Make sure not to edit the raw data, just transform and graph it."
   ]
  },
  {
   "cell_type": "code",
   "execution_count": 5,
   "id": "4c582e8a",
   "metadata": {
    "ExecuteTime": {
     "end_time": "2025-10-11T19:15:21.310715Z",
     "start_time": "2025-10-11T19:15:21.158466Z"
    }
   },
   "outputs": [],
   "source": [
    "# The get_series_info method may be useful\n",
    "fred.get_series_info(series_id=\"CPIAUCSL\")\n",
    "\n",
    "# It's good practice to store the series codes in a dictionary with their names\n",
    "series_codes = {\n",
    "    \"Sticky Core\": \"CORESTICKM159SFRBATL\",\n",
    "    \"Core\": \"CPILFESL\",\n",
    "    \"Headline\": \"CPIAUCSL\"\n",
    "}"
   ]
  },
  {
   "cell_type": "code",
   "execution_count": 6,
   "id": "5934d6c9",
   "metadata": {
    "ExecuteTime": {
     "end_time": "2025-10-11T19:15:23.759957Z",
     "start_time": "2025-10-11T19:15:22.642064Z"
    }
   },
   "outputs": [
    {
     "data": {
      "application/vnd.microsoft.datawrangler.viewer.v0+json": {
       "columns": [
        {
         "name": "Date",
         "rawType": "datetime64[ns]",
         "type": "datetime"
        },
        {
         "name": "Sticky Core",
         "rawType": "float64",
         "type": "float"
        },
        {
         "name": "Core",
         "rawType": "float64",
         "type": "float"
        },
        {
         "name": "Headline",
         "rawType": "float64",
         "type": "float"
        }
       ],
       "ref": "770c2d20-d7bf-4fbf-b88c-1e51becede78",
       "rows": [
        [
         "2025-04-01 00:00:00",
         "3.176689863",
         "2.78152",
         "2.33375"
        ],
        [
         "2025-05-01 00:00:00",
         "3.15913105",
         "2.76715",
         "2.37593"
        ],
        [
         "2025-06-01 00:00:00",
         "3.288774014",
         "2.90787",
         "2.67268"
        ],
        [
         "2025-07-01 00:00:00",
         "3.419810534",
         "3.0486",
         "2.7318"
        ],
        [
         "2025-08-01 00:00:00",
         "3.4",
         "3.11219",
         "2.93922"
        ]
       ],
       "shape": {
        "columns": 3,
        "rows": 5
       }
      },
      "text/html": [
       "<div>\n",
       "<style scoped>\n",
       "    .dataframe tbody tr th:only-of-type {\n",
       "        vertical-align: middle;\n",
       "    }\n",
       "\n",
       "    .dataframe tbody tr th {\n",
       "        vertical-align: top;\n",
       "    }\n",
       "\n",
       "    .dataframe thead th {\n",
       "        text-align: right;\n",
       "    }\n",
       "</style>\n",
       "<table border=\"1\" class=\"dataframe\">\n",
       "  <thead>\n",
       "    <tr style=\"text-align: right;\">\n",
       "      <th></th>\n",
       "      <th>Sticky Core</th>\n",
       "      <th>Core</th>\n",
       "      <th>Headline</th>\n",
       "    </tr>\n",
       "    <tr>\n",
       "      <th>Date</th>\n",
       "      <th></th>\n",
       "      <th></th>\n",
       "      <th></th>\n",
       "    </tr>\n",
       "  </thead>\n",
       "  <tbody>\n",
       "    <tr>\n",
       "      <th>2025-04-01</th>\n",
       "      <td>3.176690</td>\n",
       "      <td>2.78152</td>\n",
       "      <td>2.33375</td>\n",
       "    </tr>\n",
       "    <tr>\n",
       "      <th>2025-05-01</th>\n",
       "      <td>3.159131</td>\n",
       "      <td>2.76715</td>\n",
       "      <td>2.37593</td>\n",
       "    </tr>\n",
       "    <tr>\n",
       "      <th>2025-06-01</th>\n",
       "      <td>3.288774</td>\n",
       "      <td>2.90787</td>\n",
       "      <td>2.67268</td>\n",
       "    </tr>\n",
       "    <tr>\n",
       "      <th>2025-07-01</th>\n",
       "      <td>3.419811</td>\n",
       "      <td>3.04860</td>\n",
       "      <td>2.73180</td>\n",
       "    </tr>\n",
       "    <tr>\n",
       "      <th>2025-08-01</th>\n",
       "      <td>3.400000</td>\n",
       "      <td>3.11219</td>\n",
       "      <td>2.93922</td>\n",
       "    </tr>\n",
       "  </tbody>\n",
       "</table>\n",
       "</div>"
      ],
      "text/plain": [
       "            Sticky Core     Core  Headline\n",
       "Date                                      \n",
       "2025-04-01     3.176690  2.78152   2.33375\n",
       "2025-05-01     3.159131  2.76715   2.37593\n",
       "2025-06-01     3.288774  2.90787   2.67268\n",
       "2025-07-01     3.419811  3.04860   2.73180\n",
       "2025-08-01     3.400000  3.11219   2.93922"
      ]
     },
     "execution_count": 6,
     "metadata": {},
     "output_type": "execute_result"
    }
   ],
   "source": [
    "today = dt.date.today()\n",
    "\n",
    "core_sticky_srs = fred.get_series(\n",
    "    series_id=series_codes[\"Sticky Core\"],\n",
    "    observation_start=dt.date(2022, 1, 1),\n",
    "    observation_end=today,\n",
    "    frequency='m',\n",
    ").rename(\"Sticky Core\")\n",
    "\n",
    "core_srs = fred.get_series(\n",
    "    series_id=series_codes[\"Core\"],\n",
    "    observation_start=dt.date(2022, 1, 1),\n",
    "    observation_end=today,\n",
    "    units='pc1'\n",
    ").rename(\"Core\")\n",
    "\n",
    "headline_srs = fred.get_series(\n",
    "    series_id=series_codes[\"Headline\"],\n",
    "    observation_start=dt.date(2022, 1, 1),\n",
    "    observation_end=today,\n",
    "    units='pc1'\n",
    ").rename(\"Headline\")\n",
    "\n",
    "joined_df = pd.concat(\n",
    "    [core_sticky_srs, core_srs, headline_srs], # srs to join\n",
    "    axis=1, # multiple observations per index entry\n",
    "    join='inner' # only include observations where none of the 3 are missing\n",
    ")\n",
    "\n",
    "# Naming the index makes it easier tot title\n",
    "joined_df.index.name = \"Date\"\n",
    "\n",
    "joined_df.tail()"
   ]
  },
  {
   "cell_type": "markdown",
   "id": "f36c32ec",
   "metadata": {},
   "source": [
    "5. Now that all our data is ready, make the graph and have it save itself as a .html file to graph_output whenver the notebooks is rerun. The name of the file should exactly match the notebook name. For instance, this file \"example.ipynb\" produces the graph \"example.html.\" Nice work, you made a graph! "
   ]
  },
  {
   "cell_type": "code",
   "execution_count": 8,
   "id": "8d83fc29",
   "metadata": {
    "ExecuteTime": {
     "end_time": "2025-10-11T19:15:26.075772Z",
     "start_time": "2025-10-11T19:15:25.035774Z"
    }
   },
   "outputs": [
    {
     "data": {
      "application/vnd.plotly.v1+json": {
       "config": {
        "plotlyServerURL": "https://plot.ly"
       },
       "data": [
        {
         "mode": "lines",
         "name": "Sticky Core",
         "type": "scatter",
         "x": [
          "2022-01-01T00:00:00",
          "2022-02-01T00:00:00",
          "2022-03-01T00:00:00",
          "2022-04-01T00:00:00",
          "2022-05-01T00:00:00",
          "2022-06-01T00:00:00",
          "2022-07-01T00:00:00",
          "2022-08-01T00:00:00",
          "2022-09-01T00:00:00",
          "2022-10-01T00:00:00",
          "2022-11-01T00:00:00",
          "2022-12-01T00:00:00",
          "2023-01-01T00:00:00",
          "2023-02-01T00:00:00",
          "2023-03-01T00:00:00",
          "2023-04-01T00:00:00",
          "2023-05-01T00:00:00",
          "2023-06-01T00:00:00",
          "2023-07-01T00:00:00",
          "2023-08-01T00:00:00",
          "2023-09-01T00:00:00",
          "2023-10-01T00:00:00",
          "2023-11-01T00:00:00",
          "2023-12-01T00:00:00",
          "2024-01-01T00:00:00",
          "2024-02-01T00:00:00",
          "2024-03-01T00:00:00",
          "2024-04-01T00:00:00",
          "2024-05-01T00:00:00",
          "2024-06-01T00:00:00",
          "2024-07-01T00:00:00",
          "2024-08-01T00:00:00",
          "2024-09-01T00:00:00",
          "2024-10-01T00:00:00",
          "2024-11-01T00:00:00",
          "2024-12-01T00:00:00",
          "2025-01-01T00:00:00",
          "2025-02-01T00:00:00",
          "2025-03-01T00:00:00",
          "2025-04-01T00:00:00",
          "2025-05-01T00:00:00",
          "2025-06-01T00:00:00",
          "2025-07-01T00:00:00",
          "2025-08-01T00:00:00"
         ],
         "y": {
          "bdata": "HR7C+Gm8D0ClLEMc6yIRQP4qwHebJxJAL6NYbmnVEkBb7zfacdMTQLGiBtMwnBVAZ+4h4XtfFkAHflTDfs8XQHxl3qrrYBlABkt1AS9DGUDDYz+LpbgZQGMK1jibLhpABHKJIw/0GUAabyu9NhsaQLxASYEFkBlA9pUH6SkSGUAEcR5OYOoXQBqk4CnkWhZAg79fzJacFUAbZ9MRwK0UQMOBkCxg0hNAMX4a9+aHE0AnT1lN18MSQNY73A4NOxJAMSdok8NnEkDpDIy8rJkRQKA1P/7SAhJAxk54CU6dEUDY1k//WTMRQPoq+dhd8BBA93KfHAW4EEC3DDhLyXIQQEp/L4UHDRBAEwoRcAi1D0AkD0QWaQIPQHPYfcfw+A1AjGz735AADUB84QDA0iEMQP+XDWABEApAMPX4X9xpCUCiOfx/5kUJQGWEEMBoTwpA0F4QoMVbC0AzMzMzMzMLQA==",
          "dtype": "f8"
         }
        },
        {
         "mode": "lines",
         "name": "Core",
         "type": "scatter",
         "x": [
          "2022-01-01T00:00:00",
          "2022-02-01T00:00:00",
          "2022-03-01T00:00:00",
          "2022-04-01T00:00:00",
          "2022-05-01T00:00:00",
          "2022-06-01T00:00:00",
          "2022-07-01T00:00:00",
          "2022-08-01T00:00:00",
          "2022-09-01T00:00:00",
          "2022-10-01T00:00:00",
          "2022-11-01T00:00:00",
          "2022-12-01T00:00:00",
          "2023-01-01T00:00:00",
          "2023-02-01T00:00:00",
          "2023-03-01T00:00:00",
          "2023-04-01T00:00:00",
          "2023-05-01T00:00:00",
          "2023-06-01T00:00:00",
          "2023-07-01T00:00:00",
          "2023-08-01T00:00:00",
          "2023-09-01T00:00:00",
          "2023-10-01T00:00:00",
          "2023-11-01T00:00:00",
          "2023-12-01T00:00:00",
          "2024-01-01T00:00:00",
          "2024-02-01T00:00:00",
          "2024-03-01T00:00:00",
          "2024-04-01T00:00:00",
          "2024-05-01T00:00:00",
          "2024-06-01T00:00:00",
          "2024-07-01T00:00:00",
          "2024-08-01T00:00:00",
          "2024-09-01T00:00:00",
          "2024-10-01T00:00:00",
          "2024-11-01T00:00:00",
          "2024-12-01T00:00:00",
          "2025-01-01T00:00:00",
          "2025-02-01T00:00:00",
          "2025-03-01T00:00:00",
          "2025-04-01T00:00:00",
          "2025-05-01T00:00:00",
          "2025-06-01T00:00:00",
          "2025-07-01T00:00:00",
          "2025-08-01T00:00:00"
         ],
         "y": {
          "bdata": "6xwDstc7GEAYsrrVc9IZQF3Ed2LW6xlAxVVl3xWhGED4iJgSSRQYQBn/PuPCoRdA0h3EzhSaF0A/kSdJ1ywZQLmNBvAWiBpAVz7L8+AuGUCVfVcE/9sXQD+MEB5tvBZA1QRR9wEoFkCW58HdWfsVQI4j1uJTQBZArkfhehQOFkDxgLIpV1gVQJEKYwtBbhNAVd6OcFrQEkB0JJf/kJ4RQAq/1M+bihBAteBFX0EaEEAC2evdHw8QQB6KAn0iTw9AV7JjIxDvDkAUBfpEniQOQBXj/E0ohA5AIqtbPSf9DEByFva0wx8LQIQqNXugFQpAM+GX+nnTCUC9jGK5pVUKQFJEhlW8UQpAZK93f7xXCkBa9bnaij0KQNrJ4Ch5tQlA9UpZhjhWCkCgVPt0PCYJQEdaKm9HeAZA/1vJjo1ABkDeAgmKHyMGQPonuFhRQwdAT6+UZYhjCECEgefew+UIQA==",
          "dtype": "f8"
         }
        },
        {
         "mode": "lines",
         "name": "Headline",
         "type": "scatter",
         "x": [
          "2022-01-01T00:00:00",
          "2022-02-01T00:00:00",
          "2022-03-01T00:00:00",
          "2022-04-01T00:00:00",
          "2022-05-01T00:00:00",
          "2022-06-01T00:00:00",
          "2022-07-01T00:00:00",
          "2022-08-01T00:00:00",
          "2022-09-01T00:00:00",
          "2022-10-01T00:00:00",
          "2022-11-01T00:00:00",
          "2022-12-01T00:00:00",
          "2023-01-01T00:00:00",
          "2023-02-01T00:00:00",
          "2023-03-01T00:00:00",
          "2023-04-01T00:00:00",
          "2023-05-01T00:00:00",
          "2023-06-01T00:00:00",
          "2023-07-01T00:00:00",
          "2023-08-01T00:00:00",
          "2023-09-01T00:00:00",
          "2023-10-01T00:00:00",
          "2023-11-01T00:00:00",
          "2023-12-01T00:00:00",
          "2024-01-01T00:00:00",
          "2024-02-01T00:00:00",
          "2024-03-01T00:00:00",
          "2024-04-01T00:00:00",
          "2024-05-01T00:00:00",
          "2024-06-01T00:00:00",
          "2024-07-01T00:00:00",
          "2024-08-01T00:00:00",
          "2024-09-01T00:00:00",
          "2024-10-01T00:00:00",
          "2024-11-01T00:00:00",
          "2024-12-01T00:00:00",
          "2025-01-01T00:00:00",
          "2025-02-01T00:00:00",
          "2025-03-01T00:00:00",
          "2025-04-01T00:00:00",
          "2025-05-01T00:00:00",
          "2025-06-01T00:00:00",
          "2025-07-01T00:00:00",
          "2025-08-01T00:00:00"
         ],
         "y": {
          "bdata": "AOMZNPRPHkAk1uJTAMwfQGmpvB3hFCFAnKc65GZ4IEBWfa62Yg8hQB3J5T+k/yFAE5uPa0PlIECt3XahuW4gQNNNYhBYaSBAnUZaKm8HH0DYZI16iIYcQNvcmJ6wpBlAsVBrmndcGUC/DpwzotQXQLaEfNCzuRNA78nDQq3JE0Bxcr9DUYAQQNNNYhBYeQhAkrOwpx0+CkCPxwxUxr8NQFbUYBqGjw1AKT+p9un4CUADJnDrbh4JQGsr9pfdkwpAInGPpQ/dCEDbM0sC1FQJQI2XbhKDwAtAvjCZKhjVCkDT9q+sNOkJQMJpwYu+wgdAUtUEUfeBB0AXZTbIJOMEQNmxEYjXdQNAp3nHKTqSBEBKRs7CnrYFQJgXYB+d+gZA5lyKq8r+B0BP6WD9n4MGQFitTPilPgNA7FG4HoWrAkCnrnyW5wEDQOFiRQ2mYQVA0LNZ9bnaBUAz/n3GhYMHQA==",
          "dtype": "f8"
         }
        },
        {
         "hoverinfo": "skip",
         "marker": {
          "color": "#2A547E",
          "size": 8,
          "symbol": "circle"
         },
         "mode": "markers",
         "showlegend": false,
         "type": "scatter",
         "x": [
          1754006400000000000
         ],
         "y": [
          3.4
         ],
         "zorder": 3
        },
        {
         "hoverinfo": "skip",
         "marker": {
          "color": "#CF8B40",
          "size": 8,
          "symbol": "circle"
         },
         "mode": "markers",
         "showlegend": false,
         "type": "scatter",
         "x": [
          1754006400000000000
         ],
         "y": [
          3.11219
         ],
         "zorder": 3
        },
        {
         "hoverinfo": "skip",
         "marker": {
          "color": "#879396",
          "size": 8,
          "symbol": "circle"
         },
         "mode": "markers",
         "showlegend": false,
         "type": "scatter",
         "x": [
          1754006400000000000
         ],
         "y": [
          2.93922
         ],
         "zorder": 3
        }
       ],
       "layout": {
        "annotations": [
         {
          "font": {
           "color": "#2A547E"
          },
          "showarrow": false,
          "text": "3.4",
          "x": "2025-08-01T00:00:00",
          "xanchor": "left",
          "xshift": 6,
          "y": 3.4,
          "yanchor": "middle"
         },
         {
          "font": {
           "color": "#CF8B40"
          },
          "showarrow": false,
          "text": "3.1",
          "x": "2025-08-01T00:00:00",
          "xanchor": "left",
          "xshift": 6,
          "y": 3.11219,
          "yanchor": "middle"
         },
         {
          "font": {
           "color": "#879396"
          },
          "showarrow": false,
          "text": "2.9",
          "x": "2025-08-01T00:00:00",
          "xanchor": "left",
          "xshift": 6,
          "y": 2.93922,
          "yanchor": "middle"
         }
        ],
        "template": {
         "data": {
          "scatter": [
           {
            "hovertemplate": "%{x|%Y-%m-%d}<br> %{y:.1f}<extra></extra>",
            "line": {
             "width": 3
            },
            "type": "scatter"
           }
          ]
         },
         "layout": {
          "colorway": [
           "#2A547E",
           "#CF8B40",
           "#879396",
           "#F7CAC9",
           "#7095cf"
          ],
          "height": 500,
          "legend": {
           "bgcolor": "rgba(0,0,0,0)",
           "borderwidth": 0,
           "font": {
            "color": "#163855",
            "family": "Cambria Bold",
            "size": 22
           },
           "orientation": "h",
           "x": 1,
           "xanchor": "right",
           "y": 1.05,
           "yanchor": "bottom"
          },
          "title": {
           "font": {
            "color": "#163855",
            "family": "Cambria Bold",
            "size": 36
           },
           "x": 0.05,
           "xanchor": "left"
          },
          "width": 1200,
          "xaxis": {
           "gridcolor": "#D3D3D3",
           "gridwidth": 0.5,
           "showgrid": true,
           "tickfont": {
            "color": "#163855",
            "family": "Cambria Bold",
            "size": 18
           },
           "title": {
            "font": {
             "color": "#163855",
             "family": "Cambria Bold",
             "size": 24
            }
           },
           "type": "date"
          },
          "yaxis": {
           "gridcolor": "#D3D3D3",
           "gridwidth": 0.5,
           "showgrid": true,
           "tickfont": {
            "color": "#163855",
            "family": "Cambria Bold",
            "size": 18
           },
           "title": {
            "font": {
             "color": "#163855",
             "family": "Cambria Bold",
             "size": 24
            }
           }
          }
         }
        },
        "title": {
         "text": "CPI Inflation <br><sup>Monthly, Seasonally Adjusted </sup>"
        },
        "xaxis": {
         "tickformat": "%b %Y",
         "title": {
          "text": "Date"
         },
         "type": "date"
        },
        "yaxis": {
         "range": [
          -0.5,
          10
         ],
         "tickformat": ".2f%",
         "ticksuffix": "%",
         "title": {
          "text": "Change from Year Ago (%)"
         }
        }
       }
      }
     },
     "metadata": {},
     "output_type": "display_data"
    }
   ],
   "source": [
    "# First make the figure\n",
    "fig = go.Figure()\n",
    "\n",
    "\n",
    "# Loop the columns of the dataframe and plot each as a separate trace\n",
    "for col in joined_df.columns:\n",
    "    fig.add_trace(\n",
    "        go.Scatter(\n",
    "            x=joined_df.index,\n",
    "            y=joined_df[col],\n",
    "            mode='lines',\n",
    "            name=col\n",
    "        )\n",
    "    )\n",
    "\n",
    "# Update the titles, using the html tage <sup> for a subtitle \n",
    "fig.update_layout(\n",
    "    title = dict(text = 'CPI Inflation <br><sup>Monthly, Seasonally Adjusted </sup>'),\n",
    "    xaxis_title=\"Date\",\n",
    "    yaxis_title=\"Change from Year Ago (%)\",\n",
    ")\n",
    "\n",
    "# This is graph specific, but here we want the y-axis to be percent signs \n",
    "fig.update_yaxes(\n",
    "    tickformat=\".2f%\",\n",
    "    ticksuffix=\"%\",\n",
    "    range=[-.5, 10]\n",
    ") \n",
    "\n",
    "# Again, graph specific, we have a multiyear series and want tick marks to show months and years\n",
    "fig.update_xaxes(\n",
    "    type='date',\n",
    "    tickformat='%b %Y',  # e.g., Jan\\n2020\n",
    ")\n",
    "\n",
    "ut.add_end_labels(fig = fig)\n",
    "\n",
    "# Show our figure (Dimensions may be off on different screen sizes)\n",
    "fig.show()\n",
    "\n",
    "# This should be the same for EVERY GRAPH!\n",
    "# Save it to the graph_output folder with the name matching the file, as HTML\n",
    "fig.write_html(GRAPH_OUTPUT_PATH / f\"{GRAPH_NAME}.html\")"
   ]
  }
 ],
 "metadata": {
  "kernelspec": {
   "display_name": ".venv",
   "language": "python",
   "name": "python3"
  },
  "language_info": {
   "codemirror_mode": {
    "name": "ipython",
    "version": 3
   },
   "file_extension": ".py",
   "mimetype": "text/x-python",
   "name": "python",
   "nbconvert_exporter": "python",
   "pygments_lexer": "ipython3",
   "version": "3.13.7"
  }
 },
 "nbformat": 4,
 "nbformat_minor": 5
}
