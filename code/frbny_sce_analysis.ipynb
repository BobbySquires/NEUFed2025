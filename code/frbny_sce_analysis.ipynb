{
 "cells": [
  {
   "cell_type": "markdown",
   "id": "ec9a0460",
   "metadata": {},
   "source": [
    "This notebook walks through how to make graphs in this repo. You can copy this example.ipynb and rename it for your own graphing work. <b> Please do each graph in a seperate notebook!</b>\n",
    "\n",
    "1. Import the appropriate packages. We'll use plotly.graph_objects for making all of our graphs."
   ]
  },
  {
   "cell_type": "code",
   "execution_count": 1,
   "id": "b8a83946",
   "metadata": {
    "ExecuteTime": {
     "end_time": "2025-10-14T20:18:03.574224Z",
     "start_time": "2025-10-14T20:18:03.570782Z"
    }
   },
   "outputs": [],
   "source": [
    "import datetime as dt\n",
    "import plotly.graph_objects as go\n",
    "import plotly.io as pio\n",
    "import pandas as pd\n",
    "import utils.utils as ut\n",
    "import utils.graph_templates"
   ]
  },
  {
   "cell_type": "markdown",
   "id": "533182f0",
   "metadata": {},
   "source": [
    "2. We'll get data using the fredapi package. Set the path to the text file with your API key"
   ]
  },
  {
   "cell_type": "code",
   "execution_count": 2,
   "id": "f81e1110",
   "metadata": {
    "ExecuteTime": {
     "end_time": "2025-10-14T20:18:04.260054Z",
     "start_time": "2025-10-14T20:18:04.255909Z"
    }
   },
   "outputs": [],
   "source": [
    "# Call the graph the exact same thing as its notebook (minus the ipynb suffix)\n",
    "GRAPH_NAME = \"infl_expect\"\n",
    "\n",
    "# Set the path to the graph output folder\n",
    "GRAPH_OUTPUT_PATH = ut.get_repo_root() / \"figures\""
   ]
  },
  {
   "cell_type": "markdown",
   "id": "ee2ebb59",
   "metadata": {},
   "source": [
    "3. Set the fed_2025 template as default"
   ]
  },
  {
   "cell_type": "code",
   "execution_count": 3,
   "id": "00bbbcaa",
   "metadata": {
    "ExecuteTime": {
     "end_time": "2025-10-14T20:18:04.893889Z",
     "start_time": "2025-10-14T20:18:04.888418Z"
    }
   },
   "outputs": [],
   "source": [
    "pio.templates.default = 'fed_2025'\n"
   ]
  },
  {
   "cell_type": "code",
   "execution_count": 4,
   "id": "d02adea9",
   "metadata": {
    "ExecuteTime": {
     "end_time": "2025-10-14T20:18:05.585179Z",
     "start_time": "2025-10-14T20:18:05.581712Z"
    }
   },
   "outputs": [
    {
     "data": {
      "text/plain": [
       "WindowsPath('C:/Users/Bobby/Desktop/Fed Challenge 2025/NEUFed2025/figures')"
      ]
     },
     "execution_count": 4,
     "metadata": {},
     "output_type": "execute_result"
    }
   ],
   "source": [
    "GRAPH_OUTPUT_PATH"
   ]
  },
  {
   "cell_type": "code",
   "execution_count": null,
   "id": "dde6c05f",
   "metadata": {},
   "outputs": [],
   "source": []
  },
  {
   "cell_type": "markdown",
   "id": "c2af7dd8",
   "metadata": {},
   "source": [
    "4. Use the fredapi to get the data and prepare it for graphing. Documentation on the optional parameters that can be passed to the get_series called are found here (the documentation in fredapi is out of date). \n",
    "\n",
    "https://fred.stlouisfed.org/docs/api/fred/series_observations.html#Description\n",
    "\n",
    "If you get data from somewhere else thats fine too! Put the raw csv in the \"raw_data\" folder and read it in here. Make sure not to edit the raw data, just transform and graph it."
   ]
  },
  {
   "cell_type": "code",
   "execution_count": 5,
   "id": "4c582e8a",
   "metadata": {
    "ExecuteTime": {
     "end_time": "2025-10-14T20:38:42.224498Z",
     "start_time": "2025-10-14T20:38:42.099073Z"
    }
   },
   "outputs": [
    {
     "name": "stdout",
     "output_type": "stream",
     "text": [
      "Available sheets: ['Disclaimer', 'License', 'Notes', 'Inflation expectations', 'Inflation expectations Demo', 'Inflation uncertainty', 'Inflation uncertainty Demo', 'Home price expectations', 'Home price expectations Demo', 'Home price uncertainty', 'Home price uncertainty Demo', 'Commodity expectations', 'Earnings growth', 'Earnings growth Demo', 'Earnings uncertainty', 'Earnings uncertainty Demo', 'Job separation expectation', 'Job separation expectation Demo', 'Job finding expectations', 'Job finding expectations Demo', 'Moving expectations', 'Moving expectations Demo', 'Unemployment Expectations', 'Unemployment Expectations Demo', 'HH Income Change', 'HH Income Change Demo', 'HH Spending Change', 'HH Spending Change Demo', 'Taxes Change', 'Taxes Change Demo', 'Credit availability', 'Household financial situation', 'Delinquency expectations', 'Delinquency expectations Demo', 'Interest rate expectations', 'Interest rate expectations Demo', 'Stock Prices', 'Stock Prices Demo', 'Government debt', 'Government debt Demo', 'Inflation expectations distr', 'Prob of Infl Outcome', 'Prob of Infl Outcome Demo', 'Five-year ahead Infl Exp', 'Five-year ahead Infl Exp Demo']\n"
     ]
    }
   ],
   "source": [
    "excel_file = pd.ExcelFile(ut.get_repo_root() / \"code\" / \"data\" / \"FRBNY-SCE-Data (1).xlsx\")\n",
    "sheet_names = excel_file.sheet_names\n",
    "print(\"Available sheets:\", sheet_names)\n",
    "\n",
    "\n",
    "df = pd.read_excel(excel_file, sheet_name='Inflation expectations', skiprows=2)\n",
    "\n",
    "df.columns = df.iloc[0]\n",
    "df = df[1:]\n",
    "df = df.reset_index(drop=True)\n"
   ]
  },
  {
   "cell_type": "code",
   "execution_count": 6,
   "id": "5934d6c9",
   "metadata": {
    "ExecuteTime": {
     "end_time": "2025-10-14T20:38:42.924363Z",
     "start_time": "2025-10-14T20:38:42.915655Z"
    }
   },
   "outputs": [
    {
     "name": "stdout",
     "output_type": "stream",
     "text": [
      "\n",
      "Cleaned data shape: (81, 2)\n"
     ]
    },
    {
     "data": {
      "text/html": [
       "<div>\n",
       "<style scoped>\n",
       "    .dataframe tbody tr th:only-of-type {\n",
       "        vertical-align: middle;\n",
       "    }\n",
       "\n",
       "    .dataframe tbody tr th {\n",
       "        vertical-align: top;\n",
       "    }\n",
       "\n",
       "    .dataframe thead th {\n",
       "        text-align: right;\n",
       "    }\n",
       "</style>\n",
       "<table border=\"1\" class=\"dataframe\">\n",
       "  <thead>\n",
       "    <tr style=\"text-align: right;\">\n",
       "      <th></th>\n",
       "      <th>1-Year Ahead</th>\n",
       "      <th>3-Year Ahead</th>\n",
       "    </tr>\n",
       "    <tr>\n",
       "      <th>Date</th>\n",
       "      <th></th>\n",
       "      <th></th>\n",
       "    </tr>\n",
       "  </thead>\n",
       "  <tbody>\n",
       "    <tr>\n",
       "      <th>2025-05-01</th>\n",
       "      <td>3.196597</td>\n",
       "      <td>3.000000</td>\n",
       "    </tr>\n",
       "    <tr>\n",
       "      <th>2025-06-01</th>\n",
       "      <td>3.015459</td>\n",
       "      <td>2.997374</td>\n",
       "    </tr>\n",
       "    <tr>\n",
       "      <th>2025-07-01</th>\n",
       "      <td>3.090884</td>\n",
       "      <td>3.000000</td>\n",
       "    </tr>\n",
       "    <tr>\n",
       "      <th>2025-08-01</th>\n",
       "      <td>3.196597</td>\n",
       "      <td>3.000000</td>\n",
       "    </tr>\n",
       "    <tr>\n",
       "      <th>2025-09-01</th>\n",
       "      <td>3.377147</td>\n",
       "      <td>3.046669</td>\n",
       "    </tr>\n",
       "  </tbody>\n",
       "</table>\n",
       "</div>"
      ],
      "text/plain": [
       "0           1-Year Ahead  3-Year Ahead\n",
       "Date                                  \n",
       "2025-05-01      3.196597      3.000000\n",
       "2025-06-01      3.015459      2.997374\n",
       "2025-07-01      3.090884      3.000000\n",
       "2025-08-01      3.196597      3.000000\n",
       "2025-09-01      3.377147      3.046669"
      ]
     },
     "execution_count": 6,
     "metadata": {},
     "output_type": "execute_result"
    }
   ],
   "source": [
    "df.columns = df.columns.str.strip()\n",
    "\n",
    "df = df[df.iloc[:, 0].notna()]\n",
    "\n",
    "date_column = df.columns[0]\n",
    "\n",
    "df = df[pd.to_numeric(df[date_column], errors='coerce').notna()]\n",
    "df[date_column] = pd.to_datetime(df[date_column], format='%Y%m')\n",
    "df.set_index(date_column, inplace=True)\n",
    "df.index.name = \"Date\"\n",
    "\n",
    "df = df.apply(pd.to_numeric, errors='coerce')\n",
    "\n",
    "df = df[['Median one-year ahead expected inflation rate', 'Median three-year ahead expected inflation rate']]\n",
    "\n",
    "df = df.rename(columns={\n",
    "    'Median one-year ahead expected inflation rate': '1-Year Ahead',\n",
    "    'Median three-year ahead expected inflation rate': '3-Year Ahead'\n",
    "\n",
    "})\n",
    "\n",
    "df = df[df.index >= pd.to_datetime('2019-01-01')]\n",
    "\n",
    "print(\"\\nCleaned data shape:\", df.shape)\n",
    "df.tail()"
   ]
  },
  {
   "cell_type": "markdown",
   "id": "f36c32ec",
   "metadata": {},
   "source": [
    "5. Now that all our data is ready, make the graph and have it save itself as a .html file to graph_output whenver the notebooks is rerun. The name of the file should exactly match the notebook name. For instance, this file \"example.ipynb\" produces the graph \"example.html.\" Nice work, you made a graph! "
   ]
  },
  {
   "cell_type": "code",
   "execution_count": 7,
   "id": "8d83fc29",
   "metadata": {
    "ExecuteTime": {
     "end_time": "2025-10-14T20:38:43.764363Z",
     "start_time": "2025-10-14T20:38:43.696695Z"
    }
   },
   "outputs": [
    {
     "data": {
      "application/vnd.plotly.v1+json": {
       "config": {
        "plotlyServerURL": "https://plot.ly"
       },
       "data": [
        {
         "mode": "lines",
         "name": "1-Year Ahead",
         "type": "scatter",
         "x": [
          "2019-01-01T00:00:00",
          "2019-02-01T00:00:00",
          "2019-03-01T00:00:00",
          "2019-04-01T00:00:00",
          "2019-05-01T00:00:00",
          "2019-06-01T00:00:00",
          "2019-07-01T00:00:00",
          "2019-08-01T00:00:00",
          "2019-09-01T00:00:00",
          "2019-10-01T00:00:00",
          "2019-11-01T00:00:00",
          "2019-12-01T00:00:00",
          "2020-01-01T00:00:00",
          "2020-02-01T00:00:00",
          "2020-03-01T00:00:00",
          "2020-04-01T00:00:00",
          "2020-05-01T00:00:00",
          "2020-06-01T00:00:00",
          "2020-07-01T00:00:00",
          "2020-08-01T00:00:00",
          "2020-09-01T00:00:00",
          "2020-10-01T00:00:00",
          "2020-11-01T00:00:00",
          "2020-12-01T00:00:00",
          "2021-01-01T00:00:00",
          "2021-02-01T00:00:00",
          "2021-03-01T00:00:00",
          "2021-04-01T00:00:00",
          "2021-05-01T00:00:00",
          "2021-06-01T00:00:00",
          "2021-07-01T00:00:00",
          "2021-08-01T00:00:00",
          "2021-09-01T00:00:00",
          "2021-10-01T00:00:00",
          "2021-11-01T00:00:00",
          "2021-12-01T00:00:00",
          "2022-01-01T00:00:00",
          "2022-02-01T00:00:00",
          "2022-03-01T00:00:00",
          "2022-04-01T00:00:00",
          "2022-05-01T00:00:00",
          "2022-06-01T00:00:00",
          "2022-07-01T00:00:00",
          "2022-08-01T00:00:00",
          "2022-09-01T00:00:00",
          "2022-10-01T00:00:00",
          "2022-11-01T00:00:00",
          "2022-12-01T00:00:00",
          "2023-01-01T00:00:00",
          "2023-02-01T00:00:00",
          "2023-03-01T00:00:00",
          "2023-04-01T00:00:00",
          "2023-05-01T00:00:00",
          "2023-06-01T00:00:00",
          "2023-07-01T00:00:00",
          "2023-08-01T00:00:00",
          "2023-09-01T00:00:00",
          "2023-10-01T00:00:00",
          "2023-11-01T00:00:00",
          "2023-12-01T00:00:00",
          "2024-01-01T00:00:00",
          "2024-02-01T00:00:00",
          "2024-03-01T00:00:00",
          "2024-04-01T00:00:00",
          "2024-05-01T00:00:00",
          "2024-06-01T00:00:00",
          "2024-07-01T00:00:00",
          "2024-08-01T00:00:00",
          "2024-09-01T00:00:00",
          "2024-10-01T00:00:00",
          "2024-11-01T00:00:00",
          "2024-12-01T00:00:00",
          "2025-01-01T00:00:00",
          "2025-02-01T00:00:00",
          "2025-03-01T00:00:00",
          "2025-04-01T00:00:00",
          "2025-05-01T00:00:00",
          "2025-06-01T00:00:00",
          "2025-07-01T00:00:00",
          "2025-08-01T00:00:00",
          "2025-09-01T00:00:00"
         ],
         "y": {
          "bdata": "AAAAgHPCB0AAAADAPVkGQAAAAOAPiAZA////X/XIBEABAACA6Z8DQAAAAMB4XAVAAQAAAIy5BED///9fylADQAEAAMB73gNAAAAAoDikAkAAAADAyccCQAEAAECdOARAAQAAYBn3A0AAAADg2UwEQAAAAODZTARAAQAAgIr8BEAAAAAAAAAIQP///9+CcwVAAAAAYH0ZB0AAAAAAAAAIQAEAAKDE2AdAAAAAQFawBkAAAACgN7MHQAAAAAAAAAhA////P5RfCED///+fIboIQAAAAGA89AlAAQAA4KXhCkAAAAAAAAAQQAAAAMD8NBNA////X6teE0ABAACgJLgUQAAAAOCcPRVAAAAAYCadFkAAAAAAAAAYQAAAAGAK9hdAAAAA4FwnF0AAAAAAAAAYQAAAAGDpVRpAAAAAYLphGUAAAADg1k0aQAAAAKB5GhtAAAAAIP7kGEAAAACAnPsWQAAAAIBfwxVAAAAAQPTGF0AAAACgCOoUQAAAAABQ+RNAAAAAYObRE0AAAACg3eYQQAAAAADz/RJAAAAAIMTJEUAAAABgrUQQQAAAAACBmg5A////fxZgDED////fkg4NQAAAAIA9Yw1A////X0+UDEABAACA9N0KQAAAAGAGFQhAAAAAAAAACEABAACgtVIIQAAAAAAAAAhAAAAA4A4UCkAAAABgvV8JQP///58rMQhAAAAAgBPKB0AAAAAAAAAIQAAAAAAAAAhAAQAAgKTsBkAAAACAc8IHQAAAAAAAAAhAAAAAAAAACEAAAACgyAwJQAAAAEBipAxAAAAAoD0UDUAAAABAoZIJQP///x+pHwhA////nyG6CEAAAABAoZIJQAEAAKBlBAtA",
          "dtype": "f8"
         }
        },
        {
         "mode": "lines",
         "name": "3-Year Ahead",
         "type": "scatter",
         "x": [
          "2019-01-01T00:00:00",
          "2019-02-01T00:00:00",
          "2019-03-01T00:00:00",
          "2019-04-01T00:00:00",
          "2019-05-01T00:00:00",
          "2019-06-01T00:00:00",
          "2019-07-01T00:00:00",
          "2019-08-01T00:00:00",
          "2019-09-01T00:00:00",
          "2019-10-01T00:00:00",
          "2019-11-01T00:00:00",
          "2019-12-01T00:00:00",
          "2020-01-01T00:00:00",
          "2020-02-01T00:00:00",
          "2020-03-01T00:00:00",
          "2020-04-01T00:00:00",
          "2020-05-01T00:00:00",
          "2020-06-01T00:00:00",
          "2020-07-01T00:00:00",
          "2020-08-01T00:00:00",
          "2020-09-01T00:00:00",
          "2020-10-01T00:00:00",
          "2020-11-01T00:00:00",
          "2020-12-01T00:00:00",
          "2021-01-01T00:00:00",
          "2021-02-01T00:00:00",
          "2021-03-01T00:00:00",
          "2021-04-01T00:00:00",
          "2021-05-01T00:00:00",
          "2021-06-01T00:00:00",
          "2021-07-01T00:00:00",
          "2021-08-01T00:00:00",
          "2021-09-01T00:00:00",
          "2021-10-01T00:00:00",
          "2021-11-01T00:00:00",
          "2021-12-01T00:00:00",
          "2022-01-01T00:00:00",
          "2022-02-01T00:00:00",
          "2022-03-01T00:00:00",
          "2022-04-01T00:00:00",
          "2022-05-01T00:00:00",
          "2022-06-01T00:00:00",
          "2022-07-01T00:00:00",
          "2022-08-01T00:00:00",
          "2022-09-01T00:00:00",
          "2022-10-01T00:00:00",
          "2022-11-01T00:00:00",
          "2022-12-01T00:00:00",
          "2023-01-01T00:00:00",
          "2023-02-01T00:00:00",
          "2023-03-01T00:00:00",
          "2023-04-01T00:00:00",
          "2023-05-01T00:00:00",
          "2023-06-01T00:00:00",
          "2023-07-01T00:00:00",
          "2023-08-01T00:00:00",
          "2023-09-01T00:00:00",
          "2023-10-01T00:00:00",
          "2023-11-01T00:00:00",
          "2023-12-01T00:00:00",
          "2024-01-01T00:00:00",
          "2024-02-01T00:00:00",
          "2024-03-01T00:00:00",
          "2024-04-01T00:00:00",
          "2024-05-01T00:00:00",
          "2024-06-01T00:00:00",
          "2024-07-01T00:00:00",
          "2024-08-01T00:00:00",
          "2024-09-01T00:00:00",
          "2024-10-01T00:00:00",
          "2024-11-01T00:00:00",
          "2024-12-01T00:00:00",
          "2025-01-01T00:00:00",
          "2025-02-01T00:00:00",
          "2025-03-01T00:00:00",
          "2025-04-01T00:00:00",
          "2025-05-01T00:00:00",
          "2025-06-01T00:00:00",
          "2025-07-01T00:00:00",
          "2025-08-01T00:00:00",
          "2025-09-01T00:00:00"
         ],
         "y": {
          "bdata": "AAAAgHPCB0ABAAAgwyUGQP///19Q6gZA/////1KMBUAAAADgJL8EQAEAAACsTAVA////X4qiBEAAAADA7gIEQP////+T/wJAAQAAgO8HA0AAAAAAuisEQAAAAODZTARAAAAA4NlMBEAAAADgmLUEQAAAAKDYMQNAAQAAgIr8BEAAAABA9+EEQAAAACA2ygNAAQAAAIfaBUABAACgxNgHQP///7/X7wVAAAAA4OqdBUAAAADg044GQAEAAKDE2AdAAQAAgLk5CEAAAAAAAAAIQP///99dvghAAQAAAMzICED///8/xI4MQP///38WYAxAAQAAgH+xDUAAAACgTv8PQP////+jxhBAAAAAwD7YEEAAAAAAeAsQQAAAAAAAABBAAAAAgGfRC0AAAAAgyzIOQP////89Zg1AAQAA4BA4D0AAAADAWQgPQP////+n8gxA////H6l1CUAAAADAyQoGQAAAAOCeRwdAAAAAgKPiCED///8fn/oHQAAAAOA48QdAAQAAYCmyBUAAAADAz04FQAAAAGBXQQZAAQAA4DAmB0ABAACgxNgHQP///x+fnQdAAQAAgCk/B0AAAADAPVkGQAAAAAAAAAhAAAAAIOz1B0AAAAAAAAAIQAEAAICK/ARAAAAAADDOAkABAABgKbIFQAAAACAVKgdAAAAAwIgOBkAAAAAgVRUGQAAAAIBOdAdAAAAAoDikAkAAAADg2UwEQAAAAMDPTgVAAAAA4NlMBEAAAACgYpAEQAAAAIBzwgdA////38zxB0AAAAAAAAAIQAAAAAAAAAhAAAAA4OpUCUAAAAAAAAAIQP///x+f+gdAAAAAAAAACEAAAAAAAAAIQP///z+UXwhA",
          "dtype": "f8"
         }
        },
        {
         "hoverinfo": "skip",
         "marker": {
          "color": "#2A547E",
          "size": 8,
          "symbol": "circle"
         },
         "mode": "markers",
         "showlegend": false,
         "type": "scatter",
         "x": [
          1756684800000000000
         ],
         "y": [
          3.37714695930481
         ],
         "zorder": 3
        },
        {
         "hoverinfo": "skip",
         "marker": {
          "color": "#CF8B40",
          "size": 8,
          "symbol": "circle"
         },
         "mode": "markers",
         "showlegend": false,
         "type": "scatter",
         "x": [
          1756684800000000000
         ],
         "y": [
          3.046669483184814
         ],
         "zorder": 3
        }
       ],
       "layout": {
        "annotations": [
         {
          "showarrow": false,
          "text": "Longer-Run Target",
          "x": 1,
          "xanchor": "right",
          "xref": "x domain",
          "y": 2,
          "yanchor": "top",
          "yref": "y"
         },
         {
          "font": {
           "color": "#2A547E"
          },
          "showarrow": false,
          "text": "3.4",
          "x": "2025-09-01T00:00:00",
          "xanchor": "left",
          "xshift": 6,
          "y": 3.37714695930481,
          "yanchor": "middle"
         },
         {
          "font": {
           "color": "#CF8B40"
          },
          "showarrow": false,
          "text": "3.0",
          "x": "2025-09-01T00:00:00",
          "xanchor": "left",
          "xshift": 6,
          "y": 3.046669483184814,
          "yanchor": "middle"
         }
        ],
        "shapes": [
         {
          "line": {
           "color": "red",
           "dash": "dash"
          },
          "type": "line",
          "x0": 0,
          "x1": 1,
          "xref": "x domain",
          "y0": 2,
          "y1": 2,
          "yref": "y"
         }
        ],
        "template": {
         "data": {
          "scatter": [
           {
            "hovertemplate": "%{x|%Y-%m-%d}<br> %{y:.1f}<extra></extra>",
            "line": {
             "width": 3
            },
            "type": "scatter"
           }
          ]
         },
         "layout": {
          "colorway": [
           "#2A547E",
           "#CF8B40",
           "#879396",
           "#F7CAC9",
           "#7095cf"
          ],
          "height": 500,
          "legend": {
           "bgcolor": "rgba(0,0,0,0)",
           "borderwidth": 0,
           "font": {
            "color": "#163855",
            "family": "Cambria Bold",
            "size": 22
           },
           "orientation": "h",
           "x": 1,
           "xanchor": "right",
           "y": 1.05,
           "yanchor": "bottom"
          },
          "title": {
           "font": {
            "color": "#163855",
            "family": "Cambria Bold",
            "size": 36
           },
           "x": 0.05,
           "xanchor": "left"
          },
          "width": 1200,
          "xaxis": {
           "gridcolor": "#D3D3D3",
           "gridwidth": 0.5,
           "showgrid": true,
           "tickfont": {
            "color": "#163855",
            "family": "Cambria Bold",
            "size": 18
           },
           "title": {
            "font": {
             "color": "#163855",
             "family": "Cambria Bold",
             "size": 24
            }
           },
           "type": "date"
          },
          "yaxis": {
           "gridcolor": "#D3D3D3",
           "gridwidth": 0.5,
           "showgrid": true,
           "tickfont": {
            "color": "#163855",
            "family": "Cambria Bold",
            "size": 18
           },
           "title": {
            "font": {
             "color": "#163855",
             "family": "Cambria Bold",
             "size": 24
            }
           }
          }
         }
        },
        "title": {
         "text": "Consumer Inflation Expectations "
        },
        "xaxis": {
         "tickformat": "%b %Y",
         "title": {
          "text": "Date"
         },
         "type": "date"
        },
        "yaxis": {
         "range": [
          -0.5,
          10
         ],
         "tickformat": ".2f%",
         "ticksuffix": "%",
         "title": {
          "text": "Expected Inflation Rate"
         }
        }
       }
      }
     },
     "metadata": {},
     "output_type": "display_data"
    }
   ],
   "source": [
    "fig = go.Figure()\n",
    "\n",
    "for col in df.columns:\n",
    "    fig.add_trace(\n",
    "        go.Scatter(\n",
    "            x=df.index,\n",
    "            y=df[col],\n",
    "            mode='lines',\n",
    "            name=col\n",
    "        )\n",
    "    )\n",
    "\n",
    "fig.add_hline(\n",
    "    y=2,\n",
    "    line_dash=\"dash\",\n",
    "    line_color=\"red\",\n",
    "    annotation_text=\"Longer-Run Target\",\n",
    "    annotation_position=\"right bottom\"\n",
    ")\n",
    "\n",
    "fig.update_layout(\n",
    "    title = dict(text = 'Consumer Inflation Expectations '),\n",
    "    xaxis_title=\"Date\",\n",
    "    yaxis_title=\"Percent\",\n",
    ")\n",
    "\n",
    "\n",
    "# This is graph specific, but here we want the y-axis to be percent signs \n",
    "fig.update_yaxes(\n",
    "    title = \"Expected Inflation Rate\",\n",
    "    tickformat=\".2f%\",\n",
    "    ticksuffix=\"%\",\n",
    "    range=[-.5, 10]\n",
    ")\n",
    "\n",
    "# Again, graph specific, we have a mutliyear series and want tick marks to be years\n",
    "fig.update_xaxes(\n",
    "    type='date',\n",
    "    tickformat='%b %Y',\n",
    ")\n",
    "\n",
    "ut.add_end_labels(fig = fig)\n",
    "\n",
    "fig.show()\n",
    "\n",
    "fig.write_html(GRAPH_OUTPUT_PATH / f\"{GRAPH_NAME}.html\")\n"
   ]
  }
 ],
 "metadata": {
  "kernelspec": {
   "display_name": ".venv",
   "language": "python",
   "name": "python3"
  },
  "language_info": {
   "codemirror_mode": {
    "name": "ipython",
    "version": 3
   },
   "file_extension": ".py",
   "mimetype": "text/x-python",
   "name": "python",
   "nbconvert_exporter": "python",
   "pygments_lexer": "ipython3",
   "version": "3.13.5"
  }
 },
 "nbformat": 4,
 "nbformat_minor": 5
}
