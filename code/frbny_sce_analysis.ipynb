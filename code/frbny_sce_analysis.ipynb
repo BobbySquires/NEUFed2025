{
 "cells": [
  {
   "cell_type": "markdown",
   "id": "ec9a0460",
   "metadata": {},
   "source": [
    "This notebook walks through how to make graphs in this repo. You can copy this example.ipynb and rename it for your own graphing work. <b> Please do each graph in a seperate notebook!</b>\n",
    "\n",
    "1. Import the appropriate packages. We'll use plotly.graph_objects for making all of our graphs."
   ]
  },
  {
   "cell_type": "code",
   "id": "b8a83946",
   "metadata": {
    "ExecuteTime": {
     "end_time": "2025-10-14T20:18:03.574224Z",
     "start_time": "2025-10-14T20:18:03.570782Z"
    }
   },
   "source": [
    "import datetime as dt\n",
    "import plotly.graph_objects as go\n",
    "import plotly.io as pio\n",
    "import pandas as pd\n",
    "import utils.utils as ut\n",
    "import utils.graph_templates"
   ],
   "outputs": [],
   "execution_count": 30
  },
  {
   "cell_type": "markdown",
   "id": "533182f0",
   "metadata": {},
   "source": [
    "2. We'll get data using the fredapi package. Set the path to the text file with your API key"
   ]
  },
  {
   "cell_type": "code",
   "id": "f81e1110",
   "metadata": {
    "ExecuteTime": {
     "end_time": "2025-10-14T20:18:04.260054Z",
     "start_time": "2025-10-14T20:18:04.255909Z"
    }
   },
   "source": [
    "# Call the graph the exact same thing as its notebook (minus the ipynb suffix)\n",
    "GRAPH_NAME = \"frbny_sce_analysis\"\n",
    "\n",
    "# Set the path to the graph output folder\n",
    "GRAPH_OUTPUT_PATH = ut.get_repo_root() / \"figures\""
   ],
   "outputs": [],
   "execution_count": 31
  },
  {
   "cell_type": "markdown",
   "id": "ee2ebb59",
   "metadata": {},
   "source": [
    "3. Set the fed_2025 template as default"
   ]
  },
  {
   "cell_type": "code",
   "id": "00bbbcaa",
   "metadata": {
    "ExecuteTime": {
     "end_time": "2025-10-14T20:18:04.893889Z",
     "start_time": "2025-10-14T20:18:04.888418Z"
    }
   },
   "source": [
    "pio.templates.default = 'fed_2025'\n",
    "\n"
   ],
   "outputs": [],
   "execution_count": 32
  },
  {
   "cell_type": "code",
   "id": "d02adea9",
   "metadata": {
    "ExecuteTime": {
     "end_time": "2025-10-14T20:18:05.585179Z",
     "start_time": "2025-10-14T20:18:05.581712Z"
    }
   },
   "source": [
    "GRAPH_OUTPUT_PATH"
   ],
   "outputs": [
    {
     "data": {
      "text/plain": [
       "WindowsPath('C:/Users/kaika/NEUFed2025/figures')"
      ]
     },
     "execution_count": 33,
     "metadata": {},
     "output_type": "execute_result"
    }
   ],
   "execution_count": 33
  },
  {
   "cell_type": "markdown",
   "id": "c2af7dd8",
   "metadata": {},
   "source": [
    "4. Use the fredapi to get the data and prepare it for graphing. Documentation on the optional parameters that can be passed to the get_series called are found here (the documentation in fredapi is out of date). \n",
    "\n",
    "https://fred.stlouisfed.org/docs/api/fred/series_observations.html#Description\n",
    "\n",
    "If you get data from somewhere else thats fine too! Put the raw csv in the \"raw_data\" folder and read it in here. Make sure not to edit the raw data, just transform and graph it."
   ]
  },
  {
   "cell_type": "code",
   "id": "4c582e8a",
   "metadata": {
    "ExecuteTime": {
     "end_time": "2025-10-14T20:38:42.224498Z",
     "start_time": "2025-10-14T20:38:42.099073Z"
    }
   },
   "source": [
    "\n",
    "excel_file = pd.ExcelFile(\"FRBNY-SCE-Data (1).xlsx\")\n",
    "sheet_names = excel_file.sheet_names\n",
    "print(\"Available sheets:\", sheet_names)\n",
    "\n",
    "\n",
    "df = pd.read_excel(\"FRBNY-SCE-Data (1).xlsx\", sheet_name='Inflation expectations', skiprows=2)\n",
    "\n",
    "df.columns = df.iloc[0]\n",
    "df = df[1:]\n",
    "df = df.reset_index(drop=True)\n"
   ],
   "outputs": [
    {
     "name": "stdout",
     "output_type": "stream",
     "text": [
      "Available sheets: ['Disclaimer', 'License', 'Notes', 'Inflation expectations', 'Inflation expectations Demo', 'Inflation uncertainty', 'Inflation uncertainty Demo', 'Home price expectations', 'Home price expectations Demo', 'Home price uncertainty', 'Home price uncertainty Demo', 'Commodity expectations', 'Earnings growth', 'Earnings growth Demo', 'Earnings uncertainty', 'Earnings uncertainty Demo', 'Job separation expectation', 'Job separation expectation Demo', 'Job finding expectations', 'Job finding expectations Demo', 'Moving expectations', 'Moving expectations Demo', 'Unemployment Expectations', 'Unemployment Expectations Demo', 'HH Income Change', 'HH Income Change Demo', 'HH Spending Change', 'HH Spending Change Demo', 'Taxes Change', 'Taxes Change Demo', 'Credit availability', 'Household financial situation', 'Delinquency expectations', 'Delinquency expectations Demo', 'Interest rate expectations', 'Interest rate expectations Demo', 'Stock Prices', 'Stock Prices Demo', 'Government debt', 'Government debt Demo', 'Inflation expectations distr', 'Prob of Infl Outcome', 'Prob of Infl Outcome Demo', 'Five-year ahead Infl Exp', 'Five-year ahead Infl Exp Demo']\n"
     ]
    }
   ],
   "execution_count": 73
  },
  {
   "cell_type": "code",
   "id": "5934d6c9",
   "metadata": {
    "ExecuteTime": {
     "end_time": "2025-10-14T20:38:42.924363Z",
     "start_time": "2025-10-14T20:38:42.915655Z"
    }
   },
   "source": [
    "df.columns = df.columns.str.strip()\n",
    "\n",
    "df = df[df.iloc[:, 0].notna()]\n",
    "\n",
    "date_column = df.columns[0]\n",
    "\n",
    "df = df[pd.to_numeric(df[date_column], errors='coerce').notna()]\n",
    "df[date_column] = pd.to_datetime(df[date_column], format='%Y%m')\n",
    "df.set_index(date_column, inplace=True)\n",
    "df.index.name = \"Date\"\n",
    "\n",
    "df = df.apply(pd.to_numeric, errors='coerce')\n",
    "\n",
    "df = df[['Median one-year ahead expected inflation rate', 'Median three-year ahead expected inflation rate']]\n",
    "\n",
    "print(\"\\nCleaned data shape:\", df.shape)\n",
    "df.tail()"
   ],
   "outputs": [
    {
     "name": "stdout",
     "output_type": "stream",
     "text": [
      "\n",
      "Cleaned data shape: (148, 2)\n"
     ]
    },
    {
     "data": {
      "text/plain": [
       "0           Median one-year ahead expected inflation rate  \\\n",
       "Date                                                        \n",
       "2025-05-01                                       3.196597   \n",
       "2025-06-01                                       3.015459   \n",
       "2025-07-01                                       3.090884   \n",
       "2025-08-01                                       3.196597   \n",
       "2025-09-01                                       3.377147   \n",
       "\n",
       "0           Median three-year ahead expected inflation rate  \n",
       "Date                                                         \n",
       "2025-05-01                                         3.000000  \n",
       "2025-06-01                                         2.997374  \n",
       "2025-07-01                                         3.000000  \n",
       "2025-08-01                                         3.000000  \n",
       "2025-09-01                                         3.046669  "
      ],
      "text/html": [
       "<div>\n",
       "<style scoped>\n",
       "    .dataframe tbody tr th:only-of-type {\n",
       "        vertical-align: middle;\n",
       "    }\n",
       "\n",
       "    .dataframe tbody tr th {\n",
       "        vertical-align: top;\n",
       "    }\n",
       "\n",
       "    .dataframe thead th {\n",
       "        text-align: right;\n",
       "    }\n",
       "</style>\n",
       "<table border=\"1\" class=\"dataframe\">\n",
       "  <thead>\n",
       "    <tr style=\"text-align: right;\">\n",
       "      <th></th>\n",
       "      <th>Median one-year ahead expected inflation rate</th>\n",
       "      <th>Median three-year ahead expected inflation rate</th>\n",
       "    </tr>\n",
       "    <tr>\n",
       "      <th>Date</th>\n",
       "      <th></th>\n",
       "      <th></th>\n",
       "    </tr>\n",
       "  </thead>\n",
       "  <tbody>\n",
       "    <tr>\n",
       "      <th>2025-05-01</th>\n",
       "      <td>3.196597</td>\n",
       "      <td>3.000000</td>\n",
       "    </tr>\n",
       "    <tr>\n",
       "      <th>2025-06-01</th>\n",
       "      <td>3.015459</td>\n",
       "      <td>2.997374</td>\n",
       "    </tr>\n",
       "    <tr>\n",
       "      <th>2025-07-01</th>\n",
       "      <td>3.090884</td>\n",
       "      <td>3.000000</td>\n",
       "    </tr>\n",
       "    <tr>\n",
       "      <th>2025-08-01</th>\n",
       "      <td>3.196597</td>\n",
       "      <td>3.000000</td>\n",
       "    </tr>\n",
       "    <tr>\n",
       "      <th>2025-09-01</th>\n",
       "      <td>3.377147</td>\n",
       "      <td>3.046669</td>\n",
       "    </tr>\n",
       "  </tbody>\n",
       "</table>\n",
       "</div>"
      ]
     },
     "execution_count": 74,
     "metadata": {},
     "output_type": "execute_result"
    }
   ],
   "execution_count": 74
  },
  {
   "cell_type": "markdown",
   "id": "f36c32ec",
   "metadata": {},
   "source": [
    "5. Now that all our data is ready, make the graph and have it save itself as a .html file to graph_output whenver the notebooks is rerun. The name of the file should exactly match the notebook name. For instance, this file \"example.ipynb\" produces the graph \"example.html.\" Nice work, you made a graph! "
   ]
  },
  {
   "cell_type": "code",
   "id": "8d83fc29",
   "metadata": {
    "ExecuteTime": {
     "end_time": "2025-10-14T20:38:43.764363Z",
     "start_time": "2025-10-14T20:38:43.696695Z"
    }
   },
   "source": [
    "fig = go.Figure()\n",
    "\n",
    "for col in df.columns:\n",
    "    fig.add_trace(\n",
    "        go.Scatter(\n",
    "            x=df.index,\n",
    "            y=df[col],\n",
    "            mode='lines',\n",
    "            name=col\n",
    "        )\n",
    "    )\n",
    "\n",
    "fig.update_layout(\n",
    "    title = dict(text = 'FRBNY Survey of Consumer Inflation Expectations '),\n",
    "    xaxis_title=\"Date\",\n",
    "    yaxis_title=\"Percent\",\n",
    ")\n",
    "\n",
    "fig.update_yaxes(tickformat=\".2f\")\n",
    "\n",
    "fig.update_xaxes(\n",
    "    type='date',\n",
    "    tickformat='%Y',\n",
    ")\n",
    "\n",
    "ut.add_end_labels(fig = fig)\n",
    "\n",
    "fig.show()\n",
    "\n",
    "fig.write_html(GRAPH_OUTPUT_PATH / f\"{GRAPH_NAME}.html\")"
   ],
   "outputs": [
    {
     "data": {
      "application/vnd.plotly.v1+json": {
       "data": [
        {
         "mode": "lines",
         "name": "Median one-year ahead expected inflation rate",
         "x": [
          "2013-06-01T00:00:00",
          "2013-07-01T00:00:00",
          "2013-08-01T00:00:00",
          "2013-09-01T00:00:00",
          "2013-10-01T00:00:00",
          "2013-11-01T00:00:00",
          "2013-12-01T00:00:00",
          "2014-01-01T00:00:00",
          "2014-02-01T00:00:00",
          "2014-03-01T00:00:00",
          "2014-04-01T00:00:00",
          "2014-05-01T00:00:00",
          "2014-06-01T00:00:00",
          "2014-07-01T00:00:00",
          "2014-08-01T00:00:00",
          "2014-09-01T00:00:00",
          "2014-10-01T00:00:00",
          "2014-11-01T00:00:00",
          "2014-12-01T00:00:00",
          "2015-01-01T00:00:00",
          "2015-02-01T00:00:00",
          "2015-03-01T00:00:00",
          "2015-04-01T00:00:00",
          "2015-05-01T00:00:00",
          "2015-06-01T00:00:00",
          "2015-07-01T00:00:00",
          "2015-08-01T00:00:00",
          "2015-09-01T00:00:00",
          "2015-10-01T00:00:00",
          "2015-11-01T00:00:00",
          "2015-12-01T00:00:00",
          "2016-01-01T00:00:00",
          "2016-02-01T00:00:00",
          "2016-03-01T00:00:00",
          "2016-04-01T00:00:00",
          "2016-05-01T00:00:00",
          "2016-06-01T00:00:00",
          "2016-07-01T00:00:00",
          "2016-08-01T00:00:00",
          "2016-09-01T00:00:00",
          "2016-10-01T00:00:00",
          "2016-11-01T00:00:00",
          "2016-12-01T00:00:00",
          "2017-01-01T00:00:00",
          "2017-02-01T00:00:00",
          "2017-03-01T00:00:00",
          "2017-04-01T00:00:00",
          "2017-05-01T00:00:00",
          "2017-06-01T00:00:00",
          "2017-07-01T00:00:00",
          "2017-08-01T00:00:00",
          "2017-09-01T00:00:00",
          "2017-10-01T00:00:00",
          "2017-11-01T00:00:00",
          "2017-12-01T00:00:00",
          "2018-01-01T00:00:00",
          "2018-02-01T00:00:00",
          "2018-03-01T00:00:00",
          "2018-04-01T00:00:00",
          "2018-05-01T00:00:00",
          "2018-06-01T00:00:00",
          "2018-07-01T00:00:00",
          "2018-08-01T00:00:00",
          "2018-09-01T00:00:00",
          "2018-10-01T00:00:00",
          "2018-11-01T00:00:00",
          "2018-12-01T00:00:00",
          "2019-01-01T00:00:00",
          "2019-02-01T00:00:00",
          "2019-03-01T00:00:00",
          "2019-04-01T00:00:00",
          "2019-05-01T00:00:00",
          "2019-06-01T00:00:00",
          "2019-07-01T00:00:00",
          "2019-08-01T00:00:00",
          "2019-09-01T00:00:00",
          "2019-10-01T00:00:00",
          "2019-11-01T00:00:00",
          "2019-12-01T00:00:00",
          "2020-01-01T00:00:00",
          "2020-02-01T00:00:00",
          "2020-03-01T00:00:00",
          "2020-04-01T00:00:00",
          "2020-05-01T00:00:00",
          "2020-06-01T00:00:00",
          "2020-07-01T00:00:00",
          "2020-08-01T00:00:00",
          "2020-09-01T00:00:00",
          "2020-10-01T00:00:00",
          "2020-11-01T00:00:00",
          "2020-12-01T00:00:00",
          "2021-01-01T00:00:00",
          "2021-02-01T00:00:00",
          "2021-03-01T00:00:00",
          "2021-04-01T00:00:00",
          "2021-05-01T00:00:00",
          "2021-06-01T00:00:00",
          "2021-07-01T00:00:00",
          "2021-08-01T00:00:00",
          "2021-09-01T00:00:00",
          "2021-10-01T00:00:00",
          "2021-11-01T00:00:00",
          "2021-12-01T00:00:00",
          "2022-01-01T00:00:00",
          "2022-02-01T00:00:00",
          "2022-03-01T00:00:00",
          "2022-04-01T00:00:00",
          "2022-05-01T00:00:00",
          "2022-06-01T00:00:00",
          "2022-07-01T00:00:00",
          "2022-08-01T00:00:00",
          "2022-09-01T00:00:00",
          "2022-10-01T00:00:00",
          "2022-11-01T00:00:00",
          "2022-12-01T00:00:00",
          "2023-01-01T00:00:00",
          "2023-02-01T00:00:00",
          "2023-03-01T00:00:00",
          "2023-04-01T00:00:00",
          "2023-05-01T00:00:00",
          "2023-06-01T00:00:00",
          "2023-07-01T00:00:00",
          "2023-08-01T00:00:00",
          "2023-09-01T00:00:00",
          "2023-10-01T00:00:00",
          "2023-11-01T00:00:00",
          "2023-12-01T00:00:00",
          "2024-01-01T00:00:00",
          "2024-02-01T00:00:00",
          "2024-03-01T00:00:00",
          "2024-04-01T00:00:00",
          "2024-05-01T00:00:00",
          "2024-06-01T00:00:00",
          "2024-07-01T00:00:00",
          "2024-08-01T00:00:00",
          "2024-09-01T00:00:00",
          "2024-10-01T00:00:00",
          "2024-11-01T00:00:00",
          "2024-12-01T00:00:00",
          "2025-01-01T00:00:00",
          "2025-02-01T00:00:00",
          "2025-03-01T00:00:00",
          "2025-04-01T00:00:00",
          "2025-05-01T00:00:00",
          "2025-06-01T00:00:00",
          "2025-07-01T00:00:00",
          "2025-08-01T00:00:00",
          "2025-09-01T00:00:00"
         ],
         "y": {
          "dtype": "f8",
          "bdata": "////nyG6CEABAABA2EwJQAAAAAAbKQtAAQAAoDXwCkD///8/2mUJQAAAAEChkglAAAAAIEwaCUAAAAAAAAAIQP///58hughAAAAAQKGSCUABAABAeG4KQAAAAGC9XwlAAQAA4PGiCUD///8fjuMIQAAAAAAAAAhAAAAAAAAACEAAAAAAAAAIQP///x+pHwhAAQAAoMTYB0ABAAAA/WgHQAAAAEBipAZAAQAAAO0AB0D///+/tt0FQAEAAABnpQdAAAAAAAAACEABAAAAkqQHQAAAAMA9WQZAAQAAoJTgBUABAADgK5YGQP///3+bbgRAAAAA4NlMBED///8fDlcDQAEAAGApsgVA////PwQ/BEABAABg2egEQP///1+a+wRA////P49NBEAAAAAAuisEQAAAAMA9WQZAAAAAoBf2A0AAAADgmLUEQAAAAODZTARA/////11/BkABAACgxNgHQAEAACAYsgdAAQAAoHrjBUAAAADAPVkGQAAAAOCYtQRAAAAAIItOBEAAAADg2UwEQAAAAIDX7ANAAAAA4NlMBEABAABg2egEQAEAAOBQ2QRAAAAA4EOYBkABAABgKbIFQAEAAKC/pwZAAAAAwK8EBkABAACgxNgHQAEAAKDE2AdAAQAAoMTYB0ABAACAmtwHQAAAAAAAAAhAAAAAIOz1B0AAAAAAAAAIQAAAAIBzwgdAAAAAAAAACEAAAACAc8IHQAAAAMA9WQZAAAAA4A+IBkD///9f9cgEQAEAAIDpnwNAAAAAwHhcBUABAAAAjLkEQP///1/KUANAAQAAwHveA0AAAACgOKQCQAAAAMDJxwJAAQAAQJ04BEABAABgGfcDQAAAAODZTARAAAAA4NlMBEABAACAivwEQAAAAAAAAAhA////34JzBUAAAABgfRkHQAAAAAAAAAhAAQAAoMTYB0AAAABAVrAGQAAAAKA3swdAAAAAAAAACED///8/lF8IQP///58hughAAAAAYDz0CUABAADgpeEKQAAAAAAAABBAAAAAwPw0E0D///9fq14TQAEAAKAkuBRAAAAA4Jw9FUAAAABgJp0WQAAAAAAAABhAAAAAYAr2F0AAAADgXCcXQAAAAAAAABhAAAAAYOlVGkAAAABgumEZQAAAAODWTRpAAAAAoHkaG0AAAAAg/uQYQAAAAICc+xZAAAAAgF/DFUAAAABA9MYXQAAAAKAI6hRAAAAAAFD5E0AAAABg5tETQAAAAKDd5hBAAAAAAPP9EkAAAAAgxMkRQAAAAGCtRBBAAAAAAIGaDkD///9/FmAMQP///9+SDg1AAAAAgD1jDUD///9fT5QMQAEAAID03QpAAAAAYAYVCEAAAAAAAAAIQAEAAKC1UghAAAAAAAAACEAAAADgDhQKQAAAAGC9XwlA////nysxCEAAAACAE8oHQAAAAAAAAAhAAAAAAAAACEABAACApOwGQAAAAIBzwgdAAAAAAAAACEAAAAAAAAAIQAAAAKDIDAlAAAAAQGKkDEAAAACgPRQNQAAAAEChkglA////H6kfCED///+fIboIQAAAAEChkglAAQAAoGUEC0A="
         },
         "type": "scatter"
        },
        {
         "mode": "lines",
         "name": "Median three-year ahead expected inflation rate",
         "x": [
          "2013-06-01T00:00:00",
          "2013-07-01T00:00:00",
          "2013-08-01T00:00:00",
          "2013-09-01T00:00:00",
          "2013-10-01T00:00:00",
          "2013-11-01T00:00:00",
          "2013-12-01T00:00:00",
          "2014-01-01T00:00:00",
          "2014-02-01T00:00:00",
          "2014-03-01T00:00:00",
          "2014-04-01T00:00:00",
          "2014-05-01T00:00:00",
          "2014-06-01T00:00:00",
          "2014-07-01T00:00:00",
          "2014-08-01T00:00:00",
          "2014-09-01T00:00:00",
          "2014-10-01T00:00:00",
          "2014-11-01T00:00:00",
          "2014-12-01T00:00:00",
          "2015-01-01T00:00:00",
          "2015-02-01T00:00:00",
          "2015-03-01T00:00:00",
          "2015-04-01T00:00:00",
          "2015-05-01T00:00:00",
          "2015-06-01T00:00:00",
          "2015-07-01T00:00:00",
          "2015-08-01T00:00:00",
          "2015-09-01T00:00:00",
          "2015-10-01T00:00:00",
          "2015-11-01T00:00:00",
          "2015-12-01T00:00:00",
          "2016-01-01T00:00:00",
          "2016-02-01T00:00:00",
          "2016-03-01T00:00:00",
          "2016-04-01T00:00:00",
          "2016-05-01T00:00:00",
          "2016-06-01T00:00:00",
          "2016-07-01T00:00:00",
          "2016-08-01T00:00:00",
          "2016-09-01T00:00:00",
          "2016-10-01T00:00:00",
          "2016-11-01T00:00:00",
          "2016-12-01T00:00:00",
          "2017-01-01T00:00:00",
          "2017-02-01T00:00:00",
          "2017-03-01T00:00:00",
          "2017-04-01T00:00:00",
          "2017-05-01T00:00:00",
          "2017-06-01T00:00:00",
          "2017-07-01T00:00:00",
          "2017-08-01T00:00:00",
          "2017-09-01T00:00:00",
          "2017-10-01T00:00:00",
          "2017-11-01T00:00:00",
          "2017-12-01T00:00:00",
          "2018-01-01T00:00:00",
          "2018-02-01T00:00:00",
          "2018-03-01T00:00:00",
          "2018-04-01T00:00:00",
          "2018-05-01T00:00:00",
          "2018-06-01T00:00:00",
          "2018-07-01T00:00:00",
          "2018-08-01T00:00:00",
          "2018-09-01T00:00:00",
          "2018-10-01T00:00:00",
          "2018-11-01T00:00:00",
          "2018-12-01T00:00:00",
          "2019-01-01T00:00:00",
          "2019-02-01T00:00:00",
          "2019-03-01T00:00:00",
          "2019-04-01T00:00:00",
          "2019-05-01T00:00:00",
          "2019-06-01T00:00:00",
          "2019-07-01T00:00:00",
          "2019-08-01T00:00:00",
          "2019-09-01T00:00:00",
          "2019-10-01T00:00:00",
          "2019-11-01T00:00:00",
          "2019-12-01T00:00:00",
          "2020-01-01T00:00:00",
          "2020-02-01T00:00:00",
          "2020-03-01T00:00:00",
          "2020-04-01T00:00:00",
          "2020-05-01T00:00:00",
          "2020-06-01T00:00:00",
          "2020-07-01T00:00:00",
          "2020-08-01T00:00:00",
          "2020-09-01T00:00:00",
          "2020-10-01T00:00:00",
          "2020-11-01T00:00:00",
          "2020-12-01T00:00:00",
          "2021-01-01T00:00:00",
          "2021-02-01T00:00:00",
          "2021-03-01T00:00:00",
          "2021-04-01T00:00:00",
          "2021-05-01T00:00:00",
          "2021-06-01T00:00:00",
          "2021-07-01T00:00:00",
          "2021-08-01T00:00:00",
          "2021-09-01T00:00:00",
          "2021-10-01T00:00:00",
          "2021-11-01T00:00:00",
          "2021-12-01T00:00:00",
          "2022-01-01T00:00:00",
          "2022-02-01T00:00:00",
          "2022-03-01T00:00:00",
          "2022-04-01T00:00:00",
          "2022-05-01T00:00:00",
          "2022-06-01T00:00:00",
          "2022-07-01T00:00:00",
          "2022-08-01T00:00:00",
          "2022-09-01T00:00:00",
          "2022-10-01T00:00:00",
          "2022-11-01T00:00:00",
          "2022-12-01T00:00:00",
          "2023-01-01T00:00:00",
          "2023-02-01T00:00:00",
          "2023-03-01T00:00:00",
          "2023-04-01T00:00:00",
          "2023-05-01T00:00:00",
          "2023-06-01T00:00:00",
          "2023-07-01T00:00:00",
          "2023-08-01T00:00:00",
          "2023-09-01T00:00:00",
          "2023-10-01T00:00:00",
          "2023-11-01T00:00:00",
          "2023-12-01T00:00:00",
          "2024-01-01T00:00:00",
          "2024-02-01T00:00:00",
          "2024-03-01T00:00:00",
          "2024-04-01T00:00:00",
          "2024-05-01T00:00:00",
          "2024-06-01T00:00:00",
          "2024-07-01T00:00:00",
          "2024-08-01T00:00:00",
          "2024-09-01T00:00:00",
          "2024-10-01T00:00:00",
          "2024-11-01T00:00:00",
          "2024-12-01T00:00:00",
          "2025-01-01T00:00:00",
          "2025-02-01T00:00:00",
          "2025-03-01T00:00:00",
          "2025-04-01T00:00:00",
          "2025-05-01T00:00:00",
          "2025-06-01T00:00:00",
          "2025-07-01T00:00:00",
          "2025-08-01T00:00:00",
          "2025-09-01T00:00:00"
         ],
         "y": {
          "dtype": "f8",
          "bdata": "AQAAYLNVC0D///8//3sKQP///39bZQ5A////fxZgDEAAAABAoZIJQAEAAECDhApA////X9tlCkD///8/lF8IQAEAAACNaglAAQAAoGUEC0AAAADgf6MJQAAAAEChkglA////f/ZgCkAAAADAOcAJQAAAAKCurghA////H6kfCED///8fqR8IQAAAAGAWRghAAAAAAAAACEAAAAAAAAAIQAAAAAAAAAhA////fyZSB0ABAACgxNgHQAEAAKDE2AdAAAAAAAAACED///+fO6UHQAAAAGCn8AZAAAAAoJm9BkAAAABgV0EGQP///9+CcwVA////X1UzBkABAACA6Z8DQP///1+a+wRAAQAAoAABBED///8f+lQGQAEAAACC3wVAAAAAQPfkBkAAAADA7gIEQAEAAGApsgVAAQAAgIr8BEAAAAAgFqkEQAEAAGApsgVAAQAAoL+nBkAAAAAgFSoHQAEAAKDE2AdAAQAAYCmyBUAAAABgnEMHQAEAAICvvANA////X1UzBkABAABgKbIFQAEAAICK/ARA////PzpwBkD/////XX8GQP///19VMwZAAAAAAEAnB0AAAADAPVkGQAAAAEABEwdAAAAAYJxDB0AAAACAc8IHQAEAACAYsgdAAAAAAAAACED///9/QBIHQAAAAAAAAAhAAAAAAAAACEAAAAAAAAAIQP///39AEgdAAQAAoMTYB0AAAACAc8IHQAEAACDDJQZA////X1DqBkD/////UowFQAAAAOAkvwRAAQAAAKxMBUD///9fiqIEQAAAAMDuAgRA/////5P/AkABAACA7wcDQAAAAAC6KwRAAAAA4NlMBEAAAADg2UwEQAAAAOCYtQRAAAAAoNgxA0ABAACAivwEQAAAAED34QRAAAAAIDbKA0ABAAAAh9oFQAEAAKDE2AdA////v9fvBUAAAADg6p0FQAAAAODTjgZAAQAAoMTYB0ABAACAuTkIQAAAAAAAAAhA////312+CEABAAAAzMgIQP///z/EjgxA////fxZgDEABAACAf7ENQAAAAKBO/w9A/////6PGEEAAAADAPtgQQAAAAAB4CxBAAAAAAAAAEEAAAACAZ9ELQAAAACDLMg5A/////z1mDUABAADgEDgPQAAAAMBZCA9A/////6fyDED///8fqXUJQAAAAMDJCgZAAAAA4J5HB0AAAACAo+IIQP///x+f+gdAAAAA4DjxB0ABAABgKbIFQAAAAMDPTgVAAAAAYFdBBkABAADgMCYHQAEAAKDE2AdA////H5+dB0ABAACAKT8HQAAAAMA9WQZAAAAAAAAACEAAAAAg7PUHQAAAAAAAAAhAAQAAgIr8BEAAAAAAMM4CQAEAAGApsgVAAAAAIBUqB0AAAADAiA4GQAAAACBVFQZAAAAAgE50B0AAAACgOKQCQAAAAODZTARAAAAAwM9OBUAAAADg2UwEQAAAAKBikARAAAAAgHPCB0D////fzPEHQAAAAAAAAAhAAAAAAAAACEAAAADg6lQJQAAAAAAAAAhA////H5/6B0AAAAAAAAAIQAAAAAAAAAhA////P5RfCEA="
         },
         "type": "scatter"
        },
        {
         "hoverinfo": "skip",
         "marker": {
          "color": "#2A547E",
          "size": 8,
          "symbol": "circle"
         },
         "mode": "markers",
         "showlegend": false,
         "x": [
          1756684800000000000
         ],
         "y": [
          3.37714695930481
         ],
         "zorder": 3,
         "type": "scatter"
        },
        {
         "hoverinfo": "skip",
         "marker": {
          "color": "#CF8B40",
          "size": 8,
          "symbol": "circle"
         },
         "mode": "markers",
         "showlegend": false,
         "x": [
          1756684800000000000
         ],
         "y": [
          3.046669483184814
         ],
         "zorder": 3,
         "type": "scatter"
        }
       ],
       "layout": {
        "template": {
         "data": {
          "scatter": [
           {
            "hovertemplate": "%{x|%Y-%m-%d}<br> %{y:.1f}<extra></extra>",
            "line": {
             "width": 3
            },
            "type": "scatter"
           }
          ]
         },
         "layout": {
          "colorway": [
           "#2A547E",
           "#CF8B40",
           "#879396",
           "#F7CAC9",
           "#7095cf"
          ],
          "height": 500,
          "legend": {
           "bgcolor": "rgba(0,0,0,0)",
           "borderwidth": 0,
           "font": {
            "color": "#163855",
            "family": "Cambria Bold",
            "size": 22
           },
           "orientation": "h",
           "x": 1,
           "xanchor": "right",
           "y": 1.05,
           "yanchor": "bottom"
          },
          "title": {
           "font": {
            "color": "#163855",
            "family": "Cambria Bold",
            "size": 36
           },
           "x": 0.05,
           "xanchor": "left"
          },
          "width": 1200,
          "xaxis": {
           "gridcolor": "#D3D3D3",
           "gridwidth": 0.5,
           "showgrid": true,
           "tickfont": {
            "color": "#163855",
            "family": "Cambria Bold",
            "size": 18
           },
           "title": {
            "font": {
             "color": "#163855",
             "family": "Cambria Bold",
             "size": 24
            }
           },
           "type": "date"
          },
          "yaxis": {
           "gridcolor": "#D3D3D3",
           "gridwidth": 0.5,
           "showgrid": true,
           "tickfont": {
            "color": "#163855",
            "family": "Cambria Bold",
            "size": 18
           },
           "title": {
            "font": {
             "color": "#163855",
             "family": "Cambria Bold",
             "size": 24
            }
           }
          }
         }
        },
        "title": {
         "text": "FRBNY Survey of Consumer Inflation Expectations "
        },
        "xaxis": {
         "title": {
          "text": "Date"
         },
         "type": "date",
         "tickformat": "%Y"
        },
        "yaxis": {
         "title": {
          "text": "Percent"
         },
         "tickformat": ".2f"
        },
        "annotations": [
         {
          "font": {
           "color": "#2A547E"
          },
          "showarrow": false,
          "text": "3.38",
          "x": "2025-09-01T00:00:00",
          "xanchor": "left",
          "xshift": 6,
          "y": 3.37714695930481,
          "yanchor": "middle"
         },
         {
          "font": {
           "color": "#CF8B40"
          },
          "showarrow": false,
          "text": "3.05",
          "x": "2025-09-01T00:00:00",
          "xanchor": "left",
          "xshift": 6,
          "y": 3.046669483184814,
          "yanchor": "middle"
         }
        ]
       },
       "config": {
        "plotlyServerURL": "https://plot.ly"
       }
      }
     },
     "metadata": {},
     "output_type": "display_data",
     "jetTransient": {
      "display_id": null
     }
    }
   ],
   "execution_count": 75
  },
  {
   "metadata": {},
   "cell_type": "code",
   "outputs": [],
   "execution_count": null,
   "source": "",
   "id": "5f5c2ffa199fc2db"
  }
 ],
 "metadata": {
  "kernelspec": {
   "display_name": ".venv",
   "language": "python",
   "name": "python3"
  },
  "language_info": {
   "codemirror_mode": {
    "name": "ipython",
    "version": 3
   },
   "file_extension": ".py",
   "mimetype": "text/x-python",
   "name": "python",
   "nbconvert_exporter": "python",
   "pygments_lexer": "ipython3",
   "version": "3.13.5"
  }
 },
 "nbformat": 4,
 "nbformat_minor": 5
}
