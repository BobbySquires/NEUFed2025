{
 "cells": [
  {
   "cell_type": "code",
   "execution_count": 1,
   "id": "5df1c8ce",
   "metadata": {},
   "outputs": [],
   "source": [
    "import datetime as dt\n",
    "import plotly.graph_objects as go\n",
    "import plotly.io as pio\n",
    "import pandas as pd\n",
    "import utils.utils as ut\n",
    "import utils.graph_templates\n",
    "\n",
    "from fredapi import Fred\n",
    "\n",
    "GRAPH_NAME = \"infl_expect_2\"\n",
    "\n",
    "API_KEY_PATH = ut.get_repo_root() / \"fred_api_key.txt\" \n",
    "\n",
    "fred = Fred(api_key_file = API_KEY_PATH)\n",
    "\n",
    "pio.templates.default = 'fed_2025'\n",
    "\n",
    "# Now is a good time to set the path to the graph output folder!\n",
    "GRAPH_OUTPUT_PATH = ut.get_repo_root() / \"figures\""
   ]
  },
  {
   "cell_type": "code",
   "execution_count": 31,
   "id": "bed34d78",
   "metadata": {},
   "outputs": [],
   "source": [
    "breakeven = fred.get_series(\n",
    "    series_id=\"T5YIE\",\n",
    "    observation_start=dt.date(2024, 1, 1),\n",
    "    observation_end=dt.date.today(),\n",
    "    frequency='m',\n",
    ").rename(\"5-Year Breakeven Inflation Rate\")"
   ]
  },
  {
   "cell_type": "code",
   "execution_count": 32,
   "id": "d1b10a95",
   "metadata": {},
   "outputs": [],
   "source": [
    "infl_df = pd.read_excel(ut.get_repo_root() / \"code\" / \"data\" / \"inflation_expectations.xlsx\",\n",
    "                        )\n",
    "\n",
    "infl_df = infl_df.set_index('date')\n",
    "\n",
    "infl_df = infl_df.rename(columns = {\n",
    "    'ny_fed_1': 'NY Fed Median 1-Year Ahead Expected Inflation',\n",
    "    'ny_fed_5': 'NY Fed Median 5-Year Ahead Expected Inflation',\n",
    "    'umich_1': 'UMich Median 1-Year Ahead Expected Inflation',\n",
    "    'umich_5': 'UMich Median 5-Year Ahead Expected Inflation',\n",
    "    }\n",
    ")\n",
    "\n",
    "infl_df = infl_df[['NY Fed Median 5-Year Ahead Expected Inflation', 'UMich Median 5-Year Ahead Expected Inflation']]\n",
    "\n",
    "infl_df.index = pd.to_datetime(infl_df.index.astype(str), format=\"%Y%m\")\n",
    "\n",
    "infl_df = infl_df[infl_df.index >= pd.to_datetime('2024-1-1')]\n",
    "\n",
    "infl_df = pd.concat([infl_df, breakeven], axis=1)"
   ]
  },
  {
   "cell_type": "code",
   "execution_count": 33,
   "id": "6bb41ee7",
   "metadata": {},
   "outputs": [
    {
     "data": {
      "application/vnd.plotly.v1+json": {
       "config": {
        "plotlyServerURL": "https://plot.ly"
       },
       "data": [
        {
         "mode": "lines",
         "name": "NY Fed Median 5-Year Ahead Expected Inflation",
         "type": "scatter",
         "x": [
          "2024-01-01T00:00:00",
          "2024-02-01T00:00:00",
          "2024-03-01T00:00:00",
          "2024-04-01T00:00:00",
          "2024-05-01T00:00:00",
          "2024-06-01T00:00:00",
          "2024-07-01T00:00:00",
          "2024-08-01T00:00:00",
          "2024-09-01T00:00:00",
          "2024-10-01T00:00:00",
          "2024-11-01T00:00:00",
          "2024-12-01T00:00:00",
          "2025-01-01T00:00:00",
          "2025-02-01T00:00:00",
          "2025-03-01T00:00:00",
          "2025-04-01T00:00:00",
          "2025-05-01T00:00:00",
          "2025-06-01T00:00:00",
          "2025-07-01T00:00:00",
          "2025-08-01T00:00:00",
          "2025-09-01T00:00:00",
          "2025-10-01T00:00:00"
         ],
         "y": {
          "bdata": "UrgehetRBEAfhetRuB4HQPYoXI/C9QRAj8L1KFyPBkAAAAAAAAAIQKRwPQrXowZAexSuR+F6BkBSuB6F61EGQOF6FK5H4QZAKVyPwvUoBkDhehSuR+EGQMP1KFyPwgVA16NwPQrXB0DXo3A9CtcHQOF6FK5H4QZA7FG4HoXrBUDhehSuR+EEQOF6FK5H4QRACtejcD0KB0BxPQrXo3AHQMP1KFyPwgdAAAAAAAAA+H8=",
          "dtype": "f8"
         }
        },
        {
         "mode": "lines",
         "name": "UMich Median 5-Year Ahead Expected Inflation",
         "type": "scatter",
         "x": [
          "2024-01-01T00:00:00",
          "2024-02-01T00:00:00",
          "2024-03-01T00:00:00",
          "2024-04-01T00:00:00",
          "2024-05-01T00:00:00",
          "2024-06-01T00:00:00",
          "2024-07-01T00:00:00",
          "2024-08-01T00:00:00",
          "2024-09-01T00:00:00",
          "2024-10-01T00:00:00",
          "2024-11-01T00:00:00",
          "2024-12-01T00:00:00",
          "2025-01-01T00:00:00",
          "2025-02-01T00:00:00",
          "2025-03-01T00:00:00",
          "2025-04-01T00:00:00",
          "2025-05-01T00:00:00",
          "2025-06-01T00:00:00",
          "2025-07-01T00:00:00",
          "2025-08-01T00:00:00",
          "2025-09-01T00:00:00",
          "2025-10-01T00:00:00"
         ],
         "y": {
          "bdata": "MzMzMzMzB0AzMzMzMzMHQGZmZmZmZgZAAAAAAAAACEAAAAAAAAAIQAAAAAAAAAhAAAAAAAAACEAAAAAAAAAIQM3MzMzMzAhAAAAAAAAACECamZmZmZkJQAAAAAAAAAhAmpmZmZmZCUAAAAAAAAAMQGZmZmZmZhBAmpmZmZmZEUDNzMzMzMwQQAAAAAAAABBAMzMzMzMzC0AAAAAAAAAMQAAAAAAAAPh/AAAAAAAA+H8=",
          "dtype": "f8"
         }
        },
        {
         "mode": "lines",
         "name": "5-Year Breakeven Inflation Rate",
         "type": "scatter",
         "x": [
          "2024-01-01T00:00:00",
          "2024-02-01T00:00:00",
          "2024-03-01T00:00:00",
          "2024-04-01T00:00:00",
          "2024-05-01T00:00:00",
          "2024-06-01T00:00:00",
          "2024-07-01T00:00:00",
          "2024-08-01T00:00:00",
          "2024-09-01T00:00:00",
          "2024-10-01T00:00:00",
          "2024-11-01T00:00:00",
          "2024-12-01T00:00:00",
          "2025-01-01T00:00:00",
          "2025-02-01T00:00:00",
          "2025-03-01T00:00:00",
          "2025-04-01T00:00:00",
          "2025-05-01T00:00:00",
          "2025-06-01T00:00:00",
          "2025-07-01T00:00:00",
          "2025-08-01T00:00:00",
          "2025-09-01T00:00:00",
          "2025-10-01T00:00:00"
         ],
         "y": {
          "bdata": "w/UoXI/CAUCPwvUoXI8CQArXo3A9CgNAmpmZmZmZA0CkcD0K16MCQK5H4XoUrgFAcT0K16NwAUCF61G4HoX/P4XrUbgehf8/16NwPQrXAUAfhetRuB4DQOF6FK5H4QJA7FG4HoXrA0DhehSuR+EEQD0K16NwPQRAzczMzMzMAkAK16NwPQoDQKRwPQrXowJAhetRuB6FA0CF61G4HoUDQHE9CtejcANAAAAAAAAA+H8=",
          "dtype": "f8"
         }
        }
       ],
       "layout": {
        "annotations": [
         {
          "showarrow": false,
          "text": "Longer-Run Target",
          "x": 1,
          "xanchor": "right",
          "xref": "x domain",
          "y": 2,
          "yanchor": "bottom",
          "yref": "y"
         }
        ],
        "barmode": "relative",
        "height": 500,
        "legend": {
         "font": {
          "size": 18
         },
         "orientation": "h",
         "x": 0.2,
         "xanchor": "left",
         "y": -0.1,
         "yanchor": "top"
        },
        "shapes": [
         {
          "line": {
           "color": "black",
           "dash": "solid"
          },
          "type": "line",
          "x0": 0,
          "x1": 1,
          "xref": "x domain",
          "y0": 0,
          "y1": 0,
          "yref": "y"
         },
         {
          "line": {
           "color": "red",
           "dash": "dash"
          },
          "type": "line",
          "x0": 0,
          "x1": 1,
          "xref": "x domain",
          "y0": 2,
          "y1": 2,
          "yref": "y"
         }
        ],
        "template": {
         "data": {
          "scatter": [
           {
            "hovertemplate": "%{x|%Y-%m-%d}<br> %{y:.1f}<extra></extra>",
            "line": {
             "width": 3
            },
            "type": "scatter"
           }
          ]
         },
         "layout": {
          "colorway": [
           "#2A547E",
           "#CF8B40",
           "#879396",
           "#F7CAC9",
           "#7095cf"
          ],
          "height": 500,
          "legend": {
           "bgcolor": "rgba(0,0,0,0)",
           "borderwidth": 0,
           "font": {
            "color": "#163855",
            "family": "Cambria Bold",
            "size": 22
           },
           "orientation": "h",
           "x": 1,
           "xanchor": "right",
           "y": 1.05,
           "yanchor": "bottom"
          },
          "title": {
           "font": {
            "color": "#163855",
            "family": "Cambria Bold",
            "size": 36
           },
           "x": 0.05,
           "xanchor": "left"
          },
          "width": 1200,
          "xaxis": {
           "gridcolor": "#D3D3D3",
           "gridwidth": 0.5,
           "showgrid": true,
           "tickfont": {
            "color": "#163855",
            "family": "Cambria Bold",
            "size": 18
           },
           "title": {
            "font": {
             "color": "#163855",
             "family": "Cambria Bold",
             "size": 24
            }
           },
           "type": "date"
          },
          "yaxis": {
           "gridcolor": "#D3D3D3",
           "gridwidth": 0.5,
           "showgrid": true,
           "tickfont": {
            "color": "#163855",
            "family": "Cambria Bold",
            "size": 18
           },
           "title": {
            "font": {
             "color": "#163855",
             "family": "Cambria Bold",
             "size": 24
            }
           }
          }
         }
        },
        "title": {
         "text": "Long-Term Inflation Expectations<br><sup>Monthly</br>"
        },
        "width": 800,
        "xaxis": {
         "dtick": "M4",
         "tickformat": "%b %Y",
         "title": {},
         "type": "date"
        },
        "yaxis": {
         "range": [
          0.5,
          7
         ],
         "tickformat": "0.2f%",
         "ticksuffix": "%",
         "title": {}
        }
       }
      }
     },
     "metadata": {},
     "output_type": "display_data"
    }
   ],
   "source": [
    "fig = go.Figure()\n",
    "\n",
    "for col in infl_df.columns:\n",
    "    fig.add_trace(\n",
    "        go.Scatter(\n",
    "            x=infl_df.index,\n",
    "            y=infl_df[col],\n",
    "            name=col,\n",
    "            mode='lines',\n",
    "        )\n",
    "    )\n",
    "\n",
    "\n",
    "# This is graph specific, but here we want the y-axis to be percent signs \n",
    "fig.update_yaxes(\n",
    "    tickformat=\"0.2f%\",\n",
    "    ticksuffix=\"%\",\n",
    "    range=[0.5, 7],\n",
    ")\n",
    "\n",
    "# Again, graph specific, we have a mutliyear series and want tick marks to be years\n",
    "fig.update_xaxes(\n",
    "    type='date',\n",
    "    tickformat='%b %Y',\n",
    "    title_text=None,\n",
    "    dtick=\"M4\",\n",
    ")\n",
    "fig.add_hline(\n",
    "    y=0,\n",
    "    line_dash=\"solid\",\n",
    "    line_color=\"black\",\n",
    ")\n",
    "\n",
    "fig.update_layout(\n",
    "    barmode='relative',\n",
    "    title=dict(text='Long-Term Inflation Expectations<br><sup>Monthly</br>'),\n",
    "    xaxis_title=None,\n",
    "    yaxis_title=None,\n",
    "\n",
    "    legend=dict(\n",
    "        orientation=\"h\",\n",
    "        x=0.2,  # Move legend inside the plot area (left)\n",
    "        y=-0.1,  # Near the top\n",
    "        xanchor=\"left\",\n",
    "        yanchor=\"top\",\n",
    "        font=dict(size=18)\n",
    "    ),\n",
    "    height=500,\n",
    "    width=800,\n",
    ")\n",
    "\n",
    "fig.add_hline(\n",
    "    y=2,\n",
    "    line_dash=\"dash\",\n",
    "    line_color=\"red\",\n",
    "    annotation_text=\"Longer-Run Target\",\n",
    "    annotation_position=\"top right\"\n",
    ")\n",
    "\n",
    "# This should be the same for EVERY GRAPH!\n",
    "# Save it to the graph_output folder with the name matching the file, as HTML\n",
    "fig.write_html(GRAPH_OUTPUT_PATH / f\"{GRAPH_NAME}.html\")\n",
    "\n",
    "fig.show()\n"
   ]
  }
 ],
 "metadata": {
  "kernelspec": {
   "display_name": ".venv",
   "language": "python",
   "name": "python3"
  },
  "language_info": {
   "codemirror_mode": {
    "name": "ipython",
    "version": 3
   },
   "file_extension": ".py",
   "mimetype": "text/x-python",
   "name": "python",
   "nbconvert_exporter": "python",
   "pygments_lexer": "ipython3",
   "version": "3.13.7"
  }
 },
 "nbformat": 4,
 "nbformat_minor": 5
}
