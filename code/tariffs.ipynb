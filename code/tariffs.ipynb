{
 "cells": [
  {
   "cell_type": "code",
   "execution_count": 2,
   "id": "6da5efd6",
   "metadata": {},
   "outputs": [],
   "source": [
    "import datetime as dt\n",
    "import plotly.graph_objects as go\n",
    "import plotly.io as pio\n",
    "import pandas as pd\n",
    "import utils.utils as ut\n",
    "import utils.graph_templates\n",
    "\n",
    "from fredapi import Fred"
   ]
  },
  {
   "cell_type": "code",
   "execution_count": 3,
   "id": "67937cd9",
   "metadata": {},
   "outputs": [],
   "source": [
    "pio.templates.default = 'fed_2025'\n",
    "\n",
    "# Call the graph the exact same thing as its notebook (minus the ipynb suffix)\n",
    "GRAPH_NAME = \"stocks\"\n",
    "\n",
    "# Now is a good time to set the path to the graph output folder!\n",
    "GRAPH_OUTPUT_PATH = ut.get_repo_root() / \"figures\""
   ]
  },
  {
   "cell_type": "code",
   "execution_count": 52,
   "id": "cf09ced2",
   "metadata": {},
   "outputs": [
    {
     "data": {
      "application/vnd.plotly.v1+json": {
       "config": {
        "plotlyServerURL": "https://plot.ly"
       },
       "data": [
        {
         "name": "Statutory Tariff Rate",
         "type": "bar",
         "x": [
          "Statutory"
         ],
         "y": [
          17.5
         ]
        },
        {
         "name": "Thru May",
         "type": "bar",
         "x": [
          "Effective"
         ],
         "y": [
          8.7
         ]
        },
        {
         "marker": {
          "pattern": {
           "shape": "/"
          }
         },
         "name": "Potential",
         "type": "bar",
         "x": [
          "Effective"
         ],
         "y": [
          5.7
         ]
        }
       ],
       "layout": {
        "barmode": "stack",
        "legend": {
         "font": {
          "size": 16
         },
         "orientation": "h",
         "x": 0.9,
         "y": -0.2
        },
        "template": {
         "data": {
          "scatter": [
           {
            "hovertemplate": "%{x|%Y-%m-%d}<br> %{y:.1f}<extra></extra>",
            "line": {
             "width": 3
            },
            "type": "scatter"
           }
          ]
         },
         "layout": {
          "colorway": [
           "#2A547E",
           "#CF8B40",
           "#879396",
           "#F7CAC9",
           "#7095cf"
          ],
          "height": 500,
          "legend": {
           "bgcolor": "rgba(0,0,0,0)",
           "borderwidth": 0,
           "font": {
            "color": "#163855",
            "family": "Cambria Bold",
            "size": 22
           },
           "orientation": "h",
           "x": 1,
           "xanchor": "right",
           "y": 1.05,
           "yanchor": "bottom"
          },
          "title": {
           "font": {
            "color": "#163855",
            "family": "Cambria Bold",
            "size": 36
           },
           "x": 0.05,
           "xanchor": "left"
          },
          "width": 1200,
          "xaxis": {
           "gridcolor": "#D3D3D3",
           "gridwidth": 0.5,
           "showgrid": true,
           "tickfont": {
            "color": "#163855",
            "family": "Cambria Bold",
            "size": 18
           },
           "title": {
            "font": {
             "color": "#163855",
             "family": "Cambria Bold",
             "size": 24
            }
           },
           "type": "date"
          },
          "yaxis": {
           "gridcolor": "#D3D3D3",
           "gridwidth": 0.5,
           "showgrid": true,
           "tickfont": {
            "color": "#163855",
            "family": "Cambria Bold",
            "size": 18
           },
           "title": {
            "font": {
             "color": "#163855",
             "family": "Cambria Bold",
             "size": 24
            }
           }
          }
         }
        },
        "title": {
         "text": "Tariff Rates<br><sup>Azzimonti (2025) </br>"
        },
        "width": 600,
        "xaxis": {
         "title": {},
         "type": "category"
        },
        "yaxis": {
         "ticksuffix": "%",
         "title": {}
        }
       }
      }
     },
     "metadata": {},
     "output_type": "display_data"
    }
   ],
   "source": [
    "import plotly.graph_objects as go\n",
    "\n",
    "# Data\n",
    "categories = [\"Statutory\", \"Effective\"]\n",
    "statutory_value = 17.5\n",
    "thru_may_value = 8.7\n",
    "estimated_value = 5.7\n",
    "\n",
    "# Create figure\n",
    "fig = go.Figure()\n",
    "\n",
    "# Statutory Tariff Rate bar\n",
    "fig.add_trace(go.Bar(\n",
    "    x=[categories[0]],\n",
    "    y=[statutory_value],\n",
    "    name=\"Statutory Tariff Rate\",\n",
    "))\n",
    "\n",
    "# Effective Tariff Rate (Thru May)\n",
    "fig.add_trace(go.Bar(\n",
    "    x=[categories[1]],\n",
    "    y=[thru_may_value],\n",
    "    name=\"Thru May\",\n",
    "))\n",
    "\n",
    "# Effective Tariff Rate (Estimated Potential)\n",
    "fig.add_trace(go.Bar(\n",
    "    x=[categories[1]],\n",
    "    y=[estimated_value],\n",
    "    name=\"Potential\",\n",
    "    marker_pattern_shape=\"/\"  # adds diagonal stripe pattern\n",
    "))\n",
    "\n",
    "# Layout for stacked bars and labels\n",
    "fig.update_layout(\n",
    "    barmode='stack',\n",
    "    title=\"Tariff Rates<br><sup>Azzimonti (2025) </br>\",\n",
    "    yaxis_title=None,\n",
    "    xaxis_title=None,\n",
    "    legend=dict(\n",
    "        orientation=\"h\",\n",
    "        x=0.9,\n",
    "        y=-0.2,\n",
    "        font=dict(size=16)),\n",
    "    xaxis_type='category',\n",
    "    width=600\n",
    ")\n",
    "\n",
    "fig.update_yaxes(\n",
    "    ticksuffix='%'\n",
    ")\n",
    "\n",
    "fig.show()\n"
   ]
  }
 ],
 "metadata": {
  "kernelspec": {
   "display_name": ".venv",
   "language": "python",
   "name": "python3"
  },
  "language_info": {
   "codemirror_mode": {
    "name": "ipython",
    "version": 3
   },
   "file_extension": ".py",
   "mimetype": "text/x-python",
   "name": "python",
   "nbconvert_exporter": "python",
   "pygments_lexer": "ipython3",
   "version": "3.13.7"
  }
 },
 "nbformat": 4,
 "nbformat_minor": 5
}
