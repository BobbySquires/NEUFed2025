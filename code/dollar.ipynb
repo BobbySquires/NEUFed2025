{
 "cells": [
  {
   "cell_type": "markdown",
   "id": "ec9a0460",
   "metadata": {},
   "source": [
    "This notebook walks through how to make graphs in this repo. You can copy this example.ipynb and rename it for your own graphing work. <b> Please do each graph in a seperate notebook!</b>\n",
    "\n",
    "1. Import the appropriate packages. We'll use plotly.graph_objects for making all of our graphs."
   ]
  },
  {
   "cell_type": "code",
   "execution_count": 1,
   "id": "b8a83946",
   "metadata": {
    "ExecuteTime": {
     "end_time": "2025-10-14T20:07:03.506165Z",
     "start_time": "2025-10-14T20:07:03.115408Z"
    }
   },
   "outputs": [],
   "source": [
    "import datetime as dt\n",
    "import plotly.graph_objects as go\n",
    "import plotly.io as pio\n",
    "import pandas as pd\n",
    "import utils.utils as ut\n",
    "import utils.graph_templates\n",
    "\n",
    "from fredapi import Fred"
   ]
  },
  {
   "cell_type": "markdown",
   "id": "533182f0",
   "metadata": {},
   "source": [
    "2. We'll get data using the fredapi package. Set the path to the text file with your API key"
   ]
  },
  {
   "cell_type": "code",
   "execution_count": 2,
   "id": "f81e1110",
   "metadata": {
    "ExecuteTime": {
     "end_time": "2025-10-14T20:07:03.515934Z",
     "start_time": "2025-10-14T20:07:03.512389Z"
    }
   },
   "outputs": [],
   "source": [
    "GRAPH_NAME = \"dollar\"\n",
    "\n",
    "API_KEY_PATH = ut.get_repo_root() / \"fred_api_key.txt\" \n",
    "\n",
    "fred = Fred(api_key_file = API_KEY_PATH)"
   ]
  },
  {
   "cell_type": "markdown",
   "id": "ee2ebb59",
   "metadata": {},
   "source": [
    "3. Set the fed_2025 template as default"
   ]
  },
  {
   "cell_type": "code",
   "execution_count": 3,
   "id": "00bbbcaa",
   "metadata": {
    "ExecuteTime": {
     "end_time": "2025-10-14T20:07:03.840112Z",
     "start_time": "2025-10-14T20:07:03.836293Z"
    }
   },
   "outputs": [],
   "source": [
    "pio.templates.default = 'fed_2025'\n",
    "\n",
    "GRAPH_NAME = \"dollar\"\n",
    "\n",
    "GRAPH_OUTPUT_PATH = ut.get_repo_root() / \"figures\""
   ]
  },
  {
   "cell_type": "code",
   "execution_count": 4,
   "id": "d02adea9",
   "metadata": {
    "ExecuteTime": {
     "end_time": "2025-10-14T20:07:04.007645Z",
     "start_time": "2025-10-14T20:07:04.001906Z"
    }
   },
   "outputs": [
    {
     "data": {
      "text/plain": [
       "WindowsPath('C:/Users/Bobby/Desktop/Fed Challenge 2025/NEUFed2025/figures')"
      ]
     },
     "execution_count": 4,
     "metadata": {},
     "output_type": "execute_result"
    }
   ],
   "source": [
    "GRAPH_OUTPUT_PATH"
   ]
  },
  {
   "cell_type": "markdown",
   "id": "c2af7dd8",
   "metadata": {},
   "source": [
    "4. Use the fredapi to get the data and prepare it for graphing. Documentation on the optional parameters that can be passed to the get_series called are found here (the documentation in fredapi is out of date). \n",
    "\n",
    "https://fred.stlouisfed.org/docs/api/fred/series_observations.html#Description\n",
    "\n",
    "If you get data from somewhere else thats fine too! Put the raw csv in the \"raw_data\" folder and read it in here. Make sure not to edit the raw data, just transform and graph it."
   ]
  },
  {
   "cell_type": "code",
   "execution_count": 5,
   "id": "4c582e8a",
   "metadata": {
    "ExecuteTime": {
     "end_time": "2025-10-14T20:07:04.335911Z",
     "start_time": "2025-10-14T20:07:04.333379Z"
    }
   },
   "outputs": [],
   "source": [
    "series_codes = {\n",
    "    \"Advanced Foreign Economies\": \"DTWEXAFEGS\",\n",
    "    \"Emerging Market Economies\": \"DTWEXEMEGS\"\n",
    "}"
   ]
  },
  {
   "cell_type": "code",
   "execution_count": 6,
   "id": "5934d6c9",
   "metadata": {
    "ExecuteTime": {
     "end_time": "2025-10-14T20:07:05.009414Z",
     "start_time": "2025-10-14T20:07:04.514781Z"
    }
   },
   "outputs": [
    {
     "data": {
      "text/html": [
       "<div>\n",
       "<style scoped>\n",
       "    .dataframe tbody tr th:only-of-type {\n",
       "        vertical-align: middle;\n",
       "    }\n",
       "\n",
       "    .dataframe tbody tr th {\n",
       "        vertical-align: top;\n",
       "    }\n",
       "\n",
       "    .dataframe thead th {\n",
       "        text-align: right;\n",
       "    }\n",
       "</style>\n",
       "<table border=\"1\" class=\"dataframe\">\n",
       "  <thead>\n",
       "    <tr style=\"text-align: right;\">\n",
       "      <th></th>\n",
       "      <th>Advanced Foreign Economies</th>\n",
       "    </tr>\n",
       "    <tr>\n",
       "      <th>Date</th>\n",
       "      <th></th>\n",
       "    </tr>\n",
       "  </thead>\n",
       "  <tbody>\n",
       "    <tr>\n",
       "      <th>2025-10-10</th>\n",
       "      <td>112.5173</td>\n",
       "    </tr>\n",
       "    <tr>\n",
       "      <th>2025-10-14</th>\n",
       "      <td>112.6395</td>\n",
       "    </tr>\n",
       "    <tr>\n",
       "      <th>2025-10-15</th>\n",
       "      <td>112.3415</td>\n",
       "    </tr>\n",
       "    <tr>\n",
       "      <th>2025-10-16</th>\n",
       "      <td>112.1887</td>\n",
       "    </tr>\n",
       "    <tr>\n",
       "      <th>2025-10-17</th>\n",
       "      <td>112.0902</td>\n",
       "    </tr>\n",
       "  </tbody>\n",
       "</table>\n",
       "</div>"
      ],
      "text/plain": [
       "            Advanced Foreign Economies\n",
       "Date                                  \n",
       "2025-10-10                    112.5173\n",
       "2025-10-14                    112.6395\n",
       "2025-10-15                    112.3415\n",
       "2025-10-16                    112.1887\n",
       "2025-10-17                    112.0902"
      ]
     },
     "execution_count": 6,
     "metadata": {},
     "output_type": "execute_result"
    }
   ],
   "source": [
    "today = dt.date.today()\n",
    "\n",
    "quits = fred.get_series(\n",
    "    series_id=series_codes[\"Advanced Foreign Economies\"],\n",
    "    observation_start=dt.date(2024, 12, 25),\n",
    "    observation_end=today\n",
    ").rename(\"Advanced Foreign Economies\")\n",
    "\n",
    "# hires = fred.get_series(\n",
    "#     series_id=series_codes[\"Emerging Market Economies\"],\n",
    "#     observation_start=dt.date(2024, 12, 25),\n",
    "#     observation_end=today\n",
    "# ).rename(\"Emerging Market Economies\")\n",
    "\n",
    "joined_df = pd.concat(\n",
    "    [quits],#, hires],\n",
    "    axis=1,\n",
    "    join='inner'\n",
    ").dropna()\n",
    "\n",
    "joined_df.index.name = \"Date\"\n",
    "\n",
    "joined_df.tail()"
   ]
  },
  {
   "cell_type": "markdown",
   "id": "f36c32ec",
   "metadata": {},
   "source": [
    "5. Now that all our data is ready, make the graph and have it save itself as a .html file to graph_output whenver the notebooks is rerun. The name of the file should exactly match the notebook name. For instance, this file \"example.ipynb\" produces the graph \"example.html.\" Nice work, you made a graph! "
   ]
  },
  {
   "cell_type": "code",
   "execution_count": 10,
   "id": "8d83fc29",
   "metadata": {
    "ExecuteTime": {
     "end_time": "2025-10-14T20:07:05.887651Z",
     "start_time": "2025-10-14T20:07:05.016236Z"
    }
   },
   "outputs": [
    {
     "data": {
      "application/vnd.plotly.v1+json": {
       "config": {
        "plotlyServerURL": "https://plot.ly"
       },
       "data": [
        {
         "mode": "lines",
         "name": "Advanced Foreign Economies",
         "type": "scatter",
         "x": [
          "2024-12-26T00:00:00",
          "2024-12-27T00:00:00",
          "2024-12-30T00:00:00",
          "2024-12-31T00:00:00",
          "2025-01-02T00:00:00",
          "2025-01-03T00:00:00",
          "2025-01-06T00:00:00",
          "2025-01-07T00:00:00",
          "2025-01-08T00:00:00",
          "2025-01-09T00:00:00",
          "2025-01-10T00:00:00",
          "2025-01-13T00:00:00",
          "2025-01-14T00:00:00",
          "2025-01-15T00:00:00",
          "2025-01-16T00:00:00",
          "2025-01-17T00:00:00",
          "2025-01-21T00:00:00",
          "2025-01-22T00:00:00",
          "2025-01-23T00:00:00",
          "2025-01-24T00:00:00",
          "2025-01-27T00:00:00",
          "2025-01-28T00:00:00",
          "2025-01-29T00:00:00",
          "2025-01-30T00:00:00",
          "2025-01-31T00:00:00",
          "2025-02-03T00:00:00",
          "2025-02-04T00:00:00",
          "2025-02-05T00:00:00",
          "2025-02-06T00:00:00",
          "2025-02-07T00:00:00",
          "2025-02-10T00:00:00",
          "2025-02-11T00:00:00",
          "2025-02-12T00:00:00",
          "2025-02-13T00:00:00",
          "2025-02-14T00:00:00",
          "2025-02-18T00:00:00",
          "2025-02-19T00:00:00",
          "2025-02-20T00:00:00",
          "2025-02-21T00:00:00",
          "2025-02-24T00:00:00",
          "2025-02-25T00:00:00",
          "2025-02-26T00:00:00",
          "2025-02-27T00:00:00",
          "2025-02-28T00:00:00",
          "2025-03-03T00:00:00",
          "2025-03-04T00:00:00",
          "2025-03-05T00:00:00",
          "2025-03-06T00:00:00",
          "2025-03-07T00:00:00",
          "2025-03-10T00:00:00",
          "2025-03-11T00:00:00",
          "2025-03-12T00:00:00",
          "2025-03-13T00:00:00",
          "2025-03-14T00:00:00",
          "2025-03-17T00:00:00",
          "2025-03-18T00:00:00",
          "2025-03-19T00:00:00",
          "2025-03-20T00:00:00",
          "2025-03-21T00:00:00",
          "2025-03-24T00:00:00",
          "2025-03-25T00:00:00",
          "2025-03-26T00:00:00",
          "2025-03-27T00:00:00",
          "2025-03-28T00:00:00",
          "2025-03-31T00:00:00",
          "2025-04-01T00:00:00",
          "2025-04-02T00:00:00",
          "2025-04-03T00:00:00",
          "2025-04-04T00:00:00",
          "2025-04-07T00:00:00",
          "2025-04-08T00:00:00",
          "2025-04-09T00:00:00",
          "2025-04-10T00:00:00",
          "2025-04-11T00:00:00",
          "2025-04-14T00:00:00",
          "2025-04-15T00:00:00",
          "2025-04-16T00:00:00",
          "2025-04-17T00:00:00",
          "2025-04-18T00:00:00",
          "2025-04-21T00:00:00",
          "2025-04-22T00:00:00",
          "2025-04-23T00:00:00",
          "2025-04-24T00:00:00",
          "2025-04-25T00:00:00",
          "2025-04-28T00:00:00",
          "2025-04-29T00:00:00",
          "2025-04-30T00:00:00",
          "2025-05-01T00:00:00",
          "2025-05-02T00:00:00",
          "2025-05-05T00:00:00",
          "2025-05-06T00:00:00",
          "2025-05-07T00:00:00",
          "2025-05-08T00:00:00",
          "2025-05-09T00:00:00",
          "2025-05-12T00:00:00",
          "2025-05-13T00:00:00",
          "2025-05-14T00:00:00",
          "2025-05-15T00:00:00",
          "2025-05-16T00:00:00",
          "2025-05-19T00:00:00",
          "2025-05-20T00:00:00",
          "2025-05-21T00:00:00",
          "2025-05-22T00:00:00",
          "2025-05-23T00:00:00",
          "2025-05-27T00:00:00",
          "2025-05-28T00:00:00",
          "2025-05-29T00:00:00",
          "2025-05-30T00:00:00",
          "2025-06-02T00:00:00",
          "2025-06-03T00:00:00",
          "2025-06-04T00:00:00",
          "2025-06-05T00:00:00",
          "2025-06-06T00:00:00",
          "2025-06-09T00:00:00",
          "2025-06-10T00:00:00",
          "2025-06-11T00:00:00",
          "2025-06-12T00:00:00",
          "2025-06-13T00:00:00",
          "2025-06-16T00:00:00",
          "2025-06-17T00:00:00",
          "2025-06-18T00:00:00",
          "2025-06-20T00:00:00",
          "2025-06-23T00:00:00",
          "2025-06-24T00:00:00",
          "2025-06-25T00:00:00",
          "2025-06-26T00:00:00",
          "2025-06-27T00:00:00",
          "2025-06-30T00:00:00",
          "2025-07-01T00:00:00",
          "2025-07-02T00:00:00",
          "2025-07-03T00:00:00",
          "2025-07-07T00:00:00",
          "2025-07-08T00:00:00",
          "2025-07-09T00:00:00",
          "2025-07-10T00:00:00",
          "2025-07-11T00:00:00",
          "2025-07-14T00:00:00",
          "2025-07-15T00:00:00",
          "2025-07-16T00:00:00",
          "2025-07-17T00:00:00",
          "2025-07-18T00:00:00",
          "2025-07-21T00:00:00",
          "2025-07-22T00:00:00",
          "2025-07-23T00:00:00",
          "2025-07-24T00:00:00",
          "2025-07-25T00:00:00",
          "2025-07-28T00:00:00",
          "2025-07-29T00:00:00",
          "2025-07-30T00:00:00",
          "2025-07-31T00:00:00",
          "2025-08-01T00:00:00",
          "2025-08-04T00:00:00",
          "2025-08-05T00:00:00",
          "2025-08-06T00:00:00",
          "2025-08-07T00:00:00",
          "2025-08-08T00:00:00",
          "2025-08-11T00:00:00",
          "2025-08-12T00:00:00",
          "2025-08-13T00:00:00",
          "2025-08-14T00:00:00",
          "2025-08-15T00:00:00",
          "2025-08-18T00:00:00",
          "2025-08-19T00:00:00",
          "2025-08-20T00:00:00",
          "2025-08-21T00:00:00",
          "2025-08-22T00:00:00",
          "2025-08-25T00:00:00",
          "2025-08-26T00:00:00",
          "2025-08-27T00:00:00",
          "2025-08-28T00:00:00",
          "2025-08-29T00:00:00",
          "2025-09-02T00:00:00",
          "2025-09-03T00:00:00",
          "2025-09-04T00:00:00",
          "2025-09-05T00:00:00",
          "2025-09-08T00:00:00",
          "2025-09-09T00:00:00",
          "2025-09-10T00:00:00",
          "2025-09-11T00:00:00",
          "2025-09-12T00:00:00",
          "2025-09-15T00:00:00",
          "2025-09-16T00:00:00",
          "2025-09-17T00:00:00",
          "2025-09-18T00:00:00",
          "2025-09-19T00:00:00",
          "2025-09-22T00:00:00",
          "2025-09-23T00:00:00",
          "2025-09-24T00:00:00",
          "2025-09-25T00:00:00",
          "2025-09-26T00:00:00",
          "2025-09-29T00:00:00",
          "2025-09-30T00:00:00",
          "2025-10-01T00:00:00",
          "2025-10-02T00:00:00",
          "2025-10-03T00:00:00",
          "2025-10-06T00:00:00",
          "2025-10-07T00:00:00",
          "2025-10-08T00:00:00",
          "2025-10-09T00:00:00",
          "2025-10-10T00:00:00",
          "2025-10-14T00:00:00",
          "2025-10-15T00:00:00",
          "2025-10-16T00:00:00",
          "2025-10-17T00:00:00"
         ],
         "y": {
          "bdata": "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",
          "dtype": "f8"
         }
        },
        {
         "hoverinfo": "skip",
         "marker": {
          "color": "#2A547E",
          "size": 8,
          "symbol": "circle"
         },
         "mode": "markers",
         "showlegend": false,
         "type": "scatter",
         "x": [
          1760659200000000000
         ],
         "y": [
          112.0902
         ],
         "zorder": 3
        }
       ],
       "layout": {
        "annotations": [
         {
          "font": {
           "color": "#2A547E"
          },
          "showarrow": false,
          "text": "112.1",
          "x": "2025-10-17T00:00:00",
          "xanchor": "left",
          "xshift": 6,
          "y": 112.0902,
          "yanchor": "middle"
         }
        ],
        "height": 450,
        "legend": {
         "orientation": "h",
         "y": -0.25
        },
        "template": {
         "data": {
          "scatter": [
           {
            "hovertemplate": "%{x|%Y-%m-%d}<br> %{y:.1f}<extra></extra>",
            "line": {
             "width": 3
            },
            "type": "scatter"
           }
          ]
         },
         "layout": {
          "colorway": [
           "#2A547E",
           "#CF8B40",
           "#879396",
           "#F7CAC9",
           "#7095cf"
          ],
          "height": 500,
          "legend": {
           "bgcolor": "rgba(0,0,0,0)",
           "borderwidth": 0,
           "font": {
            "color": "#163855",
            "family": "Cambria Bold",
            "size": 22
           },
           "orientation": "h",
           "x": 1,
           "xanchor": "right",
           "y": 1.05,
           "yanchor": "bottom"
          },
          "title": {
           "font": {
            "color": "#163855",
            "family": "Cambria Bold",
            "size": 36
           },
           "x": 0.05,
           "xanchor": "left"
          },
          "width": 1200,
          "xaxis": {
           "gridcolor": "#D3D3D3",
           "gridwidth": 0.5,
           "showgrid": true,
           "tickfont": {
            "color": "#163855",
            "family": "Cambria Bold",
            "size": 18
           },
           "title": {
            "font": {
             "color": "#163855",
             "family": "Cambria Bold",
             "size": 24
            }
           },
           "type": "date"
          },
          "yaxis": {
           "gridcolor": "#D3D3D3",
           "gridwidth": 0.5,
           "showgrid": true,
           "tickfont": {
            "color": "#163855",
            "family": "Cambria Bold",
            "size": 18
           },
           "title": {
            "font": {
             "color": "#163855",
             "family": "Cambria Bold",
             "size": 24
            }
           }
          }
         }
        },
        "title": {
         "text": "Nominal Broad USD Index <br><sup>Daily</sup>"
        },
        "width": 500,
        "xaxis": {
         "dtick": "M4",
         "tickformat": "%b %Y",
         "title": {},
         "type": "date"
        },
        "yaxis": {
         "tickformat": ".0f",
         "title": {}
        }
       }
      }
     },
     "metadata": {},
     "output_type": "display_data"
    }
   ],
   "source": [
    "fig = go.Figure()\n",
    "\n",
    "for col in joined_df.columns:\n",
    "    fig.add_trace(\n",
    "        go.Scatter(\n",
    "            x=joined_df.index,\n",
    "            y=joined_df[col],\n",
    "            mode='lines',\n",
    "            name=col\n",
    "        )\n",
    "    )\n",
    "\n",
    "fig.update_layout(\n",
    "    title = dict(text = 'Nominal Broad USD Index <br><sup>Daily</sup>'),\n",
    "    xaxis_title=None,\n",
    "    yaxis_title=None,\n",
    "    legend = dict(\n",
    "        orientation='h',\n",
    "        y=-0.25\n",
    "    ),\n",
    "        height=450,\n",
    "    width=500,\n",
    ")\n",
    "\n",
    "fig.update_yaxes(\n",
    "    tickformat=\".0f\",\n",
    ")\n",
    "\n",
    "fig.update_xaxes(\n",
    "    type='date',\n",
    "    dtick=\"M4\",\n",
    "    tickformat='%b %Y',\n",
    ")\n",
    "\n",
    "ut.add_end_labels(fig = fig)\n",
    "\n",
    "fig.show()\n",
    "\n",
    "fig.write_html(GRAPH_OUTPUT_PATH / f\"{GRAPH_NAME}.html\")"
   ]
  }
 ],
 "metadata": {
  "kernelspec": {
   "display_name": ".venv",
   "language": "python",
   "name": "python3"
  },
  "language_info": {
   "codemirror_mode": {
    "name": "ipython",
    "version": 3
   },
   "file_extension": ".py",
   "mimetype": "text/x-python",
   "name": "python",
   "nbconvert_exporter": "python",
   "pygments_lexer": "ipython3",
   "version": "3.13.7"
  }
 },
 "nbformat": 4,
 "nbformat_minor": 5
}
