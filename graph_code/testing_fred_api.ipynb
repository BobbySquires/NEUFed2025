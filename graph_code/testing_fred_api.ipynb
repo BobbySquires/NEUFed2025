{
 "cells": [
  {
   "cell_type": "code",
   "execution_count": 1,
   "id": "b8a83946",
   "metadata": {},
   "outputs": [],
   "source": [
    "import datetime as dt\n",
    "import plotly.graph_objects as go\n",
    "import plotly.io as pio\n",
    "import pandas as pd\n",
    "\n",
    "from fredapi import Fred\n",
    "\n",
    "import graph_templates\n"
   ]
  },
  {
   "cell_type": "code",
   "execution_count": 2,
   "id": "f81e1110",
   "metadata": {},
   "outputs": [],
   "source": [
    "# Get the API key and set the path to it\n",
    "API_KEY_PATH = \"fred_api_key.txt\" \n",
    "fred = Fred(api_key_file = API_KEY_PATH)\n",
    "\n",
    "# Get the team template and set it as the default\n",
    "pio.templates.default = 'fed_2025'\n",
    "\n",
    "# Get the path to the graph_output folder (one folder back from the notebook)\n",
    "GRAPH_OUTPUT_PATH = \"../graph_output/\""
   ]
  },
  {
   "cell_type": "code",
   "execution_count": 3,
   "id": "5934d6c9",
   "metadata": {},
   "outputs": [],
   "source": [
    "fred.get_series_info(series_id=\"CPIAUCSL\")\n",
    "\n",
    "test_srs = fred.get_series(\n",
    "    series_id=\"CORESTICKM159SFRBATL\",\n",
    "    observation_start= dt.date(1980, 1, 1),\n",
    "    observation_end= dt.date(2025, 1, 1)\n",
    ")\n",
    "\n",
    "test_srs_2 = fred.get_series(\n",
    "    series_id=\"CPILFESL\",\n",
    "    observation_start= dt.date(1980, 1, 1),\n",
    "    observation_end= dt.date(2025, 1, 1)\n",
    ").pct_change(periods=12) * 100\n",
    "\n",
    "test_srs_3 = fred.get_series(\n",
    "    series_id=\"CPIAUCSL\",\n",
    "    observation_start= dt.date(1980, 1, 1),\n",
    "    observation_end= dt.date(2025, 1, 1)\n",
    ").pct_change(periods=12) * 100\n",
    "\n",
    "\n",
    "joined_df = pd.concat([test_srs, test_srs_2, test_srs_3], axis=1, join='inner')\n",
    "joined_df.columns = ['Sticky Core CPI', 'Core CPI', 'Headline CPI']"
   ]
  },
  {
   "cell_type": "code",
   "execution_count": 8,
   "id": "b048f01d",
   "metadata": {},
   "outputs": [
    {
     "data": {
      "text/plain": [
       "DatetimeIndex(['1980-01-01', '1980-02-01', '1980-03-01', '1980-04-01',\n",
       "               '1980-05-01', '1980-06-01', '1980-07-01', '1980-08-01',\n",
       "               '1980-09-01', '1980-10-01',\n",
       "               ...\n",
       "               '2024-04-01', '2024-05-01', '2024-06-01', '2024-07-01',\n",
       "               '2024-08-01', '2024-09-01', '2024-10-01', '2024-11-01',\n",
       "               '2024-12-01', '2025-01-01'],\n",
       "              dtype='datetime64[ns]', length=541, freq=None)"
      ]
     },
     "execution_count": 8,
     "metadata": {},
     "output_type": "execute_result"
    }
   ],
   "source": [
    "test_srs.index"
   ]
  },
  {
   "cell_type": "code",
   "execution_count": 4,
   "id": "8d83fc29",
   "metadata": {},
   "outputs": [],
   "source": [
    "fig = go.Figure()\n",
    "\n",
    "for col in joined_df.columns:\n",
    "    fig.add_trace(\n",
    "        go.Scatter(\n",
    "            x=joined_df.index,\n",
    "            y=joined_df[col],\n",
    "            mode='lines',\n",
    "            name=col\n",
    "        )\n",
    "    )\n",
    "\n",
    "fig.update_layout(\n",
    "    title = dict(text = 'Test Series<br><sup>CPIAUCSL from FRED</sup>'),\n",
    "    xaxis_title=\"Date\",\n",
    "    yaxis_title=\"Value\"\n",
    ")\n",
    "\n",
    "fig.update_xaxes(\n",
    "    tickformat='%Y-%m',\n",
    "    ticklabelmode='instant',\n",
    "    tickangle=45\n",
    ")\n",
    "\n",
    "fig.write_image(\n",
    "    file = GRAPH_OUTPUT_PATH + \"/test_title.png\",\n",
    "    format = 'png',\n",
    "    width = 1200,\n",
    "    height = 500\n",
    ")\n"
   ]
  }
 ],
 "metadata": {
  "kernelspec": {
   "display_name": "venv",
   "language": "python",
   "name": "python3"
  },
  "language_info": {
   "codemirror_mode": {
    "name": "ipython",
    "version": 3
   },
   "file_extension": ".py",
   "mimetype": "text/x-python",
   "name": "python",
   "nbconvert_exporter": "python",
   "pygments_lexer": "ipython3",
   "version": "3.12.5"
  }
 },
 "nbformat": 4,
 "nbformat_minor": 5
}
